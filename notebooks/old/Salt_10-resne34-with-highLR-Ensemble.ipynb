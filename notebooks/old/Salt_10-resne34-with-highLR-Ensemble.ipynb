{
 "cells": [
  {
   "cell_type": "code",
   "execution_count": 1,
   "metadata": {},
   "outputs": [],
   "source": [
    "%matplotlib inline\n",
    "%reload_ext autoreload\n",
    "%autoreload 2"
   ]
  },
  {
   "cell_type": "code",
   "execution_count": 2,
   "metadata": {},
   "outputs": [],
   "source": [
    "from fastai.conv_learner import *\n",
    "from fastai.dataset import *\n",
    "from fastai.models.resnet import vgg_resnet50\n",
    "\n",
    "import json"
   ]
  },
  {
   "cell_type": "code",
   "execution_count": 3,
   "metadata": {},
   "outputs": [],
   "source": [
    "#torch.cuda.set_device(2)"
   ]
  },
  {
   "cell_type": "code",
   "execution_count": 4,
   "metadata": {},
   "outputs": [],
   "source": [
    "torch.backends.cudnn.benchmark=True"
   ]
  },
  {
   "cell_type": "markdown",
   "metadata": {},
   "source": [
    "## Data"
   ]
  },
  {
   "cell_type": "code",
   "execution_count": 5,
   "metadata": {},
   "outputs": [],
   "source": [
    "PATH = Path('/home/giles/Downloads/fastai_data/salt/')\n",
    "MASKS_FN = 'train_masks.csv'\n",
    "META_FN = 'metadata.csv'\n",
    "masks_csv = pd.read_csv(PATH/MASKS_FN)\n",
    "meta_csv = pd.read_csv(PATH/META_FN)"
   ]
  },
  {
   "cell_type": "code",
   "execution_count": 6,
   "metadata": {},
   "outputs": [],
   "source": [
    "def show_img(im, figsize=None, ax=None, alpha=None):\n",
    "    if not ax: fig,ax = plt.subplots(figsize=figsize)\n",
    "    ax.imshow(im, alpha=alpha)\n",
    "    ax.set_axis_off()\n",
    "    return ax"
   ]
  },
  {
   "cell_type": "code",
   "execution_count": 7,
   "metadata": {},
   "outputs": [],
   "source": [
    "(PATH/'train_masks-128').mkdir(exist_ok=True)"
   ]
  },
  {
   "cell_type": "code",
   "execution_count": 8,
   "metadata": {},
   "outputs": [],
   "source": [
    "def resize_img(fn):\n",
    "    Image.open(fn).resize((128,128)).save((fn.parent.parent)/'train_masks-128'/fn.name)\n",
    "\n",
    "files = list((PATH/'train_masks').iterdir())\n",
    "with ThreadPoolExecutor(8) as e: e.map(resize_img, files)"
   ]
  },
  {
   "cell_type": "code",
   "execution_count": 9,
   "metadata": {},
   "outputs": [],
   "source": [
    "(PATH/'train-128').mkdir(exist_ok=True)"
   ]
  },
  {
   "cell_type": "code",
   "execution_count": 10,
   "metadata": {},
   "outputs": [],
   "source": [
    "def resize_img(fn):\n",
    "    Image.open(fn).resize((128,128)).save((fn.parent.parent)/'train-128'/fn.name)\n",
    "\n",
    "files = list((PATH/'train').iterdir())\n",
    "with ThreadPoolExecutor(8) as e: e.map(resize_img, files)"
   ]
  },
  {
   "cell_type": "code",
   "execution_count": 11,
   "metadata": {},
   "outputs": [],
   "source": [
    "TRAIN_DN = 'train-128'\n",
    "MASKS_DN = 'train_masks-128'\n",
    "sz = 32\n",
    "bs = 64\n",
    "nw = 16"
   ]
  },
  {
   "cell_type": "markdown",
   "metadata": {},
   "source": [
    "TRAIN_DN = 'train'\n",
    "MASKS_DN = 'train_masks_png'\n",
    "sz = 128\n",
    "bs = 64\n",
    "nw = 16"
   ]
  },
  {
   "cell_type": "code",
   "execution_count": 12,
   "metadata": {},
   "outputs": [],
   "source": [
    "class MatchedFilesDataset(FilesDataset):\n",
    "    def __init__(self, fnames, y, transform, path):\n",
    "        self.y=y\n",
    "        assert(len(fnames)==len(y))\n",
    "        super().__init__(fnames, transform, path)\n",
    "    def get_y(self, i): return open_image(os.path.join(self.path, self.y[i]))\n",
    "    def get_c(self): return 0"
   ]
  },
  {
   "cell_type": "code",
   "execution_count": 13,
   "metadata": {},
   "outputs": [],
   "source": [
    "x_names = np.array(glob(f'{PATH}/{TRAIN_DN}/*'))\n",
    "y_names = np.array(glob(f'{PATH}/{MASKS_DN}/*'))"
   ]
  },
  {
   "cell_type": "code",
   "execution_count": 14,
   "metadata": {},
   "outputs": [],
   "source": [
    "val_idxs = list(range(800))\n",
    "((val_x,trn_x),(val_y,trn_y)) = split_by_idx(val_idxs, x_names, y_names)"
   ]
  },
  {
   "cell_type": "code",
   "execution_count": 15,
   "metadata": {},
   "outputs": [],
   "source": [
    "aug_tfms = [RandomFlip(tfm_y=TfmType.CLASS)]"
   ]
  },
  {
   "cell_type": "code",
   "execution_count": 16,
   "metadata": {},
   "outputs": [],
   "source": [
    "tfms = tfms_from_model(resnet34, sz, crop_type=CropType.NO, tfm_y=TfmType.CLASS, aug_tfms=aug_tfms)\n",
    "datasets = ImageData.get_ds(MatchedFilesDataset, (trn_x,trn_y), (val_x,val_y), tfms, path=PATH)\n",
    "md = ImageData(PATH, datasets, bs, num_workers=16, classes=None)\n",
    "denorm = md.trn_ds.denorm"
   ]
  },
  {
   "cell_type": "code",
   "execution_count": 17,
   "metadata": {},
   "outputs": [],
   "source": [
    "x,y = next(iter(md.trn_dl))"
   ]
  },
  {
   "cell_type": "code",
   "execution_count": 18,
   "metadata": {},
   "outputs": [
    {
     "data": {
      "text/plain": [
       "(torch.Size([64, 3, 32, 32]), torch.Size([64, 32, 32]))"
      ]
     },
     "execution_count": 18,
     "metadata": {},
     "output_type": "execute_result"
    }
   ],
   "source": [
    "x.shape,y.shape"
   ]
  },
  {
   "cell_type": "code",
   "execution_count": 19,
   "metadata": {},
   "outputs": [],
   "source": [
    "denorm = md.val_ds.denorm"
   ]
  },
  {
   "cell_type": "code",
   "execution_count": 20,
   "metadata": {},
   "outputs": [],
   "source": [
    "def show_aug_img(ims, idx, figsize=(5,5), normed=True, ax=None, nchannels=3):\n",
    "    if ax is None: fig,ax = plt.subplots(figsize=figsize)\n",
    "    if normed: ims = denorm(ims)\n",
    "    else:      ims = np.rollaxis(to_np(ims),1,nchannels+1)\n",
    "    ax.imshow(np.clip(ims,0,1)[idx])\n",
    "    ax.axis('off')"
   ]
  },
  {
   "cell_type": "code",
   "execution_count": 21,
   "metadata": {},
   "outputs": [],
   "source": [
    "batches = [next(iter(md.aug_dl)) for i in range(9)]"
   ]
  },
  {
   "cell_type": "code",
   "execution_count": 22,
   "metadata": {},
   "outputs": [
    {
     "data": {
      "image/png": "[encoded data removed]",
      "text/plain": [
       "<Figure size 1296x648 with 18 Axes>"
      ]
     },
     "metadata": {},
     "output_type": "display_data"
    }
   ],
   "source": [
    "fig, axes = plt.subplots(3, 6, figsize=(18, 9))\n",
    "for i,(x,y) in enumerate(batches):\n",
    "    show_aug_img(x,1, ax=axes.flat[i*2])\n",
    "    show_aug_img(y,1, ax=axes.flat[i*2+1], nchannels=1, normed=False)"
   ]
  },
  {
   "cell_type": "markdown",
   "metadata": {
    "heading_collapsed": true
   },
   "source": [
    "## Simple upsample"
   ]
  },
  {
   "cell_type": "code",
   "execution_count": 23,
   "metadata": {
    "hidden": true
   },
   "outputs": [],
   "source": [
    "f = resnet34\n",
    "cut,lr_cut = model_meta[f]"
   ]
  },
  {
   "cell_type": "code",
   "execution_count": 24,
   "metadata": {
    "hidden": true
   },
   "outputs": [],
   "source": [
    "def get_base():\n",
    "    layers = cut_model(f(True), cut)\n",
    "    return nn.Sequential(*layers)"
   ]
  },
  {
   "cell_type": "code",
   "execution_count": 25,
   "metadata": {
    "hidden": true
   },
   "outputs": [],
   "source": [
    "def dice(pred, targs):\n",
    "    pred = (pred>0.5).float()\n",
    "    return 2. * (pred*targs).sum() / (pred+targs).sum()"
   ]
  },
  {
   "cell_type": "markdown",
   "metadata": {},
   "source": [
    "## U-net (ish)"
   ]
  },
  {
   "cell_type": "code",
   "execution_count": 26,
   "metadata": {},
   "outputs": [],
   "source": [
    "class SaveFeatures():\n",
    "    features=None\n",
    "    def __init__(self, m): self.hook = m.register_forward_hook(self.hook_fn)\n",
    "    def hook_fn(self, module, input, output): self.features = output\n",
    "    def remove(self): self.hook.remove()"
   ]
  },
  {
   "cell_type": "code",
   "execution_count": 27,
   "metadata": {},
   "outputs": [],
   "source": [
    "class UnetBlock(nn.Module):\n",
    "    def __init__(self, up_in, x_in, n_out):\n",
    "        super().__init__()\n",
    "        up_out = x_out = n_out//2\n",
    "        self.x_conv  = nn.Conv2d(x_in,  x_out,  1)\n",
    "        self.tr_conv = nn.ConvTranspose2d(up_in, up_out, 2, stride=2)\n",
    "        self.bn = nn.BatchNorm2d(n_out)\n",
    "        \n",
    "    def forward(self, up_p, x_p):\n",
    "        up_p = self.tr_conv(up_p)\n",
    "        x_p = self.x_conv(x_p)\n",
    "        cat_p = torch.cat([up_p,x_p], dim=1)\n",
    "        return self.bn(F.relu(cat_p))"
   ]
  },
  {
   "cell_type": "code",
   "execution_count": 28,
   "metadata": {},
   "outputs": [],
   "source": [
    "class Unet34(nn.Module):\n",
    "    def __init__(self, rn):\n",
    "        super().__init__()\n",
    "        self.rn = rn\n",
    "        self.sfs = [SaveFeatures(rn[i]) for i in [2,4,5,6]]\n",
    "        self.up1 = UnetBlock(512,256,256)\n",
    "        self.up2 = UnetBlock(256,128,256)\n",
    "        self.up3 = UnetBlock(256,64,256)\n",
    "        self.up4 = UnetBlock(256,64,256)\n",
    "        self.up5 = nn.ConvTranspose2d(256, 1, 2, stride=2)\n",
    "        \n",
    "    def forward(self,x):\n",
    "        x = F.relu(self.rn(x))\n",
    "        x = self.up1(x, self.sfs[3].features)\n",
    "        x = self.up2(x, self.sfs[2].features)\n",
    "        x = self.up3(x, self.sfs[1].features)\n",
    "        x = self.up4(x, self.sfs[0].features)\n",
    "        x = self.up5(x)\n",
    "        return x[:,0]\n",
    "    \n",
    "    def close(self):\n",
    "        for sf in self.sfs: sf.remove()"
   ]
  },
  {
   "cell_type": "code",
   "execution_count": 29,
   "metadata": {},
   "outputs": [],
   "source": [
    "class UnetModel():\n",
    "    def __init__(self,model,name='unet'):\n",
    "        self.model,self.name = model,name\n",
    "\n",
    "    def get_layer_groups(self, precompute):\n",
    "        lgs = list(split_by_idxs(children(self.model.rn), [lr_cut]))\n",
    "        return lgs + [children(self.model)[1:]]"
   ]
  },
  {
   "cell_type": "markdown",
   "metadata": {},
   "source": [
    "## Training loop"
   ]
  },
  {
   "cell_type": "code",
   "execution_count": 30,
   "metadata": {},
   "outputs": [],
   "source": [
    "def trainModel(uid, models, trn_x, trn_y, val_x,val_y, aug_tfms, lr=2e-2, wd=1e-7, bs=64):\n",
    "    ##32\n",
    "    print('Running on 32x32')\n",
    "    sz = 32\n",
    "    tfms = tfms_from_model(resnet34, sz, crop_type=CropType.NO, tfm_y=TfmType.CLASS, aug_tfms=aug_tfms)\n",
    "    datasets = ImageData.get_ds(MatchedFilesDataset, (trn_x,trn_y), (val_x,val_y), tfms, path=PATH)\n",
    "    md = ImageData(PATH, datasets, bs, num_workers=16, classes=None)\n",
    "    denorm = md.trn_ds.denorm\n",
    "    \n",
    "    learn = ConvLearner(md, models)\n",
    "    learn.opt_fn=optim.Adam\n",
    "    learn.crit=nn.BCEWithLogitsLoss()\n",
    "    learn.metrics=[dice, accuracy_thresh(0.5)]\n",
    "    \n",
    "    learn.freeze_to(1)\n",
    "    lrs = np.array([lr/9,lr/3,lr])\n",
    "    learn.fit(lr,1,wds=wd,cycle_len=8,use_clr=(5,8), best_save_name='tmp')\n",
    "    learn.load('tmp')\n",
    "    learn.unfreeze()\n",
    "    learn.bn_freeze(True)\n",
    "    learn.fit(lrs/2, 1, wds=wd, cycle_len=20,use_clr=(20,10), best_save_name='tmp')\n",
    "    \n",
    "    ##64\n",
    "    print('Running on 64x64')\n",
    "    sz = 64\n",
    "    tfms = tfms_from_model(resnet34, sz, crop_type=CropType.NO, tfm_y=TfmType.CLASS, aug_tfms=aug_tfms)\n",
    "    datasets = ImageData.get_ds(MatchedFilesDataset, (trn_x,trn_y), (val_x,val_y), tfms, path=PATH)\n",
    "    md = ImageData(PATH, datasets, bs, num_workers=16, classes=None)\n",
    "    \n",
    "    learn = ConvLearner(md, models)\n",
    "    learn.opt_fn=optim.Adam\n",
    "    learn.crit=nn.BCEWithLogitsLoss()\n",
    "    learn.metrics=[dice, accuracy_thresh(0.5)]\n",
    "    learn.load('tmp')\n",
    "    \n",
    "    learn.freeze_to(1)\n",
    "    learn.fit(lr/2,1,wds=wd, cycle_len=10,use_clr=(10,10), best_save_name='tmp')\n",
    "    learn.load('tmp')\n",
    "    learn.unfreeze()\n",
    "    learn.bn_freeze(True)\n",
    "    learn.fit(lrs/4,1,wds=wd, cycle_len=8,use_clr=(20,8), best_save_name='tmp')\n",
    "    \n",
    "    ##128\n",
    "    print('Running on 128x128')\n",
    "    sz = 128\n",
    "    tfms = tfms_from_model(resnet34, sz, crop_type=CropType.NO, tfm_y=TfmType.CLASS, aug_tfms=aug_tfms)\n",
    "    datasets = ImageData.get_ds(MatchedFilesDataset, (trn_x,trn_y), (val_x,val_y), tfms, path=PATH)\n",
    "    md = ImageData(PATH, datasets, bs, num_workers=16, classes=None)\n",
    "    \n",
    "    learn = ConvLearner(md, models)\n",
    "    learn.opt_fn=optim.Adam\n",
    "    learn.crit=nn.BCEWithLogitsLoss()\n",
    "    learn.metrics=[dice, accuracy_thresh(0.5)]\n",
    "    learn.load('tmp')\n",
    "    \n",
    "    learn.freeze_to(1)\n",
    "    learn.fit(lr/2,1, wds=wd, cycle_len=6,use_clr=(6,4), best_save_name='tmp')\n",
    "    learn.load('tmp')\n",
    "    learn.unfreeze()\n",
    "    learn.bn_freeze(True)\n",
    "    learn.fit(lrs/5,1, wds=wd,cycle_len=8,use_clr=(20,8), best_save_name='tmp')\n",
    "    learn.load('tmp')\n",
    "    learn.fit(lrs/5,5, wds=wd,cycle_len=1,cycle_mult=2, best_save_name='model_'+str(uid))"
   ]
  },
  {
   "cell_type": "code",
   "execution_count": 31,
   "metadata": {},
   "outputs": [],
   "source": [
    "from sklearn.model_selection import KFold"
   ]
  },
  {
   "cell_type": "code",
   "execution_count": 32,
   "metadata": {},
   "outputs": [],
   "source": [
    "nSplits = 10"
   ]
  },
  {
   "cell_type": "code",
   "execution_count": 42,
   "metadata": {
    "scrolled": false
   },
   "outputs": [
    {
     "name": "stdout",
     "output_type": "stream",
     "text": [
      "_____________________________\n",
      "Running fold 1 / 10\n",
      "Running on 32x32\n"
     ]
    },
    {
     "data": {
      "application/vnd.jupyter.widget-view+json": {
       "model_id": "2251b30d369b4dc5893f0c304c4aee4f",
       "version_major": 2,
       "version_minor": 0
      },
      "text/plain": [
       "HBox(children=(IntProgress(value=0, description='Epoch', max=8), HTML(value='')))"
      ]
     },
     "metadata": {},
     "output_type": "display_data"
    },
    {
     "name": "stdout",
     "output_type": "stream",
     "text": [
      "epoch      trn_loss   val_loss   dice       <lambda>       \n",
      "    0      0.352139   0.310781   0.761695   0.889008  \n",
      "    1      0.287014   0.259363   0.788444   0.898166       \n",
      "    2      0.2508     0.265345   0.814776   0.899911       \n",
      "    3      0.227851   0.24027    0.774584   0.903412       \n",
      "    4      0.213783   0.202366   0.809468   0.913828       \n",
      "    5      0.191679   0.211621   0.805838   0.913074       \n",
      "    6      0.171767   0.193717   0.839348   0.922549       \n",
      "    7      0.153654   0.193403   0.841489   0.925793       \n"
     ]
    },
    {
     "data": {
      "application/vnd.jupyter.widget-view+json": {
       "model_id": "c168de2c54be468faa4947a5cb7d4194",
       "version_major": 2,
       "version_minor": 0
      },
      "text/plain": [
       "HBox(children=(IntProgress(value=0, description='Epoch', max=20), HTML(value='')))"
      ]
     },
     "metadata": {},
     "output_type": "display_data"
    },
    {
     "name": "stdout",
     "output_type": "stream",
     "text": [
      "epoch      trn_loss   val_loss   dice       <lambda>       \n",
      "    0      0.192995   0.202238   0.824006   0.914682  \n",
      "    1      0.224602   0.270779   0.74027    0.890918       \n",
      "    2      0.227296   0.227396   0.795833   0.904166       \n",
      "    3      0.204453   0.207131   0.824655   0.916675       \n",
      "    4      0.193049   0.211982   0.821479   0.916534       \n",
      "    5      0.186616   0.215438   0.842425   0.926465       \n",
      "    6      0.163875   0.205798   0.852182   0.924762       \n",
      "    7      0.13922    0.185509   0.85022    0.929089       \n",
      "    8      0.136638   0.196697   0.8413     0.924625       \n",
      "    9      0.127645   0.18708    0.863252   0.931281       \n",
      "    10     0.112914   0.181519   0.869482   0.9362         \n",
      "    11     0.101692   0.194367   0.871677   0.93696        \n",
      "    12     0.090225   0.192573   0.87396    0.939258        \n",
      "    13     0.082693   0.21298    0.859374   0.932434        \n",
      "    14     0.077486   0.188782   0.857914   0.932791        \n",
      "    15     0.072114   0.210186   0.872763   0.938544        \n",
      "    16     0.06531    0.219627   0.880864   0.942322        \n",
      "    17     0.060899   0.213554   0.881251   0.941995        \n",
      "    18     0.058476   0.21925    0.880098   0.941888        \n",
      "    19     0.056383   0.224093   0.881826   0.942532        \n",
      "Running on 64x64\n"
     ]
    },
    {
     "data": {
      "application/vnd.jupyter.widget-view+json": {
       "model_id": "b36cdc4325d943d69066bee036674053",
       "version_major": 2,
       "version_minor": 0
      },
      "text/plain": [
       "HBox(children=(IntProgress(value=0, description='Epoch', max=10), HTML(value='')))"
      ]
     },
     "metadata": {},
     "output_type": "display_data"
    },
    {
     "name": "stdout",
     "output_type": "stream",
     "text": [
      "epoch      trn_loss   val_loss   dice       <lambda>       \n",
      "    0      0.285677   0.206712   0.781927   0.90568   \n",
      "    1      0.223642   0.184554   0.836364   0.925391       \n",
      "    2      0.19301    0.162706   0.863965   0.935352       \n",
      "    3      0.166317   0.152989   0.861746   0.935348       \n",
      "    4      0.151862   0.159335   0.880089   0.938309       \n",
      "    5      0.138533   0.155823   0.884684   0.943012       \n",
      "    6      0.124996   0.145699   0.894923   0.947615       \n",
      "    7      0.113813   0.159524   0.876171   0.940295       \n",
      "    8      0.105556   0.153129   0.892061   0.945743       \n",
      "    9      0.095219   0.163223   0.880115   0.941442        \n"
     ]
    },
    {
     "data": {
      "application/vnd.jupyter.widget-view+json": {
       "model_id": "88aa97fdd83446fab09530fdf8871f14",
       "version_major": 2,
       "version_minor": 0
      },
      "text/plain": [
       "HBox(children=(IntProgress(value=0, description='Epoch', max=8), HTML(value='')))"
      ]
     },
     "metadata": {},
     "output_type": "display_data"
    },
    {
     "name": "stdout",
     "output_type": "stream",
     "text": [
      "epoch      trn_loss   val_loss   dice       <lambda>        \n",
      "    0      0.125714   0.16835    0.881468   0.94015   \n",
      "    1      0.12864    0.145635   0.888645   0.945016       \n",
      "    2      0.141612   0.201755   0.836679   0.925073       \n",
      "    3      0.129153   0.173982   0.872859   0.93907        \n",
      "    4      0.105453   0.159151   0.884676   0.942696       \n",
      "    5      0.089524   0.150437   0.893066   0.946799        \n",
      "    6      0.077661   0.158726   0.885763   0.943816        \n",
      "    7      0.069862   0.159028   0.889909   0.945648        \n",
      "Running on 128x128\n"
     ]
    },
    {
     "data": {
      "application/vnd.jupyter.widget-view+json": {
       "model_id": "abc7c6f69773429182c689c4ab9749a9",
       "version_major": 2,
       "version_minor": 0
      },
      "text/plain": [
       "HBox(children=(IntProgress(value=0, description='Epoch', max=6), HTML(value='')))"
      ]
     },
     "metadata": {},
     "output_type": "display_data"
    },
    {
     "name": "stdout",
     "output_type": "stream",
     "text": [
      "epoch      trn_loss   val_loss   dice       <lambda>       \n",
      "    0      0.207116   0.174186   0.864769   0.934776  \n",
      "    1      0.190416   0.233549   0.847989   0.928983       \n",
      "    2      0.178639   0.186348   0.841018   0.926631       \n",
      "    3      0.15954    0.143351   0.87677    0.941259       \n",
      "    4      0.141388   0.139958   0.892526   0.945977       \n",
      "    5      0.13259    0.124855   0.891041   0.947281       \n"
     ]
    },
    {
     "data": {
      "application/vnd.jupyter.widget-view+json": {
       "model_id": "ecef13e276d34d5ebf7e57193a8c15a0",
       "version_major": 2,
       "version_minor": 0
      },
      "text/plain": [
       "HBox(children=(IntProgress(value=0, description='Epoch', max=8), HTML(value='')))"
      ]
     },
     "metadata": {},
     "output_type": "display_data"
    },
    {
     "name": "stdout",
     "output_type": "stream",
     "text": [
      "epoch      trn_loss   val_loss   dice       <lambda>       \n",
      "    0      0.121377   0.145449   0.882787   0.940521  \n",
      "    1      0.137358   0.14892    0.879998   0.93956        \n",
      "    2      0.134256   0.133714   0.880039   0.940891       \n",
      "    3      0.120901   0.122853   0.89327    0.94628        \n",
      "    4      0.106726   0.136438   0.882888   0.943348       \n",
      "    5      0.091125   0.124838   0.900309   0.949697        \n",
      "    6      0.078227   0.125221   0.895058   0.948082        \n",
      "    7      0.071334   0.121875   0.891835   0.945936        \n"
     ]
    },
    {
     "data": {
      "application/vnd.jupyter.widget-view+json": {
       "model_id": "16ee036dd9cf490caa0880bbf6bd5c35",
       "version_major": 2,
       "version_minor": 0
      },
      "text/plain": [
       "HBox(children=(IntProgress(value=0, description='Epoch', max=31), HTML(value='')))"
      ]
     },
     "metadata": {},
     "output_type": "display_data"
    },
    {
     "name": "stdout",
     "output_type": "stream",
     "text": [
      "epoch      trn_loss   val_loss   dice       <lambda>       \n",
      "    0      0.10554    0.145105   0.885452   0.943897  \n",
      "    1      0.105882   0.125262   0.897003   0.948649       \n",
      "    2      0.086484   0.13356    0.894573   0.947821        \n",
      "    3      0.09588    0.153126   0.874211   0.937608        \n",
      "    4      0.091595   0.128278   0.903679   0.95202         \n",
      "    5      0.078334   0.116012   0.902848   0.951737        \n",
      "    6      0.068203   0.118373   0.900219   0.950709        \n",
      "    7      0.074966   0.156651   0.873814   0.937888        \n",
      "    8      0.099089   0.166277   0.867642   0.937506        \n",
      "    9      0.089488   0.131274   0.892246   0.946428        \n",
      "    10     0.077366   0.135928   0.902518   0.950584        \n",
      "    11     0.065112   0.130702   0.907403   0.953272        \n",
      "    12     0.05746    0.128518   0.90209    0.951313        \n",
      "    13     0.052314   0.126753   0.907828   0.954028        \n",
      "    14     0.050253   0.127474   0.906937   0.953696        \n",
      "    15     0.063832   0.151916   0.877926   0.942673        \n",
      "    16     0.079405   0.188928   0.881129   0.942054        \n",
      "    17     0.081973   0.170136   0.881689   0.937822        \n",
      "    18     0.085047   0.156829   0.892718   0.946446        \n",
      "    19     0.073783   0.132721   0.909436   0.955292        \n",
      "    20     0.063031   0.165296   0.8928     0.947658        \n",
      "    21     0.053888   0.155157   0.90196    0.952202        \n",
      "    22     0.048913   0.140821   0.901978   0.951308        \n",
      "    23     0.045757   0.143975   0.899003   0.950982        \n",
      "    24     0.043168   0.140302   0.900795   0.951565        \n",
      "    25     0.040761   0.143687   0.901249   0.951628        \n",
      "    26     0.039358   0.146898   0.901161   0.951592        \n",
      "    27     0.037836   0.147322   0.90423    0.952685        \n",
      "    28     0.036997   0.147923   0.902063   0.951775        \n",
      "    29     0.036818   0.150051   0.902016   0.951781        \n",
      "    30     0.036399   0.150583   0.901796   0.951709        \n",
      "_____________________________\n",
      "_____________________________\n",
      "Running fold 2 / 10\n",
      "Running on 32x32\n"
     ]
    },
    {
     "data": {
      "application/vnd.jupyter.widget-view+json": {
       "model_id": "0bcb319d1d2149cd8e4196b0f3ccf8dd",
       "version_major": 2,
       "version_minor": 0
      },
      "text/plain": [
       "HBox(children=(IntProgress(value=0, description='Epoch', max=8), HTML(value='')))"
      ]
     },
     "metadata": {},
     "output_type": "display_data"
    },
    {
     "name": "stdout",
     "output_type": "stream",
     "text": [
      "epoch      trn_loss   val_loss   dice       <lambda>       \n",
      "    0      0.333116   0.380997   0.698804   0.871893  \n",
      "    1      0.278114   0.319198   0.702474   0.875897       \n",
      "    2      0.251848   0.272855   0.778246   0.899081       \n",
      "    3      0.230681   0.24796    0.745764   0.891531       \n",
      "    4      0.207121   0.263977   0.77899    0.898682       \n",
      "    5      0.186113   0.238983   0.806028   0.909366       \n",
      "    6      0.170878   0.25925    0.779772   0.90351        \n",
      "    7      0.152845   0.266705   0.786034   0.904489       \n"
     ]
    },
    {
     "data": {
      "application/vnd.jupyter.widget-view+json": {
       "model_id": "e8b2c212a90442c4a80d47d025a3810d",
       "version_major": 2,
       "version_minor": 0
      },
      "text/plain": [
       "HBox(children=(IntProgress(value=0, description='Epoch', max=20), HTML(value='')))"
      ]
     },
     "metadata": {},
     "output_type": "display_data"
    },
    {
     "name": "stdout",
     "output_type": "stream",
     "text": [
      "epoch      trn_loss   val_loss   dice       <lambda>       \n",
      "    0      0.190187   0.297559   0.680354   0.871695  \n",
      "    1      0.218662   0.30346    0.572332   0.842371       \n",
      "    2      0.217421   0.225355   0.78287    0.902094       \n",
      "    3      0.219579   0.275887   0.755098   0.893991       \n",
      "    4      0.200169   0.243653   0.793643   0.901486       \n",
      "    5      0.18329    0.269993   0.781304   0.903772       \n",
      "    6      0.163767   0.260217   0.798621   0.910956       \n",
      "    7      0.151036   0.213728   0.810228   0.912717       \n",
      "    8      0.132185   0.25942    0.793936   0.909225       \n",
      "    9      0.129622   0.270721   0.808294   0.909238       \n",
      "    10     0.12645    0.282562   0.799741   0.909726       \n",
      "    11     0.11276    0.339547   0.799343   0.909702       \n",
      "    12     0.097976   0.235281   0.819964   0.916638        \n",
      "    13     0.088056   0.234409   0.835544   0.921082        \n",
      "    14     0.080425   0.266043   0.834306   0.922528        \n",
      "    15     0.07281    0.24134    0.844263   0.924805        \n",
      "    16     0.066744   0.276945   0.836864   0.92334         \n",
      "    17     0.063137   0.279659   0.838873   0.923932        \n",
      "    18     0.059298   0.300819   0.836634   0.923306        \n",
      "    19     0.056088   0.312127   0.833318   0.921841        \n",
      "Running on 64x64\n"
     ]
    },
    {
     "data": {
      "application/vnd.jupyter.widget-view+json": {
       "model_id": "f258547bd6b443e090057ff1baa2af44",
       "version_major": 2,
       "version_minor": 0
      },
      "text/plain": [
       "HBox(children=(IntProgress(value=0, description='Epoch', max=10), HTML(value='')))"
      ]
     },
     "metadata": {},
     "output_type": "display_data"
    },
    {
     "name": "stdout",
     "output_type": "stream",
     "text": [
      "epoch      trn_loss   val_loss   dice       <lambda>       \n",
      "    0      0.294813   0.230484   0.816921   0.916023  \n",
      "    1      0.212713   0.205243   0.790524   0.907395       \n",
      "    2      0.183465   0.193201   0.835108   0.923421       \n",
      "    3      0.169219   0.195557   0.849119   0.928642       \n",
      "    4      0.151964   0.19751    0.821899   0.916671       \n",
      "    5      0.139131   0.196203   0.853085   0.928019       \n",
      "    6      0.124653   0.230369   0.827189   0.921432       \n",
      "    7      0.113141   0.195553   0.859636   0.93327        \n",
      "    8      0.103433   0.211973   0.855437   0.931744       \n",
      "    9      0.093819   0.226735   0.855952   0.93046         \n"
     ]
    },
    {
     "data": {
      "application/vnd.jupyter.widget-view+json": {
       "model_id": "997901eccd864fb3bcd2759ab2833506",
       "version_major": 2,
       "version_minor": 0
      },
      "text/plain": [
       "HBox(children=(IntProgress(value=0, description='Epoch', max=8), HTML(value='')))"
      ]
     },
     "metadata": {},
     "output_type": "display_data"
    },
    {
     "name": "stdout",
     "output_type": "stream",
     "text": [
      "epoch      trn_loss   val_loss   dice       <lambda>       \n",
      "    0      0.12841    0.182439   0.854146   0.929911  \n",
      "    1      0.126341   0.325833   0.827167   0.921617       \n",
      "    2      0.123414   0.246318   0.810451   0.915394       \n",
      "    3      0.113837   0.206339   0.864441   0.934425       \n",
      "    4      0.0918     0.19942    0.871505   0.938253        \n",
      "    5      0.080417   0.209866   0.871544   0.938908        \n",
      "    6      0.068053   0.217951   0.874324   0.939417        \n",
      "    7      0.061635   0.215261   0.878448   0.941574        \n",
      "Running on 128x128\n"
     ]
    },
    {
     "data": {
      "application/vnd.jupyter.widget-view+json": {
       "model_id": "7ed427c468d44d05b777ca9eb8857cc9",
       "version_major": 2,
       "version_minor": 0
      },
      "text/plain": [
       "HBox(children=(IntProgress(value=0, description='Epoch', max=6), HTML(value='')))"
      ]
     },
     "metadata": {},
     "output_type": "display_data"
    },
    {
     "name": "stdout",
     "output_type": "stream",
     "text": [
      "epoch      trn_loss   val_loss   dice       <lambda>       \n",
      "    0      0.215175   0.219659   0.831322   0.919989  \n",
      "    1      0.185736   0.189649   0.851488   0.92638        \n",
      "    2      0.171383   0.202296   0.822736   0.919943       \n",
      "    3      0.154403   0.177883   0.862142   0.933678       \n",
      "    4      0.142105   0.164394   0.867653   0.936839       \n",
      "    5      0.127721   0.159218   0.866373   0.937344       \n"
     ]
    },
    {
     "data": {
      "application/vnd.jupyter.widget-view+json": {
       "model_id": "425e4adbeebb418cb36d726bf14c180c",
       "version_major": 2,
       "version_minor": 0
      },
      "text/plain": [
       "HBox(children=(IntProgress(value=0, description='Epoch', max=8), HTML(value='')))"
      ]
     },
     "metadata": {},
     "output_type": "display_data"
    },
    {
     "name": "stdout",
     "output_type": "stream",
     "text": [
      "epoch      trn_loss   val_loss   dice       <lambda>       \n",
      "    0      0.123894   0.163337   0.869004   0.937115  \n",
      "    1      0.131197   0.173502   0.861876   0.935285       \n",
      "    2      0.121867   0.192618   0.848739   0.926804       \n",
      "    3      0.112517   0.164036   0.85904    0.932847       \n",
      "    4      0.105363   0.173588   0.8713     0.938638       \n",
      "    5      0.09179    0.155704   0.880367   0.942331        \n",
      "    6      0.078142   0.167182   0.88429    0.9451          \n",
      "    7      0.069347   0.166141   0.886514   0.946017        \n"
     ]
    },
    {
     "data": {
      "application/vnd.jupyter.widget-view+json": {
       "model_id": "71999a1b5568403b8f733aa710de1734",
       "version_major": 2,
       "version_minor": 0
      },
      "text/plain": [
       "HBox(children=(IntProgress(value=0, description='Epoch', max=31), HTML(value='')))"
      ]
     },
     "metadata": {},
     "output_type": "display_data"
    },
    {
     "name": "stdout",
     "output_type": "stream",
     "text": [
      "epoch      trn_loss   val_loss   dice       <lambda>        \n",
      "    0      0.093717   0.166739   0.882262   0.943464  \n",
      "    1      0.088836   0.210338   0.852747   0.932699        \n",
      "    2      0.07587    0.189179   0.877881   0.942126        \n",
      "    3      0.089377   0.175733   0.875897   0.938288        \n",
      "    4      0.085701   0.173292   0.881691   0.94326         \n",
      "    5      0.073745   0.177569   0.879072   0.942704        \n",
      "    6      0.062726   0.18039    0.879405   0.942878        \n",
      "    7      0.061855   0.173353   0.880865   0.941396        \n",
      "    8      0.071358   0.184921   0.864783   0.935081        \n",
      "    9      0.084295   0.177588   0.872461   0.937385        \n",
      "    10     0.089937   0.168276   0.881137   0.942562        \n",
      "    11     0.075946   0.17058    0.872463   0.939404        \n",
      "    12     0.063119   0.175124   0.882183   0.944217        \n",
      "    13     0.05626    0.17719    0.883333   0.944631        \n",
      "    14     0.052059   0.177605   0.884251   0.945143        \n",
      "    15     0.053478   0.181667   0.886274   0.945829        \n",
      "    16     0.064272   0.257597   0.856296   0.929333        \n",
      "    17     0.084046   0.2269     0.851882   0.93135         \n",
      "    18     0.080296   0.18191    0.875554   0.940569        \n",
      "    19     0.077048   0.195147   0.861265   0.933692        \n",
      "    20     0.067315   0.174168   0.896387   0.949742        \n",
      "    21     0.05751    0.198377   0.878384   0.941979        \n",
      "    22     0.050343   0.196759   0.884947   0.945041        \n",
      "    23     0.045526   0.185826   0.891484   0.947754        \n",
      "    24     0.042106   0.222942   0.884191   0.945083        \n",
      "    25     0.040373   0.211513   0.886403   0.945651        \n",
      "    26     0.039049   0.21161    0.890866   0.947745        \n",
      "    27     0.037733   0.22344    0.889124   0.947209        \n",
      "    28     0.036452   0.225189   0.889135   0.947063        \n",
      "    29     0.035944   0.223556   0.889295   0.947128        \n",
      "    30     0.03576    0.224088   0.889201   0.947087        \n",
      "_____________________________\n",
      "_____________________________\n",
      "Running fold 3 / 10\n",
      "Running on 32x32\n"
     ]
    },
    {
     "data": {
      "application/vnd.jupyter.widget-view+json": {
       "model_id": "3aacec5dfc2d42c69a1054a1309a4351",
       "version_major": 2,
       "version_minor": 0
      },
      "text/plain": [
       "HBox(children=(IntProgress(value=0, description='Epoch', max=8), HTML(value='')))"
      ]
     },
     "metadata": {},
     "output_type": "display_data"
    },
    {
     "name": "stdout",
     "output_type": "stream",
     "text": [
      "epoch      trn_loss   val_loss   dice       <lambda>       \n",
      "    0      0.340367   0.44848    0.667454   0.86871   \n",
      "    1      0.277552   0.248552   0.739931   0.894189       \n",
      "    2      0.247103   0.227072   0.806385   0.912534       \n",
      "    3      0.219094   0.223142   0.824683   0.917221       \n",
      "    4      0.202541   0.222381   0.82825    0.917816       \n",
      "    5      0.188247   0.193193   0.841136   0.924396       \n",
      "    6      0.171092   0.199249   0.827793   0.922861       \n",
      "    7      0.159458   0.202152   0.850924   0.927277       \n"
     ]
    },
    {
     "data": {
      "application/vnd.jupyter.widget-view+json": {
       "model_id": "7cd7b9d10c764d3da470b741c1cdc16f",
       "version_major": 2,
       "version_minor": 0
      },
      "text/plain": [
       "HBox(children=(IntProgress(value=0, description='Epoch', max=20), HTML(value='')))"
      ]
     },
     "metadata": {},
     "output_type": "display_data"
    },
    {
     "name": "stdout",
     "output_type": "stream",
     "text": [
      "epoch      trn_loss   val_loss   dice       <lambda>       \n",
      "    0      0.194912   0.265789   0.81936    0.907047  \n",
      "    1      0.230433   0.265106   0.790085   0.908633       \n",
      "    2      0.242541   0.230618   0.811622   0.915189       \n",
      "    3      0.229591   0.238002   0.820671   0.912534       \n",
      "    4      0.185355   0.173974   0.860971   0.93479        \n",
      "    5      0.171563   0.211821   0.824942   0.919913       \n",
      "    6      0.157638   0.176927   0.858277   0.933807       \n",
      "    7      0.144672   0.20136    0.831448   0.915784       \n",
      "    8      0.140879   0.19273    0.861023   0.932687       \n",
      "    9      0.133098   0.213046   0.838075   0.920947       \n",
      "    10     0.134975   0.207078   0.829853   0.921201       \n",
      "    11     0.117361   0.186335   0.858712   0.931967       \n",
      "    12     0.098922   0.173357   0.871708   0.938031        \n",
      "    13     0.087011   0.156722   0.874972   0.939905        \n",
      "    14     0.077175   0.164452   0.866167   0.937918        \n",
      "    15     0.071003   0.158728   0.881367   0.942966        \n",
      "    16     0.066451   0.164238   0.869503   0.937744        \n",
      "    17     0.061808   0.167052   0.875353   0.93974         \n",
      "    18     0.058029   0.170773   0.870955   0.938589        \n",
      "    19     0.056117   0.169186   0.875549   0.940436        \n",
      "Running on 64x64\n"
     ]
    },
    {
     "data": {
      "application/vnd.jupyter.widget-view+json": {
       "model_id": "5011b3d803db450baa55fb06e4238325",
       "version_major": 2,
       "version_minor": 0
      },
      "text/plain": [
       "HBox(children=(IntProgress(value=0, description='Epoch', max=10), HTML(value='')))"
      ]
     },
     "metadata": {},
     "output_type": "display_data"
    },
    {
     "name": "stdout",
     "output_type": "stream",
     "text": [
      "epoch      trn_loss   val_loss   dice       <lambda>       \n",
      "    0      0.292945   0.209294   0.801692   0.913201  \n",
      "    1      0.219505   0.168471   0.861082   0.936398       \n",
      "    2      0.190717   0.187669   0.864146   0.934393       \n",
      "    3      0.168993   0.158141   0.859618   0.937026       \n",
      "    4      0.153865   0.157425   0.878291   0.942867       \n",
      "    5      0.140669   0.160264   0.87907    0.94241        \n",
      "    6      0.131218   0.156976   0.880152   0.941941       \n",
      "    7      0.121285   0.143227   0.885206   0.946159       \n",
      "    8      0.110483   0.141897   0.892084   0.948429       \n",
      "    9      0.101964   0.153297   0.884562   0.944247       \n"
     ]
    },
    {
     "data": {
      "application/vnd.jupyter.widget-view+json": {
       "model_id": "3daba53d14894f9bbcd95c0db062de24",
       "version_major": 2,
       "version_minor": 0
      },
      "text/plain": [
       "HBox(children=(IntProgress(value=0, description='Epoch', max=8), HTML(value='')))"
      ]
     },
     "metadata": {},
     "output_type": "display_data"
    },
    {
     "name": "stdout",
     "output_type": "stream",
     "text": [
      "epoch      trn_loss   val_loss   dice       <lambda>        \n",
      "    0      0.118803   0.161934   0.864712   0.937893  \n",
      "    1      0.122751   0.184722   0.872658   0.936369       \n",
      "    2      0.118681   0.168926   0.883033   0.942044       \n",
      "    3      0.106204   0.147537   0.893451   0.948505       \n",
      "    4      0.091624   0.143728   0.901588   0.952366        \n",
      "    5      0.081204   0.15221    0.894824   0.948428        \n",
      "    6      0.072562   0.148456   0.890969   0.947038        \n",
      "    7      0.064554   0.134673   0.906656   0.955476        \n",
      "Running on 128x128\n"
     ]
    },
    {
     "data": {
      "application/vnd.jupyter.widget-view+json": {
       "model_id": "7f5393a546824e1291445229ad8ab4f6",
       "version_major": 2,
       "version_minor": 0
      },
      "text/plain": [
       "HBox(children=(IntProgress(value=0, description='Epoch', max=6), HTML(value='')))"
      ]
     },
     "metadata": {},
     "output_type": "display_data"
    },
    {
     "name": "stdout",
     "output_type": "stream",
     "text": [
      "epoch      trn_loss   val_loss   dice       <lambda>       \n",
      "    0      0.194235   0.153448   0.880839   0.945412  \n",
      "    1      0.178125   0.190185   0.869407   0.93498        \n",
      "    2      0.165785   0.140598   0.891163   0.949217       \n",
      "    3      0.148756   0.153414   0.88053    0.942178       \n",
      "    4      0.139043   0.139251   0.889458   0.948786       \n",
      "    5      0.124761   0.139315   0.891527   0.948972       \n"
     ]
    },
    {
     "data": {
      "application/vnd.jupyter.widget-view+json": {
       "model_id": "73cfe3d0aa354b72a67617e328d45766",
       "version_major": 2,
       "version_minor": 0
      },
      "text/plain": [
       "HBox(children=(IntProgress(value=0, description='Epoch', max=8), HTML(value='')))"
      ]
     },
     "metadata": {},
     "output_type": "display_data"
    },
    {
     "name": "stdout",
     "output_type": "stream",
     "text": [
      "epoch      trn_loss   val_loss   dice       <lambda>       \n",
      "    0      0.120902   0.156199   0.873708   0.938699  \n",
      "    1      0.136762   0.154764   0.883354   0.94319        \n",
      "    2      0.134663   0.141116   0.891676   0.946889       \n",
      "    3      0.112513   0.146094   0.882033   0.942331       \n",
      "    4      0.102735   0.162401   0.874294   0.937118       \n",
      "    5      0.088164   0.141824   0.895222   0.948354        \n",
      "    6      0.078133   0.148184   0.893298   0.947768        \n",
      "    7      0.071535   0.144025   0.895727   0.948943        \n"
     ]
    },
    {
     "data": {
      "application/vnd.jupyter.widget-view+json": {
       "model_id": "cca9c4d4d9d44bd8b152c0adf7828bf9",
       "version_major": 2,
       "version_minor": 0
      },
      "text/plain": [
       "HBox(children=(IntProgress(value=0, description='Epoch', max=31), HTML(value='')))"
      ]
     },
     "metadata": {},
     "output_type": "display_data"
    },
    {
     "name": "stdout",
     "output_type": "stream",
     "text": [
      "epoch      trn_loss   val_loss   dice       <lambda>        \n",
      "    0      0.090316   0.131739   0.892743   0.94807   \n",
      "    1      0.098176   0.145178   0.886442   0.942615        \n",
      "    2      0.080087   0.138934   0.905939   0.954239        \n",
      "    3      0.089073   0.128723   0.908029   0.953766        \n",
      "    4      0.097287   0.122845   0.902646   0.953503        \n",
      "    5      0.079729   0.138769   0.899291   0.950668        \n",
      "    6      0.067459   0.135594   0.896738   0.949282        \n",
      "    7      0.072072   0.211786   0.876589   0.940883        \n",
      "    8      0.099075   0.19127    0.872983   0.940203        \n",
      "    9      0.087029   0.158713   0.889529   0.945973        \n",
      "    10     0.071608   0.178698   0.880053   0.939977        \n",
      "    11     0.061817   0.152715   0.90658    0.955326        \n",
      "    12     0.054761   0.155553   0.906765   0.955041        \n",
      "    13     0.051732   0.155469   0.90541    0.954311        \n",
      "    14     0.049614   0.157197   0.904407   0.95373         \n",
      "    15     0.060334   0.178336   0.881799   0.94513         \n",
      "    16     0.077538   0.158628   0.882723   0.943004        \n",
      "    17     0.084689   0.183618   0.859246   0.934723        \n",
      "    18     0.084031   0.162868   0.886165   0.944737        \n",
      "    19     0.067805   0.166981   0.902657   0.954827        \n",
      "    20     0.057619   0.168411   0.895238   0.948959        \n",
      "    21     0.051659   0.171863   0.903244   0.953038        \n",
      "    22     0.04713    0.161566   0.89989    0.951052        \n",
      "    23     0.044385   0.155962   0.908752   0.955107        \n",
      "    24     0.042313   0.167313   0.906211   0.954193        \n",
      "    25     0.040935   0.161008   0.910151   0.956341        \n",
      "    26     0.039942   0.168001   0.901713   0.9514          \n",
      "    27     0.038413   0.174173   0.901149   0.951551        \n",
      "    28     0.037248   0.168635   0.900794   0.951431        \n",
      "    29     0.0366     0.169557   0.902791   0.952334        \n",
      "    30     0.03634    0.16972    0.902933   0.952427        \n",
      "_____________________________\n",
      "_____________________________\n",
      "Running fold 4 / 10\n",
      "Running on 32x32\n"
     ]
    },
    {
     "data": {
      "application/vnd.jupyter.widget-view+json": {
       "model_id": "fa850b08c4e74e9f88855f4b56356098",
       "version_major": 2,
       "version_minor": 0
      },
      "text/plain": [
       "HBox(children=(IntProgress(value=0, description='Epoch', max=8), HTML(value='')))"
      ]
     },
     "metadata": {},
     "output_type": "display_data"
    },
    {
     "name": "stdout",
     "output_type": "stream",
     "text": [
      "epoch      trn_loss   val_loss   dice       <lambda>       \n",
      "    0      0.347929   0.519722   0.46173    0.839874  \n",
      "    1      0.298145   0.261065   0.716418   0.89462        \n",
      "    2      0.260687   0.26719    0.679935   0.887198       \n",
      "    3      0.235313   0.228258   0.78352    0.909085       \n",
      "    4      0.221939   0.203111   0.766824   0.911203       \n",
      "    5      0.205551   0.202283   0.796291   0.917767       \n",
      "    6      0.190848   0.190043   0.816925   0.92421        \n",
      "    7      0.176323   0.192456   0.804454   0.921579       \n"
     ]
    },
    {
     "data": {
      "application/vnd.jupyter.widget-view+json": {
       "model_id": "422f7e9eb44f451dbf4af6afce178094",
       "version_major": 2,
       "version_minor": 0
      },
      "text/plain": [
       "HBox(children=(IntProgress(value=0, description='Epoch', max=20), HTML(value='')))"
      ]
     },
     "metadata": {},
     "output_type": "display_data"
    },
    {
     "name": "stdout",
     "output_type": "stream",
     "text": [
      "epoch      trn_loss   val_loss   dice       <lambda>       \n",
      "    0      0.210305   0.19171    0.799399   0.921341  \n",
      "    1      0.231155   0.227832   0.797031   0.913196       \n",
      "    2      0.247767   0.211431   0.757038   0.906158       \n",
      "    3      0.220749   0.190815   0.778709   0.915436       \n",
      "    4      0.204916   0.20368    0.785544   0.919113       \n",
      "    5      0.188965   0.181992   0.833032   0.930115       \n",
      "    6      0.174436   0.196064   0.80391    0.924149       \n",
      "    7      0.169612   0.213313   0.821224   0.926483       \n",
      "    8      0.153213   0.198069   0.827832   0.927411       \n",
      "    9      0.141411   0.170894   0.838157   0.933392       \n",
      "    10     0.125076   0.175043   0.83824    0.935104       \n",
      "    11     0.114073   0.170126   0.833299   0.934491       \n",
      "    12     0.105842   0.178985   0.866813   0.944452       \n",
      "    13     0.096112   0.163438   0.857485   0.940778        \n",
      "    14     0.086266   0.167005   0.863152   0.944467        \n",
      "    15     0.077502   0.173391   0.849048   0.939413        \n",
      "    16     0.072134   0.154449   0.864302   0.943411        \n",
      "    17     0.065617   0.177615   0.864859   0.945032        \n",
      "    18     0.062771   0.166273   0.869939   0.945581        \n",
      "    19     0.059729   0.187747   0.860994   0.943628        \n",
      "Running on 64x64\n"
     ]
    },
    {
     "data": {
      "application/vnd.jupyter.widget-view+json": {
       "model_id": "539c3a3f41a5409c9a69f55bd5df2d73",
       "version_major": 2,
       "version_minor": 0
      },
      "text/plain": [
       "HBox(children=(IntProgress(value=0, description='Epoch', max=10), HTML(value='')))"
      ]
     },
     "metadata": {},
     "output_type": "display_data"
    },
    {
     "name": "stdout",
     "output_type": "stream",
     "text": [
      "epoch      trn_loss   val_loss   dice       <lambda>       \n",
      "    0      0.294207   0.198971   0.82826    0.928705  \n",
      "    1      0.236365   0.169673   0.809121   0.926485       \n",
      "    2      0.192241   0.161406   0.847196   0.938751       \n",
      "    3      0.175961   0.154335   0.845148   0.938319       \n",
      "    4      0.162739   0.145791   0.862876   0.945012       \n",
      "    5      0.149496   0.140951   0.869063   0.947313       \n",
      "    6      0.140733   0.135946   0.867234   0.946211       \n",
      "    7      0.130235   0.135984   0.866695   0.946416       \n",
      "    8      0.124053   0.130035   0.86862    0.947615       \n",
      "    9      0.113413   0.130241   0.874133   0.949253       \n"
     ]
    },
    {
     "data": {
      "application/vnd.jupyter.widget-view+json": {
       "model_id": "871a5a10c7b549d48457f75a1f5be71b",
       "version_major": 2,
       "version_minor": 0
      },
      "text/plain": [
       "HBox(children=(IntProgress(value=0, description='Epoch', max=8), HTML(value='')))"
      ]
     },
     "metadata": {},
     "output_type": "display_data"
    },
    {
     "name": "stdout",
     "output_type": "stream",
     "text": [
      "epoch      trn_loss   val_loss   dice       <lambda>       \n",
      "    0      0.125886   0.166575   0.855604   0.941148  \n",
      "    1      0.138349   0.142761   0.871286   0.947591       \n",
      "    2      0.125333   0.158628   0.857382   0.94056        \n",
      "    3      0.113323   0.141979   0.852769   0.942523       \n",
      "    4      0.102812   0.127929   0.87821    0.95153        \n",
      "    5      0.092674   0.140775   0.874329   0.950024        \n",
      "    6      0.081542   0.13054    0.87586    0.950957        \n",
      "    7      0.073123   0.126034   0.882918   0.953574        \n",
      "Running on 128x128\n"
     ]
    },
    {
     "data": {
      "application/vnd.jupyter.widget-view+json": {
       "model_id": "b5da8e3597454802872325776373af69",
       "version_major": 2,
       "version_minor": 0
      },
      "text/plain": [
       "HBox(children=(IntProgress(value=0, description='Epoch', max=6), HTML(value='')))"
      ]
     },
     "metadata": {},
     "output_type": "display_data"
    },
    {
     "name": "stdout",
     "output_type": "stream",
     "text": [
      "epoch      trn_loss   val_loss   dice       <lambda>       \n",
      "    0      0.207723   0.154383   0.834991   0.934536  \n",
      "    1      0.190367   0.158897   0.847476   0.939119       \n",
      "    2      0.173667   0.151662   0.866522   0.944972       \n",
      "    3      0.159327   0.144469   0.863058   0.944623       \n",
      "    4      0.14801    0.155212   0.854885   0.941491       \n",
      "    5      0.136905   0.146589   0.857348   0.942765       \n"
     ]
    },
    {
     "data": {
      "application/vnd.jupyter.widget-view+json": {
       "model_id": "dbafa53363c941e386b3f8414aa78039",
       "version_major": 2,
       "version_minor": 0
      },
      "text/plain": [
       "HBox(children=(IntProgress(value=0, description='Epoch', max=8), HTML(value='')))"
      ]
     },
     "metadata": {},
     "output_type": "display_data"
    },
    {
     "name": "stdout",
     "output_type": "stream",
     "text": [
      "epoch      trn_loss   val_loss   dice       <lambda>       \n",
      "    0      0.152371   0.155049   0.85217    0.938427  \n",
      "    1      0.163083   0.149924   0.87275    0.947936       \n",
      "    2      0.144521   0.136513   0.871508   0.948783       \n",
      "    3      0.131342   0.147478   0.867987   0.94612        \n",
      "    4      0.122859   0.130955   0.877249   0.951174       \n",
      "    5      0.112251   0.151378   0.883001   0.951373       \n",
      "    6      0.096746   0.142283   0.886213   0.953666        \n",
      "    7      0.086088   0.134251   0.885965   0.953402        \n"
     ]
    },
    {
     "data": {
      "application/vnd.jupyter.widget-view+json": {
       "model_id": "585e60d9d1ea4206ac4aee8d0c0442c0",
       "version_major": 2,
       "version_minor": 0
      },
      "text/plain": [
       "HBox(children=(IntProgress(value=0, description='Epoch', max=31), HTML(value='')))"
      ]
     },
     "metadata": {},
     "output_type": "display_data"
    },
    {
     "name": "stdout",
     "output_type": "stream",
     "text": [
      "epoch      trn_loss   val_loss   dice       <lambda>       \n",
      "    0      0.119679   0.126999   0.893345   0.95619   \n",
      "    1      0.114001   0.12983    0.873603   0.949227       \n",
      "    2      0.097429   0.127583   0.882642   0.952635        \n",
      "    3      0.105878   0.14138    0.889479   0.954816        \n",
      "    4      0.10114    0.122607   0.892326   0.956421       \n",
      "    5      0.084469   0.137571   0.888387   0.954442        \n",
      "    6      0.071625   0.136167   0.895313   0.957496        \n",
      "    7      0.095728   0.137352   0.872909   0.947995        \n",
      "    8      0.108927   0.154607   0.875942   0.9486          \n",
      "    9      0.09778    0.169331   0.865357   0.94124         \n",
      "    10     0.092475   0.143212   0.886757   0.954939        \n",
      "    11     0.074866   0.125116   0.892165   0.955962        \n",
      "    12     0.064322   0.14485    0.886416   0.955149        \n",
      "    13     0.056919   0.147888   0.891042   0.956812        \n",
      "    14     0.054403   0.149994   0.889181   0.956233        \n",
      "    15     0.06121    0.166188   0.875807   0.950341        \n",
      "    16     0.102439   0.186186   0.834821   0.934768        \n",
      "    17     0.107596   0.125546   0.882441   0.952408       \n",
      "    18     0.087493   0.15349    0.865732   0.944254        \n",
      "    19     0.085069   0.303696   0.800511   0.905818        \n",
      "    20     0.081802   0.120789   0.886121   0.955235        \n",
      "    21     0.066167   0.146166   0.890682   0.955568        \n",
      "    22     0.057091   0.15634    0.893713   0.957199        \n",
      "    23     0.051078   0.160536   0.886863   0.954775        \n",
      "    24     0.047266   0.148236   0.895053   0.957799        \n",
      "    25     0.045025   0.147386   0.896988   0.958552        \n",
      "    26     0.043082   0.151764   0.897553   0.95883         \n",
      "    27     0.041558   0.155917   0.897244   0.958591        \n",
      "    28     0.040464   0.158201   0.89724    0.958616        \n",
      "    29     0.03943    0.158829   0.89753    0.958748        \n",
      "    30     0.039084   0.159057   0.897418   0.958725        \n",
      "_____________________________\n",
      "_____________________________\n",
      "Running fold 5 / 10\n",
      "Running on 32x32\n"
     ]
    },
    {
     "data": {
      "application/vnd.jupyter.widget-view+json": {
       "model_id": "8765cea68af14f67869ce3842782ebae",
       "version_major": 2,
       "version_minor": 0
      },
      "text/plain": [
       "HBox(children=(IntProgress(value=0, description='Epoch', max=8), HTML(value='')))"
      ]
     },
     "metadata": {},
     "output_type": "display_data"
    },
    {
     "name": "stdout",
     "output_type": "stream",
     "text": [
      "epoch      trn_loss   val_loss   dice       <lambda>       \n",
      "    0      0.330264   0.502434   0.488448   0.838846  \n",
      "    1      0.266465   0.335585   0.659815   0.876392       \n",
      "    2      0.239801   0.295912   0.657031   0.876932       \n",
      "    3      0.215187   0.243465   0.745927   0.900272       \n",
      "    4      0.200579   0.280881   0.780167   0.896649       \n",
      "    5      0.179808   0.242431   0.785925   0.908539       \n",
      "    6      0.163221   0.246138   0.772553   0.906454       \n",
      "    7      0.148282   0.238036   0.787105   0.909689       \n"
     ]
    },
    {
     "data": {
      "application/vnd.jupyter.widget-view+json": {
       "model_id": "e714c0fa556e48a59d694acbdf3f8ee5",
       "version_major": 2,
       "version_minor": 0
      },
      "text/plain": [
       "HBox(children=(IntProgress(value=0, description='Epoch', max=20), HTML(value='')))"
      ]
     },
     "metadata": {},
     "output_type": "display_data"
    },
    {
     "name": "stdout",
     "output_type": "stream",
     "text": [
      "epoch      trn_loss   val_loss   dice       <lambda>       \n",
      "    0      0.187815   0.28575    0.689358   0.881924  \n",
      "    1      0.329857   0.346053   0.640873   0.860928       \n",
      "    2      0.295584   0.307828   0.720779   0.889041       \n",
      "    3      0.264442   0.22599    0.790698   0.912521       \n",
      "    4      0.229541   0.247156   0.743409   0.899646       \n",
      "    5      0.209597   0.224345   0.782699   0.908475       \n",
      "    6      0.188998   0.265372   0.775586   0.901187       \n",
      "    7      0.181394   0.217423   0.80891    0.915988       \n",
      "    8      0.161669   0.209254   0.809227   0.916663       \n",
      "    9      0.144659   0.248148   0.811761   0.912311       \n",
      "    10     0.137248   0.220139   0.803786   0.914331       \n",
      "    11     0.11869    0.243824   0.815065   0.911328       \n",
      "    12     0.107983   0.215203   0.803385   0.91709        \n",
      "    13     0.097627   0.231541   0.826962   0.922745        \n",
      "    14     0.08741    0.272667   0.799693   0.911508        \n",
      "    15     0.0839     0.24767    0.818162   0.918784        \n",
      "    16     0.075644   0.247587   0.821442   0.921152        \n",
      "    17     0.069596   0.254393   0.832637   0.925262        \n",
      "    18     0.066502   0.249543   0.823583   0.92175         \n",
      "    19     0.063602   0.253764   0.830916   0.924393        \n",
      "Running on 64x64\n"
     ]
    },
    {
     "data": {
      "application/vnd.jupyter.widget-view+json": {
       "model_id": "a6d3323803d3400d953b85b161432904",
       "version_major": 2,
       "version_minor": 0
      },
      "text/plain": [
       "HBox(children=(IntProgress(value=0, description='Epoch', max=10), HTML(value='')))"
      ]
     },
     "metadata": {},
     "output_type": "display_data"
    },
    {
     "name": "stdout",
     "output_type": "stream",
     "text": [
      "epoch      trn_loss   val_loss   dice       <lambda>       \n",
      "    0      0.281022   0.243278   0.752432   0.903662  \n",
      "    1      0.214569   0.202838   0.819253   0.922665       \n",
      "    2      0.184263   0.186534   0.841768   0.929871       \n",
      "    3      0.164102   0.173534   0.847549   0.932243       \n",
      "    4      0.147538   0.182493   0.838251   0.929829       \n",
      "    5      0.137794   0.184204   0.856114   0.934896       \n",
      "    6      0.128521   0.173416   0.86337    0.938625       \n",
      "    7      0.119413   0.168281   0.859974   0.93731        \n",
      "    8      0.115952   0.168395   0.871099   0.940591       \n",
      "    9      0.102453   0.170525   0.867097   0.939008       \n"
     ]
    },
    {
     "data": {
      "application/vnd.jupyter.widget-view+json": {
       "model_id": "892e0f41be184dde8d38fd81c1cf7cf3",
       "version_major": 2,
       "version_minor": 0
      },
      "text/plain": [
       "HBox(children=(IntProgress(value=0, description='Epoch', max=8), HTML(value='')))"
      ]
     },
     "metadata": {},
     "output_type": "display_data"
    },
    {
     "name": "stdout",
     "output_type": "stream",
     "text": [
      "epoch      trn_loss   val_loss   dice       <lambda>       \n",
      "    0      0.123247   0.190521   0.812525   0.922588  \n",
      "    1      0.135851   0.187352   0.844941   0.931177       \n",
      "    2      0.123394   0.172128   0.859854   0.937634       \n",
      "    3      0.108546   0.177655   0.871311   0.942934       \n",
      "    4      0.102362   0.188047   0.844792   0.932227        \n",
      "    5      0.090973   0.174136   0.868585   0.940963        \n",
      "    6      0.07824    0.155265   0.877821   0.944777        \n",
      "    7      0.06956    0.170188   0.872279   0.942621        \n",
      "Running on 128x128\n"
     ]
    },
    {
     "data": {
      "application/vnd.jupyter.widget-view+json": {
       "model_id": "f48c6b1d84774066b6bfa3826970fcf3",
       "version_major": 2,
       "version_minor": 0
      },
      "text/plain": [
       "HBox(children=(IntProgress(value=0, description='Epoch', max=6), HTML(value='')))"
      ]
     },
     "metadata": {},
     "output_type": "display_data"
    },
    {
     "name": "stdout",
     "output_type": "stream",
     "text": [
      "epoch      trn_loss   val_loss   dice       <lambda>       \n",
      "    0      0.213302   0.211105   0.800839   0.917877  \n",
      "    1      0.200094   0.225166   0.79667    0.916981       \n",
      "    2      0.181254   0.186909   0.815587   0.923065       \n",
      "    3      0.163491   0.166576   0.848627   0.93351        \n",
      "    4      0.150976   0.169366   0.858793   0.935378       \n",
      "    5      0.1367     0.159671   0.858662   0.937026       \n"
     ]
    },
    {
     "data": {
      "application/vnd.jupyter.widget-view+json": {
       "model_id": "8b6f814befc44e2eb90938ddee5318f0",
       "version_major": 2,
       "version_minor": 0
      },
      "text/plain": [
       "HBox(children=(IntProgress(value=0, description='Epoch', max=8), HTML(value='')))"
      ]
     },
     "metadata": {},
     "output_type": "display_data"
    },
    {
     "name": "stdout",
     "output_type": "stream",
     "text": [
      "epoch      trn_loss   val_loss   dice       <lambda>       \n",
      "    0      0.141385   0.160511   0.868052   0.940737  \n",
      "    1      0.139784   0.182799   0.811586   0.920602       \n",
      "    2      0.136233   0.150188   0.873012   0.943129       \n",
      "    3      0.123246   0.181455   0.864637   0.93471        \n",
      "    4      0.109213   0.145564   0.878006   0.944119       \n",
      "    5      0.09503    0.149529   0.882669   0.945175        \n",
      "    6      0.083804   0.153301   0.865522   0.939174        \n",
      "    7      0.075532   0.149048   0.880628   0.944885        \n"
     ]
    },
    {
     "data": {
      "application/vnd.jupyter.widget-view+json": {
       "model_id": "5cf96f05b6b9479190b988c12d0e9ffd",
       "version_major": 2,
       "version_minor": 0
      },
      "text/plain": [
       "HBox(children=(IntProgress(value=0, description='Epoch', max=31), HTML(value='')))"
      ]
     },
     "metadata": {},
     "output_type": "display_data"
    },
    {
     "name": "stdout",
     "output_type": "stream",
     "text": [
      "epoch      trn_loss   val_loss   dice       <lambda>        \n",
      "    0      0.1046     0.143188   0.879219   0.944471  \n",
      "    1      0.102722   0.152439   0.877539   0.944097        \n",
      "    2      0.088776   0.131005   0.889403   0.950675        \n",
      "    3      0.10074    0.22013    0.835148   0.916313        \n",
      "    4      0.110513   0.155792   0.864082   0.940419       \n",
      "    5      0.094112   0.147365   0.872755   0.942344        \n",
      "    6      0.079928   0.13826    0.879727   0.946048        \n",
      "    7      0.082646   0.163025   0.866958   0.941222        \n",
      "    8      0.087302   0.153303   0.880741   0.944757        \n",
      "    9      0.080809   0.14593    0.869759   0.941562        \n",
      "    10     0.070749   0.151129   0.883419   0.947509        \n",
      "    11     0.062564   0.143926   0.890709   0.950039        \n",
      "    12     0.057105   0.144949   0.895213   0.95307         \n",
      "    13     0.053045   0.151256   0.895648   0.953432        \n",
      "    14     0.050367   0.150597   0.896244   0.953661        \n",
      "    15     0.053784   0.152498   0.878852   0.943851        \n",
      "    16     0.086841   0.167446   0.858233   0.938894        \n",
      "    17     0.093117   0.148399   0.873831   0.944731        \n",
      "    18     0.087729   0.171152   0.868396   0.941971        \n",
      "    19     0.078412   0.171116   0.876506   0.944517        \n",
      "    20     0.0675     0.160397   0.882188   0.947452        \n",
      "    21     0.058998   0.143126   0.891754   0.950281        \n",
      "    22     0.052548   0.143369   0.895812   0.952305        \n",
      "    23     0.047625   0.157703   0.889684   0.950405        \n",
      "    24     0.043832   0.150687   0.890555   0.950408        \n",
      "    25     0.042505   0.153809   0.894052   0.951624        \n",
      "    26     0.040847   0.148966   0.892752   0.951346        \n",
      "    27     0.039747   0.150683   0.890846   0.950941        \n",
      "    28     0.038527   0.152796   0.890301   0.950294        \n",
      "    29     0.038242   0.154109   0.891148   0.951032        \n",
      "    30     0.037595   0.154606   0.89106    0.951021        \n",
      "_____________________________\n",
      "_____________________________\n",
      "Running fold 6 / 10\n",
      "Running on 32x32\n"
     ]
    },
    {
     "data": {
      "application/vnd.jupyter.widget-view+json": {
       "model_id": "e911a2839fbc42e8971bfa8e7f7ced33",
       "version_major": 2,
       "version_minor": 0
      },
      "text/plain": [
       "HBox(children=(IntProgress(value=0, description='Epoch', max=8), HTML(value='')))"
      ]
     },
     "metadata": {},
     "output_type": "display_data"
    },
    {
     "name": "stdout",
     "output_type": "stream",
     "text": [
      "epoch      trn_loss   val_loss   dice       <lambda>       \n",
      "    0      0.36194    4.966119   0.587375   0.796494  \n",
      "    1      0.291146   0.242141   0.778947   0.907593       \n",
      "    2      0.252087   0.219917   0.794993   0.916434       \n",
      "    3      0.225459   0.219557   0.802762   0.918536       \n",
      "    4      0.207736   0.209393   0.765815   0.915652       \n",
      "    5      0.192059   0.207321   0.825204   0.924866       \n",
      "    6      0.173362   0.19509    0.817203   0.924643       \n",
      "    7      0.15129    0.188049   0.824838   0.928839       \n"
     ]
    },
    {
     "data": {
      "application/vnd.jupyter.widget-view+json": {
       "model_id": "46f4c8e95bc94ea7b6fee895afc1093f",
       "version_major": 2,
       "version_minor": 0
      },
      "text/plain": [
       "HBox(children=(IntProgress(value=0, description='Epoch', max=20), HTML(value='')))"
      ]
     },
     "metadata": {},
     "output_type": "display_data"
    },
    {
     "name": "stdout",
     "output_type": "stream",
     "text": [
      "epoch      trn_loss   val_loss   dice       <lambda>       \n",
      "    0      0.197178   0.29079    0.772156   0.895413  \n",
      "    1      0.224198   0.256567   0.789411   0.912775       \n",
      "    2      0.241773   0.211294   0.792816   0.922925       \n",
      "    3      0.221647   0.234304   0.644608   0.885876       \n",
      "    4      0.209901   0.198821   0.812603   0.929001       \n",
      "    5      0.185712   0.184356   0.834651   0.932526       \n",
      "    6      0.165697   0.20131    0.845967   0.934485       \n",
      "    7      0.156448   0.186613   0.831166   0.933185       \n",
      "    8      0.147409   0.180061   0.859093   0.939841       \n",
      "    9      0.136359   0.204894   0.817464   0.924481       \n",
      "    10     0.121724   0.176778   0.85529    0.939542       \n",
      "    11     0.108952   0.180148   0.854335   0.941699       \n",
      "    12     0.095094   0.182749   0.849626   0.941113        \n",
      "    13     0.085145   0.199818   0.858555   0.941733        \n",
      "    14     0.078615   0.19629    0.861972   0.943723        \n",
      "    15     0.076938   0.166333   0.874658   0.946729        \n",
      "    16     0.071166   0.195867   0.868831   0.944324        \n",
      "    17     0.066125   0.188614   0.872425   0.946979        \n",
      "    18     0.062769   0.179599   0.877994   0.948849        \n",
      "    19     0.059573   0.181287   0.875305   0.948227        \n",
      "Running on 64x64\n"
     ]
    },
    {
     "data": {
      "application/vnd.jupyter.widget-view+json": {
       "model_id": "bf3495bcb11d4bd0b8a5ec244dcdda97",
       "version_major": 2,
       "version_minor": 0
      },
      "text/plain": [
       "HBox(children=(IntProgress(value=0, description='Epoch', max=10), HTML(value='')))"
      ]
     },
     "metadata": {},
     "output_type": "display_data"
    },
    {
     "name": "stdout",
     "output_type": "stream",
     "text": [
      "epoch      trn_loss   val_loss   dice       <lambda>       \n",
      "    0      0.277405   0.17824    0.80615    0.927952  \n",
      "    1      0.210238   0.162551   0.828863   0.93535        \n",
      "    2      0.179814   0.151453   0.846898   0.938944       \n",
      "    3      0.164738   0.150313   0.86534    0.946391       \n",
      "    4      0.149756   0.17317    0.852151   0.937306       \n",
      "    5      0.142123   0.148575   0.863517   0.943814       \n",
      "    6      0.132806   0.166366   0.873181   0.943563       \n",
      "    7      0.118703   0.145363   0.872253   0.946558       \n",
      "    8      0.107307   0.156333   0.874008   0.945464       \n",
      "    9      0.09465    0.162823   0.877204   0.945744        \n"
     ]
    },
    {
     "data": {
      "application/vnd.jupyter.widget-view+json": {
       "model_id": "74e6c264cd49465da9779f0c71df30f2",
       "version_major": 2,
       "version_minor": 0
      },
      "text/plain": [
       "HBox(children=(IntProgress(value=0, description='Epoch', max=8), HTML(value='')))"
      ]
     },
     "metadata": {},
     "output_type": "display_data"
    },
    {
     "name": "stdout",
     "output_type": "stream",
     "text": [
      "epoch      trn_loss   val_loss   dice       <lambda>        \n",
      "    0      0.108119   0.186314   0.847408   0.9357    \n",
      "    1      0.125697   0.177513   0.85231    0.941219       \n",
      "    2      0.126063   0.161687   0.862515   0.940811       \n",
      "    3      0.108346   0.191826   0.823772   0.924422       \n",
      "    4      0.094027   0.174428   0.858429   0.942809        \n",
      "    5      0.083241   0.202816   0.851082   0.935146        \n",
      "    6      0.073924   0.16546    0.866506   0.943154        \n",
      "    7      0.064838   0.170819   0.861441   0.94253         \n",
      "Running on 128x128\n"
     ]
    },
    {
     "data": {
      "application/vnd.jupyter.widget-view+json": {
       "model_id": "db4f5f85eb894d6b9b8987400858f85e",
       "version_major": 2,
       "version_minor": 0
      },
      "text/plain": [
       "HBox(children=(IntProgress(value=0, description='Epoch', max=6), HTML(value='')))"
      ]
     },
     "metadata": {},
     "output_type": "display_data"
    },
    {
     "name": "stdout",
     "output_type": "stream",
     "text": [
      "epoch      trn_loss   val_loss   dice       <lambda>       \n",
      "    0      0.210827   0.191469   0.802102   0.925707  \n",
      "    1      0.192168   0.156812   0.8399     0.939293       \n",
      "    2      0.169329   0.15922    0.866867   0.947589       \n",
      "    3      0.1634     0.155757   0.861968   0.944374       \n",
      "    4      0.155771   0.155352   0.863901   0.945909       \n",
      "    5      0.137578   0.149908   0.868036   0.947253       \n"
     ]
    },
    {
     "data": {
      "application/vnd.jupyter.widget-view+json": {
       "model_id": "4c68ddf3083e410db1d300182e48d43a",
       "version_major": 2,
       "version_minor": 0
      },
      "text/plain": [
       "HBox(children=(IntProgress(value=0, description='Epoch', max=8), HTML(value='')))"
      ]
     },
     "metadata": {},
     "output_type": "display_data"
    },
    {
     "name": "stdout",
     "output_type": "stream",
     "text": [
      "epoch      trn_loss   val_loss   dice       <lambda>       \n",
      "    0      0.128214   0.168618   0.847504   0.941902  \n",
      "    1      0.131392   0.160181   0.863163   0.94478        \n",
      "    2      0.124961   0.195321   0.853036   0.938379       \n",
      "    3      0.115785   0.164244   0.857218   0.942882       \n",
      "    4      0.103505   0.14729    0.871519   0.945317       \n",
      "    5      0.089695   0.146161   0.874484   0.945939        \n",
      "    6      0.076991   0.161476   0.860399   0.941462        \n",
      "    7      0.068959   0.15784    0.862536   0.942648        \n"
     ]
    },
    {
     "data": {
      "application/vnd.jupyter.widget-view+json": {
       "model_id": "c8d160adf3ca45ac930102691601d003",
       "version_major": 2,
       "version_minor": 0
      },
      "text/plain": [
       "HBox(children=(IntProgress(value=0, description='Epoch', max=31), HTML(value='')))"
      ]
     },
     "metadata": {},
     "output_type": "display_data"
    },
    {
     "name": "stdout",
     "output_type": "stream",
     "text": [
      "epoch      trn_loss   val_loss   dice       <lambda>        \n",
      "    0      0.097329   0.142541   0.876091   0.947954  \n",
      "    1      0.096614   0.156775   0.878243   0.950432        \n",
      "    2      0.083532   0.143643   0.886017   0.951139        \n",
      "    3      0.083539   0.179269   0.867556   0.942414        \n",
      "    4      0.083289   0.164484   0.869054   0.946459        \n",
      "    5      0.070779   0.181142   0.867098   0.943852        \n",
      "    6      0.061849   0.173169   0.873472   0.946929        \n",
      "    7      0.076915   0.187075   0.808435   0.927538        \n",
      "    8      0.120185   0.201166   0.841749   0.936713        \n",
      "    9      0.125951   0.150068   0.872267   0.947662       \n",
      "    10     0.097279   0.148437   0.879546   0.949633        \n",
      "    11     0.078301   0.181972   0.865317   0.944729        \n",
      "    12     0.064895   0.169697   0.875003   0.949206        \n",
      "    13     0.058836   0.171446   0.869127   0.945511        \n",
      "    14     0.053893   0.171452   0.870877   0.946586        \n",
      "    15     0.088784   0.29759    0.77233    0.890397        \n",
      "    16     0.102467   0.199932   0.861016   0.940981       \n",
      "    17     0.087674   0.17214    0.855025   0.939837        \n",
      "    18     0.078899   0.160027   0.855869   0.941624        \n",
      "    19     0.071603   0.161833   0.873244   0.948942        \n",
      "    20     0.063229   0.166274   0.872915   0.947661        \n",
      "    21     0.056326   0.166272   0.877426   0.951069        \n",
      "    22     0.051522   0.18257    0.866693   0.944615        \n",
      "    23     0.048725   0.170895   0.886513   0.952838        \n",
      "    24     0.045741   0.184441   0.881546   0.952168        \n",
      "    25     0.041905   0.180282   0.885392   0.953928        \n",
      "    26     0.040274   0.182953   0.887028   0.954895        \n",
      "    27     0.039301   0.183457   0.882572   0.952515        \n",
      "    28     0.038363   0.185021   0.882128   0.952261        \n",
      "    29     0.037863   0.185319   0.88229    0.952258        \n",
      "    30     0.037884   0.185224   0.882365   0.95232         \n",
      "_____________________________\n",
      "_____________________________\n",
      "Running fold 7 / 10\n",
      "Running on 32x32\n"
     ]
    },
    {
     "data": {
      "application/vnd.jupyter.widget-view+json": {
       "model_id": "ba3eda20c060428f8c68e75561748ca0",
       "version_major": 2,
       "version_minor": 0
      },
      "text/plain": [
       "HBox(children=(IntProgress(value=0, description='Epoch', max=8), HTML(value='')))"
      ]
     },
     "metadata": {},
     "output_type": "display_data"
    },
    {
     "name": "stdout",
     "output_type": "stream",
     "text": [
      "epoch      trn_loss   val_loss   dice       <lambda>       \n",
      "    0      0.3373     0.370058   0.551214   0.846207  \n",
      "    1      0.275136   0.260023   0.748349   0.892752       \n",
      "    2      0.248314   0.23007    0.779162   0.907242       \n",
      "    3      0.226835   0.21176    0.794527   0.911151       \n",
      "    4      0.212074   0.227184   0.748984   0.898645       \n",
      "    5      0.194255   0.221499   0.779911   0.907773       \n",
      "    6      0.174276   0.23438    0.789576   0.908542       \n",
      "    7      0.164141   0.216115   0.811774   0.916519       \n"
     ]
    },
    {
     "data": {
      "application/vnd.jupyter.widget-view+json": {
       "model_id": "960ec7cb748d45eeb800894dd8198312",
       "version_major": 2,
       "version_minor": 0
      },
      "text/plain": [
       "HBox(children=(IntProgress(value=0, description='Epoch', max=20), HTML(value='')))"
      ]
     },
     "metadata": {},
     "output_type": "display_data"
    },
    {
     "name": "stdout",
     "output_type": "stream",
     "text": [
      "epoch      trn_loss   val_loss   dice       <lambda>       \n",
      "    0      0.185222   0.261212   0.799506   0.906924  \n",
      "    1      0.231573   0.291309   0.704597   0.884717       \n",
      "    2      0.22839    0.288865   0.754612   0.889801       \n",
      "    3      0.209966   0.226298   0.79424    0.909326       \n",
      "    4      0.206059   0.213595   0.818819   0.917715       \n",
      "    5      0.185185   0.217964   0.782971   0.907104       \n",
      "    6      0.159234   0.198261   0.82776    0.921555       \n",
      "    7      0.14151    0.198599   0.835164   0.924301       \n",
      "    8      0.13768    0.234844   0.831735   0.921429       \n",
      "    9      0.132367   0.232466   0.814946   0.917706       \n",
      "    10     0.118967   0.221555   0.82226    0.921619       \n",
      "    11     0.111718   0.228002   0.83314    0.924435       \n",
      "    12     0.103366   0.248151   0.810854   0.912531       \n",
      "    13     0.096396   0.245248   0.807924   0.916058        \n",
      "    14     0.083805   0.231568   0.838922   0.924207        \n",
      "    15     0.07438    0.258221   0.834414   0.924341        \n",
      "    16     0.069678   0.241685   0.840483   0.926218        \n",
      "    17     0.065837   0.242556   0.839734   0.926361        \n",
      "    18     0.062407   0.260287   0.837503   0.926065        \n",
      "    19     0.059174   0.251933   0.838612   0.925986        \n",
      "Running on 64x64\n"
     ]
    },
    {
     "data": {
      "application/vnd.jupyter.widget-view+json": {
       "model_id": "88eb0f5a683a4bb2b62e6ee74ba46767",
       "version_major": 2,
       "version_minor": 0
      },
      "text/plain": [
       "HBox(children=(IntProgress(value=0, description='Epoch', max=10), HTML(value='')))"
      ]
     },
     "metadata": {},
     "output_type": "display_data"
    },
    {
     "name": "stdout",
     "output_type": "stream",
     "text": [
      "epoch      trn_loss   val_loss   dice       <lambda>       \n",
      "    0      0.275573   0.246144   0.773814   0.905894  \n",
      "    1      0.22062    0.196571   0.825614   0.9212         \n",
      "    2      0.188961   0.192376   0.838772   0.925566       \n",
      "    3      0.169087   0.168777   0.837812   0.927252       \n",
      "    4      0.150224   0.17726    0.861593   0.935212       \n",
      "    5      0.1374     0.188385   0.836277   0.926318       \n",
      "    6      0.125273   0.180458   0.853898   0.931686       \n",
      "    7      0.117517   0.188537   0.858561   0.934135       \n",
      "    8      0.109649   0.206528   0.859989   0.933728       \n",
      "    9      0.098922   0.199513   0.855201   0.932253        \n"
     ]
    },
    {
     "data": {
      "application/vnd.jupyter.widget-view+json": {
       "model_id": "de5ad3dcd06849a397d668488ed5c11b",
       "version_major": 2,
       "version_minor": 0
      },
      "text/plain": [
       "HBox(children=(IntProgress(value=0, description='Epoch', max=8), HTML(value='')))"
      ]
     },
     "metadata": {},
     "output_type": "display_data"
    },
    {
     "name": "stdout",
     "output_type": "stream",
     "text": [
      "epoch      trn_loss   val_loss   dice       <lambda>       \n",
      "    0      0.136967   0.200405   0.847353   0.927455  \n",
      "    1      0.154248   0.217326   0.817655   0.916611       \n",
      "    2      0.137132   0.234434   0.84137    0.922541       \n",
      "    3      0.120646   0.191647   0.851726   0.9286         \n",
      "    4      0.106038   0.198347   0.865121   0.935989       \n",
      "    5      0.091009   0.192261   0.860591   0.935779        \n",
      "    6      0.077693   0.201471   0.860787   0.935525        \n",
      "    7      0.071603   0.206472   0.8618     0.936092        \n",
      "Running on 128x128\n"
     ]
    },
    {
     "data": {
      "application/vnd.jupyter.widget-view+json": {
       "model_id": "efe82f87336d4c1493cdb27270935324",
       "version_major": 2,
       "version_minor": 0
      },
      "text/plain": [
       "HBox(children=(IntProgress(value=0, description='Epoch', max=6), HTML(value='')))"
      ]
     },
     "metadata": {},
     "output_type": "display_data"
    },
    {
     "name": "stdout",
     "output_type": "stream",
     "text": [
      "epoch      trn_loss   val_loss   dice       <lambda>       \n",
      "    0      0.208917   0.219074   0.763682   0.903441  \n",
      "    1      0.195661   0.186011   0.812129   0.920238       \n",
      "    2      0.176843   0.190631   0.837815   0.924735       \n",
      "    3      0.164977   0.174649   0.848103   0.930462       \n",
      "    4      0.15044    0.180972   0.825904   0.922452       \n",
      "    5      0.136477   0.163936   0.861521   0.936189       \n"
     ]
    },
    {
     "data": {
      "application/vnd.jupyter.widget-view+json": {
       "model_id": "a8c7f32c6ec047bf8089715c304cb215",
       "version_major": 2,
       "version_minor": 0
      },
      "text/plain": [
       "HBox(children=(IntProgress(value=0, description='Epoch', max=8), HTML(value='')))"
      ]
     },
     "metadata": {},
     "output_type": "display_data"
    },
    {
     "name": "stdout",
     "output_type": "stream",
     "text": [
      "epoch      trn_loss   val_loss   dice       <lambda>       \n",
      "    0      0.135293   0.178474   0.833207   0.92693   \n",
      "    1      0.137529   0.193076   0.857231   0.930568       \n",
      "    2      0.128105   0.167879   0.861411   0.936767       \n",
      "    3      0.114086   0.173585   0.863682   0.938267       \n",
      "    4      0.104955   0.162747   0.872949   0.94027        \n",
      "    5      0.096801   0.170355   0.859337   0.935401        \n",
      "    6      0.086274   0.153792   0.87215    0.939928        \n",
      "    7      0.074476   0.168128   0.869066   0.936687        \n"
     ]
    },
    {
     "data": {
      "application/vnd.jupyter.widget-view+json": {
       "model_id": "81f36d83058e489581c194fdcaffe5e5",
       "version_major": 2,
       "version_minor": 0
      },
      "text/plain": [
       "HBox(children=(IntProgress(value=0, description='Epoch', max=31), HTML(value='')))"
      ]
     },
     "metadata": {},
     "output_type": "display_data"
    },
    {
     "name": "stdout",
     "output_type": "stream",
     "text": [
      "epoch      trn_loss   val_loss   dice       <lambda>       \n",
      "    0      0.114113   0.174393   0.868783   0.937294  \n",
      "    1      0.102745   0.179798   0.853633   0.932861        \n",
      "    2      0.088929   0.186562   0.86066    0.935816        \n",
      "    3      0.096454   0.155832   0.869709   0.939837        \n",
      "    4      0.095012   0.159368   0.867096   0.939483        \n",
      "    5      0.083241   0.186099   0.864189   0.935487        \n",
      "    6      0.070571   0.184216   0.864181   0.936515        \n",
      "    7      0.086845   0.178187   0.851651   0.932781        \n",
      "    8      0.089672   0.193774   0.851212   0.933616        \n",
      "    9      0.096323   0.175242   0.859766   0.932859        \n",
      "    10     0.083426   0.175013   0.876643   0.942096        \n",
      "    11     0.075397   0.190328   0.848422   0.931466        \n",
      "    12     0.063912   0.174149   0.875512   0.939765        \n",
      "    13     0.057381   0.17501    0.871692   0.93926         \n",
      "    14     0.053597   0.174588   0.870072   0.938199        \n",
      "    15     0.058013   0.181356   0.874824   0.94157         \n",
      "    16     0.078941   0.185566   0.814936   0.922951        \n",
      "    17     0.078018   0.200691   0.852491   0.932849        \n",
      "    18     0.075952   0.174016   0.886489   0.943926        \n",
      "    19     0.065159   0.208694   0.855942   0.929597        \n",
      "    20     0.05847    0.18999    0.889571   0.947993        \n",
      "    21     0.053947   0.184504   0.875271   0.941353        \n",
      "    22     0.050997   0.198369   0.871168   0.940984        \n",
      "    23     0.04878    0.168519   0.893522   0.949882        \n",
      "    24     0.045272   0.182081   0.883211   0.945235        \n",
      "    25     0.042999   0.182695   0.891559   0.947755        \n",
      "    26     0.041175   0.185227   0.886404   0.946479        \n",
      "    27     0.039799   0.187018   0.889468   0.948361        \n",
      "    28     0.038481   0.187478   0.887943   0.94787         \n",
      "    29     0.037712   0.188148   0.88886    0.948315        \n",
      "    30     0.037424   0.188308   0.888873   0.948334        \n",
      "_____________________________\n",
      "_____________________________\n",
      "Running fold 8 / 10\n",
      "Running on 32x32\n"
     ]
    },
    {
     "data": {
      "application/vnd.jupyter.widget-view+json": {
       "model_id": "35abf8e60b394096a8d20922f97593e2",
       "version_major": 2,
       "version_minor": 0
      },
      "text/plain": [
       "HBox(children=(IntProgress(value=0, description='Epoch', max=8), HTML(value='')))"
      ]
     },
     "metadata": {},
     "output_type": "display_data"
    },
    {
     "name": "stdout",
     "output_type": "stream",
     "text": [
      "epoch      trn_loss   val_loss   dice       <lambda>       \n",
      "    0      0.339783   0.371443   0.625997   0.853894  \n",
      "    1      0.287134   0.392967   0.739241   0.856195       \n",
      "    2      0.253355   0.266056   0.77378    0.893234       \n",
      "    3      0.231493   0.228221   0.766768   0.896744       \n",
      "    4      0.207745   0.28059    0.731361   0.886447       \n",
      "    5      0.193397   0.213621   0.806766   0.909372       \n",
      "    6      0.180531   0.213896   0.827634   0.915915       \n",
      "    7      0.159416   0.223481   0.817248   0.91492        \n"
     ]
    },
    {
     "data": {
      "application/vnd.jupyter.widget-view+json": {
       "model_id": "bf581fce4c4a43deb6da0f0dad89a0d0",
       "version_major": 2,
       "version_minor": 0
      },
      "text/plain": [
       "HBox(children=(IntProgress(value=0, description='Epoch', max=20), HTML(value='')))"
      ]
     },
     "metadata": {},
     "output_type": "display_data"
    },
    {
     "name": "stdout",
     "output_type": "stream",
     "text": [
      "epoch      trn_loss   val_loss   dice       <lambda>       \n",
      "    0      0.189622   0.264691   0.763412   0.895264  \n",
      "    1      0.219924   0.251565   0.760312   0.893933       \n",
      "    2      0.214778   0.283311   0.653603   0.86127        \n",
      "    3      0.203364   0.232668   0.814962   0.911032       \n",
      "    4      0.184669   0.232927   0.814624   0.911865       \n",
      "    5      0.177478   0.239351   0.769743   0.898334       \n",
      "    6      0.158185   0.219424   0.830136   0.916846       \n",
      "    7      0.143835   0.184803   0.846413   0.924954       \n",
      "    8      0.133742   0.196214   0.827523   0.917615       \n",
      "    9      0.128185   0.255493   0.815988   0.914093       \n",
      "    10     0.121902   0.234667   0.836663   0.919409       \n",
      "    11     0.116014   0.196656   0.846051   0.923578       \n",
      "    12     0.100326   0.217356   0.848522   0.923679       \n",
      "    13     0.089539   0.212888   0.855815   0.929242        \n",
      "    14     0.082165   0.194869   0.856781   0.930112        \n",
      "    15     0.074048   0.213013   0.858194   0.930896        \n",
      "    16     0.069373   0.222077   0.866093   0.93316         \n",
      "    17     0.064542   0.22359    0.860718   0.931204        \n",
      "    18     0.060761   0.225432   0.864372   0.932083        \n",
      "    19     0.058216   0.232896   0.861495   0.931342        \n",
      "Running on 64x64\n"
     ]
    },
    {
     "data": {
      "application/vnd.jupyter.widget-view+json": {
       "model_id": "0aeee54d52454094892f457ed073fb12",
       "version_major": 2,
       "version_minor": 0
      },
      "text/plain": [
       "HBox(children=(IntProgress(value=0, description='Epoch', max=10), HTML(value='')))"
      ]
     },
     "metadata": {},
     "output_type": "display_data"
    },
    {
     "name": "stdout",
     "output_type": "stream",
     "text": [
      "epoch      trn_loss   val_loss   dice       <lambda>       \n",
      "    0      0.293386   0.22508    0.786297   0.902848  \n",
      "    1      0.216713   0.211636   0.79787    0.907665       \n",
      "    2      0.18822    0.179653   0.855989   0.929734       \n",
      "    3      0.173631   0.18068    0.844431   0.927032       \n",
      "    4      0.156235   0.191466   0.851206   0.929488       \n",
      "    5      0.142029   0.177174   0.855504   0.9309         \n",
      "    6      0.13129    0.16757    0.874727   0.938517       \n",
      "    7      0.120226   0.159164   0.889958   0.943607       \n",
      "    8      0.110188   0.169055   0.890882   0.945181       \n",
      "    9      0.100727   0.170901   0.885932   0.943297        \n"
     ]
    },
    {
     "data": {
      "application/vnd.jupyter.widget-view+json": {
       "model_id": "13b7990ced314a42bca0186c321ef67c",
       "version_major": 2,
       "version_minor": 0
      },
      "text/plain": [
       "HBox(children=(IntProgress(value=0, description='Epoch', max=8), HTML(value='')))"
      ]
     },
     "metadata": {},
     "output_type": "display_data"
    },
    {
     "name": "stdout",
     "output_type": "stream",
     "text": [
      "epoch      trn_loss   val_loss   dice       <lambda>        \n",
      "    0      0.121842   0.177473   0.845951   0.927988  \n",
      "    1      0.124694   0.171654   0.87325    0.938673       \n",
      "    2      0.112848   0.174976   0.888535   0.944049       \n",
      "    3      0.107762   0.144846   0.881998   0.941664       \n",
      "    4      0.100125   0.161543   0.884148   0.941367        \n",
      "    5      0.085087   0.137519   0.905652   0.950349        \n",
      "    6      0.073548   0.171739   0.893997   0.947461        \n",
      "    7      0.064423   0.154248   0.900822   0.949498        \n",
      "Running on 128x128\n"
     ]
    },
    {
     "data": {
      "application/vnd.jupyter.widget-view+json": {
       "model_id": "3b7a580211b04031bdf1a2793371fdc7",
       "version_major": 2,
       "version_minor": 0
      },
      "text/plain": [
       "HBox(children=(IntProgress(value=0, description='Epoch', max=6), HTML(value='')))"
      ]
     },
     "metadata": {},
     "output_type": "display_data"
    },
    {
     "name": "stdout",
     "output_type": "stream",
     "text": [
      "epoch      trn_loss   val_loss   dice       <lambda>       \n",
      "    0      0.192543   0.198596   0.83223    0.920781  \n",
      "    1      0.187484   0.185207   0.844341   0.926099       \n",
      "    2      0.17384    0.163778   0.856106   0.930834       \n",
      "    3      0.156284   0.149778   0.871849   0.937235       \n",
      "    4      0.142755   0.162477   0.88015    0.939657       \n",
      "    5      0.128008   0.148187   0.885817   0.943691       \n"
     ]
    },
    {
     "data": {
      "application/vnd.jupyter.widget-view+json": {
       "model_id": "35a9c02a19554b29a533e93ccb5a8d4b",
       "version_major": 2,
       "version_minor": 0
      },
      "text/plain": [
       "HBox(children=(IntProgress(value=0, description='Epoch', max=8), HTML(value='')))"
      ]
     },
     "metadata": {},
     "output_type": "display_data"
    },
    {
     "name": "stdout",
     "output_type": "stream",
     "text": [
      "epoch      trn_loss   val_loss   dice       <lambda>       \n",
      "    0      0.129789   0.163795   0.876822   0.938954  \n",
      "    1      0.140426   0.139101   0.87807    0.941216       \n",
      "    2      0.124213   0.186162   0.873857   0.938258       \n",
      "    3      0.109284   0.141309   0.890595   0.945911       \n",
      "    4      0.100491   0.144379   0.884494   0.944279       \n",
      "    5      0.0868     0.159809   0.890523   0.946274        \n",
      "    6      0.079225   0.138206   0.899793   0.950658        \n",
      "    7      0.070026   0.146633   0.898957   0.949972        \n"
     ]
    },
    {
     "data": {
      "application/vnd.jupyter.widget-view+json": {
       "model_id": "51a8d4d476524cee8d250eb3791c2254",
       "version_major": 2,
       "version_minor": 0
      },
      "text/plain": [
       "HBox(children=(IntProgress(value=0, description='Epoch', max=31), HTML(value='')))"
      ]
     },
     "metadata": {},
     "output_type": "display_data"
    },
    {
     "name": "stdout",
     "output_type": "stream",
     "text": [
      "epoch      trn_loss   val_loss   dice       <lambda>        \n",
      "    0      0.089067   0.161852   0.892826   0.946949  \n",
      "    1      0.098853   0.141481   0.891497   0.947205        \n",
      "    2      0.086075   0.149906   0.890646   0.947222        \n",
      "    3      0.097805   0.158419   0.875348   0.940219        \n",
      "    4      0.087334   0.170828   0.891071   0.945182        \n",
      "    5      0.072698   0.157693   0.899453   0.950097        \n",
      "    6      0.061848   0.160852   0.900674   0.950451        \n",
      "    7      0.075533   0.1185     0.898948   0.950599        \n",
      "    8      0.107209   0.185369   0.852439   0.929446        \n",
      "    9      0.106073   0.14126    0.883321   0.941407       \n",
      "    10     0.083919   0.143078   0.905298   0.952542        \n",
      "    11     0.071875   0.139187   0.90441    0.952337        \n",
      "    12     0.0615     0.139508   0.909101   0.95445         \n",
      "    13     0.055245   0.142269   0.905578   0.953483        \n",
      "    14     0.051951   0.1422     0.906148   0.953704        \n",
      "    15     0.052781   0.154996   0.907235   0.954169        \n",
      "    16     0.07725    0.213882   0.849291   0.92693         \n",
      "    17     0.102559   0.184211   0.867977   0.936476        \n",
      "    18     0.088841   0.167348   0.887153   0.944666        \n",
      "    19     0.08292    0.16239    0.890154   0.945833        \n",
      "    20     0.070316   0.170082   0.89125    0.945881        \n",
      "    21     0.060329   0.157328   0.897357   0.948538        \n",
      "    22     0.055114   0.171347   0.902098   0.951278        \n",
      "    23     0.050354   0.163242   0.907215   0.953883        \n",
      "    24     0.046008   0.173832   0.910409   0.955539        \n",
      "    25     0.043753   0.17669    0.910381   0.955426        \n",
      "    26     0.041561   0.189436   0.91047    0.955347        \n",
      "    27     0.039758   0.19086    0.910294   0.955392        \n",
      "    28     0.03968    0.1925     0.910677   0.955512        \n",
      "    29     0.038893   0.193866   0.910795   0.955575        \n",
      "    30     0.038219   0.193486   0.91089    0.955618        \n",
      "_____________________________\n",
      "_____________________________\n",
      "Running fold 9 / 10\n",
      "Running on 32x32\n"
     ]
    },
    {
     "data": {
      "application/vnd.jupyter.widget-view+json": {
       "model_id": "373aa945a651451fa6ef9bfa0fba8f07",
       "version_major": 2,
       "version_minor": 0
      },
      "text/plain": [
       "HBox(children=(IntProgress(value=0, description='Epoch', max=8), HTML(value='')))"
      ]
     },
     "metadata": {},
     "output_type": "display_data"
    },
    {
     "name": "stdout",
     "output_type": "stream",
     "text": [
      "epoch      trn_loss   val_loss   dice       <lambda>       \n",
      "    0      0.349859   0.325953   0.697565   0.879828  \n",
      "    1      0.295557   0.360813   0.712346   0.871756       \n",
      "    2      0.256574   0.247569   0.799794   0.910583       \n",
      "    3      0.234098   0.23169    0.796766   0.911221       \n",
      "    4      0.213853   0.23858    0.773811   0.903619       \n",
      "    5      0.193726   0.248481   0.797967   0.905844       \n",
      "    6      0.172054   0.219602   0.804048   0.913034       \n",
      "    7      0.154516   0.229529   0.799754   0.911316       \n"
     ]
    },
    {
     "data": {
      "application/vnd.jupyter.widget-view+json": {
       "model_id": "c07e8b030ba047ce9c4dac1209d4b82d",
       "version_major": 2,
       "version_minor": 0
      },
      "text/plain": [
       "HBox(children=(IntProgress(value=0, description='Epoch', max=20), HTML(value='')))"
      ]
     },
     "metadata": {},
     "output_type": "display_data"
    },
    {
     "name": "stdout",
     "output_type": "stream",
     "text": [
      "epoch      trn_loss   val_loss   dice       <lambda>       \n",
      "    0      0.203777   0.271596   0.7673     0.896112  \n",
      "    1      0.203716   0.237705   0.776211   0.907385       \n",
      "    2      0.210613   0.256846   0.760434   0.900247       \n",
      "    3      0.207293   0.244733   0.790814   0.911298       \n",
      "    4      0.187267   0.248169   0.765234   0.904953       \n",
      "    5      0.172313   0.267477   0.777511   0.906461       \n",
      "    6      0.1581     0.22188    0.808305   0.916879       \n",
      "    7      0.14884    0.242762   0.788545   0.908905       \n",
      "    8      0.136109   0.240477   0.788294   0.912747       \n",
      "    9      0.116525   0.244339   0.812252   0.915207       \n",
      "    10     0.101461   0.239348   0.821486   0.920352       \n",
      "    11     0.090799   0.270158   0.819379   0.915872        \n",
      "    12     0.085462   0.258638   0.808865   0.915207        \n",
      "    13     0.083769   0.249455   0.817647   0.917117        \n",
      "    14     0.076765   0.257985   0.825446   0.920563        \n",
      "    15     0.068984   0.281099   0.816281   0.91579         \n",
      "    16     0.063464   0.277943   0.822429   0.918903        \n",
      "    17     0.059147   0.297466   0.819558   0.916351        \n",
      "    18     0.056039   0.298976   0.822577   0.918799        \n",
      "    19     0.05384    0.29753    0.820857   0.917856        \n",
      "Running on 64x64\n"
     ]
    },
    {
     "data": {
      "application/vnd.jupyter.widget-view+json": {
       "model_id": "b4ba9f10f5854279ae2fb15f59800994",
       "version_major": 2,
       "version_minor": 0
      },
      "text/plain": [
       "HBox(children=(IntProgress(value=0, description='Epoch', max=10), HTML(value='')))"
      ]
     },
     "metadata": {},
     "output_type": "display_data"
    },
    {
     "name": "stdout",
     "output_type": "stream",
     "text": [
      "epoch      trn_loss   val_loss   dice       <lambda>       \n",
      "    0      0.281721   0.222211   0.787189   0.909817  \n",
      "    1      0.218691   0.205882   0.824348   0.922149       \n",
      "    2      0.185622   0.195769   0.834055   0.924447       \n",
      "    3      0.160498   0.21581    0.821636   0.923466       \n",
      "    4      0.145764   0.188511   0.818146   0.923271       \n",
      "    5      0.137889   0.216629   0.841677   0.923193       \n",
      "    6      0.126994   0.186962   0.847597   0.931114       \n",
      "    7      0.112734   0.189241   0.846452   0.931967       \n",
      "    8      0.10011    0.203096   0.848019   0.92953        \n",
      "    9      0.090172   0.201168   0.857651   0.93614         \n"
     ]
    },
    {
     "data": {
      "application/vnd.jupyter.widget-view+json": {
       "model_id": "c22c6db76e8a458f998bce4bce682d6f",
       "version_major": 2,
       "version_minor": 0
      },
      "text/plain": [
       "HBox(children=(IntProgress(value=0, description='Epoch', max=8), HTML(value='')))"
      ]
     },
     "metadata": {},
     "output_type": "display_data"
    },
    {
     "name": "stdout",
     "output_type": "stream",
     "text": [
      "epoch      trn_loss   val_loss   dice       <lambda>        \n",
      "    0      0.118017   0.188148   0.852533   0.931254  \n",
      "    1      0.135078   0.193635   0.847188   0.931161       \n",
      "    2      0.124534   0.213812   0.850108   0.932367       \n",
      "    3      0.109577   0.235773   0.826186   0.924682       \n",
      "    4      0.091793   0.219688   0.855872   0.933775        \n",
      "    5      0.075519   0.223492   0.852072   0.9315          \n",
      "    6      0.067844   0.212376   0.854015   0.932098        \n",
      "    7      0.060776   0.222382   0.859283   0.935246        \n",
      "Running on 128x128\n"
     ]
    },
    {
     "data": {
      "application/vnd.jupyter.widget-view+json": {
       "model_id": "20b4bf30ffb04e0892c893854289e1ad",
       "version_major": 2,
       "version_minor": 0
      },
      "text/plain": [
       "HBox(children=(IntProgress(value=0, description='Epoch', max=6), HTML(value='')))"
      ]
     },
     "metadata": {},
     "output_type": "display_data"
    },
    {
     "name": "stdout",
     "output_type": "stream",
     "text": [
      "epoch      trn_loss   val_loss   dice       <lambda>       \n",
      "    0      0.195629   0.218454   0.818279   0.916584  \n",
      "    1      0.184335   0.183212   0.848379   0.932          \n",
      "    2      0.162988   0.196512   0.836412   0.925342       \n",
      "    3      0.146399   0.177673   0.845378   0.930862       \n",
      "    4      0.133337   0.189056   0.847804   0.932478       \n",
      "    5      0.119553   0.20327    0.84044    0.924967       \n"
     ]
    },
    {
     "data": {
      "application/vnd.jupyter.widget-view+json": {
       "model_id": "780e67d3f7d44c49b155314fc0531b50",
       "version_major": 2,
       "version_minor": 0
      },
      "text/plain": [
       "HBox(children=(IntProgress(value=0, description='Epoch', max=8), HTML(value='')))"
      ]
     },
     "metadata": {},
     "output_type": "display_data"
    },
    {
     "name": "stdout",
     "output_type": "stream",
     "text": [
      "epoch      trn_loss   val_loss   dice       <lambda>       \n",
      "    0      0.157321   0.177409   0.842754   0.929408  \n",
      "    1      0.149784   0.184602   0.835766   0.926238       \n",
      "    2      0.140285   0.169171   0.869522   0.940707       \n",
      "    3      0.125845   0.183129   0.862242   0.935912       \n",
      "    4      0.114781   0.181259   0.853112   0.933563       \n",
      "    5      0.101735   0.16465    0.868129   0.940233       \n",
      "    6      0.086842   0.177473   0.861892   0.937131        \n",
      "    7      0.077389   0.181155   0.863313   0.938602        \n"
     ]
    },
    {
     "data": {
      "application/vnd.jupyter.widget-view+json": {
       "model_id": "a3e6e763595f42578b6b7abf5697167f",
       "version_major": 2,
       "version_minor": 0
      },
      "text/plain": [
       "HBox(children=(IntProgress(value=0, description='Epoch', max=31), HTML(value='')))"
      ]
     },
     "metadata": {},
     "output_type": "display_data"
    },
    {
     "name": "stdout",
     "output_type": "stream",
     "text": [
      "epoch      trn_loss   val_loss   dice       <lambda>       \n",
      "    0      0.123906   0.165757   0.863509   0.937768  \n",
      "    1      0.121278   0.160844   0.873096   0.941831       \n",
      "    2      0.10331    0.166206   0.861771   0.937236       \n",
      "    3      0.124547   0.227604   0.817793   0.918654       \n",
      "    4      0.122574   0.178978   0.866681   0.940459       \n",
      "    5      0.104178   0.174489   0.866246   0.938248       \n",
      "    6      0.086866   0.176561   0.864342   0.938326        \n",
      "    7      0.108859   0.168044   0.862166   0.937016        \n",
      "    8      0.104575   0.18173    0.851769   0.932829       \n",
      "    9      0.095096   0.204089   0.839521   0.928511        \n",
      "    10     0.083378   0.190302   0.870841   0.939757        \n",
      "    11     0.071633   0.176942   0.872264   0.941122        \n",
      "    12     0.061833   0.193723   0.871385   0.941088        \n",
      "    13     0.05639    0.183402   0.875725   0.942885        \n",
      "    14     0.053535   0.184494   0.875588   0.942794        \n",
      "    15     0.080496   0.168432   0.859276   0.936108        \n",
      "    16     0.087822   0.240332   0.851631   0.929819        \n",
      "    17     0.089734   0.18829    0.846554   0.932511        \n",
      "    18     0.07725    0.220806   0.854996   0.934562        \n",
      "    19     0.068798   0.188681   0.869608   0.938214        \n",
      "    20     0.061775   0.17554    0.877208   0.943362        \n",
      "    21     0.056282   0.1864     0.86634    0.939803        \n",
      "    22     0.050216   0.210913   0.876714   0.94297         \n",
      "    23     0.046668   0.201427   0.8715     0.942238        \n",
      "    24     0.043925   0.209261   0.866403   0.939613        \n",
      "    25     0.041003   0.21305    0.871391   0.942016        \n",
      "    26     0.039887   0.209341   0.871252   0.941946        \n",
      "    27     0.038444   0.213923   0.870036   0.941287        \n",
      "    28     0.038382   0.217454   0.870928   0.941708        \n",
      "    29     0.037187   0.218248   0.87087    0.941678        \n",
      "    30     0.036956   0.218944   0.870855   0.941675        \n",
      "_____________________________\n",
      "_____________________________\n",
      "Running fold 10 / 10\n",
      "Running on 32x32\n"
     ]
    },
    {
     "data": {
      "application/vnd.jupyter.widget-view+json": {
       "model_id": "2ba0654245ea425c894057d61f97eaf6",
       "version_major": 2,
       "version_minor": 0
      },
      "text/plain": [
       "HBox(children=(IntProgress(value=0, description='Epoch', max=8), HTML(value='')))"
      ]
     },
     "metadata": {},
     "output_type": "display_data"
    },
    {
     "name": "stdout",
     "output_type": "stream",
     "text": [
      "epoch      trn_loss   val_loss   dice       <lambda>       \n",
      "    0      0.323349   0.345083   0.776774   0.895749  \n",
      "    1      0.277897   0.344111   0.776044   0.881796       \n",
      "    2      0.248275   0.281775   0.819481   0.909705       \n",
      "    3      0.222752   0.22436    0.829927   0.922974       \n",
      "    4      0.204514   0.206821   0.841528   0.928726       \n",
      "    5      0.190755   0.223632   0.827718   0.920285       \n",
      "    6      0.1745     0.218606   0.84239    0.926871       \n",
      "    7      0.158719   0.203953   0.843427   0.929898       \n"
     ]
    },
    {
     "data": {
      "application/vnd.jupyter.widget-view+json": {
       "model_id": "3e2630353ab442f3838e4bb7b275c37a",
       "version_major": 2,
       "version_minor": 0
      },
      "text/plain": [
       "HBox(children=(IntProgress(value=0, description='Epoch', max=20), HTML(value='')))"
      ]
     },
     "metadata": {},
     "output_type": "display_data"
    },
    {
     "name": "stdout",
     "output_type": "stream",
     "text": [
      "epoch      trn_loss   val_loss   dice       <lambda>       \n",
      "    0      0.197489   0.220295   0.805414   0.917529  \n",
      "    1      0.218447   0.323377   0.582278   0.852396       \n",
      "    2      0.249164   0.258337   0.754208   0.899048       \n",
      "    3      0.226741   0.204203   0.832259   0.924539       \n",
      "    4      0.1971     0.207942   0.845978   0.92785        \n",
      "    5      0.179689   0.21367    0.833798   0.924246       \n",
      "    6      0.163851   0.220206   0.836095   0.926657       \n",
      "    7      0.163078   0.219425   0.813681   0.918842       \n",
      "    8      0.141074   0.211457   0.852633   0.931915       \n",
      "    9      0.119774   0.231492   0.84562    0.926831       \n",
      "    10     0.129101   0.241287   0.824979   0.915564       \n",
      "    11     0.12437    0.25623    0.812617   0.91756        \n",
      "    12     0.119774   0.204116   0.847529   0.93187        \n",
      "    13     0.104476   0.236699   0.846766   0.928061       \n",
      "    14     0.090364   0.229173   0.850767   0.933533        \n",
      "    15     0.081262   0.23944    0.857014   0.936084        \n",
      "    16     0.073099   0.260513   0.850891   0.931158        \n",
      "    17     0.069781   0.244513   0.855442   0.934265        \n",
      "    18     0.065488   0.276897   0.845077   0.928235        \n",
      "    19     0.062447   0.276014   0.853377   0.933234        \n",
      "Running on 64x64\n"
     ]
    },
    {
     "data": {
      "application/vnd.jupyter.widget-view+json": {
       "model_id": "66a7d38fd62c4481bc265c185b012ed1",
       "version_major": 2,
       "version_minor": 0
      },
      "text/plain": [
       "HBox(children=(IntProgress(value=0, description='Epoch', max=10), HTML(value='')))"
      ]
     },
     "metadata": {},
     "output_type": "display_data"
    },
    {
     "name": "stdout",
     "output_type": "stream",
     "text": [
      "epoch      trn_loss   val_loss   dice       <lambda>       \n",
      "    0      0.269395   0.221656   0.789466   0.908231  \n",
      "    1      0.209678   0.205789   0.826995   0.923531       \n",
      "    2      0.191558   0.190421   0.844426   0.930621       \n",
      "    3      0.177054   0.203946   0.836679   0.923941       \n",
      "    4      0.157565   0.204837   0.844845   0.928118       \n",
      "    5      0.146972   0.184864   0.844546   0.930635       \n",
      "    6      0.132351   0.185318   0.851983   0.935136       \n",
      "    7      0.122109   0.189178   0.842185   0.931175       \n",
      "    8      0.111884   0.202641   0.858281   0.933965       \n",
      "    9      0.102696   0.208877   0.855422   0.935162       \n"
     ]
    },
    {
     "data": {
      "application/vnd.jupyter.widget-view+json": {
       "model_id": "2f01d45de0024ca39c3644dee0658eba",
       "version_major": 2,
       "version_minor": 0
      },
      "text/plain": [
       "HBox(children=(IntProgress(value=0, description='Epoch', max=8), HTML(value='')))"
      ]
     },
     "metadata": {},
     "output_type": "display_data"
    },
    {
     "name": "stdout",
     "output_type": "stream",
     "text": [
      "epoch      trn_loss   val_loss   dice       <lambda>        \n",
      "    0      0.129801   0.214773   0.810795   0.918486  \n",
      "    1      0.13114    0.212739   0.829393   0.923864       \n",
      "    2      0.117762   0.207923   0.849599   0.934304       \n",
      "    3      0.104265   0.178365   0.875507   0.942921       \n",
      "    4      0.090305   0.182195   0.87234    0.940188        \n",
      "    5      0.081244   0.221156   0.855554   0.934892        \n",
      "    6      0.072053   0.182698   0.874676   0.94329         \n",
      "    7      0.064224   0.195585   0.8732     0.942382        \n",
      "Running on 128x128\n"
     ]
    },
    {
     "data": {
      "application/vnd.jupyter.widget-view+json": {
       "model_id": "433e9d5178784fc190d579c9e5adce45",
       "version_major": 2,
       "version_minor": 0
      },
      "text/plain": [
       "HBox(children=(IntProgress(value=0, description='Epoch', max=6), HTML(value='')))"
      ]
     },
     "metadata": {},
     "output_type": "display_data"
    },
    {
     "name": "stdout",
     "output_type": "stream",
     "text": [
      "epoch      trn_loss   val_loss   dice       <lambda>       \n",
      "    0      0.200585   0.203012   0.853455   0.93143   \n",
      "    1      0.185272   0.20605    0.766503   0.906752       \n",
      "    2      0.173157   0.16239    0.866644   0.940984       \n",
      "    3      0.158941   0.169861   0.878562   0.942832       \n",
      "    4      0.144479   0.157497   0.867704   0.941636       \n",
      "    5      0.132424   0.154778   0.877518   0.945126       \n"
     ]
    },
    {
     "data": {
      "application/vnd.jupyter.widget-view+json": {
       "model_id": "dc2907336ded43adbab1492d59554ee7",
       "version_major": 2,
       "version_minor": 0
      },
      "text/plain": [
       "HBox(children=(IntProgress(value=0, description='Epoch', max=8), HTML(value='')))"
      ]
     },
     "metadata": {},
     "output_type": "display_data"
    },
    {
     "name": "stdout",
     "output_type": "stream",
     "text": [
      "epoch      trn_loss   val_loss   dice       <lambda>       \n",
      "    0      0.143131   0.167311   0.868194   0.939413  \n",
      "    1      0.140372   0.176464   0.85898    0.936988       \n",
      "    2      0.134395   0.150194   0.881922   0.946908       \n",
      "    3      0.11896    0.168956   0.85886    0.936561       \n",
      "    4      0.107015   0.183561   0.871606   0.939065       \n",
      "    5      0.093709   0.152062   0.888867   0.948771        \n",
      "    6      0.082316   0.169798   0.887817   0.948617        \n",
      "    7      0.07426    0.151531   0.898452   0.953376        \n"
     ]
    },
    {
     "data": {
      "application/vnd.jupyter.widget-view+json": {
       "model_id": "d0e64c1a3e614952ae3ea5e9d7c963d2",
       "version_major": 2,
       "version_minor": 0
      },
      "text/plain": [
       "HBox(children=(IntProgress(value=0, description='Epoch', max=31), HTML(value='')))"
      ]
     },
     "metadata": {},
     "output_type": "display_data"
    },
    {
     "name": "stdout",
     "output_type": "stream",
     "text": [
      "epoch      trn_loss   val_loss   dice       <lambda>        \n",
      "    0      0.09831    0.145967   0.889502   0.948729  \n",
      "    1      0.097559   0.135342   0.896313   0.953021        \n",
      "    2      0.080422   0.150428   0.895453   0.952751        \n",
      "    3      0.082413   0.156413   0.883735   0.947677        \n",
      "    4      0.083364   0.17135    0.885307   0.947946        \n",
      "    5      0.073131   0.161622   0.896093   0.952393        \n",
      "    6      0.06364    0.161509   0.897126   0.952944        \n",
      "    7      0.075049   0.234369   0.836751   0.92679         \n",
      "    8      0.091537   0.174387   0.885066   0.947016        \n",
      "    9      0.094695   0.178566   0.874733   0.942602        \n",
      "    10     0.082837   0.184667   0.878355   0.940497        \n",
      "    11     0.067469   0.157045   0.900827   0.95428         \n",
      "    12     0.058265   0.161319   0.905999   0.957068        \n",
      "    13     0.052942   0.161666   0.906765   0.957239        \n",
      "    14     0.050434   0.161833   0.906723   0.957247        \n",
      "    15     0.067773   0.15511    0.897692   0.953217        \n",
      "    16     0.094569   0.165651   0.860462   0.938085        \n",
      "    17     0.097052   0.157888   0.874655   0.942897        \n",
      "    18     0.088703   0.164144   0.893706   0.952023        \n",
      "    19     0.078266   0.183361   0.882008   0.944907        \n",
      "    20     0.067254   0.175754   0.901427   0.95439         \n",
      "    21     0.060479   0.167447   0.897701   0.953207        \n",
      "    22     0.054241   0.156915   0.90001    0.955014        \n",
      "    23     0.048669   0.162699   0.907258   0.957761        \n",
      "    24     0.045997   0.165741   0.90887    0.958179        \n",
      "    25     0.043412   0.168439   0.905306   0.956926        \n",
      "    26     0.042201   0.171343   0.904422   0.956476        \n",
      "    27     0.040591   0.176024   0.904774   0.95671         \n",
      "    28     0.04034    0.172141   0.905205   0.95689         \n",
      "    29     0.039342   0.174178   0.905442   0.956981        \n",
      "    30     0.038889   0.174388   0.90545    0.956982        \n",
      "_____________________________\n"
     ]
    }
   ],
   "source": [
    "kf = KFold(n_splits=nSplits, shuffle=True)\n",
    "folds = kf.split(trn_x)\n",
    "for i, (train, test) in enumerate(folds):\n",
    "    print('_____________________________')\n",
    "    print('Running fold', i+1,'/', nSplits)\n",
    "    m_base = get_base()\n",
    "    m = to_gpu(Unet34(m_base))\n",
    "    models = UnetModel(m)\n",
    "    trainModel(i, models, trn_x[train], trn_y[train], trn_x[test], trn_y[test], aug_tfms)\n",
    "    print('_____________________________')"
   ]
  },
  {
   "cell_type": "code",
   "execution_count": 33,
   "metadata": {},
   "outputs": [],
   "source": [
    "def predict(md, nSplits, models, shape, test=False):\n",
    "    probs = np.zeros(shape)\n",
    "    for i in range(nSplits):\n",
    "        learn = ConvLearner(md, models)\n",
    "        learn.load('model_'+str(i))\n",
    "        probs += learn.predict(is_test=test)\n",
    "    _, y = learn.TTA(n_aug=1, is_test=test)\n",
    "    return probs/nSplits, y "
   ]
  },
  {
   "cell_type": "markdown",
   "metadata": {},
   "source": [
    "# Test on original validation"
   ]
  },
  {
   "cell_type": "code",
   "execution_count": 34,
   "metadata": {},
   "outputs": [],
   "source": [
    "sz=128\n",
    "bs=64"
   ]
  },
  {
   "cell_type": "code",
   "execution_count": 35,
   "metadata": {},
   "outputs": [],
   "source": [
    "m_base = get_base()\n",
    "m = to_gpu(Unet34(m_base))\n",
    "models = UnetModel(m)"
   ]
  },
  {
   "cell_type": "code",
   "execution_count": 36,
   "metadata": {},
   "outputs": [],
   "source": [
    "tfms = tfms_from_model(resnet34, sz, crop_type=CropType.NO, tfm_y=TfmType.CLASS, aug_tfms=aug_tfms)\n",
    "datasets = ImageData.get_ds(MatchedFilesDataset, (trn_x,trn_y), (val_x,val_y), tfms, path=PATH)\n",
    "md = ImageData(PATH, datasets, bs, num_workers=16, classes=None)\n",
    "denorm = md.trn_ds.denorm"
   ]
  },
  {
   "cell_type": "code",
   "execution_count": 37,
   "metadata": {},
   "outputs": [
    {
     "name": "stdout",
     "output_type": "stream",
     "text": [
      "                                             \r"
     ]
    }
   ],
   "source": [
    "probs, y = predict(md, nSplits, models, (len(val_y), sz, sz))"
   ]
  },
  {
   "cell_type": "code",
   "execution_count": 38,
   "metadata": {},
   "outputs": [
    {
     "data": {
      "text/plain": [
       "((800, 128, 128), (800, 128, 128))"
      ]
     },
     "execution_count": 38,
     "metadata": {},
     "output_type": "execute_result"
    }
   ],
   "source": [
    "y.shape, probs.shape"
   ]
  },
  {
   "cell_type": "code",
   "execution_count": 39,
   "metadata": {},
   "outputs": [],
   "source": [
    "idx=0"
   ]
  },
  {
   "cell_type": "code",
   "execution_count": 40,
   "metadata": {},
   "outputs": [
    {
     "data": {
      "image/png": "[encoded data removed]",
      "text/plain": [
       "<Figure size 432x288 with 1 Axes>"
      ]
     },
     "metadata": {},
     "output_type": "display_data"
    }
   ],
   "source": [
    "show_img(probs[idx]>0.5);"
   ]
  },
  {
   "cell_type": "code",
   "execution_count": 41,
   "metadata": {},
   "outputs": [
    {
     "data": {
      "image/png": "[encoded data removed]",
      "text/plain": [
       "<Figure size 432x288 with 1 Axes>"
      ]
     },
     "metadata": {},
     "output_type": "display_data"
    }
   ],
   "source": [
    "show_img(probs[idx]);"
   ]
  },
  {
   "cell_type": "code",
   "execution_count": 42,
   "metadata": {},
   "outputs": [
    {
     "data": {
      "image/png": "[encoded data removed]",
      "text/plain": [
       "<Figure size 432x288 with 1 Axes>"
      ]
     },
     "metadata": {},
     "output_type": "display_data"
    }
   ],
   "source": [
    "show_img(y[idx]);"
   ]
  },
  {
   "cell_type": "code",
   "execution_count": 43,
   "metadata": {
    "scrolled": true
   },
   "outputs": [
    {
     "data": {
      "image/png": "[encoded data removed]",
      "text/plain": [
       "<Figure size 432x288 with 1 Axes>"
      ]
     },
     "metadata": {},
     "output_type": "display_data"
    }
   ],
   "source": [
    "show_img(x[idx][0]);"
   ]
  },
  {
   "cell_type": "markdown",
   "metadata": {},
   "source": [
    "# Optimise threshold"
   ]
  },
  {
   "cell_type": "code",
   "execution_count": 44,
   "metadata": {},
   "outputs": [],
   "source": [
    "def resize_img(fn):\n",
    "    return np.array(Image.fromarray(fn).resize((101,101)))\n",
    "\n",
    "resizePreds = np.array([resize_img(x) for x in probs])\n",
    "resizeY = np.array([resize_img(x) for x in y])"
   ]
  },
  {
   "cell_type": "code",
   "execution_count": 45,
   "metadata": {},
   "outputs": [
    {
     "data": {
      "image/png": "[encoded data removed]",
      "text/plain": [
       "<Figure size 432x288 with 1 Axes>"
      ]
     },
     "metadata": {},
     "output_type": "display_data"
    }
   ],
   "source": [
    "show_img(resizePreds[idx]);"
   ]
  },
  {
   "cell_type": "code",
   "execution_count": 46,
   "metadata": {},
   "outputs": [
    {
     "data": {
      "image/png": "[encoded data removed]",
      "text/plain": [
       "<Figure size 432x288 with 1 Axes>"
      ]
     },
     "metadata": {},
     "output_type": "display_data"
    }
   ],
   "source": [
    "show_img(resizeY[idx]);"
   ]
  },
  {
   "cell_type": "code",
   "execution_count": 47,
   "metadata": {},
   "outputs": [],
   "source": [
    "# src: https://www.kaggle.com/aglotero/another-iou-metric\n",
    "def iou_metric(y_true_in, y_pred_in, print_table=False):\n",
    "    labels = y_true_in\n",
    "    y_pred = y_pred_in\n",
    "    \n",
    "    true_objects = 2\n",
    "    pred_objects = 2\n",
    "\n",
    "    intersection = np.histogram2d(labels.flatten(), y_pred.flatten(), bins=(true_objects, pred_objects))[0]\n",
    "\n",
    "    # Compute areas (needed for finding the union between all objects)\n",
    "    area_true = np.histogram(labels, bins = true_objects)[0]\n",
    "    area_pred = np.histogram(y_pred, bins = pred_objects)[0]\n",
    "    area_true = np.expand_dims(area_true, -1)\n",
    "    area_pred = np.expand_dims(area_pred, 0)\n",
    "\n",
    "    # Compute union\n",
    "    union = area_true + area_pred - intersection\n",
    "\n",
    "    # Exclude background from the analysis\n",
    "    intersection = intersection[1:,1:]\n",
    "    union = union[1:,1:]\n",
    "    union[union == 0] = 1e-9\n",
    "\n",
    "    # Compute the intersection over union\n",
    "    iou = intersection / union\n",
    "\n",
    "    # Precision helper function\n",
    "    def precision_at(threshold, iou):\n",
    "        matches = iou > threshold\n",
    "        true_positives = np.sum(matches, axis=1) == 1   # Correct objects\n",
    "        false_positives = np.sum(matches, axis=0) == 0  # Missed objects\n",
    "        false_negatives = np.sum(matches, axis=1) == 0  # Extra objects\n",
    "        tp, fp, fn = np.sum(true_positives), np.sum(false_positives), np.sum(false_negatives)\n",
    "        return tp, fp, fn\n",
    "\n",
    "    # Loop over IoU thresholds\n",
    "    prec = []\n",
    "    if print_table:\n",
    "        print(\"Thresh\\tTP\\tFP\\tFN\\tPrec.\")\n",
    "    for t in np.arange(0.5, 1.0, 0.05):\n",
    "        tp, fp, fn = precision_at(t, iou)\n",
    "        if (tp + fp + fn) > 0:\n",
    "            p = tp / (tp + fp + fn)\n",
    "        else:\n",
    "            p = 0\n",
    "        if print_table:\n",
    "            print(\"{:1.3f}\\t{}\\t{}\\t{}\\t{:1.3f}\".format(t, tp, fp, fn, p))\n",
    "        prec.append(p)\n",
    "    \n",
    "    if print_table:\n",
    "        print(\"AP\\t-\\t-\\t-\\t{:1.3f}\".format(np.mean(prec)))\n",
    "    return np.mean(prec)\n",
    "\n",
    "def iou_metric_batch(y_true_in, y_pred_in):\n",
    "    batch_size = y_true_in.shape[0]\n",
    "    metric = []\n",
    "    for batch in range(batch_size):\n",
    "        value = iou_metric(y_true_in[batch], y_pred_in[batch])\n",
    "        metric.append(value)\n",
    "    return np.mean(metric)"
   ]
  },
  {
   "cell_type": "code",
   "execution_count": 73,
   "metadata": {},
   "outputs": [
    {
     "data": {
      "application/vnd.jupyter.widget-view+json": {
       "model_id": "f74ff7e166c044889a13561770882c9d",
       "version_major": 2,
       "version_minor": 0
      },
      "text/plain": [
       "HBox(children=(IntProgress(value=0, max=10), HTML(value='')))"
      ]
     },
     "metadata": {},
     "output_type": "display_data"
    },
    {
     "name": "stdout",
     "output_type": "stream",
     "text": [
      "\n"
     ]
    }
   ],
   "source": [
    "thres = np.linspace(-1, 1, 10)\n",
    "thres_ioc = [iou_metric_batch(resizeY, np.int32(resizePreds > t)) for t in tqdm_notebook(thres)]"
   ]
  },
  {
   "cell_type": "code",
   "execution_count": 74,
   "metadata": {},
   "outputs": [
    {
     "data": {
      "image/png": "[encoded data removed]",
      "text/plain": [
       "<Figure size 432x288 with 1 Axes>"
      ]
     },
     "metadata": {},
     "output_type": "display_data"
    }
   ],
   "source": [
    "plt.plot(thres, thres_ioc);"
   ]
  },
  {
   "cell_type": "code",
   "execution_count": 75,
   "metadata": {},
   "outputs": [
    {
     "data": {
      "text/plain": [
       "(-0.11111111111111116, 0.8113749999999998)"
      ]
     },
     "execution_count": 75,
     "metadata": {},
     "output_type": "execute_result"
    }
   ],
   "source": [
    "best_thres = thres[np.argmax(thres_ioc)]\n",
    "best_thres, max(thres_ioc)"
   ]
  },
  {
   "cell_type": "code",
   "execution_count": 76,
   "metadata": {},
   "outputs": [
    {
     "data": {
      "application/vnd.jupyter.widget-view+json": {
       "model_id": "be4c761a109f438cae90b538fa67cd60",
       "version_major": 2,
       "version_minor": 0
      },
      "text/plain": [
       "HBox(children=(IntProgress(value=0, max=50), HTML(value='')))"
      ]
     },
     "metadata": {},
     "output_type": "display_data"
    },
    {
     "name": "stdout",
     "output_type": "stream",
     "text": [
      "\n"
     ]
    }
   ],
   "source": [
    "thres = np.linspace(-0.75, 0.25, 50)\n",
    "thres_ioc = [iou_metric_batch(resizeY, np.int32(resizePreds > t)) for t in tqdm_notebook(thres)]"
   ]
  },
  {
   "cell_type": "code",
   "execution_count": 77,
   "metadata": {},
   "outputs": [
    {
     "data": {
      "image/png": "[encoded data removed]",
      "text/plain": [
       "<Figure size 432x288 with 1 Axes>"
      ]
     },
     "metadata": {},
     "output_type": "display_data"
    }
   ],
   "source": [
    "plt.plot(thres, thres_ioc);"
   ]
  },
  {
   "cell_type": "code",
   "execution_count": 78,
   "metadata": {
    "scrolled": true
   },
   "outputs": [
    {
     "data": {
      "text/plain": [
       "(-0.2193877551020409, 0.81375)"
      ]
     },
     "execution_count": 78,
     "metadata": {},
     "output_type": "execute_result"
    }
   ],
   "source": [
    "best_thres = thres[np.argmax(thres_ioc)]\n",
    "best_thres, max(thres_ioc)"
   ]
  },
  {
   "cell_type": "code",
   "execution_count": 79,
   "metadata": {},
   "outputs": [],
   "source": [
    "best_thres=-0.2193877551020409"
   ]
  },
  {
   "cell_type": "code",
   "execution_count": 80,
   "metadata": {},
   "outputs": [
    {
     "data": {
      "image/png": "[encoded data removed]",
      "text/plain": [
       "<Figure size 432x288 with 1 Axes>"
      ]
     },
     "metadata": {},
     "output_type": "display_data"
    }
   ],
   "source": [
    "show_img(resizePreds[0]>best_thres);"
   ]
  },
  {
   "cell_type": "markdown",
   "metadata": {},
   "source": [
    "# Run on test"
   ]
  },
  {
   "cell_type": "code",
   "execution_count": 81,
   "metadata": {},
   "outputs": [],
   "source": [
    "sz=128\n",
    "bs=64"
   ]
  },
  {
   "cell_type": "code",
   "execution_count": 82,
   "metadata": {},
   "outputs": [],
   "source": [
    "(PATH/'test-128').mkdir(exist_ok=True)"
   ]
  },
  {
   "cell_type": "code",
   "execution_count": 83,
   "metadata": {},
   "outputs": [],
   "source": [
    "def resize_img(fn):\n",
    "    Image.open(fn).resize((128,128)).save((fn.parent.parent)/'test-128'/fn.name)\n",
    "\n",
    "files = list((PATH/'test').iterdir())\n",
    "with ThreadPoolExecutor(8) as e: e.map(resize_img, files)"
   ]
  },
  {
   "cell_type": "code",
   "execution_count": 84,
   "metadata": {},
   "outputs": [],
   "source": [
    "testData = np.array(glob(f'{PATH}/test-128/*'))"
   ]
  },
  {
   "cell_type": "code",
   "execution_count": 85,
   "metadata": {},
   "outputs": [],
   "source": [
    "class TestFilesDataset(FilesDataset):\n",
    "    def __init__(self, fnames, y, transform, path):\n",
    "        self.y=y\n",
    "        assert(len(fnames)==len(y))\n",
    "        super().__init__(fnames, transform, path)\n",
    "    def get_y(self, i): return open_image(os.path.join(self.path, self.fnames[i]))\n",
    "    def get_c(self): return 0"
   ]
  },
  {
   "cell_type": "code",
   "execution_count": 86,
   "metadata": {},
   "outputs": [],
   "source": [
    "tfms=tfms_from_model(resnet34, sz, crop_type=CropType.NO, tfm_y=TfmType.CLASS, aug_tfms=aug_tfms)\n",
    "datasets = ImageData.get_ds(TestFilesDataset, (trn_x,trn_y), (val_x,val_y), tfms, test=testData, path=PATH)\n",
    "md = ImageData(PATH, datasets, bs, num_workers=16, classes=None)\n",
    "denorm = md.trn_ds.denorm"
   ]
  },
  {
   "cell_type": "code",
   "execution_count": 87,
   "metadata": {},
   "outputs": [],
   "source": [
    "m_base = get_base()\n",
    "m = to_gpu(Unet34(m_base))\n",
    "models = UnetModel(m)"
   ]
  },
  {
   "cell_type": "code",
   "execution_count": 88,
   "metadata": {},
   "outputs": [],
   "source": [
    "learn = ConvLearner(md, models)"
   ]
  },
  {
   "cell_type": "code",
   "execution_count": 89,
   "metadata": {},
   "outputs": [],
   "source": [
    "learn.load('model_4')"
   ]
  },
  {
   "cell_type": "code",
   "execution_count": 90,
   "metadata": {},
   "outputs": [],
   "source": [
    "x,y = next(iter(md.test_dl))\n",
    "py = to_np(learn.model(V(x)))"
   ]
  },
  {
   "cell_type": "code",
   "execution_count": 91,
   "metadata": {},
   "outputs": [
    {
     "data": {
      "text/plain": [
       "torch.Size([64, 3, 128, 128])"
      ]
     },
     "execution_count": 91,
     "metadata": {},
     "output_type": "execute_result"
    }
   ],
   "source": [
    "x.shape"
   ]
  },
  {
   "cell_type": "code",
   "execution_count": 92,
   "metadata": {},
   "outputs": [
    {
     "data": {
      "image/png": "[encoded data removed]",
      "text/plain": [
       "<Figure size 432x288 with 1 Axes>"
      ]
     },
     "metadata": {},
     "output_type": "display_data"
    }
   ],
   "source": [
    "show_img(py[6]>best_thres);"
   ]
  },
  {
   "cell_type": "code",
   "execution_count": 93,
   "metadata": {},
   "outputs": [
    {
     "data": {
      "image/png": "[encoded data removed]",
      "text/plain": [
       "<Figure size 432x288 with 1 Axes>"
      ]
     },
     "metadata": {},
     "output_type": "display_data"
    }
   ],
   "source": [
    "show_img(py[6]);"
   ]
  },
  {
   "cell_type": "code",
   "execution_count": 94,
   "metadata": {},
   "outputs": [
    {
     "data": {
      "image/png": "[encoded data removed]",
      "text/plain": [
       "<Figure size 432x288 with 1 Axes>"
      ]
     },
     "metadata": {},
     "output_type": "display_data"
    }
   ],
   "source": [
    "show_img(y[6]);"
   ]
  },
  {
   "cell_type": "code",
   "execution_count": 95,
   "metadata": {},
   "outputs": [
    {
     "data": {
      "text/plain": [
       "(64, 128, 128)"
      ]
     },
     "execution_count": 95,
     "metadata": {},
     "output_type": "execute_result"
    }
   ],
   "source": [
    "py.shape"
   ]
  },
  {
   "cell_type": "code",
   "execution_count": 97,
   "metadata": {},
   "outputs": [
    {
     "name": "stdout",
     "output_type": "stream",
     "text": [
      "                                             \r"
     ]
    }
   ],
   "source": [
    "probs, y = predict(md, nSplits, models, (len(testData), sz, sz), test=True)"
   ]
  },
  {
   "cell_type": "code",
   "execution_count": 101,
   "metadata": {},
   "outputs": [
    {
     "data": {
      "image/png": "[encoded data removed]",
      "text/plain": [
       "<Figure size 432x288 with 1 Axes>"
      ]
     },
     "metadata": {},
     "output_type": "display_data"
    }
   ],
   "source": [
    "show_img(probs[6]>best_thres);"
   ]
  },
  {
   "cell_type": "code",
   "execution_count": 102,
   "metadata": {},
   "outputs": [
    {
     "data": {
      "image/png": "[encoded data removed]",
      "text/plain": [
       "<Figure size 432x288 with 1 Axes>"
      ]
     },
     "metadata": {},
     "output_type": "display_data"
    }
   ],
   "source": [
    "show_img(probs[6]);"
   ]
  },
  {
   "cell_type": "code",
   "execution_count": 103,
   "metadata": {},
   "outputs": [
    {
     "data": {
      "image/png": "[encoded data removed]",
      "text/plain": [
       "<Figure size 432x288 with 1 Axes>"
      ]
     },
     "metadata": {},
     "output_type": "display_data"
    }
   ],
   "source": [
    "show_img(y[6]);"
   ]
  },
  {
   "cell_type": "code",
   "execution_count": 104,
   "metadata": {},
   "outputs": [],
   "source": [
    "def resize_img(fn):\n",
    "    return np.array(Image.fromarray(fn).resize((101,101)))\n",
    "\n",
    "resizePreds = np.array([resize_img(x) for x in probs])"
   ]
  },
  {
   "cell_type": "code",
   "execution_count": 105,
   "metadata": {},
   "outputs": [
    {
     "data": {
      "text/plain": [
       "(18000, 101, 101)"
      ]
     },
     "execution_count": 105,
     "metadata": {},
     "output_type": "execute_result"
    }
   ],
   "source": [
    "resizePreds.shape"
   ]
  },
  {
   "cell_type": "code",
   "execution_count": 106,
   "metadata": {},
   "outputs": [
    {
     "data": {
      "image/png": "[encoded data removed]",
      "text/plain": [
       "<Figure size 432x288 with 1 Axes>"
      ]
     },
     "metadata": {},
     "output_type": "display_data"
    }
   ],
   "source": [
    "show_img(resizePreds[6]);"
   ]
  },
  {
   "cell_type": "code",
   "execution_count": 107,
   "metadata": {},
   "outputs": [
    {
     "data": {
      "text/plain": [
       "array(['/home/giles/Downloads/fastai_data/salt/test-128/ac26efe98e.png',\n",
       "       '/home/giles/Downloads/fastai_data/salt/test-128/0a5eac8775.png',\n",
       "       '/home/giles/Downloads/fastai_data/salt/test-128/bdb1c1fcbf.png', ...,\n",
       "       '/home/giles/Downloads/fastai_data/salt/test-128/3bceaa0303.png',\n",
       "       '/home/giles/Downloads/fastai_data/salt/test-128/96867a3897.png',\n",
       "       '/home/giles/Downloads/fastai_data/salt/test-128/52f6267e3f.png'], dtype='<U62')"
      ]
     },
     "execution_count": 107,
     "metadata": {},
     "output_type": "execute_result"
    }
   ],
   "source": [
    "testData"
   ]
  },
  {
   "cell_type": "code",
   "execution_count": 108,
   "metadata": {},
   "outputs": [
    {
     "data": {
      "text/plain": [
       "'/home/giles/Downloads/fastai_data/salt/test'"
      ]
     },
     "execution_count": 108,
     "metadata": {},
     "output_type": "execute_result"
    }
   ],
   "source": [
    "f'{PATH}/test'"
   ]
  },
  {
   "cell_type": "code",
   "execution_count": 109,
   "metadata": {},
   "outputs": [],
   "source": [
    "test_ids = next(os.walk(f'{PATH}/test'))[2]"
   ]
  },
  {
   "cell_type": "code",
   "execution_count": 110,
   "metadata": {},
   "outputs": [],
   "source": [
    "def RLenc(img, order='F', format=True):\n",
    "    \"\"\"\n",
    "    img is binary mask image, shape (r,c)\n",
    "    order is down-then-right, i.e. Fortran\n",
    "    format determines if the order needs to be preformatted (according to submission rules) or not\n",
    "\n",
    "    returns run length as an array or string (if format is True)\n",
    "    \"\"\"\n",
    "    bytes = img.reshape(img.shape[0] * img.shape[1], order=order)\n",
    "    runs = []  ## list of run lengths\n",
    "    r = 0  ## the current run length\n",
    "    pos = 1  ## count starts from 1 per WK\n",
    "    for c in bytes:\n",
    "        if (c == 0):\n",
    "            if r != 0:\n",
    "                runs.append((pos, r))\n",
    "                pos += r\n",
    "                r = 0\n",
    "            pos += 1\n",
    "        else:\n",
    "            r += 1\n",
    "\n",
    "    # if last run is unsaved (i.e. data ends with 1)\n",
    "    if r != 0:\n",
    "        runs.append((pos, r))\n",
    "        pos += r\n",
    "        r = 0\n",
    "\n",
    "    if format:\n",
    "        z = ''\n",
    "\n",
    "        for rr in runs:\n",
    "            z += '{} {} '.format(rr[0], rr[1])\n",
    "        return z[:-1]\n",
    "    else:\n",
    "        return runs"
   ]
  },
  {
   "cell_type": "code",
   "execution_count": 111,
   "metadata": {},
   "outputs": [
    {
     "data": {
      "application/vnd.jupyter.widget-view+json": {
       "model_id": "e73e909eab174b9388cd9b5c2cdda1ed",
       "version_major": 2,
       "version_minor": 0
      },
      "text/plain": [
       "HBox(children=(IntProgress(value=1, bar_style='info', max=1), HTML(value='')))"
      ]
     },
     "metadata": {},
     "output_type": "display_data"
    },
    {
     "name": "stdout",
     "output_type": "stream",
     "text": [
      "\n"
     ]
    }
   ],
   "source": [
    "pred_dict = {id_[:-4]:RLenc(np.round(resizePreds[i] > best_thres)) for i,id_ in tqdm_notebook(enumerate(test_ids))}"
   ]
  },
  {
   "cell_type": "code",
   "execution_count": 112,
   "metadata": {},
   "outputs": [],
   "source": [
    "sub = pd.DataFrame.from_dict(pred_dict,orient='index')\n",
    "sub.index.names = ['id']\n",
    "sub.columns = ['rle_mask']\n",
    "sub.to_csv('submission.csv')"
   ]
  },
  {
   "cell_type": "code",
   "execution_count": 113,
   "metadata": {},
   "outputs": [
    {
     "data": {
      "text/html": [
       "<div>\n",
       "<style scoped>\n",
       "    .dataframe tbody tr th:only-of-type {\n",
       "        vertical-align: middle;\n",
       "    }\n",
       "\n",
       "    .dataframe tbody tr th {\n",
       "        vertical-align: top;\n",
       "    }\n",
       "\n",
       "    .dataframe thead th {\n",
       "        text-align: right;\n",
       "    }\n",
       "</style>\n",
       "<table border=\"1\" class=\"dataframe\">\n",
       "  <thead>\n",
       "    <tr style=\"text-align: right;\">\n",
       "      <th></th>\n",
       "      <th>rle_mask</th>\n",
       "    </tr>\n",
       "    <tr>\n",
       "      <th>id</th>\n",
       "      <th></th>\n",
       "    </tr>\n",
       "  </thead>\n",
       "  <tbody>\n",
       "    <tr>\n",
       "      <th>ac26efe98e</th>\n",
       "      <td>1 43 102 43 203 43 304 42 405 42 506 41 607 39...</td>\n",
       "    </tr>\n",
       "    <tr>\n",
       "      <th>0a5eac8775</th>\n",
       "      <td></td>\n",
       "    </tr>\n",
       "    <tr>\n",
       "      <th>bdb1c1fcbf</th>\n",
       "      <td></td>\n",
       "    </tr>\n",
       "    <tr>\n",
       "      <th>5358961921</th>\n",
       "      <td></td>\n",
       "    </tr>\n",
       "    <tr>\n",
       "      <th>b7b72a69d1</th>\n",
       "      <td></td>\n",
       "    </tr>\n",
       "    <tr>\n",
       "      <th>c1169d47ce</th>\n",
       "      <td></td>\n",
       "    </tr>\n",
       "    <tr>\n",
       "      <th>89eb8ef89f</th>\n",
       "      <td>6464 1 6564 2 6665 2 6765 3 6865 4 6965 5 7066...</td>\n",
       "    </tr>\n",
       "    <tr>\n",
       "      <th>696d91b37e</th>\n",
       "      <td></td>\n",
       "    </tr>\n",
       "    <tr>\n",
       "      <th>73053e4d03</th>\n",
       "      <td>1 2 102 2 203 3 207 2 304 6 405 7 506 10 607 1...</td>\n",
       "    </tr>\n",
       "    <tr>\n",
       "      <th>68dd1c44ae</th>\n",
       "      <td></td>\n",
       "    </tr>\n",
       "    <tr>\n",
       "      <th>6ba0ff2b77</th>\n",
       "      <td></td>\n",
       "    </tr>\n",
       "    <tr>\n",
       "      <th>b2d2951f0e</th>\n",
       "      <td>6364 13 6465 13 6566 13 6667 13 6768 13 6869 1...</td>\n",
       "    </tr>\n",
       "    <tr>\n",
       "      <th>0642eb11c7</th>\n",
       "      <td>3331 3 3431 4 3527 1 3529 7 3628 9 3726 12 382...</td>\n",
       "    </tr>\n",
       "    <tr>\n",
       "      <th>285c426094</th>\n",
       "      <td>3723 2 3729 6 3736 2 3821 18 3916 24 4010 31 4...</td>\n",
       "    </tr>\n",
       "    <tr>\n",
       "      <th>750bd2308b</th>\n",
       "      <td>7 35 108 37 209 44 310 47 412 56 512 63 613 70...</td>\n",
       "    </tr>\n",
       "    <tr>\n",
       "      <th>b8f80587f1</th>\n",
       "      <td>3031 2 3132 2 3233 6 3334 8 3435 9 3536 9 3637...</td>\n",
       "    </tr>\n",
       "    <tr>\n",
       "      <th>b23429fadf</th>\n",
       "      <td></td>\n",
       "    </tr>\n",
       "    <tr>\n",
       "      <th>adecc7ecaa</th>\n",
       "      <td>1 50 102 47 203 45 304 43 405 40 506 36 607 30...</td>\n",
       "    </tr>\n",
       "    <tr>\n",
       "      <th>e1cbce6620</th>\n",
       "      <td>1 65 102 66 203 69 304 69 405 71 506 72 607 73...</td>\n",
       "    </tr>\n",
       "    <tr>\n",
       "      <th>74a3b69852</th>\n",
       "      <td>63 39 164 39 263 41 363 42 463 43 564 43 661 4...</td>\n",
       "    </tr>\n",
       "    <tr>\n",
       "      <th>b0c2b9a9f2</th>\n",
       "      <td></td>\n",
       "    </tr>\n",
       "    <tr>\n",
       "      <th>4e89a48b43</th>\n",
       "      <td>96 6 199 4 301 3 404 1 505 1 606 1 707 1</td>\n",
       "    </tr>\n",
       "    <tr>\n",
       "      <th>85813f234e</th>\n",
       "      <td>16 86 116 87 216 88 318 87 419 87 520 87 620 8...</td>\n",
       "    </tr>\n",
       "    <tr>\n",
       "      <th>28708ca79f</th>\n",
       "      <td></td>\n",
       "    </tr>\n",
       "    <tr>\n",
       "      <th>593e0e741f</th>\n",
       "      <td></td>\n",
       "    </tr>\n",
       "    <tr>\n",
       "      <th>10af7026ff</th>\n",
       "      <td>1 6965 6970 88 7071 84 7172 80 7273 77 7374 69...</td>\n",
       "    </tr>\n",
       "    <tr>\n",
       "      <th>18606906bc</th>\n",
       "      <td></td>\n",
       "    </tr>\n",
       "    <tr>\n",
       "      <th>17a5a58850</th>\n",
       "      <td></td>\n",
       "    </tr>\n",
       "    <tr>\n",
       "      <th>529cd39ad9</th>\n",
       "      <td>2 5 8 51 102 58 203 57 304 57 405 57 506 56 60...</td>\n",
       "    </tr>\n",
       "    <tr>\n",
       "      <th>1356069815</th>\n",
       "      <td>1 2019 2021 99 2122 99 2223 99 2324 98 2425 98...</td>\n",
       "    </tr>\n",
       "    <tr>\n",
       "      <th>...</th>\n",
       "      <td>...</td>\n",
       "    </tr>\n",
       "    <tr>\n",
       "      <th>ba588ce106</th>\n",
       "      <td>1112 1 1118 2 1213 12 1314 17 1415 24 1516 25 ...</td>\n",
       "    </tr>\n",
       "    <tr>\n",
       "      <th>1b2fa5d4f5</th>\n",
       "      <td>7387 25 7475 38 7576 38 7677 21 7702 3 7715 5 ...</td>\n",
       "    </tr>\n",
       "    <tr>\n",
       "      <th>38599bb2b5</th>\n",
       "      <td></td>\n",
       "    </tr>\n",
       "    <tr>\n",
       "      <th>78fb3ab862</th>\n",
       "      <td></td>\n",
       "    </tr>\n",
       "    <tr>\n",
       "      <th>eb0707f881</th>\n",
       "      <td></td>\n",
       "    </tr>\n",
       "    <tr>\n",
       "      <th>ff2ebb3e79</th>\n",
       "      <td>4810 1 4907 5 5003 10 5108 6 5209 6 5310 6 539...</td>\n",
       "    </tr>\n",
       "    <tr>\n",
       "      <th>0f23861d30</th>\n",
       "      <td></td>\n",
       "    </tr>\n",
       "    <tr>\n",
       "      <th>04fe99f3e4</th>\n",
       "      <td></td>\n",
       "    </tr>\n",
       "    <tr>\n",
       "      <th>d832b3d757</th>\n",
       "      <td></td>\n",
       "    </tr>\n",
       "    <tr>\n",
       "      <th>646dc6b247</th>\n",
       "      <td></td>\n",
       "    </tr>\n",
       "    <tr>\n",
       "      <th>3efd2d1d03</th>\n",
       "      <td></td>\n",
       "    </tr>\n",
       "    <tr>\n",
       "      <th>6c16057cd7</th>\n",
       "      <td>6658 9 6758 10 6856 13 6941 4 6950 20 7034 37 ...</td>\n",
       "    </tr>\n",
       "    <tr>\n",
       "      <th>48e7a5676b</th>\n",
       "      <td></td>\n",
       "    </tr>\n",
       "    <tr>\n",
       "      <th>ce53de2451</th>\n",
       "      <td>607 3 708 3 809 3 910 6 1011 6 1112 6 1213 6 1...</td>\n",
       "    </tr>\n",
       "    <tr>\n",
       "      <th>de6bc4b60f</th>\n",
       "      <td>2827 2 2923 7 3023 8 3123 9 3223 10 3318 16 34...</td>\n",
       "    </tr>\n",
       "    <tr>\n",
       "      <th>53c5b16111</th>\n",
       "      <td>1 2162 2172 4 2177 1 2198 63 2299 61 2401 56 2...</td>\n",
       "    </tr>\n",
       "    <tr>\n",
       "      <th>007176e42a</th>\n",
       "      <td></td>\n",
       "    </tr>\n",
       "    <tr>\n",
       "      <th>55df1f35af</th>\n",
       "      <td>1 101 103 100 209 95 313 92 418 88 523 84 631 ...</td>\n",
       "    </tr>\n",
       "    <tr>\n",
       "      <th>354d881033</th>\n",
       "      <td>1 5530 5540 85 5643 77 5752 69 5857 65 5960 50...</td>\n",
       "    </tr>\n",
       "    <tr>\n",
       "      <th>752368df10</th>\n",
       "      <td></td>\n",
       "    </tr>\n",
       "    <tr>\n",
       "      <th>bb6a397bf9</th>\n",
       "      <td>1 40 102 41 203 44 304 45 405 46 506 49 556 2 ...</td>\n",
       "    </tr>\n",
       "    <tr>\n",
       "      <th>b74fcab200</th>\n",
       "      <td>85 17 185 18 284 20 385 20 485 21 586 21 687 2...</td>\n",
       "    </tr>\n",
       "    <tr>\n",
       "      <th>92ad1bf3e3</th>\n",
       "      <td>1 3131 3134 99 3235 99 3340 95 3447 89 3550 87...</td>\n",
       "    </tr>\n",
       "    <tr>\n",
       "      <th>4d6522470e</th>\n",
       "      <td>96 6 197 6 298 6 399 6 500 6 601 6 1409 6 1510...</td>\n",
       "    </tr>\n",
       "    <tr>\n",
       "      <th>eb8d9a0d4a</th>\n",
       "      <td>39 63 142 61 246 58 350 55 453 53 556 51 666 4...</td>\n",
       "    </tr>\n",
       "    <tr>\n",
       "      <th>a7e060fec7</th>\n",
       "      <td></td>\n",
       "    </tr>\n",
       "    <tr>\n",
       "      <th>76ff83530d</th>\n",
       "      <td>17 72 118 72 219 72 320 72 399 3 421 72 500 3 ...</td>\n",
       "    </tr>\n",
       "    <tr>\n",
       "      <th>3bceaa0303</th>\n",
       "      <td></td>\n",
       "    </tr>\n",
       "    <tr>\n",
       "      <th>96867a3897</th>\n",
       "      <td>6970 2 7071 2 7172 1 7273 1 7374 2 7475 1</td>\n",
       "    </tr>\n",
       "    <tr>\n",
       "      <th>52f6267e3f</th>\n",
       "      <td></td>\n",
       "    </tr>\n",
       "  </tbody>\n",
       "</table>\n",
       "<p>18000 rows × 1 columns</p>\n",
       "</div>"
      ],
      "text/plain": [
       "                                                     rle_mask\n",
       "id                                                           \n",
       "ac26efe98e  1 43 102 43 203 43 304 42 405 42 506 41 607 39...\n",
       "0a5eac8775                                                   \n",
       "bdb1c1fcbf                                                   \n",
       "5358961921                                                   \n",
       "b7b72a69d1                                                   \n",
       "c1169d47ce                                                   \n",
       "89eb8ef89f  6464 1 6564 2 6665 2 6765 3 6865 4 6965 5 7066...\n",
       "696d91b37e                                                   \n",
       "73053e4d03  1 2 102 2 203 3 207 2 304 6 405 7 506 10 607 1...\n",
       "68dd1c44ae                                                   \n",
       "6ba0ff2b77                                                   \n",
       "b2d2951f0e  6364 13 6465 13 6566 13 6667 13 6768 13 6869 1...\n",
       "0642eb11c7  3331 3 3431 4 3527 1 3529 7 3628 9 3726 12 382...\n",
       "285c426094  3723 2 3729 6 3736 2 3821 18 3916 24 4010 31 4...\n",
       "750bd2308b  7 35 108 37 209 44 310 47 412 56 512 63 613 70...\n",
       "b8f80587f1  3031 2 3132 2 3233 6 3334 8 3435 9 3536 9 3637...\n",
       "b23429fadf                                                   \n",
       "adecc7ecaa  1 50 102 47 203 45 304 43 405 40 506 36 607 30...\n",
       "e1cbce6620  1 65 102 66 203 69 304 69 405 71 506 72 607 73...\n",
       "74a3b69852  63 39 164 39 263 41 363 42 463 43 564 43 661 4...\n",
       "b0c2b9a9f2                                                   \n",
       "4e89a48b43           96 6 199 4 301 3 404 1 505 1 606 1 707 1\n",
       "85813f234e  16 86 116 87 216 88 318 87 419 87 520 87 620 8...\n",
       "28708ca79f                                                   \n",
       "593e0e741f                                                   \n",
       "10af7026ff  1 6965 6970 88 7071 84 7172 80 7273 77 7374 69...\n",
       "18606906bc                                                   \n",
       "17a5a58850                                                   \n",
       "529cd39ad9  2 5 8 51 102 58 203 57 304 57 405 57 506 56 60...\n",
       "1356069815  1 2019 2021 99 2122 99 2223 99 2324 98 2425 98...\n",
       "...                                                       ...\n",
       "ba588ce106  1112 1 1118 2 1213 12 1314 17 1415 24 1516 25 ...\n",
       "1b2fa5d4f5  7387 25 7475 38 7576 38 7677 21 7702 3 7715 5 ...\n",
       "38599bb2b5                                                   \n",
       "78fb3ab862                                                   \n",
       "eb0707f881                                                   \n",
       "ff2ebb3e79  4810 1 4907 5 5003 10 5108 6 5209 6 5310 6 539...\n",
       "0f23861d30                                                   \n",
       "04fe99f3e4                                                   \n",
       "d832b3d757                                                   \n",
       "646dc6b247                                                   \n",
       "3efd2d1d03                                                   \n",
       "6c16057cd7  6658 9 6758 10 6856 13 6941 4 6950 20 7034 37 ...\n",
       "48e7a5676b                                                   \n",
       "ce53de2451  607 3 708 3 809 3 910 6 1011 6 1112 6 1213 6 1...\n",
       "de6bc4b60f  2827 2 2923 7 3023 8 3123 9 3223 10 3318 16 34...\n",
       "53c5b16111  1 2162 2172 4 2177 1 2198 63 2299 61 2401 56 2...\n",
       "007176e42a                                                   \n",
       "55df1f35af  1 101 103 100 209 95 313 92 418 88 523 84 631 ...\n",
       "354d881033  1 5530 5540 85 5643 77 5752 69 5857 65 5960 50...\n",
       "752368df10                                                   \n",
       "bb6a397bf9  1 40 102 41 203 44 304 45 405 46 506 49 556 2 ...\n",
       "b74fcab200  85 17 185 18 284 20 385 20 485 21 586 21 687 2...\n",
       "92ad1bf3e3  1 3131 3134 99 3235 99 3340 95 3447 89 3550 87...\n",
       "4d6522470e  96 6 197 6 298 6 399 6 500 6 601 6 1409 6 1510...\n",
       "eb8d9a0d4a  39 63 142 61 246 58 350 55 453 53 556 51 666 4...\n",
       "a7e060fec7                                                   \n",
       "76ff83530d  17 72 118 72 219 72 320 72 399 3 421 72 500 3 ...\n",
       "3bceaa0303                                                   \n",
       "96867a3897          6970 2 7071 2 7172 1 7273 1 7374 2 7475 1\n",
       "52f6267e3f                                                   \n",
       "\n",
       "[18000 rows x 1 columns]"
      ]
     },
     "execution_count": 113,
     "metadata": {},
     "output_type": "execute_result"
    }
   ],
   "source": [
    "sub"
   ]
  },
  {
   "cell_type": "code",
   "execution_count": null,
   "metadata": {},
   "outputs": [],
   "source": []
  }
 ],
 "metadata": {
  "kernelspec": {
   "display_name": "Python 3",
   "language": "python",
   "name": "python3"
  },
  "language_info": {
   "codemirror_mode": {
    "name": "ipython",
    "version": 3
   },
   "file_extension": ".py",
   "mimetype": "text/x-python",
   "name": "python",
   "nbconvert_exporter": "python",
   "pygments_lexer": "ipython3",
   "version": "3.6.5"
  },
  "toc": {
   "colors": {
    "hover_highlight": "#DAA520",
    "navigate_num": "#000000",
    "navigate_text": "#333333",
    "running_highlight": "#FF0000",
    "selected_highlight": "#FFD700",
    "sidebar_border": "#EEEEEE",
    "wrapper_background": "#FFFFFF"
   },
   "moveMenuLeft": true,
   "nav_menu": {
    "height": "86px",
    "width": "252px"
   },
   "navigate_menu": true,
   "number_sections": true,
   "sideBar": true,
   "threshold": 4,
   "toc_cell": false,
   "toc_section_display": "block",
   "toc_window_display": false,
   "widenNotebook": false
  }
 },
 "nbformat": 4,
 "nbformat_minor": 2
}
