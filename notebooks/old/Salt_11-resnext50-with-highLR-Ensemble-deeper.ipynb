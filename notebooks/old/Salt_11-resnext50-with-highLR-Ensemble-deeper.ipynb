{
 "cells": [
  {
   "cell_type": "code",
   "execution_count": 1,
   "metadata": {},
   "outputs": [],
   "source": [
    "%matplotlib inline\n",
    "%reload_ext autoreload\n",
    "%autoreload 2"
   ]
  },
  {
   "cell_type": "code",
   "execution_count": 2,
   "metadata": {},
   "outputs": [],
   "source": [
    "from fastai.conv_learner import *\n",
    "from fastai.dataset import *\n",
    "from fastai.models.resnet import vgg_resnet50\n",
    "\n",
    "import json"
   ]
  },
  {
   "cell_type": "code",
   "execution_count": 3,
   "metadata": {},
   "outputs": [],
   "source": [
    "#torch.cuda.set_device(2)"
   ]
  },
  {
   "cell_type": "code",
   "execution_count": 4,
   "metadata": {},
   "outputs": [],
   "source": [
    "torch.backends.cudnn.benchmark=True"
   ]
  },
  {
   "cell_type": "markdown",
   "metadata": {},
   "source": [
    "## Data"
   ]
  },
  {
   "cell_type": "code",
   "execution_count": 5,
   "metadata": {},
   "outputs": [],
   "source": [
    "PATH = Path('/home/giles/Downloads/fastai_data/salt/')\n",
    "MASKS_FN = 'train_masks.csv'\n",
    "META_FN = 'metadata.csv'\n",
    "masks_csv = pd.read_csv(PATH/MASKS_FN)\n",
    "meta_csv = pd.read_csv(PATH/META_FN)"
   ]
  },
  {
   "cell_type": "code",
   "execution_count": 6,
   "metadata": {},
   "outputs": [],
   "source": [
    "def show_img(im, figsize=None, ax=None, alpha=None):\n",
    "    if not ax: fig,ax = plt.subplots(figsize=figsize)\n",
    "    ax.imshow(im, alpha=alpha)\n",
    "    ax.set_axis_off()\n",
    "    return ax"
   ]
  },
  {
   "cell_type": "code",
   "execution_count": 7,
   "metadata": {},
   "outputs": [],
   "source": [
    "(PATH/'train_masks-128').mkdir(exist_ok=True)"
   ]
  },
  {
   "cell_type": "code",
   "execution_count": 8,
   "metadata": {},
   "outputs": [],
   "source": [
    "def resize_img(fn):\n",
    "    Image.open(fn).resize((128,128)).save((fn.parent.parent)/'train_masks-128'/fn.name)\n",
    "\n",
    "files = list((PATH/'train_masks').iterdir())\n",
    "with ThreadPoolExecutor(8) as e: e.map(resize_img, files)"
   ]
  },
  {
   "cell_type": "code",
   "execution_count": 9,
   "metadata": {},
   "outputs": [],
   "source": [
    "(PATH/'train-128').mkdir(exist_ok=True)"
   ]
  },
  {
   "cell_type": "code",
   "execution_count": 10,
   "metadata": {},
   "outputs": [],
   "source": [
    "def resize_img(fn):\n",
    "    Image.open(fn).resize((128,128)).save((fn.parent.parent)/'train-128'/fn.name)\n",
    "\n",
    "files = list((PATH/'train').iterdir())\n",
    "with ThreadPoolExecutor(8) as e: e.map(resize_img, files)"
   ]
  },
  {
   "cell_type": "code",
   "execution_count": 11,
   "metadata": {},
   "outputs": [],
   "source": [
    "TRAIN_DN = 'train-128'\n",
    "MASKS_DN = 'train_masks-128'\n",
    "sz = 32\n",
    "bs = 64\n",
    "nw = 16"
   ]
  },
  {
   "cell_type": "markdown",
   "metadata": {},
   "source": [
    "TRAIN_DN = 'train'\n",
    "MASKS_DN = 'train_masks_png'\n",
    "sz = 128\n",
    "bs = 64\n",
    "nw = 16"
   ]
  },
  {
   "cell_type": "code",
   "execution_count": 12,
   "metadata": {},
   "outputs": [],
   "source": [
    "class MatchedFilesDataset(FilesDataset):\n",
    "    def __init__(self, fnames, y, transform, path):\n",
    "        self.y=y\n",
    "        assert(len(fnames)==len(y))\n",
    "        super().__init__(fnames, transform, path)\n",
    "    def get_y(self, i): return open_image(os.path.join(self.path, self.y[i]))\n",
    "    def get_c(self): return 0"
   ]
  },
  {
   "cell_type": "code",
   "execution_count": 13,
   "metadata": {},
   "outputs": [],
   "source": [
    "x_names = np.array(glob(f'{PATH}/{TRAIN_DN}/*'))\n",
    "y_names = np.array(glob(f'{PATH}/{MASKS_DN}/*'))"
   ]
  },
  {
   "cell_type": "code",
   "execution_count": 14,
   "metadata": {},
   "outputs": [],
   "source": [
    "val_idxs = list(range(800))\n",
    "((val_x,trn_x),(val_y,trn_y)) = split_by_idx(val_idxs, x_names, y_names)"
   ]
  },
  {
   "cell_type": "code",
   "execution_count": 15,
   "metadata": {},
   "outputs": [],
   "source": [
    "aug_tfms = [RandomFlip(tfm_y=TfmType.CLASS)]"
   ]
  },
  {
   "cell_type": "code",
   "execution_count": 16,
   "metadata": {},
   "outputs": [],
   "source": [
    "tfms = tfms_from_model(resnext50, sz, crop_type=CropType.NO, tfm_y=TfmType.CLASS, aug_tfms=aug_tfms)\n",
    "datasets = ImageData.get_ds(MatchedFilesDataset, (trn_x,trn_y), (val_x,val_y), tfms, path=PATH)\n",
    "md = ImageData(PATH, datasets, bs, num_workers=16, classes=None)\n",
    "denorm = md.trn_ds.denorm"
   ]
  },
  {
   "cell_type": "code",
   "execution_count": 17,
   "metadata": {},
   "outputs": [],
   "source": [
    "x,y = next(iter(md.trn_dl))"
   ]
  },
  {
   "cell_type": "code",
   "execution_count": 18,
   "metadata": {},
   "outputs": [
    {
     "data": {
      "text/plain": [
       "(torch.Size([64, 3, 32, 32]), torch.Size([64, 32, 32]))"
      ]
     },
     "execution_count": 18,
     "metadata": {},
     "output_type": "execute_result"
    }
   ],
   "source": [
    "x.shape,y.shape"
   ]
  },
  {
   "cell_type": "code",
   "execution_count": 19,
   "metadata": {},
   "outputs": [],
   "source": [
    "denorm = md.val_ds.denorm"
   ]
  },
  {
   "cell_type": "code",
   "execution_count": 20,
   "metadata": {},
   "outputs": [],
   "source": [
    "def show_aug_img(ims, idx, figsize=(5,5), normed=True, ax=None, nchannels=3):\n",
    "    if ax is None: fig,ax = plt.subplots(figsize=figsize)\n",
    "    if normed: ims = denorm(ims)\n",
    "    else:      ims = np.rollaxis(to_np(ims),1,nchannels+1)\n",
    "    ax.imshow(np.clip(ims,0,1)[idx])\n",
    "    ax.axis('off')"
   ]
  },
  {
   "cell_type": "code",
   "execution_count": 21,
   "metadata": {},
   "outputs": [],
   "source": [
    "batches = [next(iter(md.aug_dl)) for i in range(9)]"
   ]
  },
  {
   "cell_type": "code",
   "execution_count": 22,
   "metadata": {},
   "outputs": [
    {
     "data": {
      "image/png": "[encoded data removed]",
      "text/plain": [
       "<Figure size 1296x648 with 18 Axes>"
      ]
     },
     "metadata": {},
     "output_type": "display_data"
    }
   ],
   "source": [
    "fig, axes = plt.subplots(3, 6, figsize=(18, 9))\n",
    "for i,(x,y) in enumerate(batches):\n",
    "    show_aug_img(x,1, ax=axes.flat[i*2])\n",
    "    show_aug_img(y,1, ax=axes.flat[i*2+1], nchannels=1, normed=False)"
   ]
  },
  {
   "cell_type": "markdown",
   "metadata": {
    "heading_collapsed": true
   },
   "source": [
    "## Simple upsample"
   ]
  },
  {
   "cell_type": "code",
   "execution_count": 23,
   "metadata": {
    "hidden": true
   },
   "outputs": [],
   "source": [
    "f = resnext50\n",
    "cut,lr_cut = model_meta[f]"
   ]
  },
  {
   "cell_type": "code",
   "execution_count": 24,
   "metadata": {
    "hidden": true
   },
   "outputs": [],
   "source": [
    "def get_base():\n",
    "    layers = cut_model(f(True), cut)\n",
    "    return nn.Sequential(*layers)"
   ]
  },
  {
   "cell_type": "code",
   "execution_count": 25,
   "metadata": {
    "hidden": true
   },
   "outputs": [],
   "source": [
    "def dice(pred, targs):\n",
    "    pred = (pred>0.5).float()\n",
    "    return 2. * (pred*targs).sum() / (pred+targs).sum()"
   ]
  },
  {
   "cell_type": "markdown",
   "metadata": {},
   "source": [
    "## U-net (ish)"
   ]
  },
  {
   "cell_type": "code",
   "execution_count": 26,
   "metadata": {},
   "outputs": [],
   "source": [
    "class SaveFeatures():\n",
    "    features=None\n",
    "    def __init__(self, m): self.hook = m.register_forward_hook(self.hook_fn)\n",
    "    def hook_fn(self, module, input, output): self.features = output\n",
    "    def remove(self): self.hook.remove()"
   ]
  },
  {
   "cell_type": "code",
   "execution_count": 27,
   "metadata": {},
   "outputs": [],
   "source": [
    "class UnetBlock(nn.Module):\n",
    "    def __init__(self, up_in, x_in, n_out):\n",
    "        super().__init__()\n",
    "        up_out = x_out = n_out//2\n",
    "        self.x_conv  = nn.Conv2d(x_in,  x_out,  1)\n",
    "        self.tr_conv = nn.ConvTranspose2d(up_in, up_out, 2, stride=2)\n",
    "        self.bn = nn.BatchNorm2d(n_out)\n",
    "        \n",
    "    def forward(self, up_p, x_p):\n",
    "        up_p = self.tr_conv(up_p)\n",
    "        x_p = self.x_conv(x_p)\n",
    "        cat_p = torch.cat([up_p,x_p], dim=1)\n",
    "        return self.bn(F.relu(cat_p))"
   ]
  },
  {
   "cell_type": "code",
   "execution_count": 28,
   "metadata": {},
   "outputs": [],
   "source": [
    "class Unet34(nn.Module):\n",
    "    def __init__(self, rn):\n",
    "        super().__init__()\n",
    "        self.rn = rn\n",
    "        self.sfs = [SaveFeatures(rn[i]) for i in [2,4,5,6]]\n",
    "        self.up1 = UnetBlock(2048,1024,256)\n",
    "        self.up2 = UnetBlock(256,512,256)\n",
    "        self.up3 = UnetBlock(256,256,256)\n",
    "        self.up4 = UnetBlock(256,64,256)\n",
    "        self.up5 = UnetBlock(256,3,16)\n",
    "        self.up6 = nn.ConvTranspose2d(16, 1, 1)\n",
    "        \n",
    "    def forward(self,x):\n",
    "        inp = x\n",
    "        x = F.relu(self.rn(x))\n",
    "        x = self.up1(x, self.sfs[3].features)\n",
    "        x = self.up2(x, self.sfs[2].features)\n",
    "        x = self.up3(x, self.sfs[1].features)\n",
    "        x = self.up4(x, self.sfs[0].features)\n",
    "        x = self.up5(x, inp)\n",
    "        x = self.up6(x)\n",
    "        return x[:,0]\n",
    "    \n",
    "    def close(self):\n",
    "        for sf in self.sfs: sf.remove()"
   ]
  },
  {
   "cell_type": "code",
   "execution_count": 29,
   "metadata": {},
   "outputs": [],
   "source": [
    "class UnetModel():\n",
    "    def __init__(self,model,name='unet'):\n",
    "        self.model,self.name = model,name\n",
    "\n",
    "    def get_layer_groups(self, precompute):\n",
    "        lgs = list(split_by_idxs(children(self.model.rn), [lr_cut]))\n",
    "        return lgs + [children(self.model)[1:]]"
   ]
  },
  {
   "cell_type": "markdown",
   "metadata": {},
   "source": [
    "## Training loop"
   ]
  },
  {
   "cell_type": "code",
   "execution_count": 30,
   "metadata": {},
   "outputs": [],
   "source": [
    "def trainModel(uid, models, trn_x, trn_y, val_x,val_y, aug_tfms, lr=2e-2, wd=1e-7, bs=64):\n",
    "    ##32\n",
    "    print('Running on 32x32')\n",
    "    sz = 32\n",
    "    tfms = tfms_from_model(resnext50, sz, crop_type=CropType.NO, tfm_y=TfmType.CLASS, aug_tfms=aug_tfms)\n",
    "    datasets = ImageData.get_ds(MatchedFilesDataset, (trn_x,trn_y), (val_x,val_y), tfms, path=PATH)\n",
    "    md = ImageData(PATH, datasets, bs, num_workers=16, classes=None)\n",
    "    denorm = md.trn_ds.denorm\n",
    "    \n",
    "    learn = ConvLearner(md, models)\n",
    "    learn.opt_fn=optim.Adam\n",
    "    learn.crit=nn.BCEWithLogitsLoss()\n",
    "    learn.metrics=[dice, accuracy_thresh(0.5)]\n",
    "    \n",
    "    learn.freeze_to(1)\n",
    "    lrs = np.array([lr/9,lr/3,lr])\n",
    "    learn.fit(lr,1,wds=wd,cycle_len=8,use_clr=(5,8), best_save_name='tmp')\n",
    "    learn.load('tmp')\n",
    "    learn.unfreeze()\n",
    "    learn.bn_freeze(True)\n",
    "    learn.fit(lrs/2, 1, wds=wd, cycle_len=20,use_clr=(20,10), best_save_name='tmp')\n",
    "    \n",
    "    ##64\n",
    "    print('Running on 64x64')\n",
    "    sz = 64\n",
    "    tfms = tfms_from_model(resnext50, sz, crop_type=CropType.NO, tfm_y=TfmType.CLASS, aug_tfms=aug_tfms)\n",
    "    datasets = ImageData.get_ds(MatchedFilesDataset, (trn_x,trn_y), (val_x,val_y), tfms, path=PATH)\n",
    "    md = ImageData(PATH, datasets, bs, num_workers=16, classes=None)\n",
    "    \n",
    "    learn = ConvLearner(md, models)\n",
    "    learn.opt_fn=optim.Adam\n",
    "    learn.crit=nn.BCEWithLogitsLoss()\n",
    "    learn.metrics=[dice, accuracy_thresh(0.5)]\n",
    "    learn.load('tmp')\n",
    "    \n",
    "    learn.freeze_to(1)\n",
    "    learn.fit(lr/2,1,wds=wd, cycle_len=10,use_clr=(10,10), best_save_name='tmp')\n",
    "    learn.load('tmp')\n",
    "    learn.unfreeze()\n",
    "    learn.bn_freeze(True)\n",
    "    learn.fit(lrs/4,1,wds=wd, cycle_len=8,use_clr=(20,8), best_save_name='tmp')\n",
    "    \n",
    "    ##128\n",
    "    print('Running on 128x128')\n",
    "    sz = 128\n",
    "    tfms = tfms_from_model(resnext50, sz, crop_type=CropType.NO, tfm_y=TfmType.CLASS, aug_tfms=aug_tfms)\n",
    "    datasets = ImageData.get_ds(MatchedFilesDataset, (trn_x,trn_y), (val_x,val_y), tfms, path=PATH)\n",
    "    md = ImageData(PATH, datasets, bs, num_workers=16, classes=None)\n",
    "    \n",
    "    learn = ConvLearner(md, models)\n",
    "    learn.opt_fn=optim.Adam\n",
    "    learn.crit=nn.BCEWithLogitsLoss()\n",
    "    learn.metrics=[dice, accuracy_thresh(0.5)]\n",
    "    learn.load('tmp')\n",
    "    \n",
    "    learn.freeze_to(1)\n",
    "    learn.fit(lr/2,1, wds=wd, cycle_len=6,use_clr=(6,4), best_save_name='tmp')\n",
    "    learn.load('tmp')\n",
    "    learn.unfreeze()\n",
    "    learn.bn_freeze(True)\n",
    "    learn.fit(lrs/5,1, wds=wd,cycle_len=8,use_clr=(20,8), best_save_name='tmp')\n",
    "    learn.load('tmp')\n",
    "    learn.fit(lrs/5,5, wds=wd,cycle_len=1,cycle_mult=2, best_save_name='model_'+str(uid))"
   ]
  },
  {
   "cell_type": "code",
   "execution_count": 31,
   "metadata": {},
   "outputs": [],
   "source": [
    "from sklearn.model_selection import KFold"
   ]
  },
  {
   "cell_type": "code",
   "execution_count": 32,
   "metadata": {},
   "outputs": [],
   "source": [
    "nSplits = 10"
   ]
  },
  {
   "cell_type": "markdown",
   "metadata": {},
   "source": [
    "sz = 32\n",
    "m_base = get_base()\n",
    "m = to_gpu(Unet34(m_base))\n",
    "models = UnetModel(m)\n",
    "tfms = tfms_from_model(resnext50, sz, crop_type=CropType.NO, tfm_y=TfmType.CLASS, aug_tfms=aug_tfms)\n",
    "datasets = ImageData.get_ds(MatchedFilesDataset, (trn_x,trn_y), (val_x,val_y), tfms, path=PATH)\n",
    "md = ImageData(PATH, datasets, bs, num_workers=16, classes=None)\n",
    "denorm = md.trn_ds.denorm\n",
    "\n",
    "learn = ConvLearner(md, models)\n",
    "learn.opt_fn=optim.Adam\n",
    "learn.crit=nn.BCEWithLogitsLoss()\n",
    "learn.metrics=[dice, accuracy_thresh(0.5)]"
   ]
  },
  {
   "cell_type": "markdown",
   "metadata": {},
   "source": [
    "learn.freeze_to(1)\n",
    "learn.lr_find()\n",
    "learn.sched.plot()"
   ]
  },
  {
   "cell_type": "code",
   "execution_count": 41,
   "metadata": {
    "scrolled": false
   },
   "outputs": [
    {
     "name": "stdout",
     "output_type": "stream",
     "text": [
      "_____________________________\n",
      "Running fold 1 / 10\n",
      "Running on 32x32\n"
     ]
    },
    {
     "data": {
      "application/vnd.jupyter.widget-view+json": {
       "model_id": "b02feb33b31d4649972ecd5188a4d18a",
       "version_major": 2,
       "version_minor": 0
      },
      "text/plain": [
       "HBox(children=(IntProgress(value=0, description='Epoch', max=8), HTML(value='')))"
      ]
     },
     "metadata": {},
     "output_type": "display_data"
    },
    {
     "name": "stdout",
     "output_type": "stream",
     "text": [
      "epoch      trn_loss   val_loss   dice       <lambda>       \n",
      "    0      0.323881   5.182371   0.505113   0.764789  \n",
      "    1      0.25942    0.215268   0.826838   0.915607       \n",
      "    2      0.228952   0.216838   0.833537   0.916089       \n",
      "    3      0.206294   0.215998   0.816081   0.911447       \n",
      "    4      0.190013   0.19005    0.843023   0.923407       \n",
      "    5      0.171867   0.197121   0.845153   0.924802       \n",
      "    6      0.161124   0.19266    0.846459   0.921573       \n",
      "    7      0.147548   0.167002   0.870238   0.932782       \n"
     ]
    },
    {
     "data": {
      "application/vnd.jupyter.widget-view+json": {
       "model_id": "00954fea124c46c6a6cf34671c22048d",
       "version_major": 2,
       "version_minor": 0
      },
      "text/plain": [
       "HBox(children=(IntProgress(value=0, description='Epoch', max=20), HTML(value='')))"
      ]
     },
     "metadata": {},
     "output_type": "display_data"
    },
    {
     "name": "stdout",
     "output_type": "stream",
     "text": [
      "epoch      trn_loss   val_loss   dice       <lambda>       \n",
      "    0      0.269767   0.285575   0.769053   0.888544  \n",
      "    1      0.271222   0.356858   0.522292   0.821448       \n",
      "    2      0.31027    0.250636   0.814288   0.907251       \n",
      "    3      0.289575   0.323526   0.709736   0.873865       \n",
      "    4      0.284377   0.238154   0.821793   0.910104       \n",
      "    5      0.251596   0.194356   0.837961   0.919662       \n",
      "    6      0.225046   0.237539   0.801386   0.904391       \n",
      "    7      0.230495   0.22562    0.839936   0.918469       \n",
      "    8      0.211253   0.233621   0.784104   0.901779       \n",
      "    9      0.20093    0.221991   0.784507   0.900421       \n",
      "    10     0.176348   0.180143   0.86895    0.931195       \n",
      "    11     0.176002   0.192211   0.84805    0.923874       \n",
      "    12     0.165002   0.209251   0.8322     0.916959       \n",
      "    13     0.149676   0.175602   0.85077    0.92756        \n",
      "    14     0.143903   0.232568   0.852277   0.916995       \n",
      "    15     0.13542    0.166661   0.881451   0.93934        \n",
      "    16     0.115678   0.201318   0.86707    0.933554       \n",
      "    17     0.104531   0.179549   0.890269   0.944263       \n",
      "    18     0.092386   0.17591    0.885977   0.940671        \n",
      "    19     0.084008   0.175718   0.891703   0.943628        \n",
      "Running on 64x64\n"
     ]
    },
    {
     "data": {
      "application/vnd.jupyter.widget-view+json": {
       "model_id": "ff456651f033415b8bb908367463aac0",
       "version_major": 2,
       "version_minor": 0
      },
      "text/plain": [
       "HBox(children=(IntProgress(value=0, description='Epoch', max=10), HTML(value='')))"
      ]
     },
     "metadata": {},
     "output_type": "display_data"
    },
    {
     "name": "stdout",
     "output_type": "stream",
     "text": [
      "epoch      trn_loss   val_loss   dice       <lambda>       \n",
      "    0      0.247092   0.230172   0.847025   0.920286  \n",
      "    1      0.220848   0.22179    0.81099    0.910574       \n",
      "    2      0.2036     0.18301    0.864967   0.930672       \n",
      "    3      0.190492   0.177415   0.865115   0.931651       \n",
      "    4      0.178365   0.211181   0.844641   0.923969       \n",
      "    5      0.173269   0.183612   0.859371   0.929518       \n",
      "    6      0.162513   0.169656   0.867158   0.933318       \n",
      "    7      0.15671    0.172164   0.872056   0.934888       \n",
      "    8      0.148995   0.173327   0.875836   0.936479       \n",
      "    9      0.141198   0.16657    0.878132   0.937498       \n"
     ]
    },
    {
     "data": {
      "application/vnd.jupyter.widget-view+json": {
       "model_id": "4a8836cae69c43da8fa07a4e8c0c3aca",
       "version_major": 2,
       "version_minor": 0
      },
      "text/plain": [
       "HBox(children=(IntProgress(value=0, description='Epoch', max=8), HTML(value='')))"
      ]
     },
     "metadata": {},
     "output_type": "display_data"
    },
    {
     "name": "stdout",
     "output_type": "stream",
     "text": [
      "epoch      trn_loss   val_loss   dice       <lambda>       \n",
      "    0      0.164533   0.255658   0.830515   0.908718  \n",
      "    1      0.186322   0.163878   0.859567   0.929493       \n",
      "    2      0.175997   0.169735   0.88454    0.938172       \n",
      "    3      0.160705   0.163154   0.873059   0.93568        \n",
      "    4      0.141184   0.139131   0.887425   0.942263       \n",
      "    5      0.124807   0.150355   0.890681   0.941666       \n",
      "    6      0.11251    0.143319   0.896183   0.945304       \n",
      "    7      0.097067   0.159043   0.891404   0.942085        \n",
      "Running on 128x128\n"
     ]
    },
    {
     "data": {
      "application/vnd.jupyter.widget-view+json": {
       "model_id": "5faf042ddd83466c82c2c18c7ddd2bb1",
       "version_major": 2,
       "version_minor": 0
      },
      "text/plain": [
       "HBox(children=(IntProgress(value=0, description='Epoch', max=6), HTML(value='')))"
      ]
     },
     "metadata": {},
     "output_type": "display_data"
    },
    {
     "name": "stdout",
     "output_type": "stream",
     "text": [
      "epoch      trn_loss   val_loss   dice       <lambda>       \n",
      "    0      0.221059   0.185893   0.852172   0.924385  \n",
      "    1      0.212556   0.295216   0.700093   0.872388       \n",
      "    2      0.209561   0.270727   0.759017   0.892307       \n",
      "    3      0.196538   0.172001   0.855238   0.928337       \n",
      "    4      0.18184    0.166824   0.861515   0.930928       \n",
      "    5      0.168358   0.163202   0.877583   0.936323       \n"
     ]
    },
    {
     "data": {
      "application/vnd.jupyter.widget-view+json": {
       "model_id": "ee8e205028ba49c7a999bc1f19cec940",
       "version_major": 2,
       "version_minor": 0
      },
      "text/plain": [
       "HBox(children=(IntProgress(value=0, description='Epoch', max=8), HTML(value='')))"
      ]
     },
     "metadata": {},
     "output_type": "display_data"
    },
    {
     "name": "stdout",
     "output_type": "stream",
     "text": [
      "epoch      trn_loss   val_loss   dice       <lambda>       \n",
      "    0      0.172159   0.195076   0.851065   0.923086  \n",
      "    1      0.174382   0.202738   0.808136   0.909349       \n",
      "    2      0.166178   0.172852   0.847789   0.926267       \n",
      "    3      0.154858   0.178691   0.83789    0.922364       \n",
      "    4      0.148914   0.169704   0.875123   0.934568       \n",
      "    5      0.136982   0.142051   0.892236   0.945325       \n",
      "    6      0.118439   0.141451   0.888525   0.943184       \n",
      "    7      0.107251   0.141645   0.898196   0.947373       \n"
     ]
    },
    {
     "data": {
      "application/vnd.jupyter.widget-view+json": {
       "model_id": "1e7f4393cc154d1f90d0cc75f012a03a",
       "version_major": 2,
       "version_minor": 0
      },
      "text/plain": [
       "HBox(children=(IntProgress(value=0, description='Epoch', max=31), HTML(value='')))"
      ]
     },
     "metadata": {},
     "output_type": "display_data"
    },
    {
     "name": "stdout",
     "output_type": "stream",
     "text": [
      "epoch      trn_loss   val_loss   dice       <lambda>       \n",
      "    0      0.155049   0.147008   0.883529   0.940436  \n",
      "    1      0.15795    0.147963   0.886042   0.941731       \n",
      "    2      0.133488   0.14184    0.89229    0.944621       \n",
      "    3      0.135952   0.14637    0.873601   0.936783       \n",
      "    4      0.128199   0.153115   0.88697    0.941462       \n",
      "    5      0.113318   0.179531   0.876204   0.937791       \n",
      "    6      0.095173   0.144203   0.890486   0.942771        \n",
      "    7      0.12023    0.166355   0.869559   0.934184        \n",
      "    8      0.126512   0.161563   0.884449   0.93958        \n",
      "    9      0.123514   0.165933   0.880586   0.938739       \n",
      "    10     0.112503   0.17153    0.888539   0.942382       \n",
      "    11     0.10262    0.144643   0.890435   0.943615       \n",
      "    12     0.086915   0.15683    0.893004   0.944476        \n",
      "    13     0.074091   0.166312   0.891496   0.944183        \n",
      "    14     0.067439   0.16234    0.891864   0.944156        \n",
      "    15     0.111389   0.196146   0.794413   0.90488         \n",
      "    16     0.178481   0.246083   0.835986   0.911822       \n",
      "    17     0.177761   0.195438   0.827576   0.918625       \n",
      "    18     0.159577   0.164277   0.860333   0.930703       \n",
      "    19     0.137513   0.142564   0.889859   0.943379       \n",
      "    20     0.118403   0.168302   0.889922   0.943155       \n",
      "    21     0.111232   0.166955   0.886428   0.940688       \n",
      "    22     0.097419   0.157374   0.886881   0.940683        \n",
      "    23     0.085811   0.184149   0.87565    0.935934        \n",
      "    24     0.078903   0.184292   0.877919   0.937546        \n",
      "    25     0.070478   0.173566   0.886796   0.941167        \n",
      "    26     0.062133   0.179147   0.892208   0.944427        \n",
      "    27     0.058015   0.174451   0.892579   0.944061        \n",
      "    28     0.054996   0.17906    0.893411   0.944448        \n",
      "    29     0.052982   0.180611   0.89215    0.943807        \n",
      "    30     0.051934   0.18062    0.892287   0.943892        \n",
      "_____________________________\n",
      "_____________________________\n",
      "Running fold 2 / 10\n",
      "Running on 32x32\n"
     ]
    },
    {
     "data": {
      "application/vnd.jupyter.widget-view+json": {
       "model_id": "96f540b457144735a0687e10a5511faf",
       "version_major": 2,
       "version_minor": 0
      },
      "text/plain": [
       "HBox(children=(IntProgress(value=0, description='Epoch', max=8), HTML(value='')))"
      ]
     },
     "metadata": {},
     "output_type": "display_data"
    },
    {
     "name": "stdout",
     "output_type": "stream",
     "text": [
      "epoch      trn_loss   val_loss   dice       <lambda>       \n",
      "    0      0.334188   0.715198   0.634946   0.746808  \n",
      "    1      0.27112    0.287442   0.775299   0.892853       \n",
      "    2      0.235913   0.275551   0.801398   0.902127       \n",
      "    3      0.213414   0.268808   0.788401   0.904431       \n",
      "    4      0.197346   0.230975   0.811972   0.914264       \n",
      "    5      0.176469   0.26918    0.794219   0.901434       \n",
      "    6      0.16516    0.234423   0.823328   0.916614       \n",
      "    7      0.150498   0.249795   0.81817    0.917389       \n"
     ]
    },
    {
     "data": {
      "application/vnd.jupyter.widget-view+json": {
       "model_id": "e4d1eaa7888044cfa6d17cc3c147d028",
       "version_major": 2,
       "version_minor": 0
      },
      "text/plain": [
       "HBox(children=(IntProgress(value=0, description='Epoch', max=20), HTML(value='')))"
      ]
     },
     "metadata": {},
     "output_type": "display_data"
    },
    {
     "name": "stdout",
     "output_type": "stream",
     "text": [
      "epoch      trn_loss   val_loss   dice       <lambda>       \n",
      "    0      0.248598   0.235374   0.777285   0.901871  \n",
      "    1      0.246244   0.316361   0.793365   0.893573       \n",
      "    2      0.353586   0.352037   0.595115   0.843149       \n",
      "    3      0.317042   0.284554   0.755178   0.890872       \n",
      "    4      0.264554   0.240826   0.792805   0.904318       \n",
      "    5      0.23575    0.256683   0.747318   0.892215       \n",
      "    6      0.215492   0.257659   0.814475   0.907166       \n",
      "    7      0.20666    0.249257   0.75406    0.893622       \n",
      "    8      0.202628   0.239507   0.803191   0.910028       \n",
      "    9      0.183086   0.259624   0.803379   0.911011       \n",
      "    10     0.178486   0.225132   0.833856   0.919223       \n",
      "    11     0.164733   0.20402    0.842193   0.923779       \n",
      "    12     0.15251    0.240854   0.830212   0.918979       \n",
      "    13     0.145753   0.244333   0.839695   0.923663       \n",
      "    14     0.129949   0.236613   0.850122   0.924188       \n",
      "    15     0.113877   0.236658   0.841353   0.922305       \n",
      "    16     0.109651   0.246077   0.843162   0.921503       \n",
      "    17     0.101829   0.246932   0.851351   0.925342       \n",
      "    18     0.090857   0.24564    0.85846    0.927386        \n",
      "    19     0.082305   0.242868   0.853655   0.92666         \n",
      "Running on 64x64\n"
     ]
    },
    {
     "data": {
      "application/vnd.jupyter.widget-view+json": {
       "model_id": "687ee95b9515445ab653264714c5dde3",
       "version_major": 2,
       "version_minor": 0
      },
      "text/plain": [
       "HBox(children=(IntProgress(value=0, description='Epoch', max=10), HTML(value='')))"
      ]
     },
     "metadata": {},
     "output_type": "display_data"
    },
    {
     "name": "stdout",
     "output_type": "stream",
     "text": [
      "epoch      trn_loss   val_loss   dice       <lambda>       \n",
      "    0      0.291383   0.291178   0.69365    0.8731    \n",
      "    1      0.24042    0.234392   0.803472   0.909127       \n",
      "    2      0.210063   0.213062   0.820858   0.916356       \n",
      "    3      0.191931   0.209058   0.835525   0.920712       \n",
      "    4      0.179977   0.202777   0.832632   0.920637       \n",
      "    5      0.17118    0.197836   0.837728   0.923302       \n",
      "    6      0.15974    0.206748   0.85207    0.927475       \n",
      "    7      0.152241   0.2067     0.846819   0.925133       \n",
      "    8      0.144499   0.202867   0.841389   0.922979       \n",
      "    9      0.137373   0.205076   0.84405    0.92328        \n"
     ]
    },
    {
     "data": {
      "application/vnd.jupyter.widget-view+json": {
       "model_id": "f2662edeed514ab882d289087da922b3",
       "version_major": 2,
       "version_minor": 0
      },
      "text/plain": [
       "HBox(children=(IntProgress(value=0, description='Epoch', max=8), HTML(value='')))"
      ]
     },
     "metadata": {},
     "output_type": "display_data"
    },
    {
     "name": "stdout",
     "output_type": "stream",
     "text": [
      "epoch      trn_loss   val_loss   dice       <lambda>       \n",
      "    0      0.188739   0.343201   0.641236   0.859637  \n",
      "    1      0.203752   0.221671   0.832284   0.916939       \n",
      "    2      0.184684   0.222396   0.842467   0.917168       \n",
      "    3      0.160899   0.214277   0.848906   0.925649       \n",
      "    4      0.139752   0.211978   0.84679    0.925461       \n",
      "    5      0.122864   0.231029   0.845714   0.922094       \n",
      "    6      0.114772   0.198953   0.867776   0.934125       \n",
      "    7      0.098561   0.20388    0.880357   0.939184        \n",
      "Running on 128x128\n"
     ]
    },
    {
     "data": {
      "application/vnd.jupyter.widget-view+json": {
       "model_id": "d05348b821df4f7180a27bb933f1dc68",
       "version_major": 2,
       "version_minor": 0
      },
      "text/plain": [
       "HBox(children=(IntProgress(value=0, description='Epoch', max=6), HTML(value='')))"
      ]
     },
     "metadata": {},
     "output_type": "display_data"
    },
    {
     "name": "stdout",
     "output_type": "stream",
     "text": [
      "epoch      trn_loss   val_loss   dice       <lambda>       \n",
      "    0      0.232481   0.23132    0.801824   0.908598  \n",
      "    1      0.210572   0.216051   0.816512   0.914285       \n",
      "    2      0.188955   0.221889   0.812003   0.914231       \n",
      "    3      0.17621    0.203674   0.832459   0.920305       \n",
      "    4      0.172904   0.243501   0.828523   0.911862       \n",
      "    5      0.166083   0.208445   0.830506   0.920836       \n"
     ]
    },
    {
     "data": {
      "application/vnd.jupyter.widget-view+json": {
       "model_id": "cd60a53d8cce497cbfd8677b401d91d8",
       "version_major": 2,
       "version_minor": 0
      },
      "text/plain": [
       "HBox(children=(IntProgress(value=0, description='Epoch', max=8), HTML(value='')))"
      ]
     },
     "metadata": {},
     "output_type": "display_data"
    },
    {
     "name": "stdout",
     "output_type": "stream",
     "text": [
      "epoch      trn_loss   val_loss   dice       <lambda>       \n",
      "    0      0.179165   0.437857   0.614179   0.847995  \n",
      "    1      0.21812    0.247256   0.819238   0.907299       \n",
      "    2      0.183123   0.219512   0.833412   0.916632       \n",
      "    3      0.159845   0.187061   0.860683   0.931329       \n",
      "    4      0.148525   0.183025   0.865849   0.933922       \n",
      "    5      0.139341   0.195335   0.858154   0.930439       \n",
      "    6      0.125131   0.21722    0.85425    0.929661       \n",
      "    7      0.112248   0.190342   0.868966   0.93375        \n"
     ]
    },
    {
     "data": {
      "application/vnd.jupyter.widget-view+json": {
       "model_id": "4456fbae403744518575dabb1c5f8d04",
       "version_major": 2,
       "version_minor": 0
      },
      "text/plain": [
       "HBox(children=(IntProgress(value=0, description='Epoch', max=31), HTML(value='')))"
      ]
     },
     "metadata": {},
     "output_type": "display_data"
    },
    {
     "name": "stdout",
     "output_type": "stream",
     "text": [
      "epoch      trn_loss   val_loss   dice       <lambda>       \n",
      "    0      0.162457   0.178668   0.856838   0.930689  \n",
      "    1      0.150986   0.200351   0.855083   0.930101       \n",
      "    2      0.127243   0.198539   0.865029   0.933219       \n",
      "    3      0.13985    0.226063   0.839782   0.920861       \n",
      "    4      0.14124    0.24819    0.831995   0.919092       \n",
      "    5      0.121508   0.220104   0.855816   0.92926        \n",
      "    6      0.101822   0.214554   0.856481   0.928675       \n",
      "    7      0.122413   0.22485    0.810417   0.913496        \n",
      "    8      0.13496    0.220828   0.818211   0.908188       \n",
      "    9      0.12973    0.210161   0.862785   0.93356        \n",
      "    10     0.113485   0.234665   0.853914   0.929639       \n",
      "    11     0.099529   0.254969   0.861696   0.932288        \n",
      "    12     0.085868   0.225844   0.861391   0.931773        \n",
      "    13     0.073992   0.237306   0.859612   0.930864        \n",
      "    14     0.067122   0.236662   0.861372   0.931611        \n",
      "    15     0.097618   0.245877   0.822288   0.911588        \n",
      "    16     0.123835   0.204868   0.845897   0.924408       \n",
      "    17     0.132401   0.225461   0.836197   0.916384       \n",
      "    18     0.135956   0.216376   0.839353   0.921943       \n",
      "    19     0.12246    0.254088   0.835235   0.913468       \n",
      "    20     0.110602   0.223877   0.870419   0.935341       \n",
      "    21     0.095189   0.229425   0.866273   0.93328         \n",
      "    22     0.084053   0.233185   0.869973   0.934221        \n",
      "    23     0.074639   0.202892   0.877952   0.939387        \n",
      "    24     0.067553   0.235853   0.868742   0.934672        \n",
      "    25     0.060292   0.248385   0.870878   0.934354        \n",
      "    26     0.054879   0.256256   0.875764   0.93838         \n",
      "    27     0.051318   0.249704   0.873893   0.936518        \n",
      "    28     0.048372   0.251568   0.879744   0.940022        \n",
      "    29     0.047786   0.250511   0.879605   0.939806        \n",
      "    30     0.046588   0.25203    0.879339   0.939768        \n",
      "_____________________________\n",
      "_____________________________\n",
      "Running fold 3 / 10\n",
      "Running on 32x32\n"
     ]
    },
    {
     "data": {
      "application/vnd.jupyter.widget-view+json": {
       "model_id": "8687d3914ad04a1bb47fa7b2af84fb49",
       "version_major": 2,
       "version_minor": 0
      },
      "text/plain": [
       "HBox(children=(IntProgress(value=0, description='Epoch', max=8), HTML(value='')))"
      ]
     },
     "metadata": {},
     "output_type": "display_data"
    },
    {
     "name": "stdout",
     "output_type": "stream",
     "text": [
      "epoch      trn_loss   val_loss   dice       <lambda>       \n",
      "    0      0.327037   1.781849   0.664469   0.806564  \n",
      "    1      0.261266   0.253756   0.778142   0.902759       \n",
      "    2      0.233775   0.264622   0.791414   0.901605       \n",
      "    3      0.211047   0.209561   0.801347   0.917154       \n",
      "    4      0.188633   0.22884    0.815143   0.917517       \n",
      "    5      0.170996   0.208053   0.815245   0.920355       \n",
      "    6      0.153844   0.234792   0.817279   0.918817       \n",
      "    7      0.135443   0.207592   0.839057   0.929538       \n"
     ]
    },
    {
     "data": {
      "application/vnd.jupyter.widget-view+json": {
       "model_id": "c098437c66de41569df57a0840f58b99",
       "version_major": 2,
       "version_minor": 0
      },
      "text/plain": [
       "HBox(children=(IntProgress(value=0, description='Epoch', max=20), HTML(value='')))"
      ]
     },
     "metadata": {},
     "output_type": "display_data"
    },
    {
     "name": "stdout",
     "output_type": "stream",
     "text": [
      "epoch      trn_loss   val_loss   dice       <lambda>       \n",
      "    0      0.281955   0.22825    0.79744    0.914981  \n",
      "    1      0.291882   0.527686   0.196997   0.791983       \n",
      "    2      0.468872   0.541478   0.0        0.768536       \n",
      "    3      0.523794   0.542545   0.0        0.768536       \n",
      "    4      0.543179   0.539145   0.0        0.768536       \n",
      "    5      0.549763   0.539343   0.0        0.768536       \n",
      "    6      0.553436   0.539309   0.0        0.768536       \n",
      "    7      0.552277   0.538581   0.0        0.768536       \n",
      "    8      0.554489   0.540859   0.0        0.768536       \n",
      "    9      0.553685   0.538547   0.0        0.768536       \n",
      "    10     0.553282   0.539817   0.0        0.768536       \n",
      "    11     0.552726   0.538237   0.0        0.768536       \n",
      "    12     0.552039   0.538578   0.0        0.768536       \n",
      "    13     0.554734   0.542158   0.0        0.768536       \n",
      "    14     0.554096   0.541915   0.0        0.768536       \n",
      "    15     0.553342   0.538921   0.0        0.768536       \n",
      "    16     0.552873   0.538966   0.0        0.768536       \n",
      "    17     0.553461   0.539489   0.0        0.768536       \n",
      "    18     0.551915   0.538461   0.0        0.768536       \n",
      "    19     0.552337   0.538846   0.0        0.768536       \n",
      "Running on 64x64\n"
     ]
    },
    {
     "data": {
      "application/vnd.jupyter.widget-view+json": {
       "model_id": "e9db5d4bf6c444998d711c81227dab29",
       "version_major": 2,
       "version_minor": 0
      },
      "text/plain": [
       "HBox(children=(IntProgress(value=0, description='Epoch', max=10), HTML(value='')))"
      ]
     },
     "metadata": {},
     "output_type": "display_data"
    },
    {
     "name": "stdout",
     "output_type": "stream",
     "text": [
      "epoch      trn_loss   val_loss   dice       <lambda>       \n",
      "    0      0.289789   0.221047   0.803277   0.918018  \n",
      "    1      0.29405    0.243694   0.770021   0.907806       \n",
      "    2      0.25626    0.269903   0.693557   0.888087       \n",
      "    3      0.239148   0.190296   0.834905   0.928831       \n",
      "    4      0.212661   0.192762   0.831493   0.92637        \n",
      "    5      0.200454   0.183652   0.845392   0.931731       \n",
      "    6      0.185098   0.176843   0.846289   0.931841       \n",
      "    7      0.175241   0.175219   0.846515   0.932863       \n",
      "    8      0.166847   0.167486   0.846826   0.934172       \n",
      "    9      0.160446   0.16057    0.856619   0.936674       \n"
     ]
    },
    {
     "data": {
      "application/vnd.jupyter.widget-view+json": {
       "model_id": "3645e4afd41a43f5b357eaabc9ce4b7b",
       "version_major": 2,
       "version_minor": 0
      },
      "text/plain": [
       "HBox(children=(IntProgress(value=0, description='Epoch', max=8), HTML(value='')))"
      ]
     },
     "metadata": {},
     "output_type": "display_data"
    },
    {
     "name": "stdout",
     "output_type": "stream",
     "text": [
      "epoch      trn_loss   val_loss   dice       <lambda>       \n",
      "    0      0.255453   0.21742    0.813445   0.920501  \n",
      "    1      0.218264   0.189497   0.832508   0.929008       \n",
      "    2      0.201237   0.25814    0.674324   0.880234       \n",
      "    3      0.186498   0.220515   0.85654    0.936681       \n",
      "    4      0.168293   0.15471    0.864139   0.94108        \n",
      "    5      0.150117   0.156613   0.86551    0.940574       \n",
      "    6      0.132612   0.1407     0.874236   0.945552       \n",
      "    7      0.115984   0.147148   0.880312   0.946574       \n",
      "Running on 128x128\n"
     ]
    },
    {
     "data": {
      "application/vnd.jupyter.widget-view+json": {
       "model_id": "b2a47b53bd2644518e864256c2035929",
       "version_major": 2,
       "version_minor": 0
      },
      "text/plain": [
       "HBox(children=(IntProgress(value=0, description='Epoch', max=6), HTML(value='')))"
      ]
     },
     "metadata": {},
     "output_type": "display_data"
    },
    {
     "name": "stdout",
     "output_type": "stream",
     "text": [
      "epoch      trn_loss   val_loss   dice       <lambda>       \n",
      "    0      0.201966   0.17588    0.845004   0.932718  \n",
      "    1      0.224512   0.260015   0.64463    0.875437       \n",
      "    2      0.212386   0.19662    0.851399   0.932917       \n",
      "    3      0.18625    0.1639     0.86101    0.938085       \n",
      "    4      0.173096   0.175479   0.849687   0.932652       \n",
      "    5      0.161543   0.155679   0.857122   0.937193       \n"
     ]
    },
    {
     "data": {
      "application/vnd.jupyter.widget-view+json": {
       "model_id": "6093947b2e0d4ea58930c9a4e78ad149",
       "version_major": 2,
       "version_minor": 0
      },
      "text/plain": [
       "HBox(children=(IntProgress(value=0, description='Epoch', max=8), HTML(value='')))"
      ]
     },
     "metadata": {},
     "output_type": "display_data"
    },
    {
     "name": "stdout",
     "output_type": "stream",
     "text": [
      "epoch      trn_loss   val_loss   dice       <lambda>       \n",
      "    0      0.191494   0.191058   0.81       0.920312  \n",
      "    1      0.201792   0.174756   0.838542   0.931447       \n",
      "    2      0.18302    0.157392   0.84715    0.93535        \n",
      "    3      0.16157    0.163055   0.865995   0.940554       \n",
      "    4      0.147416   0.165228   0.86974    0.941279       \n",
      "    5      0.135178   0.150098   0.872626   0.942599       \n",
      "    6      0.125137   0.14468    0.881249   0.946921       \n",
      "    7      0.109266   0.132654   0.886567   0.948351       \n"
     ]
    },
    {
     "data": {
      "application/vnd.jupyter.widget-view+json": {
       "model_id": "7dd3fc6248084ed6ad421a072a67c649",
       "version_major": 2,
       "version_minor": 0
      },
      "text/plain": [
       "HBox(children=(IntProgress(value=0, description='Epoch', max=31), HTML(value='')))"
      ]
     },
     "metadata": {},
     "output_type": "display_data"
    },
    {
     "name": "stdout",
     "output_type": "stream",
     "text": [
      "epoch      trn_loss   val_loss   dice       <lambda>       \n",
      "    0      0.238374   0.212971   0.833075   0.928279  \n",
      "    1      0.196238   0.152239   0.862512   0.939979       \n",
      "    2      0.154928   0.139285   0.879556   0.946852       \n",
      "    3      0.150515   0.18243    0.863573   0.937406       \n",
      "    4      0.144715   0.144007   0.856789   0.938485       \n",
      "    5      0.127411   0.131399   0.889549   0.950414       \n",
      "    6      0.106282   0.132623   0.894915   0.952646       \n",
      "    7      0.13785    0.173172   0.836768   0.93106        \n",
      "    8      0.144783   0.161148   0.857003   0.939045       \n",
      "    9      0.137342   0.134115   0.876774   0.945774       \n",
      "    10     0.121839   0.164708   0.87397    0.942747       \n",
      "    11     0.107374   0.140286   0.880683   0.946272       \n",
      "    12     0.092493   0.154512   0.885662   0.948508        \n",
      "    13     0.077587   0.145454   0.887258   0.949073        \n",
      "    14     0.069491   0.143413   0.889911   0.950284        \n",
      "    15     0.205738   0.254447   0.791456   0.913086        \n",
      "    16     0.219419   0.199047   0.803111   0.91887        \n",
      "    17     0.191993   0.14753    0.86755    0.943406       \n",
      "    18     0.17191    0.158832   0.86512    0.940998       \n",
      "    19     0.157935   0.178605   0.845653   0.934009       \n",
      "    20     0.143948   0.139374   0.873128   0.944976       \n",
      "    21     0.129959   0.145661   0.887299   0.949829       \n",
      "    22     0.118847   0.155516   0.876185   0.943251       \n",
      "    23     0.102337   0.146012   0.888507   0.949596       \n",
      "    24     0.095788   0.134328   0.88695    0.950535        \n",
      "    25     0.085993   0.144238   0.888035   0.949042        \n",
      "    26     0.078116   0.139371   0.901446   0.95567         \n",
      "    27     0.069596   0.147972   0.898815   0.953685        \n",
      "    28     0.063949   0.150864   0.899552   0.953994        \n",
      "    29     0.061013   0.151645   0.899033   0.954453        \n",
      "    30     0.059677   0.15199    0.899291   0.954614        \n",
      "_____________________________\n",
      "_____________________________\n",
      "Running fold 4 / 10\n",
      "Running on 32x32\n"
     ]
    },
    {
     "data": {
      "application/vnd.jupyter.widget-view+json": {
       "model_id": "0bdc5f12c1dc4067ab990b1f79355f87",
       "version_major": 2,
       "version_minor": 0
      },
      "text/plain": [
       "HBox(children=(IntProgress(value=0, description='Epoch', max=8), HTML(value='')))"
      ]
     },
     "metadata": {},
     "output_type": "display_data"
    },
    {
     "name": "stdout",
     "output_type": "stream",
     "text": [
      "epoch      trn_loss   val_loss   dice       <lambda>       \n",
      "    0      0.338682   7.493218   0.562879   0.613834  \n",
      "    1      0.268682   0.217447   0.83079    0.913654       \n",
      "    2      0.233758   0.206071   0.809524   0.91225        \n",
      "    3      0.217714   0.203831   0.827116   0.918555       \n",
      "    4      0.194643   0.212766   0.832214   0.919162       \n",
      "    5      0.180572   0.235501   0.842446   0.917792       \n",
      "    6      0.161301   0.186595   0.845005   0.925034       \n",
      "    7      0.149154   0.184812   0.855      0.927859       \n"
     ]
    },
    {
     "data": {
      "application/vnd.jupyter.widget-view+json": {
       "model_id": "1445d7ca4a2641fe9c9143de8f93e27e",
       "version_major": 2,
       "version_minor": 0
      },
      "text/plain": [
       "HBox(children=(IntProgress(value=0, description='Epoch', max=20), HTML(value='')))"
      ]
     },
     "metadata": {},
     "output_type": "display_data"
    },
    {
     "name": "stdout",
     "output_type": "stream",
     "text": [
      "epoch      trn_loss   val_loss   dice       <lambda>       \n",
      "    0      0.272353   0.226817   0.817258   0.909052  \n",
      "    1      0.265879   0.379711   0.757484   0.863617       \n",
      "    2      0.285486   0.278124   0.701709   0.87478        \n",
      "    3      0.246428   0.204284   0.85443    0.929282       \n",
      "    4      0.227824   0.244312   0.717217   0.883167       \n",
      "    5      0.221647   0.191957   0.847691   0.924289       \n",
      "    6      0.227331   0.24165    0.752986   0.892712       \n",
      "    7      0.203253   0.17849    0.863406   0.933426       \n",
      "    8      0.194324   0.194893   0.841477   0.922794       \n",
      "    9      0.170111   0.172929   0.859771   0.931076       \n",
      "    10     0.161451   0.194845   0.822317   0.919006       \n",
      "    11     0.148421   0.171768   0.859026   0.932025       \n",
      "    12     0.139231   0.166904   0.858692   0.931454       \n",
      "    13     0.128494   0.162094   0.865417   0.93215        \n",
      "    14     0.119836   0.163473   0.873108   0.934576       \n",
      "    15     0.104245   0.167311   0.873581   0.935785       \n",
      "    16     0.09318    0.171209   0.874635   0.936246        \n",
      "    17     0.085285   0.176825   0.868838   0.933307        \n",
      "    18     0.077196   0.183464   0.866855   0.933057        \n",
      "    19     0.070457   0.19187    0.86625    0.931989        \n",
      "Running on 64x64\n"
     ]
    },
    {
     "data": {
      "application/vnd.jupyter.widget-view+json": {
       "model_id": "43e6fea559d14df08d297c9449947295",
       "version_major": 2,
       "version_minor": 0
      },
      "text/plain": [
       "HBox(children=(IntProgress(value=0, description='Epoch', max=10), HTML(value='')))"
      ]
     },
     "metadata": {},
     "output_type": "display_data"
    },
    {
     "name": "stdout",
     "output_type": "stream",
     "text": [
      "epoch      trn_loss   val_loss   dice       <lambda>       \n",
      "    0      0.262642   0.207741   0.866581   0.929705  \n",
      "    1      0.217215   0.173501   0.841303   0.924696       \n",
      "    2      0.200036   0.157332   0.876664   0.938823       \n",
      "    3      0.191107   0.170208   0.877366   0.938225       \n",
      "    4      0.176204   0.158329   0.870016   0.936287       \n",
      "    5      0.169706   0.159658   0.885431   0.940307       \n",
      "    6      0.161722   0.155132   0.885631   0.940514       \n",
      "    7      0.154086   0.151779   0.891258   0.94321        \n",
      "    8      0.146347   0.162927   0.8885     0.941366       \n",
      "    9      0.135273   0.147872   0.890659   0.94323        \n"
     ]
    },
    {
     "data": {
      "application/vnd.jupyter.widget-view+json": {
       "model_id": "4638b2a6860143d896aa75150f98bb47",
       "version_major": 2,
       "version_minor": 0
      },
      "text/plain": [
       "HBox(children=(IntProgress(value=0, description='Epoch', max=8), HTML(value='')))"
      ]
     },
     "metadata": {},
     "output_type": "display_data"
    },
    {
     "name": "stdout",
     "output_type": "stream",
     "text": [
      "epoch      trn_loss   val_loss   dice       <lambda>       \n",
      "    0      0.174224   0.153628   0.880068   0.940128  \n",
      "    1      0.183238   0.156869   0.873607   0.936577       \n",
      "    2      0.165652   0.188174   0.886519   0.938852       \n",
      "    3      0.157793   0.142136   0.894879   0.946647       \n",
      "    4      0.147524   0.150663   0.895916   0.946484       \n",
      "    5      0.126592   0.163578   0.895111   0.944415       \n",
      "    6      0.106154   0.1385     0.899036   0.947822       \n",
      "    7      0.091811   0.139366   0.908389   0.9519          \n",
      "Running on 128x128\n"
     ]
    },
    {
     "data": {
      "application/vnd.jupyter.widget-view+json": {
       "model_id": "eaba311d81ce45b082fb7ab5dda0e4b4",
       "version_major": 2,
       "version_minor": 0
      },
      "text/plain": [
       "HBox(children=(IntProgress(value=0, description='Epoch', max=6), HTML(value='')))"
      ]
     },
     "metadata": {},
     "output_type": "display_data"
    },
    {
     "name": "stdout",
     "output_type": "stream",
     "text": [
      "epoch      trn_loss   val_loss   dice       <lambda>       \n",
      "    0      0.221374   0.189985   0.872082   0.935789  \n",
      "    1      0.245708   0.232821   0.852376   0.923522       \n",
      "    2      0.228635   0.191609   0.866988   0.933125       \n",
      "    3      0.209612   0.17339    0.878952   0.938121       \n",
      "    4      0.189968   0.175148   0.879548   0.938256       \n",
      "    5      0.175114   0.159919   0.887181   0.942561       \n"
     ]
    },
    {
     "data": {
      "application/vnd.jupyter.widget-view+json": {
       "model_id": "0ad98d24420d48f2a419f836eb1560d8",
       "version_major": 2,
       "version_minor": 0
      },
      "text/plain": [
       "HBox(children=(IntProgress(value=0, description='Epoch', max=8), HTML(value='')))"
      ]
     },
     "metadata": {},
     "output_type": "display_data"
    },
    {
     "name": "stdout",
     "output_type": "stream",
     "text": [
      "epoch      trn_loss   val_loss   dice       <lambda>       \n",
      "    0      0.172383   0.193892   0.87233    0.934467  \n",
      "    1      0.181528   0.160864   0.883512   0.941225       \n",
      "    2      0.170008   0.150773   0.878684   0.939252       \n",
      "    3      0.159526   0.145966   0.890028   0.944781       \n",
      "    4      0.145284   0.142859   0.895977   0.947013       \n",
      "    5      0.130065   0.134566   0.902326   0.950005       \n",
      "    6      0.11516    0.131042   0.903832   0.950142       \n",
      "    7      0.100665   0.14359    0.90127    0.94987        \n"
     ]
    },
    {
     "data": {
      "application/vnd.jupyter.widget-view+json": {
       "model_id": "5f8be4404edb4ee78bb9e4000cb67c2e",
       "version_major": 2,
       "version_minor": 0
      },
      "text/plain": [
       "HBox(children=(IntProgress(value=0, description='Epoch', max=31), HTML(value='')))"
      ]
     },
     "metadata": {},
     "output_type": "display_data"
    },
    {
     "name": "stdout",
     "output_type": "stream",
     "text": [
      "epoch      trn_loss   val_loss   dice       <lambda>       \n",
      "    0      0.135052   0.141653   0.898407   0.94794   \n",
      "    1      0.134536   0.145891   0.89321    0.94666        \n",
      "    2      0.115829   0.137637   0.902617   0.950479       \n",
      "    3      0.126761   0.157185   0.867758   0.935633       \n",
      "    4      0.123196   0.14275    0.896959   0.947933       \n",
      "    5      0.105064   0.154753   0.901978   0.949019       \n",
      "    6      0.089039   0.135474   0.906672   0.951421        \n",
      "    7      0.11599    0.18581    0.877395   0.938948        \n",
      "    8      0.138523   0.177948   0.851527   0.927399       \n",
      "    9      0.134659   0.137533   0.901536   0.949961       \n",
      "    10     0.115852   0.143771   0.906378   0.951293       \n",
      "    11     0.095713   0.136801   0.912741   0.954765        \n",
      "    12     0.081809   0.152808   0.906943   0.951818        \n",
      "    13     0.071063   0.14877    0.907928   0.952085        \n",
      "    14     0.065514   0.153195   0.907445   0.952065        \n",
      "    15     0.098105   0.234869   0.862495   0.926467        \n",
      "    16     0.126142   0.223774   0.811881   0.914031       \n",
      "    17     0.137521   0.171302   0.892081   0.943244       \n",
      "    18     0.122924   0.156747   0.892181   0.946494       \n",
      "    19     0.112612   0.166435   0.897386   0.946802       \n",
      "    20     0.111758   0.145082   0.90013    0.949222       \n",
      "    21     0.097127   0.154619   0.903341   0.949548        \n",
      "    22     0.086713   0.128334   0.913256   0.954851        \n",
      "    23     0.07535    0.135307   0.907088   0.950751        \n",
      "    24     0.067218   0.15808    0.901089   0.948897        \n",
      "    25     0.059445   0.150704   0.906136   0.951747        \n",
      "    26     0.05454    0.14723    0.91315    0.954838        \n",
      "    27     0.051152   0.14937    0.909655   0.953385        \n",
      "    28     0.049072   0.156117   0.909576   0.953069        \n",
      "    29     0.046882   0.156771   0.909785   0.953193        \n",
      "    30     0.045806   0.157142   0.909794   0.953195        \n",
      "_____________________________\n",
      "_____________________________\n",
      "Running fold 5 / 10\n",
      "Running on 32x32\n"
     ]
    },
    {
     "data": {
      "application/vnd.jupyter.widget-view+json": {
       "model_id": "fa4c076465af405186214bbb508932eb",
       "version_major": 2,
       "version_minor": 0
      },
      "text/plain": [
       "HBox(children=(IntProgress(value=0, description='Epoch', max=8), HTML(value='')))"
      ]
     },
     "metadata": {},
     "output_type": "display_data"
    },
    {
     "name": "stdout",
     "output_type": "stream",
     "text": [
      "epoch      trn_loss   val_loss   dice       <lambda>       \n",
      "    0      0.323687   2.761384   0.595773   0.685648  \n",
      "    1      0.255663   1.941119   0.519024   0.818436       \n",
      "    2      0.230888   0.32644    0.78082    0.880954       \n",
      "    3      0.209063   0.225645   0.80728    0.910938       \n",
      "    4      0.187549   0.284659   0.705212   0.879401       \n",
      "    5      0.176961   0.239052   0.820233   0.909564       \n",
      "    6      0.159438   0.240362   0.823789   0.910468       \n",
      "    7      0.140313   0.24308    0.804398   0.91041        \n"
     ]
    },
    {
     "data": {
      "application/vnd.jupyter.widget-view+json": {
       "model_id": "295a439c50d84188a8d2f5f30e0389f7",
       "version_major": 2,
       "version_minor": 0
      },
      "text/plain": [
       "HBox(children=(IntProgress(value=0, description='Epoch', max=20), HTML(value='')))"
      ]
     },
     "metadata": {},
     "output_type": "display_data"
    },
    {
     "name": "stdout",
     "output_type": "stream",
     "text": [
      "epoch      trn_loss   val_loss   dice       <lambda>       \n",
      "    0      0.247579   0.309121   0.653171   0.863385  \n",
      "    1      0.28456    0.375519   0.504435   0.82515        \n",
      "    2      0.272181   0.271313   0.745223   0.890198       \n",
      "    3      0.245256   0.259128   0.727922   0.884393       \n",
      "    4      0.225531   0.258469   0.783766   0.899026       \n",
      "    5      0.21865    0.26045    0.813831   0.909433       \n",
      "    6      0.205148   0.244768   0.799383   0.908621       \n",
      "    7      0.196404   0.248718   0.772914   0.8995         \n",
      "    8      0.178458   0.241905   0.816658   0.91257        \n",
      "    9      0.163642   0.280602   0.762344   0.891144       \n",
      "    10     0.155867   0.247267   0.829505   0.91507        \n",
      "    11     0.152383   0.221887   0.827218   0.918951       \n",
      "    12     0.137373   0.229703   0.837499   0.922733       \n",
      "    13     0.12538    0.282567   0.788013   0.903778       \n",
      "    14     0.117527   0.268558   0.807316   0.911191       \n",
      "    15     0.104004   0.278839   0.813282   0.912848       \n",
      "    16     0.090793   0.268687   0.831422   0.918774        \n",
      "    17     0.080964   0.272862   0.838291   0.921875        \n",
      "    18     0.072636   0.305027   0.831974   0.919244        \n",
      "    19     0.068828   0.296673   0.832403   0.918835        \n",
      "Running on 64x64\n"
     ]
    },
    {
     "data": {
      "application/vnd.jupyter.widget-view+json": {
       "model_id": "57f98168f34f495889ad46f4dd91f005",
       "version_major": 2,
       "version_minor": 0
      },
      "text/plain": [
       "HBox(children=(IntProgress(value=0, description='Epoch', max=10), HTML(value='')))"
      ]
     },
     "metadata": {},
     "output_type": "display_data"
    },
    {
     "name": "stdout",
     "output_type": "stream",
     "text": [
      "epoch      trn_loss   val_loss   dice       <lambda>       \n",
      "    0      0.252825   0.242238   0.785921   0.903213  \n",
      "    1      0.218584   0.215813   0.821415   0.916537       \n",
      "    2      0.195389   0.21039    0.844088   0.923734       \n",
      "    3      0.183852   0.208566   0.795777   0.90894        \n",
      "    4      0.173113   0.214195   0.8447     0.924973       \n",
      "    5      0.160051   0.201625   0.819933   0.918317       \n",
      "    6      0.150395   0.200964   0.850398   0.929234       \n",
      "    7      0.137644   0.214554   0.829169   0.921008       \n",
      "    8      0.129093   0.2044     0.841478   0.924291       \n",
      "    9      0.119707   0.212745   0.855435   0.928722       \n"
     ]
    },
    {
     "data": {
      "application/vnd.jupyter.widget-view+json": {
       "model_id": "51ee325f852843d189f7b7ac1c977884",
       "version_major": 2,
       "version_minor": 0
      },
      "text/plain": [
       "HBox(children=(IntProgress(value=0, description='Epoch', max=8), HTML(value='')))"
      ]
     },
     "metadata": {},
     "output_type": "display_data"
    },
    {
     "name": "stdout",
     "output_type": "stream",
     "text": [
      "epoch      trn_loss   val_loss   dice       <lambda>       \n",
      "    0      0.1489     0.199297   0.815031   0.914501  \n",
      "    1      0.168413   0.201133   0.850027   0.926083       \n",
      "    2      0.160622   0.182409   0.846153   0.926386       \n",
      "    3      0.136672   0.188227   0.841541   0.926817       \n",
      "    4      0.120168   0.193071   0.851489   0.929008       \n",
      "    5      0.102452   0.203911   0.854855   0.931773       \n",
      "    6      0.091141   0.18165    0.872035   0.937476        \n",
      "    7      0.079124   0.199565   0.870476   0.937338        \n",
      "Running on 128x128\n"
     ]
    },
    {
     "data": {
      "application/vnd.jupyter.widget-view+json": {
       "model_id": "1e024c52b58a4acfb51c7cb9a07a1601",
       "version_major": 2,
       "version_minor": 0
      },
      "text/plain": [
       "HBox(children=(IntProgress(value=0, description='Epoch', max=6), HTML(value='')))"
      ]
     },
     "metadata": {},
     "output_type": "display_data"
    },
    {
     "name": "stdout",
     "output_type": "stream",
     "text": [
      "epoch      trn_loss   val_loss   dice       <lambda>       \n",
      "    0      0.216313   0.240996   0.805385   0.911295  \n",
      "    1      0.200994   0.234354   0.782139   0.904047       \n",
      "    2      0.188509   0.238619   0.796437   0.909377       \n",
      "    3      0.177018   0.224892   0.824544   0.918446       \n",
      "    4      0.165624   0.209173   0.833679   0.92137        \n",
      "    5      0.156969   0.210103   0.83405    0.921414       \n"
     ]
    },
    {
     "data": {
      "application/vnd.jupyter.widget-view+json": {
       "model_id": "a5f22e16495e4cdc878c157527177180",
       "version_major": 2,
       "version_minor": 0
      },
      "text/plain": [
       "HBox(children=(IntProgress(value=0, description='Epoch', max=8), HTML(value='')))"
      ]
     },
     "metadata": {},
     "output_type": "display_data"
    },
    {
     "name": "stdout",
     "output_type": "stream",
     "text": [
      "epoch      trn_loss   val_loss   dice       <lambda>       \n",
      "    0      0.164381   0.244031   0.839426   0.919535  \n",
      "    1      0.164192   0.216439   0.827771   0.918958       \n",
      "    2      0.14698    0.195584   0.8456     0.925723       \n",
      "    3      0.142347   0.200201   0.833699   0.921873       \n",
      "    4      0.132575   0.199826   0.847417   0.927135       \n",
      "    5      0.118116   0.196336   0.859389   0.931852       \n",
      "    6      0.10453    0.187219   0.850112   0.928955       \n",
      "    7      0.090553   0.196073   0.859752   0.932756        \n"
     ]
    },
    {
     "data": {
      "application/vnd.jupyter.widget-view+json": {
       "model_id": "fcef04d1d6454291970a198647416448",
       "version_major": 2,
       "version_minor": 0
      },
      "text/plain": [
       "HBox(children=(IntProgress(value=0, description='Epoch', max=31), HTML(value='')))"
      ]
     },
     "metadata": {},
     "output_type": "display_data"
    },
    {
     "name": "stdout",
     "output_type": "stream",
     "text": [
      "epoch      trn_loss   val_loss   dice       <lambda>       \n",
      "    0      0.122661   0.193846   0.846243   0.927112  \n",
      "    1      0.121764   0.207239   0.841681   0.923599       \n",
      "    2      0.098076   0.19136    0.860536   0.931475        \n",
      "    3      0.134577   0.197541   0.837824   0.922832        \n",
      "    4      0.124855   0.181855   0.866537   0.935982       \n",
      "    5      0.104048   0.182137   0.868603   0.935722       \n",
      "    6      0.087116   0.182209   0.87207    0.936683        \n",
      "    7      0.122668   0.217381   0.822586   0.917602        \n",
      "    8      0.128865   0.188779   0.837818   0.926238       \n",
      "    9      0.120305   0.202475   0.86229    0.932285       \n",
      "    10     0.112796   0.187685   0.844997   0.92721        \n",
      "    11     0.099551   0.198524   0.865342   0.932657        \n",
      "    12     0.084504   0.198529   0.868475   0.936105        \n",
      "    13     0.071553   0.20484    0.872762   0.937935        \n",
      "    14     0.06425    0.205965   0.873993   0.938122        \n",
      "    15     0.082288   0.243179   0.84414    0.925778        \n",
      "    16     0.11161    0.243386   0.834492   0.918725        \n",
      "    17     0.111764   0.253328   0.842115   0.92396        \n",
      "    18     0.105214   0.287682   0.832117   0.921714       \n",
      "    19     0.10237    0.221216   0.856994   0.930772       \n",
      "    20     0.090671   0.226523   0.861433   0.933286        \n",
      "    21     0.081248   0.203091   0.871677   0.938217        \n",
      "    22     0.074742   0.231466   0.862762   0.932133        \n",
      "    23     0.065302   0.242269   0.862604   0.932149        \n",
      "    24     0.058077   0.241648   0.86037    0.931815        \n",
      "    25     0.052443   0.25092    0.861592   0.93293         \n",
      "    26     0.048824   0.261468   0.864793   0.935071        \n",
      "    27     0.046127   0.258245   0.868434   0.93646         \n",
      "    28     0.044193   0.261699   0.869005   0.936615        \n",
      "    29     0.042924   0.268213   0.866956   0.935912        \n",
      "    30     0.041864   0.268144   0.866867   0.935869        \n",
      "_____________________________\n",
      "_____________________________\n",
      "Running fold 6 / 10\n",
      "Running on 32x32\n"
     ]
    },
    {
     "data": {
      "application/vnd.jupyter.widget-view+json": {
       "model_id": "39da6e7495ff432ba00c367f2b52a746",
       "version_major": 2,
       "version_minor": 0
      },
      "text/plain": [
       "HBox(children=(IntProgress(value=0, description='Epoch', max=8), HTML(value='')))"
      ]
     },
     "metadata": {},
     "output_type": "display_data"
    },
    {
     "name": "stdout",
     "output_type": "stream",
     "text": [
      "epoch      trn_loss   val_loss   dice       <lambda>       \n",
      "    0      0.329103   3.87299    0.557945   0.637131  \n",
      "    1      0.272489   0.246195   0.81306    0.91405        \n",
      "    2      0.237208   0.25245    0.825041   0.914508       \n",
      "    3      0.214454   0.209219   0.845184   0.922369       \n",
      "    4      0.19725    0.220427   0.818496   0.919141       \n",
      "    5      0.180126   0.20903    0.835596   0.922879       \n",
      "    6      0.162144   0.183976   0.833425   0.924402       \n",
      "    7      0.151904   0.191758   0.840979   0.927499       \n"
     ]
    },
    {
     "data": {
      "application/vnd.jupyter.widget-view+json": {
       "model_id": "e2f55382c35b4a3091b20f11d9dde9f8",
       "version_major": 2,
       "version_minor": 0
      },
      "text/plain": [
       "HBox(children=(IntProgress(value=0, description='Epoch', max=20), HTML(value='')))"
      ]
     },
     "metadata": {},
     "output_type": "display_data"
    },
    {
     "name": "stdout",
     "output_type": "stream",
     "text": [
      "epoch      trn_loss   val_loss   dice       <lambda>       \n",
      "    0      0.263251   0.283429   0.696359   0.881308  \n",
      "    1      0.275185   0.323309   0.51946    0.832562       \n",
      "    2      0.30429    0.249837   0.7272     0.889279       \n",
      "    3      0.254924   0.191149   0.810004   0.915543       \n",
      "    4      0.281148   0.49407    0.265464   0.776086       \n",
      "    5      0.325299   0.267062   0.760101   0.893112       \n",
      "    6      0.29023    0.253718   0.79315    0.905042       \n",
      "    7      0.258176   0.224943   0.748109   0.895316       \n",
      "    8      0.236739   0.21503    0.82539    0.917694       \n",
      "    9      0.211507   0.196792   0.830817   0.922879       \n",
      "    10     0.199104   0.214315   0.858929   0.927762       \n",
      "    11     0.187008   0.191759   0.816815   0.918048       \n",
      "    12     0.166366   0.226778   0.77921    0.906146       \n",
      "    13     0.170678   0.178946   0.864835   0.936609       \n",
      "    14     0.152544   0.246894   0.790867   0.907629       \n",
      "    15     0.138641   0.206584   0.858643   0.927469       \n",
      "    16     0.140171   0.190003   0.839462   0.926273       \n",
      "    17     0.122976   0.178786   0.872038   0.937604       \n",
      "    18     0.108866   0.176082   0.874803   0.938989       \n",
      "    19     0.097443   0.175199   0.870719   0.938821        \n",
      "Running on 64x64\n"
     ]
    },
    {
     "data": {
      "application/vnd.jupyter.widget-view+json": {
       "model_id": "732e0c1263e74c28a136d5ad892d5941",
       "version_major": 2,
       "version_minor": 0
      },
      "text/plain": [
       "HBox(children=(IntProgress(value=0, description='Epoch', max=10), HTML(value='')))"
      ]
     },
     "metadata": {},
     "output_type": "display_data"
    },
    {
     "name": "stdout",
     "output_type": "stream",
     "text": [
      "epoch      trn_loss   val_loss   dice       <lambda>       \n",
      "    0      0.28719    0.21736    0.798018   0.909114  \n",
      "    1      0.250985   0.21       0.789474   0.908833       \n",
      "    2      0.231389   0.202722   0.797828   0.912132       \n",
      "    3      0.21618    0.194546   0.85557    0.928424       \n",
      "    4      0.208083   0.176862   0.852731   0.931384       \n",
      "    5      0.196605   0.175359   0.850992   0.930675       \n",
      "    6      0.188503   0.171184   0.851054   0.931257       \n",
      "    7      0.183931   0.170888   0.862161   0.935491       \n",
      "    8      0.180224   0.167986   0.865187   0.936474       \n",
      "    9      0.171973   0.169406   0.86656    0.937463       \n"
     ]
    },
    {
     "data": {
      "application/vnd.jupyter.widget-view+json": {
       "model_id": "a3ed2b5daefa4fb3925c4c93c3352b06",
       "version_major": 2,
       "version_minor": 0
      },
      "text/plain": [
       "HBox(children=(IntProgress(value=0, description='Epoch', max=8), HTML(value='')))"
      ]
     },
     "metadata": {},
     "output_type": "display_data"
    },
    {
     "name": "stdout",
     "output_type": "stream",
     "text": [
      "epoch      trn_loss   val_loss   dice       <lambda>       \n",
      "    0      0.187429   0.173631   0.825818   0.922738  \n",
      "    1      0.183313   0.195982   0.803605   0.915063       \n",
      "    2      0.175446   0.170198   0.878718   0.94063        \n",
      "    3      0.168544   0.182907   0.856842   0.930058       \n",
      "    4      0.150657   0.136123   0.898755   0.949861       \n",
      "    5      0.137138   0.160677   0.877312   0.941021       \n",
      "    6      0.120771   0.156682   0.889072   0.947249       \n",
      "    7      0.10622    0.145719   0.893826   0.94836        \n",
      "Running on 128x128\n"
     ]
    },
    {
     "data": {
      "application/vnd.jupyter.widget-view+json": {
       "model_id": "3dff4f62c9294ca3aaf64688330028bf",
       "version_major": 2,
       "version_minor": 0
      },
      "text/plain": [
       "HBox(children=(IntProgress(value=0, description='Epoch', max=6), HTML(value='')))"
      ]
     },
     "metadata": {},
     "output_type": "display_data"
    },
    {
     "name": "stdout",
     "output_type": "stream",
     "text": [
      "epoch      trn_loss   val_loss   dice       <lambda>       \n",
      "    0      0.25404    0.207589   0.830828   0.9222    \n",
      "    1      0.236495   0.231098   0.745519   0.895066       \n",
      "    2      0.221899   0.206256   0.813468   0.917073       \n",
      "    3      0.211861   0.193949   0.839127   0.926556       \n",
      "    4      0.200962   0.177868   0.846453   0.929862       \n",
      "    5      0.191968   0.179523   0.856982   0.932822       \n"
     ]
    },
    {
     "data": {
      "application/vnd.jupyter.widget-view+json": {
       "model_id": "0a2e9fb02911462bb0576f930a63afa3",
       "version_major": 2,
       "version_minor": 0
      },
      "text/plain": [
       "HBox(children=(IntProgress(value=0, description='Epoch', max=8), HTML(value='')))"
      ]
     },
     "metadata": {},
     "output_type": "display_data"
    },
    {
     "name": "stdout",
     "output_type": "stream",
     "text": [
      "epoch      trn_loss   val_loss   dice       <lambda>       \n",
      "    0      0.190586   0.197888   0.828834   0.921286  \n",
      "    1      0.199965   0.178384   0.858799   0.933257       \n",
      "    2      0.187882   0.173141   0.882113   0.940139       \n",
      "    3      0.1728     0.18031    0.844162   0.929345       \n",
      "    4      0.167488   0.156115   0.87482    0.940623       \n",
      "    5      0.152899   0.157071   0.877292   0.939789       \n",
      "    6      0.140712   0.149941   0.886142   0.945049       \n",
      "    7      0.128923   0.14735    0.892287   0.946827       \n"
     ]
    },
    {
     "data": {
      "application/vnd.jupyter.widget-view+json": {
       "model_id": "77ac70df217b4eaf8f03be2d0161c6ec",
       "version_major": 2,
       "version_minor": 0
      },
      "text/plain": [
       "HBox(children=(IntProgress(value=0, description='Epoch', max=31), HTML(value='')))"
      ]
     },
     "metadata": {},
     "output_type": "display_data"
    },
    {
     "name": "stdout",
     "output_type": "stream",
     "text": [
      "epoch      trn_loss   val_loss   dice       <lambda>       \n",
      "    0      0.165243   0.16076    0.870609   0.937749  \n",
      "    1      0.156259   0.16157    0.872325   0.939551       \n",
      "    2      0.137211   0.144233   0.889456   0.945656       \n",
      "    3      0.154638   0.17068    0.847967   0.93188        \n",
      "    4      0.159542   0.155873   0.884576   0.943196       \n",
      "    5      0.143079   0.160267   0.877351   0.941455       \n",
      "    6      0.125299   0.155664   0.893041   0.94699        \n",
      "    7      0.145101   0.179019   0.872632   0.938164       \n",
      "    8      0.157979   0.164044   0.890099   0.944592       \n",
      "    9      0.148716   0.165908   0.874629   0.939536       \n",
      "    10     0.139013   0.15517    0.879703   0.941508       \n",
      "    11     0.121746   0.16233    0.885447   0.944658       \n",
      "    12     0.105028   0.165779   0.888522   0.945609       \n",
      "    13     0.092983   0.153843   0.898211   0.950098        \n",
      "    14     0.086226   0.157991   0.896874   0.94961         \n",
      "    15     0.122261   0.159653   0.888646   0.945332        \n",
      "    16     0.137039   0.185611   0.869936   0.934915       \n",
      "    17     0.143506   0.180519   0.865435   0.93722        \n",
      "    18     0.141504   0.15963    0.889152   0.944603       \n",
      "    19     0.134268   0.197187   0.884164   0.944062       \n",
      "    20     0.123622   0.171208   0.883113   0.94132        \n",
      "    21     0.115198   0.150604   0.887621   0.945782       \n",
      "    22     0.108108   0.162208   0.893078   0.946762       \n",
      "    23     0.098917   0.167226   0.884181   0.941846        \n",
      "    24     0.089951   0.165353   0.889699   0.946261        \n",
      "    25     0.078089   0.167153   0.898862   0.950407        \n",
      "    26     0.071087   0.168883   0.898335   0.950277        \n",
      "    27     0.06507    0.173267   0.89579    0.948879        \n",
      "    28     0.061632   0.17665    0.894453   0.948279        \n",
      "    29     0.057814   0.176221   0.895986   0.949026        \n",
      "    30     0.056664   0.176923   0.895895   0.949016        \n",
      "_____________________________\n",
      "_____________________________\n",
      "Running fold 7 / 10\n",
      "Running on 32x32\n"
     ]
    },
    {
     "data": {
      "application/vnd.jupyter.widget-view+json": {
       "model_id": "3c33502418ab49e797bd22ce4d2ff083",
       "version_major": 2,
       "version_minor": 0
      },
      "text/plain": [
       "HBox(children=(IntProgress(value=0, description='Epoch', max=8), HTML(value='')))"
      ]
     },
     "metadata": {},
     "output_type": "display_data"
    },
    {
     "name": "stdout",
     "output_type": "stream",
     "text": [
      "epoch      trn_loss   val_loss   dice       <lambda>       \n",
      "    0      0.329122   10.689386  0.489571   0.5095    \n",
      "    1      0.266819   0.232691   0.80073    0.910886       \n",
      "    2      0.23508    0.236752   0.812456   0.912796       \n",
      "    3      0.211206   0.198074   0.80506    0.917307       \n",
      "    4      0.191658   0.234181   0.751548   0.901419       \n",
      "    5      0.172372   0.198758   0.793892   0.916397       \n",
      "    6      0.156936   0.187079   0.829865   0.926398       \n",
      "    7      0.140851   0.187333   0.822469   0.923813       \n"
     ]
    },
    {
     "data": {
      "application/vnd.jupyter.widget-view+json": {
       "model_id": "ac53eadb73444589b34457b13c6cb640",
       "version_major": 2,
       "version_minor": 0
      },
      "text/plain": [
       "HBox(children=(IntProgress(value=0, description='Epoch', max=20), HTML(value='')))"
      ]
     },
     "metadata": {},
     "output_type": "display_data"
    },
    {
     "name": "stdout",
     "output_type": "stream",
     "text": [
      "epoch      trn_loss   val_loss   dice       <lambda>       \n",
      "    0      0.30705    0.252548   0.773154   0.906015  \n",
      "    1      0.261258   0.303784   0.788736   0.896912       \n",
      "    2      0.287672   0.275575   0.656322   0.874722       \n",
      "    3      0.267093   0.240822   0.767343   0.90477        \n",
      "    4      0.225988   0.203582   0.8331     0.922583       \n",
      "    5      0.214618   0.209762   0.813372   0.918137       \n",
      "    6      0.201186   0.331941   0.713035   0.887372       \n",
      "    7      0.191984   0.218498   0.771748   0.909616       \n",
      "    8      0.174895   0.200752   0.794507   0.916791       \n",
      "    9      0.162827   0.187483   0.83898    0.928601       \n",
      "    10     0.160846   0.194007   0.818371   0.924243       \n",
      "    11     0.14437    0.168945   0.844542   0.932709       \n",
      "    12     0.135702   0.2113     0.824735   0.921176       \n",
      "    13     0.13486    0.199915   0.805388   0.921744       \n",
      "    14     0.11855    0.203194   0.82725    0.926993       \n",
      "    15     0.103858   0.178052   0.852823   0.933395       \n",
      "    16     0.094118   0.200442   0.820762   0.925363        \n",
      "    17     0.087445   0.187498   0.853931   0.935693        \n",
      "    18     0.077276   0.198176   0.843365   0.932446        \n",
      "    19     0.071255   0.201804   0.846618   0.933136        \n",
      "Running on 64x64\n"
     ]
    },
    {
     "data": {
      "application/vnd.jupyter.widget-view+json": {
       "model_id": "78a4a237dc544849aff4bd19c323e980",
       "version_major": 2,
       "version_minor": 0
      },
      "text/plain": [
       "HBox(children=(IntProgress(value=0, description='Epoch', max=10), HTML(value='')))"
      ]
     },
     "metadata": {},
     "output_type": "display_data"
    },
    {
     "name": "stdout",
     "output_type": "stream",
     "text": [
      "epoch      trn_loss   val_loss   dice       <lambda>       \n",
      "    0      0.25544    0.228143   0.793349   0.913043  \n",
      "    1      0.221349   0.209489   0.800087   0.917435       \n",
      "    2      0.202846   0.204975   0.813977   0.91854        \n",
      "    3      0.193135   0.19462    0.804202   0.920294       \n",
      "    4      0.175813   0.183014   0.840471   0.930871       \n",
      "    5      0.168674   0.183996   0.836389   0.927306       \n",
      "    6      0.156682   0.179616   0.841909   0.93209        \n",
      "    7      0.143941   0.186845   0.84004    0.927772       \n",
      "    8      0.132954   0.187149   0.846959   0.933985       \n",
      "    9      0.124081   0.180647   0.845345   0.933626       \n"
     ]
    },
    {
     "data": {
      "application/vnd.jupyter.widget-view+json": {
       "model_id": "69589495e7724884a252cc68947c3e75",
       "version_major": 2,
       "version_minor": 0
      },
      "text/plain": [
       "HBox(children=(IntProgress(value=0, description='Epoch', max=8), HTML(value='')))"
      ]
     },
     "metadata": {},
     "output_type": "display_data"
    },
    {
     "name": "stdout",
     "output_type": "stream",
     "text": [
      "epoch      trn_loss   val_loss   dice       <lambda>       \n",
      "    0      0.168396   0.226648   0.829104   0.922541  \n",
      "    1      0.170025   0.272232   0.744991   0.898818       \n",
      "    2      0.168239   0.208613   0.84495    0.929408       \n",
      "    3      0.149549   0.172754   0.850765   0.93424        \n",
      "    4      0.131729   0.167846   0.849171   0.935744       \n",
      "    5      0.115021   0.173265   0.856617   0.932906       \n",
      "    6      0.102789   0.164447   0.863134   0.938708       \n",
      "    7      0.085552   0.168163   0.876387   0.944874        \n",
      "Running on 128x128\n"
     ]
    },
    {
     "data": {
      "application/vnd.jupyter.widget-view+json": {
       "model_id": "49a01540d0944ce0874c4e19c27cf30e",
       "version_major": 2,
       "version_minor": 0
      },
      "text/plain": [
       "HBox(children=(IntProgress(value=0, description='Epoch', max=6), HTML(value='')))"
      ]
     },
     "metadata": {},
     "output_type": "display_data"
    },
    {
     "name": "stdout",
     "output_type": "stream",
     "text": [
      "epoch      trn_loss   val_loss   dice       <lambda>       \n",
      "    0      0.216049   0.191829   0.82215    0.926304  \n",
      "    1      0.203463   0.215583   0.812604   0.921924       \n",
      "    2      0.191465   0.212361   0.82811    0.92793        \n",
      "    3      0.180794   0.216856   0.833686   0.91938        \n",
      "    4      0.170778   0.171965   0.856853   0.936549       \n",
      "    5      0.158322   0.163502   0.861839   0.939931       \n"
     ]
    },
    {
     "data": {
      "application/vnd.jupyter.widget-view+json": {
       "model_id": "5eb3b26caa9b41309f0d4cc38c1100d9",
       "version_major": 2,
       "version_minor": 0
      },
      "text/plain": [
       "HBox(children=(IntProgress(value=0, description='Epoch', max=8), HTML(value='')))"
      ]
     },
     "metadata": {},
     "output_type": "display_data"
    },
    {
     "name": "stdout",
     "output_type": "stream",
     "text": [
      "epoch      trn_loss   val_loss   dice       <lambda>       \n",
      "    0      0.167269   0.21328    0.790741   0.917401  \n",
      "    1      0.181191   0.172689   0.839506   0.932899       \n",
      "    2      0.164169   0.165731   0.853463   0.938569       \n",
      "    3      0.150294   0.151487   0.864638   0.941257       \n",
      "    4      0.134161   0.154373   0.872818   0.945012       \n",
      "    5      0.125755   0.139173   0.884276   0.949244       \n",
      "    6      0.10694    0.139316   0.887525   0.948022       \n",
      "    7      0.091411   0.148478   0.88431    0.947847        \n"
     ]
    },
    {
     "data": {
      "application/vnd.jupyter.widget-view+json": {
       "model_id": "47c7a0f6f6aa49e09bfc785aa1bfd8d7",
       "version_major": 2,
       "version_minor": 0
      },
      "text/plain": [
       "HBox(children=(IntProgress(value=0, description='Epoch', max=31), HTML(value='')))"
      ]
     },
     "metadata": {},
     "output_type": "display_data"
    },
    {
     "name": "stdout",
     "output_type": "stream",
     "text": [
      "epoch      trn_loss   val_loss   dice       <lambda>       \n",
      "    0      0.133674   0.14265    0.867594   0.942773  \n",
      "    1      0.148127   0.163551   0.85266    0.937775       \n",
      "    2      0.120382   0.144161   0.881601   0.946353       \n",
      "    3      0.129918   0.161513   0.853607   0.937382       \n",
      "    4      0.139694   0.145358   0.873553   0.946078       \n",
      "    5      0.118587   0.147248   0.882446   0.948438       \n",
      "    6      0.099168   0.1493     0.880156   0.94633         \n",
      "    7      0.11476    0.160654   0.872194   0.942635        \n",
      "    8      0.118069   0.162699   0.843973   0.935508       \n",
      "    9      0.114411   0.174288   0.859157   0.936649       \n",
      "    10     0.11151    0.153379   0.864478   0.942038       \n",
      "    11     0.099522   0.157721   0.872206   0.944441        \n",
      "    12     0.084004   0.140063   0.886488   0.946942        \n",
      "    13     0.072111   0.143846   0.888863   0.949433        \n",
      "    14     0.064083   0.142395   0.889971   0.949993        \n",
      "    15     0.077324   0.161889   0.854283   0.936944        \n",
      "    16     0.118449   0.167708   0.868801   0.942436        \n",
      "    17     0.12005    0.168405   0.875575   0.945268       \n",
      "    18     0.115283   0.146996   0.863899   0.941172       \n",
      "    19     0.10705    0.165671   0.865115   0.941709       \n",
      "    20     0.101172   0.198458   0.850161   0.934831       \n",
      "    21     0.087491   0.177835   0.87506    0.941072        \n",
      "    22     0.080961   0.190887   0.8647     0.936405        \n",
      "    23     0.073637   0.150209   0.880807   0.945347        \n",
      "    24     0.065116   0.150348   0.885512   0.946708        \n",
      "    25     0.058035   0.147619   0.893825   0.950661        \n",
      "    26     0.052812   0.157544   0.891423   0.950661        \n",
      "    27     0.049623   0.15896    0.888684   0.949376        \n",
      "    28     0.04643    0.162229   0.889901   0.949952        \n",
      "    29     0.045117   0.161063   0.889377   0.949736        \n",
      "    30     0.044173   0.160886   0.889453   0.949741        \n",
      "_____________________________\n",
      "_____________________________\n",
      "Running fold 8 / 10\n",
      "Running on 32x32\n"
     ]
    },
    {
     "data": {
      "application/vnd.jupyter.widget-view+json": {
       "model_id": "10ac31bac2c1420aa5eb62b08114badb",
       "version_major": 2,
       "version_minor": 0
      },
      "text/plain": [
       "HBox(children=(IntProgress(value=0, description='Epoch', max=8), HTML(value='')))"
      ]
     },
     "metadata": {},
     "output_type": "display_data"
    },
    {
     "name": "stdout",
     "output_type": "stream",
     "text": [
      "epoch      trn_loss   val_loss   dice       <lambda>       \n",
      "    0      0.335084   0.604202   0.755399   0.883994  \n",
      "    1      0.27758    0.251367   0.780061   0.908875       \n",
      "    2      0.237256   0.212267   0.795109   0.915872       \n",
      "    3      0.217659   0.194462   0.832056   0.927686       \n",
      "    4      0.197268   0.197981   0.848391   0.932367       \n",
      "    5      0.182056   0.196814   0.840274   0.928775       \n",
      "    6      0.165999   0.164608   0.851449   0.935736       \n",
      "    7      0.150008   0.162199   0.856226   0.93811        \n"
     ]
    },
    {
     "data": {
      "application/vnd.jupyter.widget-view+json": {
       "model_id": "d1056afe1d8d4b94b5a01116c34a8856",
       "version_major": 2,
       "version_minor": 0
      },
      "text/plain": [
       "HBox(children=(IntProgress(value=0, description='Epoch', max=20), HTML(value='')))"
      ]
     },
     "metadata": {},
     "output_type": "display_data"
    },
    {
     "name": "stdout",
     "output_type": "stream",
     "text": [
      "epoch      trn_loss   val_loss   dice       <lambda>       \n",
      "    0      0.31767    0.245679   0.732794   0.899808  \n",
      "    1      0.300235   0.439176   0.733209   0.857404       \n",
      "    2      0.288684   0.211945   0.809784   0.922217       \n",
      "    3      0.241046   0.208556   0.812385   0.921408       \n",
      "    4      0.2263     0.180355   0.822554   0.928137       \n",
      "    5      0.21448    0.21496    0.839711   0.926288       \n",
      "    6      0.191877   0.164194   0.848765   0.937024       \n",
      "    7      0.179791   0.153115   0.876954   0.946063       \n",
      "    8      0.165794   0.150592   0.858895   0.941248       \n",
      "    9      0.153972   0.145238   0.857639   0.939481       \n",
      "    10     0.137867   0.145576   0.874229   0.94433        \n",
      "    11     0.129802   0.245512   0.824334   0.913593       \n",
      "    12     0.147287   0.150399   0.861121   0.941049       \n",
      "    13     0.126674   0.131321   0.868889   0.944864       \n",
      "    14     0.114578   0.151207   0.873353   0.945557       \n",
      "    15     0.097569   0.154738   0.870317   0.944028        \n",
      "    16     0.095244   0.150531   0.875361   0.945047        \n",
      "    17     0.084196   0.143928   0.886007   0.950626        \n",
      "    18     0.07451    0.145181   0.886206   0.950601        \n",
      "    19     0.069599   0.144459   0.885621   0.950015        \n",
      "Running on 64x64\n"
     ]
    },
    {
     "data": {
      "application/vnd.jupyter.widget-view+json": {
       "model_id": "412ad4a798374e82b2c9908478efb4cd",
       "version_major": 2,
       "version_minor": 0
      },
      "text/plain": [
       "HBox(children=(IntProgress(value=0, description='Epoch', max=10), HTML(value='')))"
      ]
     },
     "metadata": {},
     "output_type": "display_data"
    },
    {
     "name": "stdout",
     "output_type": "stream",
     "text": [
      "epoch      trn_loss   val_loss   dice       <lambda>       \n",
      "    0      0.259797   0.191429   0.818549   0.923468  \n",
      "    1      0.239303   0.184093   0.842887   0.932668       \n",
      "    2      0.210781   0.197958   0.760497   0.909208       \n",
      "    3      0.190774   0.164523   0.862433   0.938788       \n",
      "    4      0.18147    0.162603   0.852704   0.93574        \n",
      "    5      0.169493   0.149843   0.867708   0.942429       \n",
      "    6      0.157975   0.145342   0.870552   0.943709       \n",
      "    7      0.15157    0.142872   0.866773   0.942957       \n",
      "    8      0.142192   0.142142   0.883638   0.948063       \n",
      "    9      0.132958   0.134796   0.88071    0.947649       \n"
     ]
    },
    {
     "data": {
      "application/vnd.jupyter.widget-view+json": {
       "model_id": "3c73d7b463c5427d928478508ed2c95b",
       "version_major": 2,
       "version_minor": 0
      },
      "text/plain": [
       "HBox(children=(IntProgress(value=0, description='Epoch', max=8), HTML(value='')))"
      ]
     },
     "metadata": {},
     "output_type": "display_data"
    },
    {
     "name": "stdout",
     "output_type": "stream",
     "text": [
      "epoch      trn_loss   val_loss   dice       <lambda>       \n",
      "    0      0.162784   0.195113   0.839744   0.929037  \n",
      "    1      0.173513   0.164745   0.825395   0.929349       \n",
      "    2      0.162406   0.132504   0.884469   0.949564       \n",
      "    3      0.137801   0.127346   0.894565   0.953325       \n",
      "    4      0.123507   0.126412   0.879294   0.947381       \n",
      "    5      0.119961   0.138      0.884408   0.948494       \n",
      "    6      0.100936   0.120616   0.898621   0.954909       \n",
      "    7      0.082734   0.124153   0.905144   0.956983        \n",
      "Running on 128x128\n"
     ]
    },
    {
     "data": {
      "application/vnd.jupyter.widget-view+json": {
       "model_id": "a41f996df03e4fd183568f5125fcd68a",
       "version_major": 2,
       "version_minor": 0
      },
      "text/plain": [
       "HBox(children=(IntProgress(value=0, description='Epoch', max=6), HTML(value='')))"
      ]
     },
     "metadata": {},
     "output_type": "display_data"
    },
    {
     "name": "stdout",
     "output_type": "stream",
     "text": [
      "epoch      trn_loss   val_loss   dice       <lambda>       \n",
      "    0      0.220768   0.197442   0.775649   0.913917  \n",
      "    1      0.208602   0.179905   0.833453   0.929578       \n",
      "    2      0.195614   0.179851   0.809995   0.924395       \n",
      "    3      0.186195   0.172573   0.848883   0.934104       \n",
      "    4      0.175313   0.154678   0.851022   0.936841       \n",
      "    5      0.16635    0.157235   0.865225   0.940202       \n"
     ]
    },
    {
     "data": {
      "application/vnd.jupyter.widget-view+json": {
       "model_id": "a8a80e5c2c2849bba8356fd113a35483",
       "version_major": 2,
       "version_minor": 0
      },
      "text/plain": [
       "HBox(children=(IntProgress(value=0, description='Epoch', max=8), HTML(value='')))"
      ]
     },
     "metadata": {},
     "output_type": "display_data"
    },
    {
     "name": "stdout",
     "output_type": "stream",
     "text": [
      "epoch      trn_loss   val_loss   dice       <lambda>       \n",
      "    0      0.173506   0.149042   0.855802   0.938067  \n",
      "    1      0.18026    0.159666   0.838686   0.934575       \n",
      "    2      0.169539   0.152001   0.857612   0.940699       \n",
      "    3      0.167318   0.151593   0.860748   0.93958        \n",
      "    4      0.146741   0.131411   0.888571   0.950581       \n",
      "    5      0.131504   0.125536   0.88559    0.95002        \n",
      "    6      0.11477    0.125221   0.894288   0.952374       \n",
      "    7      0.098965   0.126251   0.893781   0.952372        \n"
     ]
    },
    {
     "data": {
      "application/vnd.jupyter.widget-view+json": {
       "model_id": "eb51bbfa324c45c98d89d73adb010330",
       "version_major": 2,
       "version_minor": 0
      },
      "text/plain": [
       "HBox(children=(IntProgress(value=0, description='Epoch', max=31), HTML(value='')))"
      ]
     },
     "metadata": {},
     "output_type": "display_data"
    },
    {
     "name": "stdout",
     "output_type": "stream",
     "text": [
      "epoch      trn_loss   val_loss   dice       <lambda>       \n",
      "    0      0.123855   0.137809   0.886775   0.949762  \n",
      "    1      0.1293     0.129027   0.885041   0.948927       \n",
      "    2      0.10795    0.12414    0.892966   0.952297       \n",
      "    3      0.146608   0.181296   0.853971   0.935754       \n",
      "    4      0.153501   0.152377   0.864995   0.940635       \n",
      "    5      0.133335   0.124133   0.897663   0.954145       \n",
      "    6      0.10889    0.119521   0.896706   0.95369        \n",
      "    7      0.123498   0.153959   0.854359   0.937594       \n",
      "    8      0.132784   0.150658   0.869442   0.943402       \n",
      "    9      0.125789   0.15708    0.875837   0.945585       \n",
      "    10     0.118835   0.144434   0.883696   0.949098       \n",
      "    11     0.10227    0.127012   0.893852   0.953843       \n",
      "    12     0.085331   0.13369    0.894148   0.952765        \n",
      "    13     0.073809   0.136673   0.900089   0.955573        \n",
      "    14     0.067708   0.137604   0.89986    0.955631        \n",
      "    15     0.091177   0.141827   0.873984   0.946051        \n",
      "    16     0.110746   0.150947   0.871169   0.942065        \n",
      "    17     0.133062   0.159524   0.848807   0.936904       \n",
      "    18     0.12248    0.13727    0.876951   0.946035       \n",
      "    19     0.113946   0.144521   0.887634   0.949031       \n",
      "    20     0.115822   0.130705   0.897267   0.953436       \n",
      "    21     0.1048     0.143195   0.885318   0.950513       \n",
      "    22     0.089418   0.148211   0.895319   0.954186        \n",
      "    23     0.078077   0.128754   0.900024   0.956076        \n",
      "    24     0.067685   0.123482   0.900829   0.956003        \n",
      "    25     0.06072    0.137814   0.894415   0.953125        \n",
      "    26     0.056056   0.13241    0.897915   0.954776        \n",
      "    27     0.053014   0.130944   0.899052   0.955305        \n",
      "    28     0.050075   0.133488   0.898363   0.955076        \n",
      "    29     0.048668   0.133307   0.898738   0.955223        \n",
      "    30     0.04739    0.133211   0.899033   0.955312        \n",
      "_____________________________\n",
      "_____________________________\n",
      "Running fold 9 / 10\n",
      "Running on 32x32\n"
     ]
    },
    {
     "data": {
      "application/vnd.jupyter.widget-view+json": {
       "model_id": "02870cddf6094f649e9c6e15eefe6f2c",
       "version_major": 2,
       "version_minor": 0
      },
      "text/plain": [
       "HBox(children=(IntProgress(value=0, description='Epoch', max=8), HTML(value='')))"
      ]
     },
     "metadata": {},
     "output_type": "display_data"
    },
    {
     "name": "stdout",
     "output_type": "stream",
     "text": [
      "epoch      trn_loss   val_loss   dice       <lambda>       \n",
      "    0      0.3218     0.825136   0.642874   0.830063  \n",
      "    1      0.259232   0.357579   0.705315   0.876358       \n",
      "    2      0.232889   0.208305   0.763822   0.919971       \n",
      "    3      0.207916   0.226632   0.761741   0.912924       \n",
      "    4      0.19398    0.215745   0.765905   0.916211       \n",
      "    5      0.173152   0.196283   0.766204   0.925208       \n",
      "    6      0.15788    0.195196   0.79887    0.927707       \n",
      "    7      0.138979   0.189042   0.788919   0.928973       \n"
     ]
    },
    {
     "data": {
      "application/vnd.jupyter.widget-view+json": {
       "model_id": "61a017a526a14ef1b4efec3e08044fce",
       "version_major": 2,
       "version_minor": 0
      },
      "text/plain": [
       "HBox(children=(IntProgress(value=0, description='Epoch', max=20), HTML(value='')))"
      ]
     },
     "metadata": {},
     "output_type": "display_data"
    },
    {
     "name": "stdout",
     "output_type": "stream",
     "text": [
      "epoch      trn_loss   val_loss   dice       <lambda>       \n",
      "    0      0.248346   0.284089   0.737737   0.902078  \n",
      "    1      0.257052   0.431405   0.638625   0.870233       \n",
      "    2      0.293294   0.301563   0.70526    0.886838       \n",
      "    3      0.281801   0.247964   0.681646   0.900861       \n",
      "    4      0.238696   0.206722   0.758537   0.917911       \n",
      "    5      0.213465   0.220904   0.740973   0.912897       \n",
      "    6      0.199253   0.198472   0.758261   0.919696       \n",
      "    7      0.198146   0.20659    0.695445   0.906799       \n",
      "    8      0.182464   0.207329   0.769549   0.9181         \n",
      "    9      0.171757   0.20882    0.735933   0.91615        \n",
      "    10     0.166235   0.204548   0.786146   0.926642       \n",
      "    11     0.149669   0.193809   0.763496   0.921368       \n",
      "    12     0.13976    0.184535   0.804057   0.931348       \n",
      "    13     0.128352   0.224346   0.810506   0.926611       \n",
      "    14     0.113545   0.204739   0.772478   0.922717       \n",
      "    15     0.10508    0.194763   0.806801   0.929666       \n",
      "    16     0.092973   0.205213   0.806625   0.930313        \n",
      "    17     0.082465   0.2152     0.81431    0.932083        \n",
      "    18     0.075824   0.214525   0.817615   0.931146        \n",
      "    19     0.07059    0.2122     0.806549   0.927487        \n",
      "Running on 64x64\n"
     ]
    },
    {
     "data": {
      "application/vnd.jupyter.widget-view+json": {
       "model_id": "9233302bd76d4f0dba70c0485da1a49c",
       "version_major": 2,
       "version_minor": 0
      },
      "text/plain": [
       "HBox(children=(IntProgress(value=0, description='Epoch', max=10), HTML(value='')))"
      ]
     },
     "metadata": {},
     "output_type": "display_data"
    },
    {
     "name": "stdout",
     "output_type": "stream",
     "text": [
      "epoch      trn_loss   val_loss   dice       <lambda>       \n",
      "    0      0.251783   0.199759   0.766108   0.921171  \n",
      "    1      0.208812   0.185562   0.794011   0.92841        \n",
      "    2      0.185117   0.190454   0.812988   0.932091       \n",
      "    3      0.175783   0.189171   0.81433    0.933932       \n",
      "    4      0.168529   0.168403   0.808714   0.933864       \n",
      "    5      0.158701   0.162346   0.830658   0.94063        \n",
      "    6      0.144895   0.168433   0.814029   0.935622       \n",
      "    7      0.138715   0.165583   0.830356   0.939587       \n",
      "    8      0.131463   0.154328   0.830519   0.941685       \n",
      "    9      0.119765   0.168692   0.827935   0.938992       \n"
     ]
    },
    {
     "data": {
      "application/vnd.jupyter.widget-view+json": {
       "model_id": "c36ba6e058ad4252b9ccce0990e1f571",
       "version_major": 2,
       "version_minor": 0
      },
      "text/plain": [
       "HBox(children=(IntProgress(value=0, description='Epoch', max=8), HTML(value='')))"
      ]
     },
     "metadata": {},
     "output_type": "display_data"
    },
    {
     "name": "stdout",
     "output_type": "stream",
     "text": [
      "epoch      trn_loss   val_loss   dice       <lambda>       \n",
      "    0      0.155597   0.155685   0.823595   0.94024   \n",
      "    1      0.174652   0.179492   0.764158   0.924198       \n",
      "    2      0.1608     0.152862   0.829719   0.940909       \n",
      "    3      0.144737   0.152796   0.810942   0.934702       \n",
      "    4      0.119591   0.220322   0.793972   0.921945       \n",
      "    5      0.107742   0.14743    0.837473   0.943169       \n",
      "    6      0.090937   0.141972   0.851906   0.946738        \n",
      "    7      0.079486   0.143739   0.856795   0.948088        \n",
      "Running on 128x128\n"
     ]
    },
    {
     "data": {
      "application/vnd.jupyter.widget-view+json": {
       "model_id": "6b7f2be43cf64ff6a43ec8095de0d0a6",
       "version_major": 2,
       "version_minor": 0
      },
      "text/plain": [
       "HBox(children=(IntProgress(value=0, description='Epoch', max=6), HTML(value='')))"
      ]
     },
     "metadata": {},
     "output_type": "display_data"
    },
    {
     "name": "stdout",
     "output_type": "stream",
     "text": [
      "epoch      trn_loss   val_loss   dice       <lambda>       \n",
      "    0      0.203561   0.178588   0.780099   0.9282    \n",
      "    1      0.212308   0.200973   0.758293   0.920625       \n",
      "    2      0.193288   0.18656    0.737777   0.920408       \n",
      "    3      0.188165   0.193703   0.79017    0.924893       \n",
      "    4      0.174746   0.182471   0.799232   0.930062       \n",
      "    5      0.160073   0.167399   0.805879   0.933836       \n"
     ]
    },
    {
     "data": {
      "application/vnd.jupyter.widget-view+json": {
       "model_id": "e44b6fe09cea49debae41f5a18b190a2",
       "version_major": 2,
       "version_minor": 0
      },
      "text/plain": [
       "HBox(children=(IntProgress(value=0, description='Epoch', max=8), HTML(value='')))"
      ]
     },
     "metadata": {},
     "output_type": "display_data"
    },
    {
     "name": "stdout",
     "output_type": "stream",
     "text": [
      "epoch      trn_loss   val_loss   dice       <lambda>       \n",
      "    0      0.169343   0.179528   0.79222    0.93203   \n",
      "    1      0.170142   0.176294   0.784713   0.927855       \n",
      "    2      0.161323   0.182159   0.803654   0.932297       \n",
      "    3      0.15552    0.158648   0.808051   0.936392       \n",
      "    4      0.140544   0.165088   0.817515   0.935711       \n",
      "    5      0.1274     0.158711   0.824168   0.940289       \n",
      "    6      0.114279   0.166684   0.8105     0.934442       \n",
      "    7      0.097339   0.158988   0.829925   0.940739        \n"
     ]
    },
    {
     "data": {
      "application/vnd.jupyter.widget-view+json": {
       "model_id": "60d38833915e429e9c6eaadede05b2b9",
       "version_major": 2,
       "version_minor": 0
      },
      "text/plain": [
       "HBox(children=(IntProgress(value=0, description='Epoch', max=31), HTML(value='')))"
      ]
     },
     "metadata": {},
     "output_type": "display_data"
    },
    {
     "name": "stdout",
     "output_type": "stream",
     "text": [
      "epoch      trn_loss   val_loss   dice       <lambda>       \n",
      "    0      0.132349   0.163399   0.806553   0.933918  \n",
      "    1      0.137928   0.187244   0.80438    0.930227       \n",
      "    2      0.120269   0.169087   0.820672   0.93607        \n",
      "    3      0.127496   0.18347    0.788899   0.926124       \n",
      "    4      0.124627   0.178033   0.792618   0.932383       \n",
      "    5      0.110722   0.164025   0.818793   0.935533       \n",
      "    6      0.090108   0.162314   0.820622   0.936385        \n",
      "    7      0.114604   0.191815   0.775861   0.924581        \n",
      "    8      0.120769   0.172423   0.807721   0.937958       \n",
      "    9      0.12055    0.168002   0.807765   0.931893       \n",
      "    10     0.1034     0.164547   0.833054   0.940497       \n",
      "    11     0.084641   0.167915   0.839563   0.941775        \n",
      "    12     0.070748   0.169381   0.842018   0.943418        \n",
      "    13     0.061958   0.173415   0.841084   0.943053        \n",
      "    14     0.057622   0.170219   0.841029   0.943487        \n",
      "    15     0.099463   0.187389   0.803313   0.936127        \n",
      "    16     0.110973   0.168535   0.811234   0.933357       \n",
      "    17     0.116714   0.181086   0.814085   0.934819       \n",
      "    18     0.113069   0.195214   0.792791   0.924872       \n",
      "    19     0.113452   0.17176    0.801744   0.934745       \n",
      "    20     0.10618    0.165732   0.830933   0.940708       \n",
      "    21     0.087478   0.180047   0.835023   0.943371        \n",
      "    22     0.078748   0.15649    0.844071   0.943999        \n",
      "    23     0.068443   0.149645   0.850484   0.947145        \n",
      "    24     0.06042    0.168741   0.853989   0.947118        \n",
      "    25     0.053784   0.166937   0.854995   0.948374        \n",
      "    26     0.049639   0.161921   0.853148   0.947738        \n",
      "    27     0.045983   0.167329   0.85148    0.947762        \n",
      "    28     0.043986   0.169528   0.853908   0.948481        \n",
      "    29     0.042418   0.170504   0.85378    0.948177        \n",
      "    30     0.041781   0.170564   0.85357    0.948114        \n",
      "_____________________________\n",
      "_____________________________\n",
      "Running fold 10 / 10\n",
      "Running on 32x32\n"
     ]
    },
    {
     "data": {
      "application/vnd.jupyter.widget-view+json": {
       "model_id": "77b2b4210eac4c2290bf5368ea338d86",
       "version_major": 2,
       "version_minor": 0
      },
      "text/plain": [
       "HBox(children=(IntProgress(value=0, description='Epoch', max=8), HTML(value='')))"
      ]
     },
     "metadata": {},
     "output_type": "display_data"
    },
    {
     "name": "stdout",
     "output_type": "stream",
     "text": [
      "epoch      trn_loss   val_loss   dice       <lambda>       \n",
      "    0      0.328426   4.672408   0.338462   0.695645  \n",
      "    1      0.273257   0.31699    0.779642   0.886969       \n",
      "    2      0.241238   0.229861   0.792935   0.906485       \n",
      "    3      0.222239   0.22409    0.748538   0.896008       \n",
      "    4      0.199962   0.224523   0.800101   0.908112       \n",
      "    5      0.180288   0.231668   0.810572   0.911798       \n",
      "    6      0.166881   0.210077   0.826587   0.918121       \n",
      "    7      0.147937   0.211552   0.840213   0.922113       \n"
     ]
    },
    {
     "data": {
      "application/vnd.jupyter.widget-view+json": {
       "model_id": "505caeea102f4da69402c1cada6a3f52",
       "version_major": 2,
       "version_minor": 0
      },
      "text/plain": [
       "HBox(children=(IntProgress(value=0, description='Epoch', max=20), HTML(value='')))"
      ]
     },
     "metadata": {},
     "output_type": "display_data"
    },
    {
     "name": "stdout",
     "output_type": "stream",
     "text": [
      "epoch      trn_loss   val_loss   dice       <lambda>       \n",
      "    0      0.259637   0.270024   0.78937    0.897415  \n",
      "    1      0.263359   0.687922   0.087919   0.763214       \n",
      "    2      0.284427   0.289316   0.787048   0.899246       \n",
      "    3      0.244658   0.26514    0.731797   0.89321        \n",
      "    4      0.219775   0.221189   0.777243   0.905646       \n",
      "    5      0.222447   0.216834   0.807551   0.914017       \n",
      "    6      0.205387   0.221796   0.804252   0.912537       \n",
      "    7      0.193563   0.216422   0.815372   0.917477       \n",
      "    8      0.176986   0.220368   0.795321   0.911853       \n",
      "    9      0.166178   0.235911   0.82153    0.915189       \n",
      "    10     0.154098   0.204708   0.815586   0.919183       \n",
      "    11     0.146337   0.264229   0.804238   0.912048       \n",
      "    12     0.150549   0.220543   0.831929   0.924158       \n",
      "    13     0.141843   0.227149   0.793502   0.912308       \n",
      "    14     0.124811   0.230255   0.821525   0.91683        \n",
      "    15     0.118147   0.207076   0.841157   0.928397       \n",
      "    16     0.105862   0.205262   0.854889   0.928433       \n",
      "    17     0.092133   0.196724   0.856966   0.93273         \n",
      "    18     0.081388   0.20707    0.861921   0.933606        \n",
      "    19     0.072754   0.212119   0.863508   0.934561        \n",
      "Running on 64x64\n"
     ]
    },
    {
     "data": {
      "application/vnd.jupyter.widget-view+json": {
       "model_id": "c5062f0809704172a4598086041acbd4",
       "version_major": 2,
       "version_minor": 0
      },
      "text/plain": [
       "HBox(children=(IntProgress(value=0, description='Epoch', max=10), HTML(value='')))"
      ]
     },
     "metadata": {},
     "output_type": "display_data"
    },
    {
     "name": "stdout",
     "output_type": "stream",
     "text": [
      "epoch      trn_loss   val_loss   dice       <lambda>       \n",
      "    0      0.265314   0.221411   0.801286   0.910634  \n",
      "    1      0.223148   0.214312   0.818308   0.916173       \n",
      "    2      0.202003   0.202872   0.826802   0.920023       \n",
      "    3      0.189764   0.235125   0.832201   0.916217       \n",
      "    4      0.176527   0.206349   0.840924   0.923946       \n",
      "    5      0.168118   0.200986   0.809619   0.917096       \n",
      "    6      0.16181    0.192      0.830984   0.923017       \n",
      "    7      0.151162   0.196205   0.815541   0.918534       \n",
      "    8      0.144539   0.198712   0.850232   0.925703       \n",
      "    9      0.135431   0.191378   0.848179   0.928319       \n"
     ]
    },
    {
     "data": {
      "application/vnd.jupyter.widget-view+json": {
       "model_id": "bba3ae5b595143a39f48b0707c0ebe2a",
       "version_major": 2,
       "version_minor": 0
      },
      "text/plain": [
       "HBox(children=(IntProgress(value=0, description='Epoch', max=8), HTML(value='')))"
      ]
     },
     "metadata": {},
     "output_type": "display_data"
    },
    {
     "name": "stdout",
     "output_type": "stream",
     "text": [
      "epoch      trn_loss   val_loss   dice       <lambda>       \n",
      "    0      0.165538   0.245485   0.818697   0.911455  \n",
      "    1      0.188822   0.204251   0.814391   0.918768       \n",
      "    2      0.176346   0.171114   0.840299   0.92772        \n",
      "    3      0.155625   0.186934   0.839212   0.925116       \n",
      "    4      0.135202   0.184007   0.843983   0.926469       \n",
      "    5      0.119387   0.180501   0.876968   0.937901       \n",
      "    6      0.107533   0.178989   0.867623   0.936652       \n",
      "    7      0.094721   0.164908   0.867549   0.937523        \n",
      "Running on 128x128\n"
     ]
    },
    {
     "data": {
      "application/vnd.jupyter.widget-view+json": {
       "model_id": "c1c5ec60a3c64a2b896f6fb126ca230e",
       "version_major": 2,
       "version_minor": 0
      },
      "text/plain": [
       "HBox(children=(IntProgress(value=0, description='Epoch', max=6), HTML(value='')))"
      ]
     },
     "metadata": {},
     "output_type": "display_data"
    },
    {
     "name": "stdout",
     "output_type": "stream",
     "text": [
      "epoch      trn_loss   val_loss   dice       <lambda>       \n",
      "    0      0.235895   0.209768   0.820168   0.919823  \n",
      "    1      0.212499   0.212704   0.794368   0.91353        \n",
      "    2      0.201076   0.204544   0.837224   0.924055       \n",
      "    3      0.184791   0.206868   0.810551   0.919255       \n",
      "    4      0.174806   0.182599   0.836641   0.927686       \n",
      "    5      0.166702   0.173469   0.850199   0.931509       \n"
     ]
    },
    {
     "data": {
      "application/vnd.jupyter.widget-view+json": {
       "model_id": "aff4a7000eab4aba94adca71e6d86496",
       "version_major": 2,
       "version_minor": 0
      },
      "text/plain": [
       "HBox(children=(IntProgress(value=0, description='Epoch', max=8), HTML(value='')))"
      ]
     },
     "metadata": {},
     "output_type": "display_data"
    },
    {
     "name": "stdout",
     "output_type": "stream",
     "text": [
      "epoch      trn_loss   val_loss   dice       <lambda>       \n",
      "    0      0.201745   0.247139   0.772537   0.902202  \n",
      "    1      0.184834   0.184633   0.849579   0.92918        \n",
      "    2      0.171268   0.171932   0.844289   0.929781       \n",
      "    3      0.157282   0.157026   0.847227   0.931855       \n",
      "    4      0.148028   0.168367   0.822438   0.922987       \n",
      "    5      0.135261   0.15138    0.866505   0.937559       \n",
      "    6      0.119508   0.148949   0.87287    0.940549       \n",
      "    7      0.106347   0.143079   0.869926   0.940108       \n"
     ]
    },
    {
     "data": {
      "application/vnd.jupyter.widget-view+json": {
       "model_id": "b19754a17c874d6c87d3e68dfd045345",
       "version_major": 2,
       "version_minor": 0
      },
      "text/plain": [
       "HBox(children=(IntProgress(value=0, description='Epoch', max=31), HTML(value='')))"
      ]
     },
     "metadata": {},
     "output_type": "display_data"
    },
    {
     "name": "stdout",
     "output_type": "stream",
     "text": [
      "epoch      trn_loss   val_loss   dice       <lambda>       \n",
      "    0      0.136491   0.159619   0.852793   0.933473  \n",
      "    1      0.144014   0.167765   0.857056   0.935482       \n",
      "    2      0.122192   0.159275   0.865436   0.938107       \n",
      "    3      0.125548   0.201299   0.835983   0.926901       \n",
      "    4      0.13075    0.176415   0.839407   0.929304       \n",
      "    5      0.119526   0.159124   0.869127   0.940782       \n",
      "    6      0.100619   0.149359   0.87388    0.941679        \n",
      "    7      0.123898   0.259589   0.795334   0.912601        \n",
      "    8      0.12941    0.173839   0.848787   0.929736       \n",
      "    9      0.126774   0.196956   0.852171   0.92959        \n",
      "    10     0.119164   0.207138   0.830902   0.927019       \n",
      "    11     0.102074   0.144334   0.880266   0.943131       \n",
      "    12     0.088031   0.169409   0.868757   0.940322        \n",
      "    13     0.075453   0.162713   0.876079   0.943           \n",
      "    14     0.068337   0.165117   0.874484   0.942548        \n",
      "    15     0.100642   0.214358   0.830972   0.927412        \n",
      "    16     0.119831   0.231101   0.831962   0.914267       \n",
      "    17     0.118572   0.192226   0.840897   0.928509       \n",
      "    18     0.115344   0.207281   0.840486   0.929026       \n",
      "    19     0.115503   0.192577   0.868767   0.937916       \n",
      "    20     0.108279   0.190897   0.850363   0.927879       \n",
      "    21     0.103342   0.164922   0.866474   0.935521       \n",
      "    22     0.095779   0.163579   0.871056   0.939709        \n",
      "    23     0.083093   0.188956   0.875031   0.940596        \n",
      "    24     0.072845   0.174321   0.88431    0.9457          \n",
      "    25     0.067151   0.178414   0.872359   0.940493        \n",
      "    26     0.059941   0.200159   0.871766   0.94132         \n",
      "    27     0.055098   0.197343   0.872467   0.941451        \n",
      "    28     0.051811   0.208475   0.869474   0.940379        \n",
      "    29     0.05037    0.209332   0.869477   0.940382        \n",
      "    30     0.05       0.207941   0.870287   0.940677        \n",
      "_____________________________\n"
     ]
    }
   ],
   "source": [
    "kf = KFold(n_splits=nSplits, shuffle=True)\n",
    "folds = kf.split(trn_x)\n",
    "for i, (train, test) in enumerate(folds):\n",
    "    print('_____________________________')\n",
    "    print('Running fold', i+1,'/', nSplits)\n",
    "    m_base = get_base()\n",
    "    m = to_gpu(Unet34(m_base))\n",
    "    models = UnetModel(m)\n",
    "    trainModel(i, models, trn_x[train], trn_y[train], trn_x[test], trn_y[test], aug_tfms, lr=5e-2)\n",
    "    print('_____________________________')"
   ]
  },
  {
   "cell_type": "code",
   "execution_count": 33,
   "metadata": {},
   "outputs": [],
   "source": [
    "def predict(md, nSplits, models, shape, test=False):\n",
    "    probs = np.zeros(shape)\n",
    "    for i in range(nSplits):\n",
    "        learn = ConvLearner(md, models)\n",
    "        learn.load('model_'+str(i))\n",
    "        probs += learn.predict(is_test=test)\n",
    "    _, y = learn.TTA(n_aug=1, is_test=test)\n",
    "    return probs/nSplits, y "
   ]
  },
  {
   "cell_type": "markdown",
   "metadata": {},
   "source": [
    "# Test on original validation"
   ]
  },
  {
   "cell_type": "code",
   "execution_count": 43,
   "metadata": {},
   "outputs": [],
   "source": [
    "sz=128\n",
    "bs=64"
   ]
  },
  {
   "cell_type": "code",
   "execution_count": 44,
   "metadata": {},
   "outputs": [],
   "source": [
    "m_base = get_base()\n",
    "m = to_gpu(Unet34(m_base))\n",
    "models = UnetModel(m)"
   ]
  },
  {
   "cell_type": "code",
   "execution_count": 45,
   "metadata": {},
   "outputs": [],
   "source": [
    "tfms = tfms_from_model(resnext50, sz, crop_type=CropType.NO, tfm_y=TfmType.CLASS, aug_tfms=aug_tfms)\n",
    "datasets = ImageData.get_ds(MatchedFilesDataset, (trn_x,trn_y), (val_x,val_y), tfms, path=PATH)\n",
    "md = ImageData(PATH, datasets, bs, num_workers=16, classes=None)\n",
    "denorm = md.trn_ds.denorm"
   ]
  },
  {
   "cell_type": "code",
   "execution_count": 46,
   "metadata": {},
   "outputs": [
    {
     "name": "stdout",
     "output_type": "stream",
     "text": [
      "                                             \r"
     ]
    }
   ],
   "source": [
    "probs, y = predict(md, nSplits, models, (len(val_y), sz, sz))"
   ]
  },
  {
   "cell_type": "code",
   "execution_count": 47,
   "metadata": {},
   "outputs": [
    {
     "data": {
      "text/plain": [
       "((800, 128, 128), (800, 128, 128))"
      ]
     },
     "execution_count": 47,
     "metadata": {},
     "output_type": "execute_result"
    }
   ],
   "source": [
    "y.shape, probs.shape"
   ]
  },
  {
   "cell_type": "code",
   "execution_count": 48,
   "metadata": {},
   "outputs": [],
   "source": [
    "idx=0"
   ]
  },
  {
   "cell_type": "code",
   "execution_count": 49,
   "metadata": {},
   "outputs": [
    {
     "data": {
      "image/png": "[encoded data removed]",
      "text/plain": [
       "<Figure size 432x288 with 1 Axes>"
      ]
     },
     "metadata": {},
     "output_type": "display_data"
    }
   ],
   "source": [
    "show_img(probs[idx]>0.5);"
   ]
  },
  {
   "cell_type": "code",
   "execution_count": 50,
   "metadata": {},
   "outputs": [
    {
     "data": {
      "image/png": "[encoded data removed]",
      "text/plain": [
       "<Figure size 432x288 with 1 Axes>"
      ]
     },
     "metadata": {},
     "output_type": "display_data"
    }
   ],
   "source": [
    "show_img(probs[idx]);"
   ]
  },
  {
   "cell_type": "code",
   "execution_count": 51,
   "metadata": {},
   "outputs": [
    {
     "data": {
      "image/png": "[encoded data removed]",
      "text/plain": [
       "<Figure size 432x288 with 1 Axes>"
      ]
     },
     "metadata": {},
     "output_type": "display_data"
    }
   ],
   "source": [
    "show_img(y[idx]);"
   ]
  },
  {
   "cell_type": "code",
   "execution_count": 52,
   "metadata": {
    "scrolled": true
   },
   "outputs": [
    {
     "data": {
      "image/png": "[encoded data removed]",
      "text/plain": [
       "<Figure size 432x288 with 1 Axes>"
      ]
     },
     "metadata": {},
     "output_type": "display_data"
    }
   ],
   "source": [
    "show_img(x[idx][0]);"
   ]
  },
  {
   "cell_type": "markdown",
   "metadata": {},
   "source": [
    "# Optimise threshold"
   ]
  },
  {
   "cell_type": "code",
   "execution_count": 53,
   "metadata": {},
   "outputs": [],
   "source": [
    "def resize_img(fn):\n",
    "    return np.array(Image.fromarray(fn).resize((101,101)))\n",
    "\n",
    "resizePreds = np.array([resize_img(x) for x in probs])\n",
    "resizeY = np.array([resize_img(x) for x in y])"
   ]
  },
  {
   "cell_type": "code",
   "execution_count": 54,
   "metadata": {},
   "outputs": [
    {
     "data": {
      "image/png": "[encoded data removed]",
      "text/plain": [
       "<Figure size 432x288 with 1 Axes>"
      ]
     },
     "metadata": {},
     "output_type": "display_data"
    }
   ],
   "source": [
    "show_img(resizePreds[idx]);"
   ]
  },
  {
   "cell_type": "code",
   "execution_count": 55,
   "metadata": {},
   "outputs": [
    {
     "data": {
      "image/png": "[encoded data removed]",
      "text/plain": [
       "<Figure size 432x288 with 1 Axes>"
      ]
     },
     "metadata": {},
     "output_type": "display_data"
    }
   ],
   "source": [
    "show_img(resizeY[idx]);"
   ]
  },
  {
   "cell_type": "code",
   "execution_count": 56,
   "metadata": {},
   "outputs": [],
   "source": [
    "# src: https://www.kaggle.com/aglotero/another-iou-metric\n",
    "def iou_metric(y_true_in, y_pred_in, print_table=False):\n",
    "    labels = y_true_in\n",
    "    y_pred = y_pred_in\n",
    "    \n",
    "    true_objects = 2\n",
    "    pred_objects = 2\n",
    "\n",
    "    intersection = np.histogram2d(labels.flatten(), y_pred.flatten(), bins=(true_objects, pred_objects))[0]\n",
    "\n",
    "    # Compute areas (needed for finding the union between all objects)\n",
    "    area_true = np.histogram(labels, bins = true_objects)[0]\n",
    "    area_pred = np.histogram(y_pred, bins = pred_objects)[0]\n",
    "    area_true = np.expand_dims(area_true, -1)\n",
    "    area_pred = np.expand_dims(area_pred, 0)\n",
    "\n",
    "    # Compute union\n",
    "    union = area_true + area_pred - intersection\n",
    "\n",
    "    # Exclude background from the analysis\n",
    "    intersection = intersection[1:,1:]\n",
    "    union = union[1:,1:]\n",
    "    union[union == 0] = 1e-9\n",
    "\n",
    "    # Compute the intersection over union\n",
    "    iou = intersection / union\n",
    "\n",
    "    # Precision helper function\n",
    "    def precision_at(threshold, iou):\n",
    "        matches = iou > threshold\n",
    "        true_positives = np.sum(matches, axis=1) == 1   # Correct objects\n",
    "        false_positives = np.sum(matches, axis=0) == 0  # Missed objects\n",
    "        false_negatives = np.sum(matches, axis=1) == 0  # Extra objects\n",
    "        tp, fp, fn = np.sum(true_positives), np.sum(false_positives), np.sum(false_negatives)\n",
    "        return tp, fp, fn\n",
    "\n",
    "    # Loop over IoU thresholds\n",
    "    prec = []\n",
    "    if print_table:\n",
    "        print(\"Thresh\\tTP\\tFP\\tFN\\tPrec.\")\n",
    "    for t in np.arange(0.5, 1.0, 0.05):\n",
    "        tp, fp, fn = precision_at(t, iou)\n",
    "        if (tp + fp + fn) > 0:\n",
    "            p = tp / (tp + fp + fn)\n",
    "        else:\n",
    "            p = 0\n",
    "        if print_table:\n",
    "            print(\"{:1.3f}\\t{}\\t{}\\t{}\\t{:1.3f}\".format(t, tp, fp, fn, p))\n",
    "        prec.append(p)\n",
    "    \n",
    "    if print_table:\n",
    "        print(\"AP\\t-\\t-\\t-\\t{:1.3f}\".format(np.mean(prec)))\n",
    "    return np.mean(prec)\n",
    "\n",
    "def iou_metric_batch(y_true_in, y_pred_in):\n",
    "    batch_size = y_true_in.shape[0]\n",
    "    metric = []\n",
    "    for batch in range(batch_size):\n",
    "        value = iou_metric(y_true_in[batch], y_pred_in[batch])\n",
    "        metric.append(value)\n",
    "    return np.mean(metric)"
   ]
  },
  {
   "cell_type": "code",
   "execution_count": 57,
   "metadata": {},
   "outputs": [
    {
     "data": {
      "application/vnd.jupyter.widget-view+json": {
       "model_id": "6b5dab217fe5434fa8f4f726c831cdb2",
       "version_major": 2,
       "version_minor": 0
      },
      "text/plain": [
       "HBox(children=(IntProgress(value=0, max=10), HTML(value='')))"
      ]
     },
     "metadata": {},
     "output_type": "display_data"
    }
   ],
   "source": [
    "thres = np.linspace(-1, 1, 10)\n",
    "thres_ioc = [iou_metric_batch(resizeY, np.int32(resizePreds > t)) for t in tqdm_notebook(thres)]"
   ]
  },
  {
   "cell_type": "code",
   "execution_count": 58,
   "metadata": {},
   "outputs": [
    {
     "data": {
      "image/png": "[encoded data removed]",
      "text/plain": [
       "<Figure size 432x288 with 1 Axes>"
      ]
     },
     "metadata": {},
     "output_type": "display_data"
    }
   ],
   "source": [
    "plt.plot(thres, thres_ioc);"
   ]
  },
  {
   "cell_type": "code",
   "execution_count": 59,
   "metadata": {},
   "outputs": [
    {
     "data": {
      "text/plain": [
       "(-0.33333333333333337, 0.79825)"
      ]
     },
     "execution_count": 59,
     "metadata": {},
     "output_type": "execute_result"
    }
   ],
   "source": [
    "best_thres = thres[np.argmax(thres_ioc)]\n",
    "best_thres, max(thres_ioc)"
   ]
  },
  {
   "cell_type": "code",
   "execution_count": 60,
   "metadata": {},
   "outputs": [
    {
     "data": {
      "application/vnd.jupyter.widget-view+json": {
       "model_id": "36e73bcf54ba472a917686b6c59fa485",
       "version_major": 2,
       "version_minor": 0
      },
      "text/plain": [
       "HBox(children=(IntProgress(value=0, max=50), HTML(value='')))"
      ]
     },
     "metadata": {},
     "output_type": "display_data"
    }
   ],
   "source": [
    "thres = np.linspace(-0.75, 0.25, 50)\n",
    "thres_ioc = [iou_metric_batch(resizeY, np.int32(resizePreds > t)) for t in tqdm_notebook(thres)]"
   ]
  },
  {
   "cell_type": "code",
   "execution_count": 61,
   "metadata": {},
   "outputs": [
    {
     "data": {
      "image/png": "[encoded data removed]",
      "text/plain": [
       "<Figure size 432x288 with 1 Axes>"
      ]
     },
     "metadata": {},
     "output_type": "display_data"
    }
   ],
   "source": [
    "plt.plot(thres, thres_ioc);"
   ]
  },
  {
   "cell_type": "code",
   "execution_count": 62,
   "metadata": {
    "scrolled": true
   },
   "outputs": [
    {
     "data": {
      "text/plain": [
       "(-0.4030612244897959, 0.799375)"
      ]
     },
     "execution_count": 62,
     "metadata": {},
     "output_type": "execute_result"
    }
   ],
   "source": [
    "best_thres = thres[np.argmax(thres_ioc)]\n",
    "best_thres, max(thres_ioc)"
   ]
  },
  {
   "cell_type": "code",
   "execution_count": 34,
   "metadata": {},
   "outputs": [],
   "source": [
    "best_thres=-0.4030612244897959"
   ]
  },
  {
   "cell_type": "code",
   "execution_count": 64,
   "metadata": {},
   "outputs": [
    {
     "data": {
      "image/png": "[encoded data removed]",
      "text/plain": [
       "<Figure size 432x288 with 1 Axes>"
      ]
     },
     "metadata": {},
     "output_type": "display_data"
    }
   ],
   "source": [
    "show_img(resizePreds[0]>best_thres);"
   ]
  },
  {
   "cell_type": "markdown",
   "metadata": {},
   "source": [
    "# Run on test"
   ]
  },
  {
   "cell_type": "code",
   "execution_count": 35,
   "metadata": {},
   "outputs": [],
   "source": [
    "sz=128\n",
    "bs=64"
   ]
  },
  {
   "cell_type": "code",
   "execution_count": 36,
   "metadata": {},
   "outputs": [],
   "source": [
    "(PATH/'test-128').mkdir(exist_ok=True)"
   ]
  },
  {
   "cell_type": "code",
   "execution_count": 37,
   "metadata": {},
   "outputs": [],
   "source": [
    "def resize_img(fn):\n",
    "    Image.open(fn).resize((128,128)).save((fn.parent.parent)/'test-128'/fn.name)\n",
    "\n",
    "files = list((PATH/'test').iterdir())\n",
    "with ThreadPoolExecutor(8) as e: e.map(resize_img, files)"
   ]
  },
  {
   "cell_type": "code",
   "execution_count": 38,
   "metadata": {},
   "outputs": [],
   "source": [
    "testData = np.array(glob(f'{PATH}/test-128/*'))"
   ]
  },
  {
   "cell_type": "code",
   "execution_count": 39,
   "metadata": {},
   "outputs": [],
   "source": [
    "class TestFilesDataset(FilesDataset):\n",
    "    def __init__(self, fnames, y, transform, path):\n",
    "        self.y=y\n",
    "        assert(len(fnames)==len(y))\n",
    "        super().__init__(fnames, transform, path)\n",
    "    def get_y(self, i): return open_image(os.path.join(self.path, self.fnames[i]))\n",
    "    def get_c(self): return 0"
   ]
  },
  {
   "cell_type": "code",
   "execution_count": 40,
   "metadata": {},
   "outputs": [],
   "source": [
    "tfms=tfms_from_model(resnext50, sz, crop_type=CropType.NO, tfm_y=TfmType.CLASS, aug_tfms=aug_tfms)\n",
    "datasets = ImageData.get_ds(TestFilesDataset, (trn_x,trn_y), (val_x,val_y), tfms, test=testData, path=PATH)\n",
    "md = ImageData(PATH, datasets, bs, num_workers=16, classes=None)\n",
    "denorm = md.trn_ds.denorm"
   ]
  },
  {
   "cell_type": "code",
   "execution_count": 41,
   "metadata": {},
   "outputs": [],
   "source": [
    "m_base = get_base()\n",
    "m = to_gpu(Unet34(m_base))\n",
    "models = UnetModel(m)"
   ]
  },
  {
   "cell_type": "code",
   "execution_count": 42,
   "metadata": {},
   "outputs": [],
   "source": [
    "learn = ConvLearner(md, models)"
   ]
  },
  {
   "cell_type": "code",
   "execution_count": 43,
   "metadata": {},
   "outputs": [],
   "source": [
    "learn.load('model_4')"
   ]
  },
  {
   "cell_type": "code",
   "execution_count": 44,
   "metadata": {},
   "outputs": [],
   "source": [
    "x,y = next(iter(md.test_dl))\n",
    "py = to_np(learn.model(V(x)))"
   ]
  },
  {
   "cell_type": "code",
   "execution_count": 45,
   "metadata": {},
   "outputs": [
    {
     "data": {
      "text/plain": [
       "torch.Size([64, 3, 128, 128])"
      ]
     },
     "execution_count": 45,
     "metadata": {},
     "output_type": "execute_result"
    }
   ],
   "source": [
    "x.shape"
   ]
  },
  {
   "cell_type": "code",
   "execution_count": 46,
   "metadata": {},
   "outputs": [
    {
     "data": {
      "image/png": "[encoded data removed]",
      "text/plain": [
       "<Figure size 432x288 with 1 Axes>"
      ]
     },
     "metadata": {},
     "output_type": "display_data"
    }
   ],
   "source": [
    "show_img(py[6]>best_thres);"
   ]
  },
  {
   "cell_type": "code",
   "execution_count": 47,
   "metadata": {},
   "outputs": [
    {
     "data": {
      "image/png": "[encoded data removed]",
      "text/plain": [
       "<Figure size 432x288 with 1 Axes>"
      ]
     },
     "metadata": {},
     "output_type": "display_data"
    }
   ],
   "source": [
    "show_img(py[6]);"
   ]
  },
  {
   "cell_type": "code",
   "execution_count": 48,
   "metadata": {},
   "outputs": [
    {
     "data": {
      "image/png": "[encoded data removed]",
      "text/plain": [
       "<Figure size 432x288 with 1 Axes>"
      ]
     },
     "metadata": {},
     "output_type": "display_data"
    }
   ],
   "source": [
    "show_img(y[6]);"
   ]
  },
  {
   "cell_type": "code",
   "execution_count": 49,
   "metadata": {},
   "outputs": [
    {
     "data": {
      "text/plain": [
       "(64, 128, 128)"
      ]
     },
     "execution_count": 49,
     "metadata": {},
     "output_type": "execute_result"
    }
   ],
   "source": [
    "py.shape"
   ]
  },
  {
   "cell_type": "code",
   "execution_count": 50,
   "metadata": {},
   "outputs": [
    {
     "name": "stdout",
     "output_type": "stream",
     "text": [
      "                                             \r"
     ]
    }
   ],
   "source": [
    "probs, y = predict(md, nSplits, models, (len(testData), sz, sz), test=True)"
   ]
  },
  {
   "cell_type": "code",
   "execution_count": 65,
   "metadata": {},
   "outputs": [
    {
     "data": {
      "image/png": "[encoded data removed]",
      "text/plain": [
       "<Figure size 432x288 with 1 Axes>"
      ]
     },
     "metadata": {},
     "output_type": "display_data"
    }
   ],
   "source": [
    "show_img(probs[6]>best_thres);"
   ]
  },
  {
   "cell_type": "code",
   "execution_count": 66,
   "metadata": {},
   "outputs": [
    {
     "data": {
      "image/png": "[encoded data removed]",
      "text/plain": [
       "<Figure size 432x288 with 1 Axes>"
      ]
     },
     "metadata": {},
     "output_type": "display_data"
    }
   ],
   "source": [
    "show_img(probs[6]);"
   ]
  },
  {
   "cell_type": "code",
   "execution_count": 67,
   "metadata": {},
   "outputs": [
    {
     "data": {
      "image/png": "[encoded data removed]",
      "text/plain": [
       "<Figure size 432x288 with 1 Axes>"
      ]
     },
     "metadata": {},
     "output_type": "display_data"
    }
   ],
   "source": [
    "show_img(y[6]);"
   ]
  },
  {
   "cell_type": "code",
   "execution_count": 68,
   "metadata": {},
   "outputs": [],
   "source": [
    "def resize_img(fn):\n",
    "    return np.array(Image.fromarray(fn).resize((101,101)))\n",
    "\n",
    "resizePreds = np.array([resize_img(x) for x in probs])"
   ]
  },
  {
   "cell_type": "code",
   "execution_count": 69,
   "metadata": {},
   "outputs": [
    {
     "data": {
      "text/plain": [
       "(18000, 101, 101)"
      ]
     },
     "execution_count": 69,
     "metadata": {},
     "output_type": "execute_result"
    }
   ],
   "source": [
    "resizePreds.shape"
   ]
  },
  {
   "cell_type": "code",
   "execution_count": 70,
   "metadata": {},
   "outputs": [
    {
     "data": {
      "image/png": "[encoded data removed]",
      "text/plain": [
       "<Figure size 432x288 with 1 Axes>"
      ]
     },
     "metadata": {},
     "output_type": "display_data"
    }
   ],
   "source": [
    "show_img(resizePreds[6]);"
   ]
  },
  {
   "cell_type": "code",
   "execution_count": 71,
   "metadata": {},
   "outputs": [
    {
     "data": {
      "text/plain": [
       "array(['/home/giles/Downloads/fastai_data/salt/test-128/ac26efe98e.png',\n",
       "       '/home/giles/Downloads/fastai_data/salt/test-128/0a5eac8775.png',\n",
       "       '/home/giles/Downloads/fastai_data/salt/test-128/bdb1c1fcbf.png', ...,\n",
       "       '/home/giles/Downloads/fastai_data/salt/test-128/3bceaa0303.png',\n",
       "       '/home/giles/Downloads/fastai_data/salt/test-128/96867a3897.png',\n",
       "       '/home/giles/Downloads/fastai_data/salt/test-128/52f6267e3f.png'], dtype='<U62')"
      ]
     },
     "execution_count": 71,
     "metadata": {},
     "output_type": "execute_result"
    }
   ],
   "source": [
    "testData"
   ]
  },
  {
   "cell_type": "code",
   "execution_count": 72,
   "metadata": {},
   "outputs": [
    {
     "data": {
      "text/plain": [
       "'/home/giles/Downloads/fastai_data/salt/test'"
      ]
     },
     "execution_count": 72,
     "metadata": {},
     "output_type": "execute_result"
    }
   ],
   "source": [
    "f'{PATH}/test'"
   ]
  },
  {
   "cell_type": "code",
   "execution_count": 73,
   "metadata": {},
   "outputs": [],
   "source": [
    "test_ids = next(os.walk(f'{PATH}/test'))[2]"
   ]
  },
  {
   "cell_type": "code",
   "execution_count": 74,
   "metadata": {},
   "outputs": [],
   "source": [
    "def RLenc(img, order='F', format=True):\n",
    "    \"\"\"\n",
    "    img is binary mask image, shape (r,c)\n",
    "    order is down-then-right, i.e. Fortran\n",
    "    format determines if the order needs to be preformatted (according to submission rules) or not\n",
    "\n",
    "    returns run length as an array or string (if format is True)\n",
    "    \"\"\"\n",
    "    bytes = img.reshape(img.shape[0] * img.shape[1], order=order)\n",
    "    runs = []  ## list of run lengths\n",
    "    r = 0  ## the current run length\n",
    "    pos = 1  ## count starts from 1 per WK\n",
    "    for c in bytes:\n",
    "        if (c == 0):\n",
    "            if r != 0:\n",
    "                runs.append((pos, r))\n",
    "                pos += r\n",
    "                r = 0\n",
    "            pos += 1\n",
    "        else:\n",
    "            r += 1\n",
    "\n",
    "    # if last run is unsaved (i.e. data ends with 1)\n",
    "    if r != 0:\n",
    "        runs.append((pos, r))\n",
    "        pos += r\n",
    "        r = 0\n",
    "\n",
    "    if format:\n",
    "        z = ''\n",
    "\n",
    "        for rr in runs:\n",
    "            z += '{} {} '.format(rr[0], rr[1])\n",
    "        return z[:-1]\n",
    "    else:\n",
    "        return runs"
   ]
  },
  {
   "cell_type": "code",
   "execution_count": 75,
   "metadata": {},
   "outputs": [
    {
     "data": {
      "application/vnd.jupyter.widget-view+json": {
       "model_id": "4bc5761d82324cb5bca2b6e02c29d832",
       "version_major": 2,
       "version_minor": 0
      },
      "text/plain": [
       "HBox(children=(IntProgress(value=1, bar_style='info', max=1), HTML(value='')))"
      ]
     },
     "metadata": {},
     "output_type": "display_data"
    },
    {
     "name": "stdout",
     "output_type": "stream",
     "text": [
      "\n"
     ]
    }
   ],
   "source": [
    "pred_dict = {id_[:-4]:RLenc(np.round(resizePreds[i] > best_thres)) for i,id_ in tqdm_notebook(enumerate(test_ids))}"
   ]
  },
  {
   "cell_type": "code",
   "execution_count": 76,
   "metadata": {},
   "outputs": [],
   "source": [
    "sub = pd.DataFrame.from_dict(pred_dict,orient='index')\n",
    "sub.index.names = ['id']\n",
    "sub.columns = ['rle_mask']\n",
    "sub.to_csv('submission.csv')"
   ]
  },
  {
   "cell_type": "code",
   "execution_count": 77,
   "metadata": {},
   "outputs": [
    {
     "data": {
      "text/html": [
       "<div>\n",
       "<style scoped>\n",
       "    .dataframe tbody tr th:only-of-type {\n",
       "        vertical-align: middle;\n",
       "    }\n",
       "\n",
       "    .dataframe tbody tr th {\n",
       "        vertical-align: top;\n",
       "    }\n",
       "\n",
       "    .dataframe thead th {\n",
       "        text-align: right;\n",
       "    }\n",
       "</style>\n",
       "<table border=\"1\" class=\"dataframe\">\n",
       "  <thead>\n",
       "    <tr style=\"text-align: right;\">\n",
       "      <th></th>\n",
       "      <th>rle_mask</th>\n",
       "    </tr>\n",
       "    <tr>\n",
       "      <th>id</th>\n",
       "      <th></th>\n",
       "    </tr>\n",
       "  </thead>\n",
       "  <tbody>\n",
       "    <tr>\n",
       "      <th>ac26efe98e</th>\n",
       "      <td>1 38 102 38 203 38 304 38 405 38 506 38 607 38...</td>\n",
       "    </tr>\n",
       "    <tr>\n",
       "      <th>0a5eac8775</th>\n",
       "      <td></td>\n",
       "    </tr>\n",
       "    <tr>\n",
       "      <th>bdb1c1fcbf</th>\n",
       "      <td></td>\n",
       "    </tr>\n",
       "    <tr>\n",
       "      <th>5358961921</th>\n",
       "      <td></td>\n",
       "    </tr>\n",
       "    <tr>\n",
       "      <th>b7b72a69d1</th>\n",
       "      <td></td>\n",
       "    </tr>\n",
       "    <tr>\n",
       "      <th>c1169d47ce</th>\n",
       "      <td></td>\n",
       "    </tr>\n",
       "    <tr>\n",
       "      <th>89eb8ef89f</th>\n",
       "      <td>6463 2 6564 2 6665 2 6765 3 6866 3 6967 3 7065...</td>\n",
       "    </tr>\n",
       "    <tr>\n",
       "      <th>696d91b37e</th>\n",
       "      <td></td>\n",
       "    </tr>\n",
       "    <tr>\n",
       "      <th>73053e4d03</th>\n",
       "      <td>1 1 5 2 14 1 102 2 105 3 111 5 203 16 304 15 4...</td>\n",
       "    </tr>\n",
       "    <tr>\n",
       "      <th>68dd1c44ae</th>\n",
       "      <td></td>\n",
       "    </tr>\n",
       "    <tr>\n",
       "      <th>6ba0ff2b77</th>\n",
       "      <td>89 2 190 2 197 2 291 6 298 4 392 5 399 1 493 5...</td>\n",
       "    </tr>\n",
       "    <tr>\n",
       "      <th>b2d2951f0e</th>\n",
       "      <td>5253 2 5354 11 5455 13 5556 15 5657 16 5758 13...</td>\n",
       "    </tr>\n",
       "    <tr>\n",
       "      <th>0642eb11c7</th>\n",
       "      <td>3635 2 3733 5 3834 11 3847 5 3861 3 3871 3 394...</td>\n",
       "    </tr>\n",
       "    <tr>\n",
       "      <th>285c426094</th>\n",
       "      <td>3723 15 3819 20 3914 1 3916 24 4007 34 4103 39...</td>\n",
       "    </tr>\n",
       "    <tr>\n",
       "      <th>750bd2308b</th>\n",
       "      <td>9 39 109 43 209 49 312 55 413 65 513 69 614 69...</td>\n",
       "    </tr>\n",
       "    <tr>\n",
       "      <th>b8f80587f1</th>\n",
       "      <td>2829 1 2930 2 3031 3 3132 3 3233 6 3334 8 3435...</td>\n",
       "    </tr>\n",
       "    <tr>\n",
       "      <th>b23429fadf</th>\n",
       "      <td></td>\n",
       "    </tr>\n",
       "    <tr>\n",
       "      <th>adecc7ecaa</th>\n",
       "      <td>1 47 102 46 203 44 304 43 405 40 506 37 607 27...</td>\n",
       "    </tr>\n",
       "    <tr>\n",
       "      <th>e1cbce6620</th>\n",
       "      <td>1 85 102 85 203 86 304 85 405 85 506 86 607 80...</td>\n",
       "    </tr>\n",
       "    <tr>\n",
       "      <th>74a3b69852</th>\n",
       "      <td>63 39 163 40 262 42 362 43 463 43 563 44 662 4...</td>\n",
       "    </tr>\n",
       "    <tr>\n",
       "      <th>b0c2b9a9f2</th>\n",
       "      <td></td>\n",
       "    </tr>\n",
       "    <tr>\n",
       "      <th>4e89a48b43</th>\n",
       "      <td>96 6 197 6 299 5 400 5 503 3 605 2 707 1</td>\n",
       "    </tr>\n",
       "    <tr>\n",
       "      <th>85813f234e</th>\n",
       "      <td>14 88 115 88 216 88 317 88 418 88 519 88 620 8...</td>\n",
       "    </tr>\n",
       "    <tr>\n",
       "      <th>28708ca79f</th>\n",
       "      <td></td>\n",
       "    </tr>\n",
       "    <tr>\n",
       "      <th>593e0e741f</th>\n",
       "      <td></td>\n",
       "    </tr>\n",
       "    <tr>\n",
       "      <th>10af7026ff</th>\n",
       "      <td>1 7058 7071 85 7172 82 7273 79 7374 72 7475 69...</td>\n",
       "    </tr>\n",
       "    <tr>\n",
       "      <th>18606906bc</th>\n",
       "      <td></td>\n",
       "    </tr>\n",
       "    <tr>\n",
       "      <th>17a5a58850</th>\n",
       "      <td></td>\n",
       "    </tr>\n",
       "    <tr>\n",
       "      <th>529cd39ad9</th>\n",
       "      <td>33 16 134 16 231 20 329 22 427 1 430 22 525 2 ...</td>\n",
       "    </tr>\n",
       "    <tr>\n",
       "      <th>1356069815</th>\n",
       "      <td>1 2019 2021 100 2122 99 2223 99 2324 99 2425 9...</td>\n",
       "    </tr>\n",
       "    <tr>\n",
       "      <th>...</th>\n",
       "      <td>...</td>\n",
       "    </tr>\n",
       "    <tr>\n",
       "      <th>ba588ce106</th>\n",
       "      <td>910 6 1011 12 1112 14 1213 19 1314 25 1415 25 ...</td>\n",
       "    </tr>\n",
       "    <tr>\n",
       "      <th>1b2fa5d4f5</th>\n",
       "      <td>7208 14 7304 19 7377 6 7396 28 7475 50 7576 54...</td>\n",
       "    </tr>\n",
       "    <tr>\n",
       "      <th>38599bb2b5</th>\n",
       "      <td></td>\n",
       "    </tr>\n",
       "    <tr>\n",
       "      <th>78fb3ab862</th>\n",
       "      <td></td>\n",
       "    </tr>\n",
       "    <tr>\n",
       "      <th>eb0707f881</th>\n",
       "      <td></td>\n",
       "    </tr>\n",
       "    <tr>\n",
       "      <th>ff2ebb3e79</th>\n",
       "      <td>4808 3 4905 7 4997 16 5096 24 5196 25 5294 28 ...</td>\n",
       "    </tr>\n",
       "    <tr>\n",
       "      <th>0f23861d30</th>\n",
       "      <td></td>\n",
       "    </tr>\n",
       "    <tr>\n",
       "      <th>04fe99f3e4</th>\n",
       "      <td></td>\n",
       "    </tr>\n",
       "    <tr>\n",
       "      <th>d832b3d757</th>\n",
       "      <td></td>\n",
       "    </tr>\n",
       "    <tr>\n",
       "      <th>646dc6b247</th>\n",
       "      <td></td>\n",
       "    </tr>\n",
       "    <tr>\n",
       "      <th>3efd2d1d03</th>\n",
       "      <td></td>\n",
       "    </tr>\n",
       "    <tr>\n",
       "      <th>6c16057cd7</th>\n",
       "      <td>6458 7 6557 9 6648 6 6655 12 6746 22 6841 28 6...</td>\n",
       "    </tr>\n",
       "    <tr>\n",
       "      <th>48e7a5676b</th>\n",
       "      <td></td>\n",
       "    </tr>\n",
       "    <tr>\n",
       "      <th>ce53de2451</th>\n",
       "      <td>58 1 60 4 159 6 260 6 462 1 563 3 2570 6 2671 ...</td>\n",
       "    </tr>\n",
       "    <tr>\n",
       "      <th>de6bc4b60f</th>\n",
       "      <td>2726 2 2825 4 2924 6 3023 8 3123 9 3223 10 332...</td>\n",
       "    </tr>\n",
       "    <tr>\n",
       "      <th>53c5b16111</th>\n",
       "      <td>1 2367 2381 6 2389 72 2503 56 2606 53 2709 51 ...</td>\n",
       "    </tr>\n",
       "    <tr>\n",
       "      <th>007176e42a</th>\n",
       "      <td></td>\n",
       "    </tr>\n",
       "    <tr>\n",
       "      <th>55df1f35af</th>\n",
       "      <td>1 101 103 100 209 95 310 95 415 91 521 86 631 ...</td>\n",
       "    </tr>\n",
       "    <tr>\n",
       "      <th>354d881033</th>\n",
       "      <td>1 5732 5735 7 5743 192 5936 2 5939 5 5946 90 6...</td>\n",
       "    </tr>\n",
       "    <tr>\n",
       "      <th>752368df10</th>\n",
       "      <td></td>\n",
       "    </tr>\n",
       "    <tr>\n",
       "      <th>bb6a397bf9</th>\n",
       "      <td>1 41 102 41 203 44 304 44 405 46 506 47 607 50...</td>\n",
       "    </tr>\n",
       "    <tr>\n",
       "      <th>b74fcab200</th>\n",
       "      <td>85 17 185 18 284 20 385 20 485 21 586 21 687 2...</td>\n",
       "    </tr>\n",
       "    <tr>\n",
       "      <th>92ad1bf3e3</th>\n",
       "      <td>45 6 146 6 247 6 348 3 449 3 550 3 955 1 1049 ...</td>\n",
       "    </tr>\n",
       "    <tr>\n",
       "      <th>4d6522470e</th>\n",
       "      <td></td>\n",
       "    </tr>\n",
       "    <tr>\n",
       "      <th>eb8d9a0d4a</th>\n",
       "      <td>39 63 141 62 246 58 349 56 452 54 555 52 663 4...</td>\n",
       "    </tr>\n",
       "    <tr>\n",
       "      <th>a7e060fec7</th>\n",
       "      <td>4491 1 4495 7 4514 13 4529 1 4591 2 4596 2 460...</td>\n",
       "    </tr>\n",
       "    <tr>\n",
       "      <th>76ff83530d</th>\n",
       "      <td>17 85 118 85 219 85 320 85 421 85 522 85 623 8...</td>\n",
       "    </tr>\n",
       "    <tr>\n",
       "      <th>3bceaa0303</th>\n",
       "      <td></td>\n",
       "    </tr>\n",
       "    <tr>\n",
       "      <th>96867a3897</th>\n",
       "      <td></td>\n",
       "    </tr>\n",
       "    <tr>\n",
       "      <th>52f6267e3f</th>\n",
       "      <td></td>\n",
       "    </tr>\n",
       "  </tbody>\n",
       "</table>\n",
       "<p>18000 rows × 1 columns</p>\n",
       "</div>"
      ],
      "text/plain": [
       "                                                     rle_mask\n",
       "id                                                           \n",
       "ac26efe98e  1 38 102 38 203 38 304 38 405 38 506 38 607 38...\n",
       "0a5eac8775                                                   \n",
       "bdb1c1fcbf                                                   \n",
       "5358961921                                                   \n",
       "b7b72a69d1                                                   \n",
       "c1169d47ce                                                   \n",
       "89eb8ef89f  6463 2 6564 2 6665 2 6765 3 6866 3 6967 3 7065...\n",
       "696d91b37e                                                   \n",
       "73053e4d03  1 1 5 2 14 1 102 2 105 3 111 5 203 16 304 15 4...\n",
       "68dd1c44ae                                                   \n",
       "6ba0ff2b77  89 2 190 2 197 2 291 6 298 4 392 5 399 1 493 5...\n",
       "b2d2951f0e  5253 2 5354 11 5455 13 5556 15 5657 16 5758 13...\n",
       "0642eb11c7  3635 2 3733 5 3834 11 3847 5 3861 3 3871 3 394...\n",
       "285c426094  3723 15 3819 20 3914 1 3916 24 4007 34 4103 39...\n",
       "750bd2308b  9 39 109 43 209 49 312 55 413 65 513 69 614 69...\n",
       "b8f80587f1  2829 1 2930 2 3031 3 3132 3 3233 6 3334 8 3435...\n",
       "b23429fadf                                                   \n",
       "adecc7ecaa  1 47 102 46 203 44 304 43 405 40 506 37 607 27...\n",
       "e1cbce6620  1 85 102 85 203 86 304 85 405 85 506 86 607 80...\n",
       "74a3b69852  63 39 163 40 262 42 362 43 463 43 563 44 662 4...\n",
       "b0c2b9a9f2                                                   \n",
       "4e89a48b43           96 6 197 6 299 5 400 5 503 3 605 2 707 1\n",
       "85813f234e  14 88 115 88 216 88 317 88 418 88 519 88 620 8...\n",
       "28708ca79f                                                   \n",
       "593e0e741f                                                   \n",
       "10af7026ff  1 7058 7071 85 7172 82 7273 79 7374 72 7475 69...\n",
       "18606906bc                                                   \n",
       "17a5a58850                                                   \n",
       "529cd39ad9  33 16 134 16 231 20 329 22 427 1 430 22 525 2 ...\n",
       "1356069815  1 2019 2021 100 2122 99 2223 99 2324 99 2425 9...\n",
       "...                                                       ...\n",
       "ba588ce106  910 6 1011 12 1112 14 1213 19 1314 25 1415 25 ...\n",
       "1b2fa5d4f5  7208 14 7304 19 7377 6 7396 28 7475 50 7576 54...\n",
       "38599bb2b5                                                   \n",
       "78fb3ab862                                                   \n",
       "eb0707f881                                                   \n",
       "ff2ebb3e79  4808 3 4905 7 4997 16 5096 24 5196 25 5294 28 ...\n",
       "0f23861d30                                                   \n",
       "04fe99f3e4                                                   \n",
       "d832b3d757                                                   \n",
       "646dc6b247                                                   \n",
       "3efd2d1d03                                                   \n",
       "6c16057cd7  6458 7 6557 9 6648 6 6655 12 6746 22 6841 28 6...\n",
       "48e7a5676b                                                   \n",
       "ce53de2451  58 1 60 4 159 6 260 6 462 1 563 3 2570 6 2671 ...\n",
       "de6bc4b60f  2726 2 2825 4 2924 6 3023 8 3123 9 3223 10 332...\n",
       "53c5b16111  1 2367 2381 6 2389 72 2503 56 2606 53 2709 51 ...\n",
       "007176e42a                                                   \n",
       "55df1f35af  1 101 103 100 209 95 310 95 415 91 521 86 631 ...\n",
       "354d881033  1 5732 5735 7 5743 192 5936 2 5939 5 5946 90 6...\n",
       "752368df10                                                   \n",
       "bb6a397bf9  1 41 102 41 203 44 304 44 405 46 506 47 607 50...\n",
       "b74fcab200  85 17 185 18 284 20 385 20 485 21 586 21 687 2...\n",
       "92ad1bf3e3  45 6 146 6 247 6 348 3 449 3 550 3 955 1 1049 ...\n",
       "4d6522470e                                                   \n",
       "eb8d9a0d4a  39 63 141 62 246 58 349 56 452 54 555 52 663 4...\n",
       "a7e060fec7  4491 1 4495 7 4514 13 4529 1 4591 2 4596 2 460...\n",
       "76ff83530d  17 85 118 85 219 85 320 85 421 85 522 85 623 8...\n",
       "3bceaa0303                                                   \n",
       "96867a3897                                                   \n",
       "52f6267e3f                                                   \n",
       "\n",
       "[18000 rows x 1 columns]"
      ]
     },
     "execution_count": 77,
     "metadata": {},
     "output_type": "execute_result"
    }
   ],
   "source": [
    "sub"
   ]
  },
  {
   "cell_type": "code",
   "execution_count": null,
   "metadata": {},
   "outputs": [],
   "source": []
  }
 ],
 "metadata": {
  "kernelspec": {
   "display_name": "Python 3",
   "language": "python",
   "name": "python3"
  },
  "language_info": {
   "codemirror_mode": {
    "name": "ipython",
    "version": 3
   },
   "file_extension": ".py",
   "mimetype": "text/x-python",
   "name": "python",
   "nbconvert_exporter": "python",
   "pygments_lexer": "ipython3",
   "version": "3.6.6"
  },
  "toc": {
   "colors": {
    "hover_highlight": "#DAA520",
    "navigate_num": "#000000",
    "navigate_text": "#333333",
    "running_highlight": "#FF0000",
    "selected_highlight": "#FFD700",
    "sidebar_border": "#EEEEEE",
    "wrapper_background": "#FFFFFF"
   },
   "moveMenuLeft": true,
   "nav_menu": {
    "height": "86px",
    "width": "252px"
   },
   "navigate_menu": true,
   "number_sections": true,
   "sideBar": true,
   "threshold": 4,
   "toc_cell": false,
   "toc_section_display": "block",
   "toc_window_display": false,
   "widenNotebook": false
  }
 },
 "nbformat": 4,
 "nbformat_minor": 2
}
