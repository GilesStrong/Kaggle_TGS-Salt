{
 "cells": [
  {
   "cell_type": "code",
   "execution_count": 1,
   "metadata": {},
   "outputs": [],
   "source": [
    "%matplotlib inline\n",
    "%reload_ext autoreload\n",
    "%autoreload 2"
   ]
  },
  {
   "cell_type": "code",
   "execution_count": 2,
   "metadata": {},
   "outputs": [
    {
     "name": "stderr",
     "output_type": "stream",
     "text": [
      "/home/giles/anaconda3/envs/fastai/lib/python3.6/importlib/_bootstrap.py:219: RuntimeWarning: numpy.dtype size changed, may indicate binary incompatibility. Expected 96, got 88\n",
      "  return f(*args, **kwds)\n",
      "/home/giles/anaconda3/envs/fastai/lib/python3.6/importlib/_bootstrap.py:219: RuntimeWarning: numpy.dtype size changed, may indicate binary incompatibility. Expected 96, got 88\n",
      "  return f(*args, **kwds)\n",
      "/home/giles/anaconda3/envs/fastai/lib/python3.6/site-packages/sklearn/ensemble/weight_boosting.py:29: DeprecationWarning: numpy.core.umath_tests is an internal NumPy module and should not be imported. It will be removed in a future NumPy release.\n",
      "  from numpy.core.umath_tests import inner1d\n"
     ]
    }
   ],
   "source": [
    "from fastai.conv_learner import *\n",
    "from fastai.dataset import *\n",
    "from fastai.models.resnet import vgg_resnet50\n",
    "\n",
    "import json"
   ]
  },
  {
   "cell_type": "code",
   "execution_count": 3,
   "metadata": {},
   "outputs": [],
   "source": [
    "#torch.cuda.set_device(2)"
   ]
  },
  {
   "cell_type": "code",
   "execution_count": 4,
   "metadata": {},
   "outputs": [],
   "source": [
    "torch.backends.cudnn.benchmark=True"
   ]
  },
  {
   "cell_type": "markdown",
   "metadata": {},
   "source": [
    "## Data"
   ]
  },
  {
   "cell_type": "code",
   "execution_count": 5,
   "metadata": {},
   "outputs": [],
   "source": [
    "PATH = Path('/home/giles/Downloads/fastai_data/salt/')\n",
    "MASKS_FN = 'train_masks.csv'\n",
    "META_FN = 'metadata.csv'\n",
    "masks_csv = pd.read_csv(PATH/MASKS_FN)\n",
    "meta_csv = pd.read_csv(PATH/META_FN)"
   ]
  },
  {
   "cell_type": "code",
   "execution_count": 6,
   "metadata": {},
   "outputs": [],
   "source": [
    "def show_img(im, figsize=None, ax=None, alpha=None):\n",
    "    if not ax: fig,ax = plt.subplots(figsize=figsize)\n",
    "    ax.imshow(im, alpha=alpha)\n",
    "    ax.set_axis_off()\n",
    "    return ax"
   ]
  },
  {
   "cell_type": "code",
   "execution_count": 7,
   "metadata": {},
   "outputs": [],
   "source": [
    "(PATH/'train_masks-128').mkdir(exist_ok=True)"
   ]
  },
  {
   "cell_type": "code",
   "execution_count": 8,
   "metadata": {},
   "outputs": [],
   "source": [
    "def resize_img(fn):\n",
    "    Image.open(fn).resize((128,128)).save((fn.parent.parent)/'train_masks-128'/fn.name)\n",
    "\n",
    "files = list((PATH/'train_masks').iterdir())\n",
    "with ThreadPoolExecutor(8) as e: e.map(resize_img, files)"
   ]
  },
  {
   "cell_type": "code",
   "execution_count": 9,
   "metadata": {},
   "outputs": [],
   "source": [
    "(PATH/'train-128').mkdir(exist_ok=True)"
   ]
  },
  {
   "cell_type": "code",
   "execution_count": 10,
   "metadata": {},
   "outputs": [],
   "source": [
    "def resize_img(fn):\n",
    "    Image.open(fn).resize((128,128)).save((fn.parent.parent)/'train-128'/fn.name)\n",
    "\n",
    "files = list((PATH/'train').iterdir())\n",
    "with ThreadPoolExecutor(8) as e: e.map(resize_img, files)"
   ]
  },
  {
   "cell_type": "code",
   "execution_count": 11,
   "metadata": {},
   "outputs": [],
   "source": [
    "TRAIN_DN = 'train-128'\n",
    "MASKS_DN = 'train_masks-128'\n",
    "sz = 32\n",
    "bs = 64\n",
    "nw = 16"
   ]
  },
  {
   "cell_type": "markdown",
   "metadata": {},
   "source": [
    "TRAIN_DN = 'train'\n",
    "MASKS_DN = 'train_masks_png'\n",
    "sz = 128\n",
    "bs = 64\n",
    "nw = 16"
   ]
  },
  {
   "cell_type": "code",
   "execution_count": 12,
   "metadata": {},
   "outputs": [],
   "source": [
    "class MatchedFilesDataset(FilesDataset):\n",
    "    def __init__(self, fnames, y, transform, path):\n",
    "        self.y=y\n",
    "        assert(len(fnames)==len(y))\n",
    "        super().__init__(fnames, transform, path)\n",
    "    def get_y(self, i): return open_image(os.path.join(self.path, self.y[i]))\n",
    "    def get_c(self): return 0"
   ]
  },
  {
   "cell_type": "code",
   "execution_count": 13,
   "metadata": {},
   "outputs": [],
   "source": [
    "x_names = np.array(glob(f'{PATH}/{TRAIN_DN}/*'))\n",
    "y_names = np.array(glob(f'{PATH}/{MASKS_DN}/*'))"
   ]
  },
  {
   "cell_type": "code",
   "execution_count": 14,
   "metadata": {},
   "outputs": [],
   "source": [
    "val_idxs = list(range(800))\n",
    "((val_x,trn_x),(val_y,trn_y)) = split_by_idx(val_idxs, x_names, y_names)"
   ]
  },
  {
   "cell_type": "code",
   "execution_count": 15,
   "metadata": {},
   "outputs": [],
   "source": [
    "aug_tfms = []#[RandomFlip(tfm_y=TfmType.CLASS)]"
   ]
  },
  {
   "cell_type": "code",
   "execution_count": 16,
   "metadata": {},
   "outputs": [],
   "source": [
    "tfms = tfms_from_model(resnet34, sz, crop_type=CropType.NO, tfm_y=TfmType.CLASS, aug_tfms=aug_tfms)\n",
    "datasets = ImageData.get_ds(MatchedFilesDataset, (trn_x,trn_y), (val_x,val_y), tfms, path=PATH)\n",
    "md = ImageData(PATH, datasets, bs, num_workers=16, classes=None)\n",
    "denorm = md.trn_ds.denorm"
   ]
  },
  {
   "cell_type": "code",
   "execution_count": 17,
   "metadata": {},
   "outputs": [],
   "source": [
    "x,y = next(iter(md.trn_dl))"
   ]
  },
  {
   "cell_type": "code",
   "execution_count": 18,
   "metadata": {},
   "outputs": [
    {
     "data": {
      "text/plain": [
       "(torch.Size([64, 3, 32, 32]), torch.Size([64, 32, 32]))"
      ]
     },
     "execution_count": 18,
     "metadata": {},
     "output_type": "execute_result"
    }
   ],
   "source": [
    "x.shape,y.shape"
   ]
  },
  {
   "cell_type": "markdown",
   "metadata": {
    "heading_collapsed": true
   },
   "source": [
    "## Simple upsample"
   ]
  },
  {
   "cell_type": "code",
   "execution_count": 19,
   "metadata": {
    "hidden": true
   },
   "outputs": [],
   "source": [
    "f = resnet34\n",
    "cut,lr_cut = model_meta[f]"
   ]
  },
  {
   "cell_type": "code",
   "execution_count": 20,
   "metadata": {
    "hidden": true
   },
   "outputs": [],
   "source": [
    "def get_base():\n",
    "    layers = cut_model(f(True), cut)\n",
    "    return nn.Sequential(*layers)"
   ]
  },
  {
   "cell_type": "code",
   "execution_count": 21,
   "metadata": {
    "hidden": true
   },
   "outputs": [],
   "source": [
    "def dice(pred, targs):\n",
    "    pred = (pred>0).float()\n",
    "    return 2. * (pred*targs).sum() / (pred+targs).sum()"
   ]
  },
  {
   "cell_type": "code",
   "execution_count": 22,
   "metadata": {
    "hidden": true
   },
   "outputs": [],
   "source": [
    "class StdUpsample(nn.Module):\n",
    "    def __init__(self, nin, nout):\n",
    "        super().__init__()\n",
    "        self.conv = nn.ConvTranspose2d(nin, nout, 2, stride=2)\n",
    "        self.bn = nn.BatchNorm2d(nout)\n",
    "        \n",
    "    def forward(self, x): return self.bn(F.relu(self.conv(x)))"
   ]
  },
  {
   "cell_type": "code",
   "execution_count": 23,
   "metadata": {
    "hidden": true
   },
   "outputs": [],
   "source": [
    "class Upsample34(nn.Module):\n",
    "    def __init__(self, rn):\n",
    "        super().__init__()\n",
    "        self.rn = rn\n",
    "        self.features = nn.Sequential(\n",
    "            rn, nn.ReLU(),\n",
    "            StdUpsample(512,256),\n",
    "            StdUpsample(256,256),\n",
    "            StdUpsample(256,256),\n",
    "            StdUpsample(256,256),\n",
    "            nn.ConvTranspose2d(256, 1, 2, stride=2))\n",
    "        \n",
    "    def forward(self,x): return self.features(x)[:,0]"
   ]
  },
  {
   "cell_type": "code",
   "execution_count": 24,
   "metadata": {
    "hidden": true
   },
   "outputs": [],
   "source": [
    "class UpsampleModel():\n",
    "    def __init__(self,model,name='upsample'):\n",
    "        self.model,self.name = model,name\n",
    "\n",
    "    def get_layer_groups(self, precompute):\n",
    "        lgs = list(split_by_idxs(children(self.model.rn), [lr_cut]))\n",
    "        return lgs + [children(self.model.features)[1:]]"
   ]
  },
  {
   "cell_type": "markdown",
   "metadata": {},
   "source": [
    "## U-net (ish)"
   ]
  },
  {
   "cell_type": "code",
   "execution_count": 25,
   "metadata": {},
   "outputs": [],
   "source": [
    "class SaveFeatures():\n",
    "    features=None\n",
    "    def __init__(self, m): self.hook = m.register_forward_hook(self.hook_fn)\n",
    "    def hook_fn(self, module, input, output): self.features = output\n",
    "    def remove(self): self.hook.remove()"
   ]
  },
  {
   "cell_type": "code",
   "execution_count": 26,
   "metadata": {},
   "outputs": [],
   "source": [
    "class UnetBlock(nn.Module):\n",
    "    def __init__(self, up_in, x_in, n_out):\n",
    "        super().__init__()\n",
    "        up_out = x_out = n_out//2\n",
    "        self.x_conv  = nn.Conv2d(x_in,  x_out,  1)\n",
    "        self.tr_conv = nn.ConvTranspose2d(up_in, up_out, 2, stride=2)\n",
    "        self.bn = nn.BatchNorm2d(n_out)\n",
    "        \n",
    "    def forward(self, up_p, x_p):\n",
    "        up_p = self.tr_conv(up_p)\n",
    "        x_p = self.x_conv(x_p)\n",
    "        cat_p = torch.cat([up_p,x_p], dim=1)\n",
    "        return self.bn(F.relu(cat_p))"
   ]
  },
  {
   "cell_type": "code",
   "execution_count": 27,
   "metadata": {},
   "outputs": [],
   "source": [
    "class Unet34(nn.Module):\n",
    "    def __init__(self, rn):\n",
    "        super().__init__()\n",
    "        self.rn = rn\n",
    "        self.sfs = [SaveFeatures(rn[i]) for i in [2,4,5,6]]\n",
    "        self.up1 = UnetBlock(512,256,256)\n",
    "        self.up2 = UnetBlock(256,128,256)\n",
    "        self.up3 = UnetBlock(256,64,256)\n",
    "        self.up4 = UnetBlock(256,64,256)\n",
    "        self.up5 = nn.ConvTranspose2d(256, 1, 2, stride=2)\n",
    "        \n",
    "    def forward(self,x):\n",
    "        x = F.relu(self.rn(x))\n",
    "        x = self.up1(x, self.sfs[3].features)\n",
    "        x = self.up2(x, self.sfs[2].features)\n",
    "        x = self.up3(x, self.sfs[1].features)\n",
    "        x = self.up4(x, self.sfs[0].features)\n",
    "        x = self.up5(x)\n",
    "        return x[:,0]\n",
    "    \n",
    "    def close(self):\n",
    "        for sf in self.sfs: sf.remove()"
   ]
  },
  {
   "cell_type": "code",
   "execution_count": 28,
   "metadata": {},
   "outputs": [],
   "source": [
    "class UnetModel():\n",
    "    def __init__(self,model,name='unet'):\n",
    "        self.model,self.name = model,name\n",
    "\n",
    "    def get_layer_groups(self, precompute):\n",
    "        lgs = list(split_by_idxs(children(self.model.rn), [lr_cut]))\n",
    "        return lgs + [children(self.model)[1:]]"
   ]
  },
  {
   "cell_type": "code",
   "execution_count": 29,
   "metadata": {},
   "outputs": [],
   "source": [
    "m_base = get_base()\n",
    "m = to_gpu(Unet34(m_base))\n",
    "models = UnetModel(m)"
   ]
  },
  {
   "cell_type": "code",
   "execution_count": 30,
   "metadata": {},
   "outputs": [],
   "source": [
    "learn = ConvLearner(md, models)\n",
    "learn.opt_fn=optim.Adam\n",
    "learn.crit=nn.BCEWithLogitsLoss()\n",
    "learn.metrics=[accuracy_thresh(0.5),dice]"
   ]
  },
  {
   "cell_type": "code",
   "execution_count": 31,
   "metadata": {},
   "outputs": [
    {
     "data": {
      "text/plain": [
       "OrderedDict([('Conv2d-1',\n",
       "              OrderedDict([('input_shape', [-1, 3, 32, 32]),\n",
       "                           ('output_shape', [-1, 64, 16, 16]),\n",
       "                           ('trainable', False),\n",
       "                           ('nb_params', 9408)])),\n",
       "             ('BatchNorm2d-2',\n",
       "              OrderedDict([('input_shape', [-1, 64, 16, 16]),\n",
       "                           ('output_shape', [-1, 64, 16, 16]),\n",
       "                           ('trainable', False),\n",
       "                           ('nb_params', 128)])),\n",
       "             ('ReLU-3',\n",
       "              OrderedDict([('input_shape', [-1, 64, 16, 16]),\n",
       "                           ('output_shape', [-1, 64, 16, 16]),\n",
       "                           ('nb_params', 0)])),\n",
       "             ('MaxPool2d-4',\n",
       "              OrderedDict([('input_shape', [-1, 64, 16, 16]),\n",
       "                           ('output_shape', [-1, 64, 8, 8]),\n",
       "                           ('nb_params', 0)])),\n",
       "             ('Conv2d-5',\n",
       "              OrderedDict([('input_shape', [-1, 64, 8, 8]),\n",
       "                           ('output_shape', [-1, 64, 8, 8]),\n",
       "                           ('trainable', False),\n",
       "                           ('nb_params', 36864)])),\n",
       "             ('BatchNorm2d-6',\n",
       "              OrderedDict([('input_shape', [-1, 64, 8, 8]),\n",
       "                           ('output_shape', [-1, 64, 8, 8]),\n",
       "                           ('trainable', False),\n",
       "                           ('nb_params', 128)])),\n",
       "             ('ReLU-7',\n",
       "              OrderedDict([('input_shape', [-1, 64, 8, 8]),\n",
       "                           ('output_shape', [-1, 64, 8, 8]),\n",
       "                           ('nb_params', 0)])),\n",
       "             ('Conv2d-8',\n",
       "              OrderedDict([('input_shape', [-1, 64, 8, 8]),\n",
       "                           ('output_shape', [-1, 64, 8, 8]),\n",
       "                           ('trainable', False),\n",
       "                           ('nb_params', 36864)])),\n",
       "             ('BatchNorm2d-9',\n",
       "              OrderedDict([('input_shape', [-1, 64, 8, 8]),\n",
       "                           ('output_shape', [-1, 64, 8, 8]),\n",
       "                           ('trainable', False),\n",
       "                           ('nb_params', 128)])),\n",
       "             ('ReLU-10',\n",
       "              OrderedDict([('input_shape', [-1, 64, 8, 8]),\n",
       "                           ('output_shape', [-1, 64, 8, 8]),\n",
       "                           ('nb_params', 0)])),\n",
       "             ('BasicBlock-11',\n",
       "              OrderedDict([('input_shape', [-1, 64, 8, 8]),\n",
       "                           ('output_shape', [-1, 64, 8, 8]),\n",
       "                           ('nb_params', 0)])),\n",
       "             ('Conv2d-12',\n",
       "              OrderedDict([('input_shape', [-1, 64, 8, 8]),\n",
       "                           ('output_shape', [-1, 64, 8, 8]),\n",
       "                           ('trainable', False),\n",
       "                           ('nb_params', 36864)])),\n",
       "             ('BatchNorm2d-13',\n",
       "              OrderedDict([('input_shape', [-1, 64, 8, 8]),\n",
       "                           ('output_shape', [-1, 64, 8, 8]),\n",
       "                           ('trainable', False),\n",
       "                           ('nb_params', 128)])),\n",
       "             ('ReLU-14',\n",
       "              OrderedDict([('input_shape', [-1, 64, 8, 8]),\n",
       "                           ('output_shape', [-1, 64, 8, 8]),\n",
       "                           ('nb_params', 0)])),\n",
       "             ('Conv2d-15',\n",
       "              OrderedDict([('input_shape', [-1, 64, 8, 8]),\n",
       "                           ('output_shape', [-1, 64, 8, 8]),\n",
       "                           ('trainable', False),\n",
       "                           ('nb_params', 36864)])),\n",
       "             ('BatchNorm2d-16',\n",
       "              OrderedDict([('input_shape', [-1, 64, 8, 8]),\n",
       "                           ('output_shape', [-1, 64, 8, 8]),\n",
       "                           ('trainable', False),\n",
       "                           ('nb_params', 128)])),\n",
       "             ('ReLU-17',\n",
       "              OrderedDict([('input_shape', [-1, 64, 8, 8]),\n",
       "                           ('output_shape', [-1, 64, 8, 8]),\n",
       "                           ('nb_params', 0)])),\n",
       "             ('BasicBlock-18',\n",
       "              OrderedDict([('input_shape', [-1, 64, 8, 8]),\n",
       "                           ('output_shape', [-1, 64, 8, 8]),\n",
       "                           ('nb_params', 0)])),\n",
       "             ('Conv2d-19',\n",
       "              OrderedDict([('input_shape', [-1, 64, 8, 8]),\n",
       "                           ('output_shape', [-1, 64, 8, 8]),\n",
       "                           ('trainable', False),\n",
       "                           ('nb_params', 36864)])),\n",
       "             ('BatchNorm2d-20',\n",
       "              OrderedDict([('input_shape', [-1, 64, 8, 8]),\n",
       "                           ('output_shape', [-1, 64, 8, 8]),\n",
       "                           ('trainable', False),\n",
       "                           ('nb_params', 128)])),\n",
       "             ('ReLU-21',\n",
       "              OrderedDict([('input_shape', [-1, 64, 8, 8]),\n",
       "                           ('output_shape', [-1, 64, 8, 8]),\n",
       "                           ('nb_params', 0)])),\n",
       "             ('Conv2d-22',\n",
       "              OrderedDict([('input_shape', [-1, 64, 8, 8]),\n",
       "                           ('output_shape', [-1, 64, 8, 8]),\n",
       "                           ('trainable', False),\n",
       "                           ('nb_params', 36864)])),\n",
       "             ('BatchNorm2d-23',\n",
       "              OrderedDict([('input_shape', [-1, 64, 8, 8]),\n",
       "                           ('output_shape', [-1, 64, 8, 8]),\n",
       "                           ('trainable', False),\n",
       "                           ('nb_params', 128)])),\n",
       "             ('ReLU-24',\n",
       "              OrderedDict([('input_shape', [-1, 64, 8, 8]),\n",
       "                           ('output_shape', [-1, 64, 8, 8]),\n",
       "                           ('nb_params', 0)])),\n",
       "             ('BasicBlock-25',\n",
       "              OrderedDict([('input_shape', [-1, 64, 8, 8]),\n",
       "                           ('output_shape', [-1, 64, 8, 8]),\n",
       "                           ('nb_params', 0)])),\n",
       "             ('Conv2d-26',\n",
       "              OrderedDict([('input_shape', [-1, 64, 8, 8]),\n",
       "                           ('output_shape', [-1, 128, 4, 4]),\n",
       "                           ('trainable', False),\n",
       "                           ('nb_params', 73728)])),\n",
       "             ('BatchNorm2d-27',\n",
       "              OrderedDict([('input_shape', [-1, 128, 4, 4]),\n",
       "                           ('output_shape', [-1, 128, 4, 4]),\n",
       "                           ('trainable', False),\n",
       "                           ('nb_params', 256)])),\n",
       "             ('ReLU-28',\n",
       "              OrderedDict([('input_shape', [-1, 128, 4, 4]),\n",
       "                           ('output_shape', [-1, 128, 4, 4]),\n",
       "                           ('nb_params', 0)])),\n",
       "             ('Conv2d-29',\n",
       "              OrderedDict([('input_shape', [-1, 128, 4, 4]),\n",
       "                           ('output_shape', [-1, 128, 4, 4]),\n",
       "                           ('trainable', False),\n",
       "                           ('nb_params', 147456)])),\n",
       "             ('BatchNorm2d-30',\n",
       "              OrderedDict([('input_shape', [-1, 128, 4, 4]),\n",
       "                           ('output_shape', [-1, 128, 4, 4]),\n",
       "                           ('trainable', False),\n",
       "                           ('nb_params', 256)])),\n",
       "             ('Conv2d-31',\n",
       "              OrderedDict([('input_shape', [-1, 64, 8, 8]),\n",
       "                           ('output_shape', [-1, 128, 4, 4]),\n",
       "                           ('trainable', False),\n",
       "                           ('nb_params', 8192)])),\n",
       "             ('BatchNorm2d-32',\n",
       "              OrderedDict([('input_shape', [-1, 128, 4, 4]),\n",
       "                           ('output_shape', [-1, 128, 4, 4]),\n",
       "                           ('trainable', False),\n",
       "                           ('nb_params', 256)])),\n",
       "             ('ReLU-33',\n",
       "              OrderedDict([('input_shape', [-1, 128, 4, 4]),\n",
       "                           ('output_shape', [-1, 128, 4, 4]),\n",
       "                           ('nb_params', 0)])),\n",
       "             ('BasicBlock-34',\n",
       "              OrderedDict([('input_shape', [-1, 64, 8, 8]),\n",
       "                           ('output_shape', [-1, 128, 4, 4]),\n",
       "                           ('nb_params', 0)])),\n",
       "             ('Conv2d-35',\n",
       "              OrderedDict([('input_shape', [-1, 128, 4, 4]),\n",
       "                           ('output_shape', [-1, 128, 4, 4]),\n",
       "                           ('trainable', False),\n",
       "                           ('nb_params', 147456)])),\n",
       "             ('BatchNorm2d-36',\n",
       "              OrderedDict([('input_shape', [-1, 128, 4, 4]),\n",
       "                           ('output_shape', [-1, 128, 4, 4]),\n",
       "                           ('trainable', False),\n",
       "                           ('nb_params', 256)])),\n",
       "             ('ReLU-37',\n",
       "              OrderedDict([('input_shape', [-1, 128, 4, 4]),\n",
       "                           ('output_shape', [-1, 128, 4, 4]),\n",
       "                           ('nb_params', 0)])),\n",
       "             ('Conv2d-38',\n",
       "              OrderedDict([('input_shape', [-1, 128, 4, 4]),\n",
       "                           ('output_shape', [-1, 128, 4, 4]),\n",
       "                           ('trainable', False),\n",
       "                           ('nb_params', 147456)])),\n",
       "             ('BatchNorm2d-39',\n",
       "              OrderedDict([('input_shape', [-1, 128, 4, 4]),\n",
       "                           ('output_shape', [-1, 128, 4, 4]),\n",
       "                           ('trainable', False),\n",
       "                           ('nb_params', 256)])),\n",
       "             ('ReLU-40',\n",
       "              OrderedDict([('input_shape', [-1, 128, 4, 4]),\n",
       "                           ('output_shape', [-1, 128, 4, 4]),\n",
       "                           ('nb_params', 0)])),\n",
       "             ('BasicBlock-41',\n",
       "              OrderedDict([('input_shape', [-1, 128, 4, 4]),\n",
       "                           ('output_shape', [-1, 128, 4, 4]),\n",
       "                           ('nb_params', 0)])),\n",
       "             ('Conv2d-42',\n",
       "              OrderedDict([('input_shape', [-1, 128, 4, 4]),\n",
       "                           ('output_shape', [-1, 128, 4, 4]),\n",
       "                           ('trainable', False),\n",
       "                           ('nb_params', 147456)])),\n",
       "             ('BatchNorm2d-43',\n",
       "              OrderedDict([('input_shape', [-1, 128, 4, 4]),\n",
       "                           ('output_shape', [-1, 128, 4, 4]),\n",
       "                           ('trainable', False),\n",
       "                           ('nb_params', 256)])),\n",
       "             ('ReLU-44',\n",
       "              OrderedDict([('input_shape', [-1, 128, 4, 4]),\n",
       "                           ('output_shape', [-1, 128, 4, 4]),\n",
       "                           ('nb_params', 0)])),\n",
       "             ('Conv2d-45',\n",
       "              OrderedDict([('input_shape', [-1, 128, 4, 4]),\n",
       "                           ('output_shape', [-1, 128, 4, 4]),\n",
       "                           ('trainable', False),\n",
       "                           ('nb_params', 147456)])),\n",
       "             ('BatchNorm2d-46',\n",
       "              OrderedDict([('input_shape', [-1, 128, 4, 4]),\n",
       "                           ('output_shape', [-1, 128, 4, 4]),\n",
       "                           ('trainable', False),\n",
       "                           ('nb_params', 256)])),\n",
       "             ('ReLU-47',\n",
       "              OrderedDict([('input_shape', [-1, 128, 4, 4]),\n",
       "                           ('output_shape', [-1, 128, 4, 4]),\n",
       "                           ('nb_params', 0)])),\n",
       "             ('BasicBlock-48',\n",
       "              OrderedDict([('input_shape', [-1, 128, 4, 4]),\n",
       "                           ('output_shape', [-1, 128, 4, 4]),\n",
       "                           ('nb_params', 0)])),\n",
       "             ('Conv2d-49',\n",
       "              OrderedDict([('input_shape', [-1, 128, 4, 4]),\n",
       "                           ('output_shape', [-1, 128, 4, 4]),\n",
       "                           ('trainable', False),\n",
       "                           ('nb_params', 147456)])),\n",
       "             ('BatchNorm2d-50',\n",
       "              OrderedDict([('input_shape', [-1, 128, 4, 4]),\n",
       "                           ('output_shape', [-1, 128, 4, 4]),\n",
       "                           ('trainable', False),\n",
       "                           ('nb_params', 256)])),\n",
       "             ('ReLU-51',\n",
       "              OrderedDict([('input_shape', [-1, 128, 4, 4]),\n",
       "                           ('output_shape', [-1, 128, 4, 4]),\n",
       "                           ('nb_params', 0)])),\n",
       "             ('Conv2d-52',\n",
       "              OrderedDict([('input_shape', [-1, 128, 4, 4]),\n",
       "                           ('output_shape', [-1, 128, 4, 4]),\n",
       "                           ('trainable', False),\n",
       "                           ('nb_params', 147456)])),\n",
       "             ('BatchNorm2d-53',\n",
       "              OrderedDict([('input_shape', [-1, 128, 4, 4]),\n",
       "                           ('output_shape', [-1, 128, 4, 4]),\n",
       "                           ('trainable', False),\n",
       "                           ('nb_params', 256)])),\n",
       "             ('ReLU-54',\n",
       "              OrderedDict([('input_shape', [-1, 128, 4, 4]),\n",
       "                           ('output_shape', [-1, 128, 4, 4]),\n",
       "                           ('nb_params', 0)])),\n",
       "             ('BasicBlock-55',\n",
       "              OrderedDict([('input_shape', [-1, 128, 4, 4]),\n",
       "                           ('output_shape', [-1, 128, 4, 4]),\n",
       "                           ('nb_params', 0)])),\n",
       "             ('Conv2d-56',\n",
       "              OrderedDict([('input_shape', [-1, 128, 4, 4]),\n",
       "                           ('output_shape', [-1, 256, 2, 2]),\n",
       "                           ('trainable', False),\n",
       "                           ('nb_params', 294912)])),\n",
       "             ('BatchNorm2d-57',\n",
       "              OrderedDict([('input_shape', [-1, 256, 2, 2]),\n",
       "                           ('output_shape', [-1, 256, 2, 2]),\n",
       "                           ('trainable', False),\n",
       "                           ('nb_params', 512)])),\n",
       "             ('ReLU-58',\n",
       "              OrderedDict([('input_shape', [-1, 256, 2, 2]),\n",
       "                           ('output_shape', [-1, 256, 2, 2]),\n",
       "                           ('nb_params', 0)])),\n",
       "             ('Conv2d-59',\n",
       "              OrderedDict([('input_shape', [-1, 256, 2, 2]),\n",
       "                           ('output_shape', [-1, 256, 2, 2]),\n",
       "                           ('trainable', False),\n",
       "                           ('nb_params', 589824)])),\n",
       "             ('BatchNorm2d-60',\n",
       "              OrderedDict([('input_shape', [-1, 256, 2, 2]),\n",
       "                           ('output_shape', [-1, 256, 2, 2]),\n",
       "                           ('trainable', False),\n",
       "                           ('nb_params', 512)])),\n",
       "             ('Conv2d-61',\n",
       "              OrderedDict([('input_shape', [-1, 128, 4, 4]),\n",
       "                           ('output_shape', [-1, 256, 2, 2]),\n",
       "                           ('trainable', False),\n",
       "                           ('nb_params', 32768)])),\n",
       "             ('BatchNorm2d-62',\n",
       "              OrderedDict([('input_shape', [-1, 256, 2, 2]),\n",
       "                           ('output_shape', [-1, 256, 2, 2]),\n",
       "                           ('trainable', False),\n",
       "                           ('nb_params', 512)])),\n",
       "             ('ReLU-63',\n",
       "              OrderedDict([('input_shape', [-1, 256, 2, 2]),\n",
       "                           ('output_shape', [-1, 256, 2, 2]),\n",
       "                           ('nb_params', 0)])),\n",
       "             ('BasicBlock-64',\n",
       "              OrderedDict([('input_shape', [-1, 128, 4, 4]),\n",
       "                           ('output_shape', [-1, 256, 2, 2]),\n",
       "                           ('nb_params', 0)])),\n",
       "             ('Conv2d-65',\n",
       "              OrderedDict([('input_shape', [-1, 256, 2, 2]),\n",
       "                           ('output_shape', [-1, 256, 2, 2]),\n",
       "                           ('trainable', False),\n",
       "                           ('nb_params', 589824)])),\n",
       "             ('BatchNorm2d-66',\n",
       "              OrderedDict([('input_shape', [-1, 256, 2, 2]),\n",
       "                           ('output_shape', [-1, 256, 2, 2]),\n",
       "                           ('trainable', False),\n",
       "                           ('nb_params', 512)])),\n",
       "             ('ReLU-67',\n",
       "              OrderedDict([('input_shape', [-1, 256, 2, 2]),\n",
       "                           ('output_shape', [-1, 256, 2, 2]),\n",
       "                           ('nb_params', 0)])),\n",
       "             ('Conv2d-68',\n",
       "              OrderedDict([('input_shape', [-1, 256, 2, 2]),\n",
       "                           ('output_shape', [-1, 256, 2, 2]),\n",
       "                           ('trainable', False),\n",
       "                           ('nb_params', 589824)])),\n",
       "             ('BatchNorm2d-69',\n",
       "              OrderedDict([('input_shape', [-1, 256, 2, 2]),\n",
       "                           ('output_shape', [-1, 256, 2, 2]),\n",
       "                           ('trainable', False),\n",
       "                           ('nb_params', 512)])),\n",
       "             ('ReLU-70',\n",
       "              OrderedDict([('input_shape', [-1, 256, 2, 2]),\n",
       "                           ('output_shape', [-1, 256, 2, 2]),\n",
       "                           ('nb_params', 0)])),\n",
       "             ('BasicBlock-71',\n",
       "              OrderedDict([('input_shape', [-1, 256, 2, 2]),\n",
       "                           ('output_shape', [-1, 256, 2, 2]),\n",
       "                           ('nb_params', 0)])),\n",
       "             ('Conv2d-72',\n",
       "              OrderedDict([('input_shape', [-1, 256, 2, 2]),\n",
       "                           ('output_shape', [-1, 256, 2, 2]),\n",
       "                           ('trainable', False),\n",
       "                           ('nb_params', 589824)])),\n",
       "             ('BatchNorm2d-73',\n",
       "              OrderedDict([('input_shape', [-1, 256, 2, 2]),\n",
       "                           ('output_shape', [-1, 256, 2, 2]),\n",
       "                           ('trainable', False),\n",
       "                           ('nb_params', 512)])),\n",
       "             ('ReLU-74',\n",
       "              OrderedDict([('input_shape', [-1, 256, 2, 2]),\n",
       "                           ('output_shape', [-1, 256, 2, 2]),\n",
       "                           ('nb_params', 0)])),\n",
       "             ('Conv2d-75',\n",
       "              OrderedDict([('input_shape', [-1, 256, 2, 2]),\n",
       "                           ('output_shape', [-1, 256, 2, 2]),\n",
       "                           ('trainable', False),\n",
       "                           ('nb_params', 589824)])),\n",
       "             ('BatchNorm2d-76',\n",
       "              OrderedDict([('input_shape', [-1, 256, 2, 2]),\n",
       "                           ('output_shape', [-1, 256, 2, 2]),\n",
       "                           ('trainable', False),\n",
       "                           ('nb_params', 512)])),\n",
       "             ('ReLU-77',\n",
       "              OrderedDict([('input_shape', [-1, 256, 2, 2]),\n",
       "                           ('output_shape', [-1, 256, 2, 2]),\n",
       "                           ('nb_params', 0)])),\n",
       "             ('BasicBlock-78',\n",
       "              OrderedDict([('input_shape', [-1, 256, 2, 2]),\n",
       "                           ('output_shape', [-1, 256, 2, 2]),\n",
       "                           ('nb_params', 0)])),\n",
       "             ('Conv2d-79',\n",
       "              OrderedDict([('input_shape', [-1, 256, 2, 2]),\n",
       "                           ('output_shape', [-1, 256, 2, 2]),\n",
       "                           ('trainable', False),\n",
       "                           ('nb_params', 589824)])),\n",
       "             ('BatchNorm2d-80',\n",
       "              OrderedDict([('input_shape', [-1, 256, 2, 2]),\n",
       "                           ('output_shape', [-1, 256, 2, 2]),\n",
       "                           ('trainable', False),\n",
       "                           ('nb_params', 512)])),\n",
       "             ('ReLU-81',\n",
       "              OrderedDict([('input_shape', [-1, 256, 2, 2]),\n",
       "                           ('output_shape', [-1, 256, 2, 2]),\n",
       "                           ('nb_params', 0)])),\n",
       "             ('Conv2d-82',\n",
       "              OrderedDict([('input_shape', [-1, 256, 2, 2]),\n",
       "                           ('output_shape', [-1, 256, 2, 2]),\n",
       "                           ('trainable', False),\n",
       "                           ('nb_params', 589824)])),\n",
       "             ('BatchNorm2d-83',\n",
       "              OrderedDict([('input_shape', [-1, 256, 2, 2]),\n",
       "                           ('output_shape', [-1, 256, 2, 2]),\n",
       "                           ('trainable', False),\n",
       "                           ('nb_params', 512)])),\n",
       "             ('ReLU-84',\n",
       "              OrderedDict([('input_shape', [-1, 256, 2, 2]),\n",
       "                           ('output_shape', [-1, 256, 2, 2]),\n",
       "                           ('nb_params', 0)])),\n",
       "             ('BasicBlock-85',\n",
       "              OrderedDict([('input_shape', [-1, 256, 2, 2]),\n",
       "                           ('output_shape', [-1, 256, 2, 2]),\n",
       "                           ('nb_params', 0)])),\n",
       "             ('Conv2d-86',\n",
       "              OrderedDict([('input_shape', [-1, 256, 2, 2]),\n",
       "                           ('output_shape', [-1, 256, 2, 2]),\n",
       "                           ('trainable', False),\n",
       "                           ('nb_params', 589824)])),\n",
       "             ('BatchNorm2d-87',\n",
       "              OrderedDict([('input_shape', [-1, 256, 2, 2]),\n",
       "                           ('output_shape', [-1, 256, 2, 2]),\n",
       "                           ('trainable', False),\n",
       "                           ('nb_params', 512)])),\n",
       "             ('ReLU-88',\n",
       "              OrderedDict([('input_shape', [-1, 256, 2, 2]),\n",
       "                           ('output_shape', [-1, 256, 2, 2]),\n",
       "                           ('nb_params', 0)])),\n",
       "             ('Conv2d-89',\n",
       "              OrderedDict([('input_shape', [-1, 256, 2, 2]),\n",
       "                           ('output_shape', [-1, 256, 2, 2]),\n",
       "                           ('trainable', False),\n",
       "                           ('nb_params', 589824)])),\n",
       "             ('BatchNorm2d-90',\n",
       "              OrderedDict([('input_shape', [-1, 256, 2, 2]),\n",
       "                           ('output_shape', [-1, 256, 2, 2]),\n",
       "                           ('trainable', False),\n",
       "                           ('nb_params', 512)])),\n",
       "             ('ReLU-91',\n",
       "              OrderedDict([('input_shape', [-1, 256, 2, 2]),\n",
       "                           ('output_shape', [-1, 256, 2, 2]),\n",
       "                           ('nb_params', 0)])),\n",
       "             ('BasicBlock-92',\n",
       "              OrderedDict([('input_shape', [-1, 256, 2, 2]),\n",
       "                           ('output_shape', [-1, 256, 2, 2]),\n",
       "                           ('nb_params', 0)])),\n",
       "             ('Conv2d-93',\n",
       "              OrderedDict([('input_shape', [-1, 256, 2, 2]),\n",
       "                           ('output_shape', [-1, 256, 2, 2]),\n",
       "                           ('trainable', False),\n",
       "                           ('nb_params', 589824)])),\n",
       "             ('BatchNorm2d-94',\n",
       "              OrderedDict([('input_shape', [-1, 256, 2, 2]),\n",
       "                           ('output_shape', [-1, 256, 2, 2]),\n",
       "                           ('trainable', False),\n",
       "                           ('nb_params', 512)])),\n",
       "             ('ReLU-95',\n",
       "              OrderedDict([('input_shape', [-1, 256, 2, 2]),\n",
       "                           ('output_shape', [-1, 256, 2, 2]),\n",
       "                           ('nb_params', 0)])),\n",
       "             ('Conv2d-96',\n",
       "              OrderedDict([('input_shape', [-1, 256, 2, 2]),\n",
       "                           ('output_shape', [-1, 256, 2, 2]),\n",
       "                           ('trainable', False),\n",
       "                           ('nb_params', 589824)])),\n",
       "             ('BatchNorm2d-97',\n",
       "              OrderedDict([('input_shape', [-1, 256, 2, 2]),\n",
       "                           ('output_shape', [-1, 256, 2, 2]),\n",
       "                           ('trainable', False),\n",
       "                           ('nb_params', 512)])),\n",
       "             ('ReLU-98',\n",
       "              OrderedDict([('input_shape', [-1, 256, 2, 2]),\n",
       "                           ('output_shape', [-1, 256, 2, 2]),\n",
       "                           ('nb_params', 0)])),\n",
       "             ('BasicBlock-99',\n",
       "              OrderedDict([('input_shape', [-1, 256, 2, 2]),\n",
       "                           ('output_shape', [-1, 256, 2, 2]),\n",
       "                           ('nb_params', 0)])),\n",
       "             ('Conv2d-100',\n",
       "              OrderedDict([('input_shape', [-1, 256, 2, 2]),\n",
       "                           ('output_shape', [-1, 512, 1, 1]),\n",
       "                           ('trainable', False),\n",
       "                           ('nb_params', 1179648)])),\n",
       "             ('BatchNorm2d-101',\n",
       "              OrderedDict([('input_shape', [-1, 512, 1, 1]),\n",
       "                           ('output_shape', [-1, 512, 1, 1]),\n",
       "                           ('trainable', False),\n",
       "                           ('nb_params', 1024)])),\n",
       "             ('ReLU-102',\n",
       "              OrderedDict([('input_shape', [-1, 512, 1, 1]),\n",
       "                           ('output_shape', [-1, 512, 1, 1]),\n",
       "                           ('nb_params', 0)])),\n",
       "             ('Conv2d-103',\n",
       "              OrderedDict([('input_shape', [-1, 512, 1, 1]),\n",
       "                           ('output_shape', [-1, 512, 1, 1]),\n",
       "                           ('trainable', False),\n",
       "                           ('nb_params', 2359296)])),\n",
       "             ('BatchNorm2d-104',\n",
       "              OrderedDict([('input_shape', [-1, 512, 1, 1]),\n",
       "                           ('output_shape', [-1, 512, 1, 1]),\n",
       "                           ('trainable', False),\n",
       "                           ('nb_params', 1024)])),\n",
       "             ('Conv2d-105',\n",
       "              OrderedDict([('input_shape', [-1, 256, 2, 2]),\n",
       "                           ('output_shape', [-1, 512, 1, 1]),\n",
       "                           ('trainable', False),\n",
       "                           ('nb_params', 131072)])),\n",
       "             ('BatchNorm2d-106',\n",
       "              OrderedDict([('input_shape', [-1, 512, 1, 1]),\n",
       "                           ('output_shape', [-1, 512, 1, 1]),\n",
       "                           ('trainable', False),\n",
       "                           ('nb_params', 1024)])),\n",
       "             ('ReLU-107',\n",
       "              OrderedDict([('input_shape', [-1, 512, 1, 1]),\n",
       "                           ('output_shape', [-1, 512, 1, 1]),\n",
       "                           ('nb_params', 0)])),\n",
       "             ('BasicBlock-108',\n",
       "              OrderedDict([('input_shape', [-1, 256, 2, 2]),\n",
       "                           ('output_shape', [-1, 512, 1, 1]),\n",
       "                           ('nb_params', 0)])),\n",
       "             ('Conv2d-109',\n",
       "              OrderedDict([('input_shape', [-1, 512, 1, 1]),\n",
       "                           ('output_shape', [-1, 512, 1, 1]),\n",
       "                           ('trainable', False),\n",
       "                           ('nb_params', 2359296)])),\n",
       "             ('BatchNorm2d-110',\n",
       "              OrderedDict([('input_shape', [-1, 512, 1, 1]),\n",
       "                           ('output_shape', [-1, 512, 1, 1]),\n",
       "                           ('trainable', False),\n",
       "                           ('nb_params', 1024)])),\n",
       "             ('ReLU-111',\n",
       "              OrderedDict([('input_shape', [-1, 512, 1, 1]),\n",
       "                           ('output_shape', [-1, 512, 1, 1]),\n",
       "                           ('nb_params', 0)])),\n",
       "             ('Conv2d-112',\n",
       "              OrderedDict([('input_shape', [-1, 512, 1, 1]),\n",
       "                           ('output_shape', [-1, 512, 1, 1]),\n",
       "                           ('trainable', False),\n",
       "                           ('nb_params', 2359296)])),\n",
       "             ('BatchNorm2d-113',\n",
       "              OrderedDict([('input_shape', [-1, 512, 1, 1]),\n",
       "                           ('output_shape', [-1, 512, 1, 1]),\n",
       "                           ('trainable', False),\n",
       "                           ('nb_params', 1024)])),\n",
       "             ('ReLU-114',\n",
       "              OrderedDict([('input_shape', [-1, 512, 1, 1]),\n",
       "                           ('output_shape', [-1, 512, 1, 1]),\n",
       "                           ('nb_params', 0)])),\n",
       "             ('BasicBlock-115',\n",
       "              OrderedDict([('input_shape', [-1, 512, 1, 1]),\n",
       "                           ('output_shape', [-1, 512, 1, 1]),\n",
       "                           ('nb_params', 0)])),\n",
       "             ('Conv2d-116',\n",
       "              OrderedDict([('input_shape', [-1, 512, 1, 1]),\n",
       "                           ('output_shape', [-1, 512, 1, 1]),\n",
       "                           ('trainable', False),\n",
       "                           ('nb_params', 2359296)])),\n",
       "             ('BatchNorm2d-117',\n",
       "              OrderedDict([('input_shape', [-1, 512, 1, 1]),\n",
       "                           ('output_shape', [-1, 512, 1, 1]),\n",
       "                           ('trainable', False),\n",
       "                           ('nb_params', 1024)])),\n",
       "             ('ReLU-118',\n",
       "              OrderedDict([('input_shape', [-1, 512, 1, 1]),\n",
       "                           ('output_shape', [-1, 512, 1, 1]),\n",
       "                           ('nb_params', 0)])),\n",
       "             ('Conv2d-119',\n",
       "              OrderedDict([('input_shape', [-1, 512, 1, 1]),\n",
       "                           ('output_shape', [-1, 512, 1, 1]),\n",
       "                           ('trainable', False),\n",
       "                           ('nb_params', 2359296)])),\n",
       "             ('BatchNorm2d-120',\n",
       "              OrderedDict([('input_shape', [-1, 512, 1, 1]),\n",
       "                           ('output_shape', [-1, 512, 1, 1]),\n",
       "                           ('trainable', False),\n",
       "                           ('nb_params', 1024)])),\n",
       "             ('ReLU-121',\n",
       "              OrderedDict([('input_shape', [-1, 512, 1, 1]),\n",
       "                           ('output_shape', [-1, 512, 1, 1]),\n",
       "                           ('nb_params', 0)])),\n",
       "             ('BasicBlock-122',\n",
       "              OrderedDict([('input_shape', [-1, 512, 1, 1]),\n",
       "                           ('output_shape', [-1, 512, 1, 1]),\n",
       "                           ('nb_params', 0)])),\n",
       "             ('ConvTranspose2d-123',\n",
       "              OrderedDict([('input_shape', [-1, 512, 1, 1]),\n",
       "                           ('output_shape', [-1, 128, 2, 2]),\n",
       "                           ('trainable', True),\n",
       "                           ('nb_params', 262272)])),\n",
       "             ('Conv2d-124',\n",
       "              OrderedDict([('input_shape', [-1, 256, 2, 2]),\n",
       "                           ('output_shape', [-1, 128, 2, 2]),\n",
       "                           ('trainable', True),\n",
       "                           ('nb_params', 32896)])),\n",
       "             ('BatchNorm2d-125',\n",
       "              OrderedDict([('input_shape', [-1, 256, 2, 2]),\n",
       "                           ('output_shape', [-1, 256, 2, 2]),\n",
       "                           ('trainable', True),\n",
       "                           ('nb_params', 512)])),\n",
       "             ('UnetBlock-126',\n",
       "              OrderedDict([('input_shape', [-1, 512, 1, 1]),\n",
       "                           ('output_shape', [-1, 256, 2, 2]),\n",
       "                           ('nb_params', 0)])),\n",
       "             ('ConvTranspose2d-127',\n",
       "              OrderedDict([('input_shape', [-1, 256, 2, 2]),\n",
       "                           ('output_shape', [-1, 128, 4, 4]),\n",
       "                           ('trainable', True),\n",
       "                           ('nb_params', 131200)])),\n",
       "             ('Conv2d-128',\n",
       "              OrderedDict([('input_shape', [-1, 128, 4, 4]),\n",
       "                           ('output_shape', [-1, 128, 4, 4]),\n",
       "                           ('trainable', True),\n",
       "                           ('nb_params', 16512)])),\n",
       "             ('BatchNorm2d-129',\n",
       "              OrderedDict([('input_shape', [-1, 256, 4, 4]),\n",
       "                           ('output_shape', [-1, 256, 4, 4]),\n",
       "                           ('trainable', True),\n",
       "                           ('nb_params', 512)])),\n",
       "             ('UnetBlock-130',\n",
       "              OrderedDict([('input_shape', [-1, 256, 2, 2]),\n",
       "                           ('output_shape', [-1, 256, 4, 4]),\n",
       "                           ('nb_params', 0)])),\n",
       "             ('ConvTranspose2d-131',\n",
       "              OrderedDict([('input_shape', [-1, 256, 4, 4]),\n",
       "                           ('output_shape', [-1, 128, 8, 8]),\n",
       "                           ('trainable', True),\n",
       "                           ('nb_params', 131200)])),\n",
       "             ('Conv2d-132',\n",
       "              OrderedDict([('input_shape', [-1, 64, 8, 8]),\n",
       "                           ('output_shape', [-1, 128, 8, 8]),\n",
       "                           ('trainable', True),\n",
       "                           ('nb_params', 8320)])),\n",
       "             ('BatchNorm2d-133',\n",
       "              OrderedDict([('input_shape', [-1, 256, 8, 8]),\n",
       "                           ('output_shape', [-1, 256, 8, 8]),\n",
       "                           ('trainable', True),\n",
       "                           ('nb_params', 512)])),\n",
       "             ('UnetBlock-134',\n",
       "              OrderedDict([('input_shape', [-1, 256, 4, 4]),\n",
       "                           ('output_shape', [-1, 256, 8, 8]),\n",
       "                           ('nb_params', 0)])),\n",
       "             ('ConvTranspose2d-135',\n",
       "              OrderedDict([('input_shape', [-1, 256, 8, 8]),\n",
       "                           ('output_shape', [-1, 128, 16, 16]),\n",
       "                           ('trainable', True),\n",
       "                           ('nb_params', 131200)])),\n",
       "             ('Conv2d-136',\n",
       "              OrderedDict([('input_shape', [-1, 64, 16, 16]),\n",
       "                           ('output_shape', [-1, 128, 16, 16]),\n",
       "                           ('trainable', True),\n",
       "                           ('nb_params', 8320)])),\n",
       "             ('BatchNorm2d-137',\n",
       "              OrderedDict([('input_shape', [-1, 256, 16, 16]),\n",
       "                           ('output_shape', [-1, 256, 16, 16]),\n",
       "                           ('trainable', True),\n",
       "                           ('nb_params', 512)])),\n",
       "             ('UnetBlock-138',\n",
       "              OrderedDict([('input_shape', [-1, 256, 8, 8]),\n",
       "                           ('output_shape', [-1, 256, 16, 16]),\n",
       "                           ('nb_params', 0)])),\n",
       "             ('ConvTranspose2d-139',\n",
       "              OrderedDict([('input_shape', [-1, 256, 16, 16]),\n",
       "                           ('output_shape', [-1, 1, 32, 32]),\n",
       "                           ('trainable', True),\n",
       "                           ('nb_params', 1025)]))])"
      ]
     },
     "execution_count": 31,
     "metadata": {},
     "output_type": "execute_result"
    }
   ],
   "source": [
    "learn.summary()"
   ]
  },
  {
   "cell_type": "code",
   "execution_count": 133,
   "metadata": {},
   "outputs": [
    {
     "data": {
      "text/plain": [
       "[torch.Size([3, 64, 64, 64]),\n",
       " torch.Size([3, 64, 32, 32]),\n",
       " torch.Size([3, 128, 16, 16]),\n",
       " torch.Size([3, 256, 8, 8])]"
      ]
     },
     "execution_count": 133,
     "metadata": {},
     "output_type": "execute_result"
    }
   ],
   "source": [
    "[o.features.size() for o in m.sfs]"
   ]
  },
  {
   "cell_type": "code",
   "execution_count": 134,
   "metadata": {},
   "outputs": [],
   "source": [
    "learn.freeze_to(1)"
   ]
  },
  {
   "cell_type": "code",
   "execution_count": 137,
   "metadata": {},
   "outputs": [
    {
     "data": {
      "application/vnd.jupyter.widget-view+json": {
       "model_id": "39e8834ab54c47ddb51393db12aa3492",
       "version_major": 2,
       "version_minor": 0
      },
      "text/plain": [
       "HBox(children=(IntProgress(value=0, description='Epoch', max=1), HTML(value='')))"
      ]
     },
     "metadata": {},
     "output_type": "display_data"
    },
    {
     "name": "stdout",
     "output_type": "stream",
     "text": [
      " 88%|████████▊ | 44/50 [00:04<00:00, 10.92it/s, loss=1.12] \n",
      "                                                          \r"
     ]
    },
    {
     "data": {
      "image/png": "[encoded data removed]",
      "text/plain": [
       "<Figure size 432x288 with 1 Axes>"
      ]
     },
     "metadata": {},
     "output_type": "display_data"
    }
   ],
   "source": [
    "learn.lr_find()\n",
    "learn.sched.plot()"
   ]
  },
  {
   "cell_type": "code",
   "execution_count": 138,
   "metadata": {},
   "outputs": [],
   "source": [
    "lr=1e-1\n",
    "wd=1e-7\n",
    "\n",
    "lrs = np.array([lr/100,lr/10,lr])"
   ]
  },
  {
   "cell_type": "code",
   "execution_count": 139,
   "metadata": {},
   "outputs": [
    {
     "data": {
      "application/vnd.jupyter.widget-view+json": {
       "model_id": "0623208f8b1b4cffba9949a14e3c1649",
       "version_major": 2,
       "version_minor": 0
      },
      "text/plain": [
       "HBox(children=(IntProgress(value=0, description='Epoch', max=8), HTML(value='')))"
      ]
     },
     "metadata": {},
     "output_type": "display_data"
    },
    {
     "name": "stdout",
     "output_type": "stream",
     "text": [
      "epoch      trn_loss   val_loss   <lambda>   dice           \n",
      "    0      0.294988   1.888256   0.784653   0.687201  \n",
      "    1      0.249868   0.34122    0.890221   0.77698        \n",
      "    2      0.21688    0.208011   0.928906   0.851619       \n",
      "    3      0.183025   0.183846   0.936826   0.874399       \n",
      "    4      0.165683   0.184893   0.933537   0.8628         \n",
      "    5      0.140235   0.15824    0.937279   0.873278       \n",
      "    6      0.124252   0.172804   0.936128   0.877137       \n",
      "    7      0.110232   0.195197   0.934627   0.866908       \n",
      "\n"
     ]
    },
    {
     "data": {
      "text/plain": [
       "[array([0.1952]), 0.9346273040771484, 0.8669078998350142]"
      ]
     },
     "execution_count": 139,
     "metadata": {},
     "output_type": "execute_result"
    }
   ],
   "source": [
    "learn.fit(lr,1,wds=wd,cycle_len=8,use_clr=(5,8))"
   ]
  },
  {
   "cell_type": "code",
   "execution_count": 140,
   "metadata": {},
   "outputs": [],
   "source": [
    "learn.save('32urn-tmp')"
   ]
  },
  {
   "cell_type": "code",
   "execution_count": 141,
   "metadata": {},
   "outputs": [],
   "source": [
    "learn.load('32urn-tmp')"
   ]
  },
  {
   "cell_type": "code",
   "execution_count": 142,
   "metadata": {},
   "outputs": [],
   "source": [
    "learn.unfreeze()\n",
    "learn.bn_freeze(True)"
   ]
  },
  {
   "cell_type": "code",
   "execution_count": 143,
   "metadata": {
    "scrolled": false
   },
   "outputs": [
    {
     "data": {
      "application/vnd.jupyter.widget-view+json": {
       "model_id": "7f21e1602ed44c2faa8a92377005b9ed",
       "version_major": 2,
       "version_minor": 0
      },
      "text/plain": [
       "HBox(children=(IntProgress(value=0, description='Epoch', max=20), HTML(value='')))"
      ]
     },
     "metadata": {},
     "output_type": "display_data"
    },
    {
     "name": "stdout",
     "output_type": "stream",
     "text": [
      "epoch      trn_loss   val_loss   <lambda>   dice            \n",
      "    0      0.097214   0.225984   0.921183   0.840164  \n",
      "    1      0.176094   0.282223   0.917075   0.821329       \n",
      "    2      0.232811   0.169687   0.930887   0.864039       \n",
      "    3      0.16899    0.165543   0.942212   0.884008       \n",
      "    4      0.129939   0.182645   0.931653   0.853781       \n",
      "    5      0.119974   0.181049   0.935422   0.869585       \n",
      "    6      0.096062   0.160451   0.946749   0.89382         \n",
      "    7      0.075104   0.188272   0.941615   0.883372        \n",
      "    8      0.061739   0.16459    0.947385   0.895142        \n",
      "    9      0.052436   0.177482   0.946914   0.893923        \n",
      "    10     0.045954   0.183372   0.948554   0.898066        \n",
      "    11     0.041938   0.19453    0.948249   0.896317        \n",
      "    12     0.040024   0.199904   0.946108   0.892512        \n",
      "    13     0.037737   0.204747   0.948448   0.896412        \n",
      "    14     0.036749   0.20932    0.949416   0.899117        \n",
      "    15     0.034897   0.211542   0.949001   0.897503        \n",
      "    16     0.033416   0.215138   0.948688   0.897026        \n",
      "    17     0.033004   0.219546   0.948991   0.897519        \n",
      "    18     0.031692   0.22596    0.948512   0.896456        \n",
      "    19     0.030727   0.232657   0.948713   0.896671        \n",
      "\n"
     ]
    },
    {
     "data": {
      "text/plain": [
       "[array([0.23266]), 0.9487128448486328, 0.8966710126397198]"
      ]
     },
     "execution_count": 143,
     "metadata": {},
     "output_type": "execute_result"
    }
   ],
   "source": [
    "learn.fit(lrs/4, 1, wds=wd, cycle_len=20,use_clr=(20,10))"
   ]
  },
  {
   "cell_type": "code",
   "execution_count": 144,
   "metadata": {},
   "outputs": [],
   "source": [
    "learn.save('32urn-0')"
   ]
  },
  {
   "cell_type": "code",
   "execution_count": 145,
   "metadata": {},
   "outputs": [],
   "source": [
    "learn.load('32urn-0')"
   ]
  },
  {
   "cell_type": "code",
   "execution_count": 146,
   "metadata": {},
   "outputs": [],
   "source": [
    "x,y = next(iter(md.val_dl))\n",
    "py = to_np(learn.model(V(x)))"
   ]
  },
  {
   "cell_type": "code",
   "execution_count": 147,
   "metadata": {},
   "outputs": [
    {
     "data": {
      "image/png": "[encoded data removed]",
      "text/plain": [
       "<Figure size 432x288 with 1 Axes>"
      ]
     },
     "metadata": {},
     "output_type": "display_data"
    }
   ],
   "source": [
    "show_img(py[0]>0);"
   ]
  },
  {
   "cell_type": "code",
   "execution_count": 148,
   "metadata": {},
   "outputs": [
    {
     "data": {
      "image/png": "[encoded data removed]",
      "text/plain": [
       "<Figure size 432x288 with 1 Axes>"
      ]
     },
     "metadata": {},
     "output_type": "display_data"
    }
   ],
   "source": [
    "show_img(y[0]);"
   ]
  },
  {
   "cell_type": "code",
   "execution_count": 149,
   "metadata": {},
   "outputs": [
    {
     "data": {
      "image/png": "[encoded data removed]",
      "text/plain": [
       "<Figure size 432x288 with 1 Axes>"
      ]
     },
     "metadata": {},
     "output_type": "display_data"
    }
   ],
   "source": [
    "show_img(x[0][0]);"
   ]
  },
  {
   "cell_type": "code",
   "execution_count": 150,
   "metadata": {},
   "outputs": [],
   "source": [
    "m.close()"
   ]
  },
  {
   "cell_type": "markdown",
   "metadata": {
    "heading_collapsed": true
   },
   "source": [
    "## 64x64"
   ]
  },
  {
   "cell_type": "code",
   "execution_count": 151,
   "metadata": {
    "hidden": true
   },
   "outputs": [],
   "source": [
    "sz=64\n",
    "bs=64"
   ]
  },
  {
   "cell_type": "code",
   "execution_count": 153,
   "metadata": {
    "hidden": true
   },
   "outputs": [],
   "source": [
    "tfms = tfms_from_model(resnet34, sz, crop_type=CropType.NO, tfm_y=TfmType.CLASS, aug_tfms=aug_tfms)\n",
    "datasets = ImageData.get_ds(MatchedFilesDataset, (trn_x,trn_y), (val_x,val_y), tfms, path=PATH)\n",
    "md = ImageData(PATH, datasets, bs, num_workers=16, classes=None)\n",
    "denorm = md.trn_ds.denorm"
   ]
  },
  {
   "cell_type": "code",
   "execution_count": 154,
   "metadata": {
    "hidden": true
   },
   "outputs": [],
   "source": [
    "m_base = get_base()\n",
    "m = to_gpu(Unet34(m_base))\n",
    "models = UnetModel(m)"
   ]
  },
  {
   "cell_type": "code",
   "execution_count": 155,
   "metadata": {
    "hidden": true
   },
   "outputs": [],
   "source": [
    "learn = ConvLearner(md, models)\n",
    "learn.opt_fn=optim.Adam\n",
    "learn.crit=nn.BCEWithLogitsLoss()\n",
    "learn.metrics=[accuracy_thresh(0.5),dice]"
   ]
  },
  {
   "cell_type": "code",
   "execution_count": 156,
   "metadata": {
    "hidden": true
   },
   "outputs": [],
   "source": [
    "learn.freeze_to(1)"
   ]
  },
  {
   "cell_type": "code",
   "execution_count": 157,
   "metadata": {
    "hidden": true,
    "scrolled": false
   },
   "outputs": [],
   "source": [
    "learn.load('32urn-0')"
   ]
  },
  {
   "cell_type": "code",
   "execution_count": 158,
   "metadata": {
    "hidden": true
   },
   "outputs": [
    {
     "data": {
      "application/vnd.jupyter.widget-view+json": {
       "model_id": "0fc3453a8d6649c78a4a5ceca7ec1e28",
       "version_major": 2,
       "version_minor": 0
      },
      "text/plain": [
       "HBox(children=(IntProgress(value=0, description='Epoch', max=5), HTML(value='')))"
      ]
     },
     "metadata": {},
     "output_type": "display_data"
    },
    {
     "name": "stdout",
     "output_type": "stream",
     "text": [
      "epoch      trn_loss   val_loss   <lambda>   dice           \n",
      "    0      0.18344    0.205708   0.921401   0.83929   \n",
      "    1      0.164594   0.169754   0.934936   0.870634       \n",
      "    2      0.138993   0.18419    0.926148   0.856757       \n",
      "    3      0.117315   0.166077   0.937451   0.877269       \n",
      "    4      0.088926   0.182186   0.941475   0.880324        \n",
      "\n"
     ]
    },
    {
     "data": {
      "text/plain": [
       "[array([0.18219]), 0.9414752197265625, 0.8803237197740675]"
      ]
     },
     "execution_count": 158,
     "metadata": {},
     "output_type": "execute_result"
    }
   ],
   "source": [
    "learn.fit(lr,1,wds=wd, cycle_len=5,use_clr=(5,5))"
   ]
  },
  {
   "cell_type": "code",
   "execution_count": 159,
   "metadata": {
    "hidden": true
   },
   "outputs": [],
   "source": [
    "learn.save('64urn-tmp')"
   ]
  },
  {
   "cell_type": "code",
   "execution_count": 160,
   "metadata": {
    "hidden": true
   },
   "outputs": [],
   "source": [
    "learn.unfreeze()\n",
    "learn.bn_freeze(True)"
   ]
  },
  {
   "cell_type": "code",
   "execution_count": 161,
   "metadata": {
    "hidden": true
   },
   "outputs": [],
   "source": [
    "learn.load('64urn-tmp')"
   ]
  },
  {
   "cell_type": "code",
   "execution_count": 162,
   "metadata": {
    "hidden": true
   },
   "outputs": [
    {
     "data": {
      "application/vnd.jupyter.widget-view+json": {
       "model_id": "6de24e44e20546d3a7712922bc018aea",
       "version_major": 2,
       "version_minor": 0
      },
      "text/plain": [
       "HBox(children=(IntProgress(value=0, description='Epoch', max=8), HTML(value='')))"
      ]
     },
     "metadata": {},
     "output_type": "display_data"
    },
    {
     "name": "stdout",
     "output_type": "stream",
     "text": [
      "epoch      trn_loss   val_loss   <lambda>   dice            \n",
      "    0      0.070987   0.23591    0.932369   0.862368  \n",
      "    1      0.147343   0.208621   0.923294   0.847459        \n",
      "    2      0.104671   0.189588   0.934111   0.866783       \n",
      "    3      0.074694   0.181981   0.938933   0.880145        \n",
      "    4      0.057764   0.183647   0.943457   0.885339        \n",
      "    5      0.048989   0.194361   0.939941   0.880702        \n",
      "    6      0.04467    0.194404   0.943132   0.886028        \n",
      "    7      0.041462   0.201293   0.942405   0.88447         \n",
      "\n"
     ]
    },
    {
     "data": {
      "text/plain": [
       "[array([0.20129]), 0.94240478515625, 0.8844700483158554]"
      ]
     },
     "execution_count": 162,
     "metadata": {},
     "output_type": "execute_result"
    }
   ],
   "source": [
    "learn.fit(lrs/4,1,wds=wd, cycle_len=8,use_clr=(20,8))"
   ]
  },
  {
   "cell_type": "code",
   "execution_count": 163,
   "metadata": {
    "hidden": true
   },
   "outputs": [],
   "source": [
    "learn.save('64urn')"
   ]
  },
  {
   "cell_type": "code",
   "execution_count": 164,
   "metadata": {
    "hidden": true
   },
   "outputs": [],
   "source": [
    "learn.load('64urn')"
   ]
  },
  {
   "cell_type": "code",
   "execution_count": 165,
   "metadata": {
    "hidden": true
   },
   "outputs": [],
   "source": [
    "x,y = next(iter(md.val_dl))\n",
    "py = to_np(learn.model(V(x)))"
   ]
  },
  {
   "cell_type": "code",
   "execution_count": 166,
   "metadata": {
    "hidden": true
   },
   "outputs": [
    {
     "data": {
      "image/png": "[encoded data removed]",
      "text/plain": [
       "<Figure size 432x288 with 1 Axes>"
      ]
     },
     "metadata": {},
     "output_type": "display_data"
    }
   ],
   "source": [
    "show_img(py[0]>0);"
   ]
  },
  {
   "cell_type": "code",
   "execution_count": 167,
   "metadata": {
    "hidden": true
   },
   "outputs": [
    {
     "data": {
      "image/png": "[encoded data removed]",
      "text/plain": [
       "<Figure size 432x288 with 1 Axes>"
      ]
     },
     "metadata": {},
     "output_type": "display_data"
    }
   ],
   "source": [
    "show_img(y[0]);"
   ]
  },
  {
   "cell_type": "code",
   "execution_count": 168,
   "metadata": {},
   "outputs": [
    {
     "data": {
      "image/png": "[encoded data removed]",
      "text/plain": [
       "<Figure size 432x288 with 1 Axes>"
      ]
     },
     "metadata": {},
     "output_type": "display_data"
    }
   ],
   "source": [
    "show_img(x[0][0]);"
   ]
  },
  {
   "cell_type": "code",
   "execution_count": 169,
   "metadata": {
    "hidden": true
   },
   "outputs": [],
   "source": [
    "m.close()"
   ]
  },
  {
   "cell_type": "markdown",
   "metadata": {},
   "source": [
    "## 128x128"
   ]
  },
  {
   "cell_type": "code",
   "execution_count": 170,
   "metadata": {},
   "outputs": [],
   "source": [
    "sz=128\n",
    "bs=64"
   ]
  },
  {
   "cell_type": "code",
   "execution_count": 171,
   "metadata": {},
   "outputs": [],
   "source": [
    "tfms = tfms_from_model(resnet34, sz, crop_type=CropType.NO, tfm_y=TfmType.CLASS, aug_tfms=aug_tfms)\n",
    "datasets = ImageData.get_ds(MatchedFilesDataset, (trn_x,trn_y), (val_x,val_y), tfms, path=PATH)\n",
    "md = ImageData(PATH, datasets, bs, num_workers=16, classes=None)\n",
    "denorm = md.trn_ds.denorm"
   ]
  },
  {
   "cell_type": "code",
   "execution_count": 172,
   "metadata": {},
   "outputs": [],
   "source": [
    "m_base = get_base()\n",
    "m = to_gpu(Unet34(m_base))\n",
    "models = UnetModel(m)"
   ]
  },
  {
   "cell_type": "code",
   "execution_count": 173,
   "metadata": {},
   "outputs": [],
   "source": [
    "learn = ConvLearner(md, models)\n",
    "learn.opt_fn=optim.Adam\n",
    "learn.crit=nn.BCEWithLogitsLoss()\n",
    "learn.metrics=[accuracy_thresh(0.5),dice]"
   ]
  },
  {
   "cell_type": "code",
   "execution_count": 174,
   "metadata": {},
   "outputs": [],
   "source": [
    "learn.load('64urn')"
   ]
  },
  {
   "cell_type": "code",
   "execution_count": 175,
   "metadata": {},
   "outputs": [],
   "source": [
    "learn.freeze_to(1)"
   ]
  },
  {
   "cell_type": "code",
   "execution_count": 176,
   "metadata": {},
   "outputs": [
    {
     "data": {
      "application/vnd.jupyter.widget-view+json": {
       "model_id": "b1dbd41681cb4fbeb7e7a940aae9ff82",
       "version_major": 2,
       "version_minor": 0
      },
      "text/plain": [
       "HBox(children=(IntProgress(value=0, description='Epoch', max=2), HTML(value='')))"
      ]
     },
     "metadata": {},
     "output_type": "display_data"
    },
    {
     "name": "stdout",
     "output_type": "stream",
     "text": [
      "epoch      trn_loss   val_loss   <lambda>   dice           \n",
      "    0      0.141879   0.234445   0.94027    0.879553  \n",
      "    1      0.103668   0.16309    0.946404   0.893043       \n",
      "\n"
     ]
    },
    {
     "data": {
      "text/plain": [
       "[array([0.16309]), 0.9464039611816406, 0.8930431231920177]"
      ]
     },
     "execution_count": 176,
     "metadata": {},
     "output_type": "execute_result"
    }
   ],
   "source": [
    "learn.fit(lr,1, wds=wd, cycle_len=2,use_clr=(5,4))"
   ]
  },
  {
   "cell_type": "code",
   "execution_count": 177,
   "metadata": {},
   "outputs": [],
   "source": [
    "learn.save('128urn-tmp')"
   ]
  },
  {
   "cell_type": "code",
   "execution_count": 178,
   "metadata": {},
   "outputs": [],
   "source": [
    "learn.load('128urn-tmp')"
   ]
  },
  {
   "cell_type": "code",
   "execution_count": 179,
   "metadata": {},
   "outputs": [],
   "source": [
    "learn.unfreeze()\n",
    "learn.bn_freeze(True)"
   ]
  },
  {
   "cell_type": "code",
   "execution_count": 180,
   "metadata": {},
   "outputs": [],
   "source": [
    "lrs = np.array([lr/200,lr/30,lr])"
   ]
  },
  {
   "cell_type": "code",
   "execution_count": 181,
   "metadata": {},
   "outputs": [
    {
     "data": {
      "application/vnd.jupyter.widget-view+json": {
       "model_id": "7ff860b834214775824a7f7f73a00d44",
       "version_major": 2,
       "version_minor": 0
      },
      "text/plain": [
       "HBox(children=(IntProgress(value=0, description='Epoch', max=4), HTML(value='')))"
      ]
     },
     "metadata": {},
     "output_type": "display_data"
    },
    {
     "name": "stdout",
     "output_type": "stream",
     "text": [
      "epoch      trn_loss   val_loss   <lambda>   dice            \n",
      "    0      0.057148   0.165237   0.947468   0.894465  \n",
      "    1      0.04938    0.171595   0.947423   0.893132        \n",
      "    2      0.043241   0.182725   0.948464   0.896467        \n",
      "    3      0.040198   0.18339    0.948779   0.896924        \n",
      "\n"
     ]
    },
    {
     "data": {
      "text/plain": [
       "[array([0.18339]), 0.948779067993164, 0.8969238662693206]"
      ]
     },
     "execution_count": 181,
     "metadata": {},
     "output_type": "execute_result"
    }
   ],
   "source": [
    "learn.fit(lrs/10,1, wds=wd,cycle_len=4,use_clr=(20,8))"
   ]
  },
  {
   "cell_type": "code",
   "execution_count": 182,
   "metadata": {},
   "outputs": [
    {
     "data": {
      "application/vnd.jupyter.widget-view+json": {
       "model_id": "96a0b211801c429191f8c0c8ccb6c866",
       "version_major": 2,
       "version_minor": 0
      },
      "text/plain": [
       "HBox(children=(IntProgress(value=0, description='Epoch', max=4), HTML(value='')))"
      ]
     },
     "metadata": {},
     "output_type": "display_data"
    },
    {
     "name": "stdout",
     "output_type": "stream",
     "text": [
      "epoch      trn_loss   val_loss   <lambda>   dice            \n",
      "    0      0.042276   0.17002    0.946533   0.89438   \n",
      "    1      0.043252   0.198093   0.945637   0.890998        \n",
      "    2      0.038618   0.18743    0.94824    0.895708        \n",
      "    3      0.035647   0.190821   0.948162   0.89573         \n",
      "\n"
     ]
    },
    {
     "data": {
      "text/plain": [
       "[array([0.19082]), 0.9481617736816407, 0.8957303626877063]"
      ]
     },
     "execution_count": 182,
     "metadata": {},
     "output_type": "execute_result"
    }
   ],
   "source": [
    "learn.fit(lrs/10,1, wds=wd,cycle_len=4,use_clr=(20,8))"
   ]
  },
  {
   "cell_type": "code",
   "execution_count": 246,
   "metadata": {},
   "outputs": [
    {
     "ename": "AttributeError",
     "evalue": "'NoneType' object has no attribute 'plot_lr'",
     "output_type": "error",
     "traceback": [
      "\u001b[0;31m---------------------------------------------------------------------------\u001b[0m",
      "\u001b[0;31mAttributeError\u001b[0m                            Traceback (most recent call last)",
      "\u001b[0;32m<ipython-input-246-b31956846713>\u001b[0m in \u001b[0;36m<module>\u001b[0;34m()\u001b[0m\n\u001b[0;32m----> 1\u001b[0;31m \u001b[0mlearn\u001b[0m\u001b[0;34m.\u001b[0m\u001b[0msched\u001b[0m\u001b[0;34m.\u001b[0m\u001b[0mplot_lr\u001b[0m\u001b[0;34m(\u001b[0m\u001b[0;34m)\u001b[0m\u001b[0;34m\u001b[0m\u001b[0m\n\u001b[0m",
      "\u001b[0;31mAttributeError\u001b[0m: 'NoneType' object has no attribute 'plot_lr'"
     ]
    }
   ],
   "source": [
    "learn.sched.plot_lr()"
   ]
  },
  {
   "cell_type": "code",
   "execution_count": 183,
   "metadata": {},
   "outputs": [
    {
     "data": {
      "image/png": "[encoded data removed]",
      "text/plain": [
       "<Figure size 432x288 with 1 Axes>"
      ]
     },
     "metadata": {},
     "output_type": "display_data"
    }
   ],
   "source": [
    "learn.sched.plot_loss()"
   ]
  },
  {
   "cell_type": "code",
   "execution_count": 184,
   "metadata": {},
   "outputs": [],
   "source": [
    "learn.save('128urn')"
   ]
  },
  {
   "cell_type": "code",
   "execution_count": 185,
   "metadata": {},
   "outputs": [],
   "source": [
    "learn.load('128urn')"
   ]
  },
  {
   "cell_type": "code",
   "execution_count": 186,
   "metadata": {},
   "outputs": [],
   "source": [
    "x,y = next(iter(md.val_dl))\n",
    "py = to_np(learn.model(V(x)))"
   ]
  },
  {
   "cell_type": "code",
   "execution_count": 187,
   "metadata": {},
   "outputs": [
    {
     "data": {
      "image/png": "[encoded data removed]",
      "text/plain": [
       "<Figure size 432x288 with 1 Axes>"
      ]
     },
     "metadata": {},
     "output_type": "display_data"
    }
   ],
   "source": [
    "show_img(py[0]>0);"
   ]
  },
  {
   "cell_type": "code",
   "execution_count": 188,
   "metadata": {},
   "outputs": [
    {
     "data": {
      "image/png": "[encoded data removed]",
      "text/plain": [
       "<Figure size 432x288 with 1 Axes>"
      ]
     },
     "metadata": {},
     "output_type": "display_data"
    }
   ],
   "source": [
    "show_img(y[0]);"
   ]
  },
  {
   "cell_type": "code",
   "execution_count": 189,
   "metadata": {},
   "outputs": [
    {
     "data": {
      "image/png": "[encoded data removed]",
      "text/plain": [
       "<Figure size 432x288 with 1 Axes>"
      ]
     },
     "metadata": {},
     "output_type": "display_data"
    }
   ],
   "source": [
    "show_img(x[0][0]);"
   ]
  },
  {
   "cell_type": "code",
   "execution_count": 190,
   "metadata": {},
   "outputs": [
    {
     "data": {
      "text/plain": [
       "torch.Size([64, 128, 128])"
      ]
     },
     "execution_count": 190,
     "metadata": {},
     "output_type": "execute_result"
    }
   ],
   "source": [
    "y.shape"
   ]
  },
  {
   "cell_type": "markdown",
   "metadata": {},
   "source": [
    "# Test on original validation"
   ]
  },
  {
   "cell_type": "code",
   "execution_count": 191,
   "metadata": {
    "scrolled": true
   },
   "outputs": [
    {
     "data": {
      "text/plain": [
       "array(['/home/giles/Downloads/fastai_data/salt/train-128/d2b40a2781.png',\n",
       "       '/home/giles/Downloads/fastai_data/salt/train-128/89dba191b1.png',\n",
       "       '/home/giles/Downloads/fastai_data/salt/train-128/e6ac2a35cd.png',\n",
       "       '/home/giles/Downloads/fastai_data/salt/train-128/236a5cc090.png',\n",
       "       '/home/giles/Downloads/fastai_data/salt/train-128/f30e47cb36.png',\n",
       "       '/home/giles/Downloads/fastai_data/salt/train-128/e0bde1cf11.png',\n",
       "       '/home/giles/Downloads/fastai_data/salt/train-128/ad16edc8be.png',\n",
       "       '/home/giles/Downloads/fastai_data/salt/train-128/fa92bed2b1.png',\n",
       "       '/home/giles/Downloads/fastai_data/salt/train-128/6d46f994ac.png',\n",
       "       '/home/giles/Downloads/fastai_data/salt/train-128/eabed5b2b4.png',\n",
       "       '/home/giles/Downloads/fastai_data/salt/train-128/1cad8c327b.png',\n",
       "       '/home/giles/Downloads/fastai_data/salt/train-128/2fe4adfd48.png',\n",
       "       '/home/giles/Downloads/fastai_data/salt/train-128/24d67576d0.png',\n",
       "       '/home/giles/Downloads/fastai_data/salt/train-128/60b3d0d613.png',\n",
       "       '/home/giles/Downloads/fastai_data/salt/train-128/c32752c00f.png',\n",
       "       '/home/giles/Downloads/fastai_data/salt/train-128/0ab5e14937.png',\n",
       "       '/home/giles/Downloads/fastai_data/salt/train-128/6738d474a3.png',\n",
       "       '/home/giles/Downloads/fastai_data/salt/train-128/9d98768f19.png',\n",
       "       '/home/giles/Downloads/fastai_data/salt/train-128/b5893fc541.png',\n",
       "       '/home/giles/Downloads/fastai_data/salt/train-128/e337021e6a.png',\n",
       "       '/home/giles/Downloads/fastai_data/salt/train-128/7f0bdb5e31.png',\n",
       "       '/home/giles/Downloads/fastai_data/salt/train-128/ff9b7d0d2e.png',\n",
       "       '/home/giles/Downloads/fastai_data/salt/train-128/25bd98aec3.png',\n",
       "       '/home/giles/Downloads/fastai_data/salt/train-128/24bf79cd1e.png',\n",
       "       '/home/giles/Downloads/fastai_data/salt/train-128/d66e51d456.png',\n",
       "       '/home/giles/Downloads/fastai_data/salt/train-128/dae1555fbf.png',\n",
       "       '/home/giles/Downloads/fastai_data/salt/train-128/9a71e8563b.png',\n",
       "       '/home/giles/Downloads/fastai_data/salt/train-128/eb4efc4c39.png',\n",
       "       '/home/giles/Downloads/fastai_data/salt/train-128/657f2c34f7.png',\n",
       "       '/home/giles/Downloads/fastai_data/salt/train-128/0ce8a6ae62.png',\n",
       "       '/home/giles/Downloads/fastai_data/salt/train-128/8d89d465fc.png',\n",
       "       '/home/giles/Downloads/fastai_data/salt/train-128/4bb8260218.png',\n",
       "       '/home/giles/Downloads/fastai_data/salt/train-128/921b60e76d.png',\n",
       "       '/home/giles/Downloads/fastai_data/salt/train-128/f5c2e66754.png',\n",
       "       '/home/giles/Downloads/fastai_data/salt/train-128/7eb42fe5ec.png',\n",
       "       '/home/giles/Downloads/fastai_data/salt/train-128/fea1ff8505.png',\n",
       "       '/home/giles/Downloads/fastai_data/salt/train-128/2fe0292eea.png',\n",
       "       '/home/giles/Downloads/fastai_data/salt/train-128/c5493cc7b0.png',\n",
       "       '/home/giles/Downloads/fastai_data/salt/train-128/8b44342fd9.png',\n",
       "       '/home/giles/Downloads/fastai_data/salt/train-128/badb3ea766.png',\n",
       "       '/home/giles/Downloads/fastai_data/salt/train-128/730eee262c.png',\n",
       "       '/home/giles/Downloads/fastai_data/salt/train-128/46673b0e2d.png',\n",
       "       '/home/giles/Downloads/fastai_data/salt/train-128/21df07989f.png',\n",
       "       '/home/giles/Downloads/fastai_data/salt/train-128/7fc1ce1cb4.png',\n",
       "       '/home/giles/Downloads/fastai_data/salt/train-128/a4e90eef39.png',\n",
       "       '/home/giles/Downloads/fastai_data/salt/train-128/312c4ce754.png',\n",
       "       '/home/giles/Downloads/fastai_data/salt/train-128/e8b730fe92.png',\n",
       "       '/home/giles/Downloads/fastai_data/salt/train-128/499560e566.png',\n",
       "       '/home/giles/Downloads/fastai_data/salt/train-128/f62410bce9.png',\n",
       "       '/home/giles/Downloads/fastai_data/salt/train-128/2b76b47947.png',\n",
       "       '/home/giles/Downloads/fastai_data/salt/train-128/39400e0443.png',\n",
       "       '/home/giles/Downloads/fastai_data/salt/train-128/f87154ea7b.png',\n",
       "       '/home/giles/Downloads/fastai_data/salt/train-128/40aaac97b1.png',\n",
       "       '/home/giles/Downloads/fastai_data/salt/train-128/0589f557d7.png',\n",
       "       '/home/giles/Downloads/fastai_data/salt/train-128/15d76f1672.png',\n",
       "       '/home/giles/Downloads/fastai_data/salt/train-128/7a0c8915be.png',\n",
       "       '/home/giles/Downloads/fastai_data/salt/train-128/de261976e6.png',\n",
       "       '/home/giles/Downloads/fastai_data/salt/train-128/e8d6412ed8.png',\n",
       "       '/home/giles/Downloads/fastai_data/salt/train-128/c82dabf9b1.png',\n",
       "       '/home/giles/Downloads/fastai_data/salt/train-128/a1e32a6815.png',\n",
       "       '/home/giles/Downloads/fastai_data/salt/train-128/4a12baccc4.png',\n",
       "       '/home/giles/Downloads/fastai_data/salt/train-128/59597a8431.png',\n",
       "       '/home/giles/Downloads/fastai_data/salt/train-128/54cfa66336.png',\n",
       "       '/home/giles/Downloads/fastai_data/salt/train-128/6edb010212.png',\n",
       "       '/home/giles/Downloads/fastai_data/salt/train-128/de7202d286.png',\n",
       "       '/home/giles/Downloads/fastai_data/salt/train-128/d567ba2b49.png',\n",
       "       '/home/giles/Downloads/fastai_data/salt/train-128/43a1dbb062.png',\n",
       "       '/home/giles/Downloads/fastai_data/salt/train-128/617c746fca.png',\n",
       "       '/home/giles/Downloads/fastai_data/salt/train-128/ce31ab9b97.png',\n",
       "       '/home/giles/Downloads/fastai_data/salt/train-128/4b2af55ae6.png',\n",
       "       '/home/giles/Downloads/fastai_data/salt/train-128/340c808130.png',\n",
       "       '/home/giles/Downloads/fastai_data/salt/train-128/c8404c2d4f.png',\n",
       "       '/home/giles/Downloads/fastai_data/salt/train-128/e4be64c1fb.png',\n",
       "       '/home/giles/Downloads/fastai_data/salt/train-128/e37b8208fa.png',\n",
       "       '/home/giles/Downloads/fastai_data/salt/train-128/5c33b65396.png',\n",
       "       '/home/giles/Downloads/fastai_data/salt/train-128/2fe186a2c6.png',\n",
       "       '/home/giles/Downloads/fastai_data/salt/train-128/d8b2dc2e8a.png',\n",
       "       '/home/giles/Downloads/fastai_data/salt/train-128/776bdf9043.png',\n",
       "       '/home/giles/Downloads/fastai_data/salt/train-128/590e6bdbef.png',\n",
       "       '/home/giles/Downloads/fastai_data/salt/train-128/217eeca27e.png',\n",
       "       '/home/giles/Downloads/fastai_data/salt/train-128/37251064bd.png',\n",
       "       '/home/giles/Downloads/fastai_data/salt/train-128/32599d97bb.png',\n",
       "       '/home/giles/Downloads/fastai_data/salt/train-128/7568a9474e.png',\n",
       "       '/home/giles/Downloads/fastai_data/salt/train-128/f9ef613aec.png',\n",
       "       '/home/giles/Downloads/fastai_data/salt/train-128/6460ce2df7.png',\n",
       "       '/home/giles/Downloads/fastai_data/salt/train-128/76b4df03dd.png',\n",
       "       '/home/giles/Downloads/fastai_data/salt/train-128/29beb70925.png',\n",
       "       '/home/giles/Downloads/fastai_data/salt/train-128/2615b5210d.png',\n",
       "       '/home/giles/Downloads/fastai_data/salt/train-128/66e922c8d6.png',\n",
       "       '/home/giles/Downloads/fastai_data/salt/train-128/9eb4a10b98.png',\n",
       "       '/home/giles/Downloads/fastai_data/salt/train-128/e86361f5d1.png',\n",
       "       '/home/giles/Downloads/fastai_data/salt/train-128/c023a62b96.png',\n",
       "       '/home/giles/Downloads/fastai_data/salt/train-128/dae96d99b2.png',\n",
       "       '/home/giles/Downloads/fastai_data/salt/train-128/f0ea2421f0.png',\n",
       "       '/home/giles/Downloads/fastai_data/salt/train-128/f85054273a.png',\n",
       "       '/home/giles/Downloads/fastai_data/salt/train-128/d2522cfc93.png',\n",
       "       '/home/giles/Downloads/fastai_data/salt/train-128/9ce55dc2c9.png',\n",
       "       '/home/giles/Downloads/fastai_data/salt/train-128/30307d5103.png',\n",
       "       '/home/giles/Downloads/fastai_data/salt/train-128/021494f3aa.png',\n",
       "       '/home/giles/Downloads/fastai_data/salt/train-128/de15d35ebc.png',\n",
       "       '/home/giles/Downloads/fastai_data/salt/train-128/d83a74a082.png',\n",
       "       '/home/giles/Downloads/fastai_data/salt/train-128/173dd2f369.png',\n",
       "       '/home/giles/Downloads/fastai_data/salt/train-128/28ad4e60c5.png',\n",
       "       '/home/giles/Downloads/fastai_data/salt/train-128/0461a2fb30.png',\n",
       "       '/home/giles/Downloads/fastai_data/salt/train-128/c112748161.png',\n",
       "       '/home/giles/Downloads/fastai_data/salt/train-128/1a288f27bf.png',\n",
       "       '/home/giles/Downloads/fastai_data/salt/train-128/2fb152d905.png',\n",
       "       '/home/giles/Downloads/fastai_data/salt/train-128/fd51e63c83.png',\n",
       "       '/home/giles/Downloads/fastai_data/salt/train-128/3ddb2ff7a4.png',\n",
       "       '/home/giles/Downloads/fastai_data/salt/train-128/ff1e8ed948.png',\n",
       "       '/home/giles/Downloads/fastai_data/salt/train-128/8b5757d8ee.png',\n",
       "       '/home/giles/Downloads/fastai_data/salt/train-128/e8cf12563d.png',\n",
       "       '/home/giles/Downloads/fastai_data/salt/train-128/c4b05c2eaa.png',\n",
       "       '/home/giles/Downloads/fastai_data/salt/train-128/057eae4f34.png',\n",
       "       '/home/giles/Downloads/fastai_data/salt/train-128/c9da9c3d42.png',\n",
       "       '/home/giles/Downloads/fastai_data/salt/train-128/d99612d949.png',\n",
       "       '/home/giles/Downloads/fastai_data/salt/train-128/bc3156b1e4.png',\n",
       "       '/home/giles/Downloads/fastai_data/salt/train-128/6994342067.png',\n",
       "       '/home/giles/Downloads/fastai_data/salt/train-128/7b078e7517.png',\n",
       "       '/home/giles/Downloads/fastai_data/salt/train-128/6ab003835b.png',\n",
       "       '/home/giles/Downloads/fastai_data/salt/train-128/5ffd928d1e.png',\n",
       "       '/home/giles/Downloads/fastai_data/salt/train-128/bb455284f1.png',\n",
       "       '/home/giles/Downloads/fastai_data/salt/train-128/12c92c9f70.png',\n",
       "       '/home/giles/Downloads/fastai_data/salt/train-128/e1984bebe3.png',\n",
       "       '/home/giles/Downloads/fastai_data/salt/train-128/16017c8e02.png',\n",
       "       '/home/giles/Downloads/fastai_data/salt/train-128/681ee85a7b.png',\n",
       "       '/home/giles/Downloads/fastai_data/salt/train-128/3cc59342bd.png',\n",
       "       '/home/giles/Downloads/fastai_data/salt/train-128/b60fbb288b.png',\n",
       "       '/home/giles/Downloads/fastai_data/salt/train-128/ba6970504c.png',\n",
       "       '/home/giles/Downloads/fastai_data/salt/train-128/cb7cd324a5.png',\n",
       "       '/home/giles/Downloads/fastai_data/salt/train-128/99f52af0ea.png',\n",
       "       '/home/giles/Downloads/fastai_data/salt/train-128/5991bd3f1b.png',\n",
       "       '/home/giles/Downloads/fastai_data/salt/train-128/cc15d94784.png',\n",
       "       '/home/giles/Downloads/fastai_data/salt/train-128/c27409a765.png',\n",
       "       '/home/giles/Downloads/fastai_data/salt/train-128/25845ace3d.png',\n",
       "       '/home/giles/Downloads/fastai_data/salt/train-128/b5bdff9392.png',\n",
       "       '/home/giles/Downloads/fastai_data/salt/train-128/65fe1a0efc.png',\n",
       "       '/home/giles/Downloads/fastai_data/salt/train-128/00950d1627.png',\n",
       "       '/home/giles/Downloads/fastai_data/salt/train-128/b8a9602e21.png',\n",
       "       '/home/giles/Downloads/fastai_data/salt/train-128/ebe64e1d15.png',\n",
       "       '/home/giles/Downloads/fastai_data/salt/train-128/0401ae15d3.png',\n",
       "       '/home/giles/Downloads/fastai_data/salt/train-128/edf1e6ac00.png',\n",
       "       '/home/giles/Downloads/fastai_data/salt/train-128/cd2046479c.png',\n",
       "       '/home/giles/Downloads/fastai_data/salt/train-128/a4442fef48.png',\n",
       "       '/home/giles/Downloads/fastai_data/salt/train-128/4ad8a63538.png',\n",
       "       '/home/giles/Downloads/fastai_data/salt/train-128/dc0119712d.png',\n",
       "       '/home/giles/Downloads/fastai_data/salt/train-128/2424f4afc7.png',\n",
       "       '/home/giles/Downloads/fastai_data/salt/train-128/0fd38464c3.png',\n",
       "       '/home/giles/Downloads/fastai_data/salt/train-128/5ec4b8eff9.png',\n",
       "       '/home/giles/Downloads/fastai_data/salt/train-128/d765e53b37.png',\n",
       "       '/home/giles/Downloads/fastai_data/salt/train-128/cffbfab33b.png',\n",
       "       '/home/giles/Downloads/fastai_data/salt/train-128/e927f91b12.png',\n",
       "       '/home/giles/Downloads/fastai_data/salt/train-128/72544ea5b6.png',\n",
       "       '/home/giles/Downloads/fastai_data/salt/train-128/84e540208f.png',\n",
       "       '/home/giles/Downloads/fastai_data/salt/train-128/f9b7196dfc.png',\n",
       "       '/home/giles/Downloads/fastai_data/salt/train-128/fba91bfec8.png',\n",
       "       '/home/giles/Downloads/fastai_data/salt/train-128/93f7759d52.png',\n",
       "       '/home/giles/Downloads/fastai_data/salt/train-128/0c6ec35477.png',\n",
       "       '/home/giles/Downloads/fastai_data/salt/train-128/a86acaf330.png',\n",
       "       '/home/giles/Downloads/fastai_data/salt/train-128/e360f895de.png',\n",
       "       '/home/giles/Downloads/fastai_data/salt/train-128/e27400528c.png',\n",
       "       '/home/giles/Downloads/fastai_data/salt/train-128/75fb579aa2.png',\n",
       "       '/home/giles/Downloads/fastai_data/salt/train-128/0115703825.png',\n",
       "       '/home/giles/Downloads/fastai_data/salt/train-128/de39c2b892.png',\n",
       "       '/home/giles/Downloads/fastai_data/salt/train-128/e05db130be.png',\n",
       "       '/home/giles/Downloads/fastai_data/salt/train-128/a2a012f128.png',\n",
       "       '/home/giles/Downloads/fastai_data/salt/train-128/581e7f38d7.png',\n",
       "       '/home/giles/Downloads/fastai_data/salt/train-128/07e08eee37.png',\n",
       "       '/home/giles/Downloads/fastai_data/salt/train-128/6abe55deaf.png',\n",
       "       '/home/giles/Downloads/fastai_data/salt/train-128/58de316918.png',\n",
       "       '/home/giles/Downloads/fastai_data/salt/train-128/992572448c.png',\n",
       "       '/home/giles/Downloads/fastai_data/salt/train-128/2a9190ed84.png',\n",
       "       '/home/giles/Downloads/fastai_data/salt/train-128/46bec86213.png',\n",
       "       '/home/giles/Downloads/fastai_data/salt/train-128/f78674d646.png',\n",
       "       '/home/giles/Downloads/fastai_data/salt/train-128/c2ca0ed857.png',\n",
       "       '/home/giles/Downloads/fastai_data/salt/train-128/7633c6bb70.png',\n",
       "       '/home/giles/Downloads/fastai_data/salt/train-128/174ebb49df.png',\n",
       "       '/home/giles/Downloads/fastai_data/salt/train-128/023d486fba.png',\n",
       "       '/home/giles/Downloads/fastai_data/salt/train-128/571e63d0bc.png',\n",
       "       '/home/giles/Downloads/fastai_data/salt/train-128/32f1039c61.png',\n",
       "       '/home/giles/Downloads/fastai_data/salt/train-128/3dc8ca137c.png',\n",
       "       '/home/giles/Downloads/fastai_data/salt/train-128/875dda3975.png',\n",
       "       '/home/giles/Downloads/fastai_data/salt/train-128/d583d291ea.png',\n",
       "       '/home/giles/Downloads/fastai_data/salt/train-128/83be4b6836.png',\n",
       "       '/home/giles/Downloads/fastai_data/salt/train-128/2f917b1124.png',\n",
       "       '/home/giles/Downloads/fastai_data/salt/train-128/c4a681819d.png',\n",
       "       '/home/giles/Downloads/fastai_data/salt/train-128/9492db510d.png',\n",
       "       '/home/giles/Downloads/fastai_data/salt/train-128/a8bfe7072c.png',\n",
       "       '/home/giles/Downloads/fastai_data/salt/train-128/393f2db0b0.png',\n",
       "       '/home/giles/Downloads/fastai_data/salt/train-128/10a1a5b78f.png',\n",
       "       '/home/giles/Downloads/fastai_data/salt/train-128/53c79255ba.png',\n",
       "       '/home/giles/Downloads/fastai_data/salt/train-128/7ab70da99b.png',\n",
       "       '/home/giles/Downloads/fastai_data/salt/train-128/0ec68b2e42.png',\n",
       "       '/home/giles/Downloads/fastai_data/salt/train-128/ce1f9711bc.png',\n",
       "       '/home/giles/Downloads/fastai_data/salt/train-128/4eccb0cb9d.png',\n",
       "       '/home/giles/Downloads/fastai_data/salt/train-128/d6b87a521f.png',\n",
       "       '/home/giles/Downloads/fastai_data/salt/train-128/d1f7d2876b.png',\n",
       "       '/home/giles/Downloads/fastai_data/salt/train-128/1b71d67404.png',\n",
       "       '/home/giles/Downloads/fastai_data/salt/train-128/190ea39ec4.png',\n",
       "       '/home/giles/Downloads/fastai_data/salt/train-128/e51bea30d0.png',\n",
       "       '/home/giles/Downloads/fastai_data/salt/train-128/aa791ce59a.png',\n",
       "       '/home/giles/Downloads/fastai_data/salt/train-128/116bd22fd0.png',\n",
       "       '/home/giles/Downloads/fastai_data/salt/train-128/02117a400e.png',\n",
       "       '/home/giles/Downloads/fastai_data/salt/train-128/044106f759.png',\n",
       "       '/home/giles/Downloads/fastai_data/salt/train-128/a9fd8e2a06.png',\n",
       "       '/home/giles/Downloads/fastai_data/salt/train-128/fbc9a1149e.png',\n",
       "       '/home/giles/Downloads/fastai_data/salt/train-128/24f27c4087.png',\n",
       "       '/home/giles/Downloads/fastai_data/salt/train-128/32f4fd66ae.png',\n",
       "       '/home/giles/Downloads/fastai_data/salt/train-128/5f48c8c123.png',\n",
       "       '/home/giles/Downloads/fastai_data/salt/train-128/a774562f5e.png',\n",
       "       '/home/giles/Downloads/fastai_data/salt/train-128/74f00bb214.png',\n",
       "       '/home/giles/Downloads/fastai_data/salt/train-128/eeecc7ab39.png',\n",
       "       '/home/giles/Downloads/fastai_data/salt/train-128/3072ae3119.png',\n",
       "       '/home/giles/Downloads/fastai_data/salt/train-128/78f17697f2.png',\n",
       "       '/home/giles/Downloads/fastai_data/salt/train-128/963189b39c.png',\n",
       "       '/home/giles/Downloads/fastai_data/salt/train-128/640ceb328a.png',\n",
       "       '/home/giles/Downloads/fastai_data/salt/train-128/6ebb6826bd.png',\n",
       "       '/home/giles/Downloads/fastai_data/salt/train-128/01c2045d03.png',\n",
       "       '/home/giles/Downloads/fastai_data/salt/train-128/5489a9e706.png',\n",
       "       '/home/giles/Downloads/fastai_data/salt/train-128/20b26a6ea7.png',\n",
       "       '/home/giles/Downloads/fastai_data/salt/train-128/3cf0203cfb.png',\n",
       "       '/home/giles/Downloads/fastai_data/salt/train-128/8620f40403.png',\n",
       "       '/home/giles/Downloads/fastai_data/salt/train-128/d390b1cbef.png',\n",
       "       '/home/giles/Downloads/fastai_data/salt/train-128/6c45d80d1e.png',\n",
       "       '/home/giles/Downloads/fastai_data/salt/train-128/7469baeb8d.png',\n",
       "       '/home/giles/Downloads/fastai_data/salt/train-128/5edb37f5a8.png',\n",
       "       '/home/giles/Downloads/fastai_data/salt/train-128/8ce1df1a6a.png',\n",
       "       '/home/giles/Downloads/fastai_data/salt/train-128/e3755d5769.png',\n",
       "       '/home/giles/Downloads/fastai_data/salt/train-128/f21593cfa8.png',\n",
       "       '/home/giles/Downloads/fastai_data/salt/train-128/6f79e6d54b.png',\n",
       "       '/home/giles/Downloads/fastai_data/salt/train-128/d31e3fbfdc.png',\n",
       "       '/home/giles/Downloads/fastai_data/salt/train-128/2b30313d2c.png',\n",
       "       '/home/giles/Downloads/fastai_data/salt/train-128/35ba6f2faf.png',\n",
       "       '/home/giles/Downloads/fastai_data/salt/train-128/a56ff4758a.png',\n",
       "       '/home/giles/Downloads/fastai_data/salt/train-128/a88dd59036.png',\n",
       "       '/home/giles/Downloads/fastai_data/salt/train-128/7c61d788af.png',\n",
       "       '/home/giles/Downloads/fastai_data/salt/train-128/20c99dee06.png',\n",
       "       '/home/giles/Downloads/fastai_data/salt/train-128/b2c6b8cf57.png',\n",
       "       '/home/giles/Downloads/fastai_data/salt/train-128/380ff30e30.png',\n",
       "       '/home/giles/Downloads/fastai_data/salt/train-128/fb81781b44.png',\n",
       "       '/home/giles/Downloads/fastai_data/salt/train-128/7ed79f8f56.png',\n",
       "       '/home/giles/Downloads/fastai_data/salt/train-128/575d24d81d.png',\n",
       "       '/home/giles/Downloads/fastai_data/salt/train-128/212ba67b51.png',\n",
       "       '/home/giles/Downloads/fastai_data/salt/train-128/49f22705ea.png',\n",
       "       '/home/giles/Downloads/fastai_data/salt/train-128/258a5db63e.png',\n",
       "       '/home/giles/Downloads/fastai_data/salt/train-128/6d55cabc8d.png',\n",
       "       '/home/giles/Downloads/fastai_data/salt/train-128/18fc51d517.png',\n",
       "       '/home/giles/Downloads/fastai_data/salt/train-128/553733b17b.png',\n",
       "       '/home/giles/Downloads/fastai_data/salt/train-128/923249032c.png',\n",
       "       '/home/giles/Downloads/fastai_data/salt/train-128/356fa48ac4.png',\n",
       "       '/home/giles/Downloads/fastai_data/salt/train-128/1efe1909ed.png',\n",
       "       '/home/giles/Downloads/fastai_data/salt/train-128/b76760a4a1.png',\n",
       "       '/home/giles/Downloads/fastai_data/salt/train-128/2eae73b03a.png',\n",
       "       '/home/giles/Downloads/fastai_data/salt/train-128/97adf32d4d.png',\n",
       "       '/home/giles/Downloads/fastai_data/salt/train-128/bbfb2201ce.png',\n",
       "       '/home/giles/Downloads/fastai_data/salt/train-128/b33b1f9db6.png',\n",
       "       '/home/giles/Downloads/fastai_data/salt/train-128/16e308dbc3.png',\n",
       "       '/home/giles/Downloads/fastai_data/salt/train-128/0f7aa746d6.png',\n",
       "       '/home/giles/Downloads/fastai_data/salt/train-128/1313dbf1d7.png',\n",
       "       '/home/giles/Downloads/fastai_data/salt/train-128/b8b3f26ad4.png',\n",
       "       '/home/giles/Downloads/fastai_data/salt/train-128/87c6bf0012.png',\n",
       "       '/home/giles/Downloads/fastai_data/salt/train-128/e5df7166bc.png',\n",
       "       '/home/giles/Downloads/fastai_data/salt/train-128/70db04a203.png',\n",
       "       '/home/giles/Downloads/fastai_data/salt/train-128/0f02cec809.png',\n",
       "       '/home/giles/Downloads/fastai_data/salt/train-128/fb5adc8df0.png',\n",
       "       '/home/giles/Downloads/fastai_data/salt/train-128/de95e861ac.png',\n",
       "       '/home/giles/Downloads/fastai_data/salt/train-128/abe74273c8.png',\n",
       "       '/home/giles/Downloads/fastai_data/salt/train-128/5a6fa22207.png',\n",
       "       '/home/giles/Downloads/fastai_data/salt/train-128/5fd2a3ef64.png',\n",
       "       '/home/giles/Downloads/fastai_data/salt/train-128/63532a858b.png',\n",
       "       '/home/giles/Downloads/fastai_data/salt/train-128/e799fcac15.png',\n",
       "       '/home/giles/Downloads/fastai_data/salt/train-128/13adf02399.png',\n",
       "       '/home/giles/Downloads/fastai_data/salt/train-128/802df9bb5e.png',\n",
       "       '/home/giles/Downloads/fastai_data/salt/train-128/6545c6235b.png',\n",
       "       '/home/giles/Downloads/fastai_data/salt/train-128/75e041fbd8.png',\n",
       "       '/home/giles/Downloads/fastai_data/salt/train-128/bfc47bbe13.png',\n",
       "       '/home/giles/Downloads/fastai_data/salt/train-128/6db821bf5f.png',\n",
       "       '/home/giles/Downloads/fastai_data/salt/train-128/2bc8a3db3c.png',\n",
       "       '/home/giles/Downloads/fastai_data/salt/train-128/1c02222ef8.png',\n",
       "       '/home/giles/Downloads/fastai_data/salt/train-128/f7e855fc40.png',\n",
       "       '/home/giles/Downloads/fastai_data/salt/train-128/53de66df2a.png',\n",
       "       '/home/giles/Downloads/fastai_data/salt/train-128/ebdbbb52b5.png',\n",
       "       '/home/giles/Downloads/fastai_data/salt/train-128/c02071548b.png',\n",
       "       '/home/giles/Downloads/fastai_data/salt/train-128/00a3af90ab.png',\n",
       "       '/home/giles/Downloads/fastai_data/salt/train-128/cb6c6c15ce.png',\n",
       "       '/home/giles/Downloads/fastai_data/salt/train-128/cc216a861c.png',\n",
       "       '/home/giles/Downloads/fastai_data/salt/train-128/3984ed8d4e.png',\n",
       "       '/home/giles/Downloads/fastai_data/salt/train-128/50b3aef4c4.png',\n",
       "       '/home/giles/Downloads/fastai_data/salt/train-128/4a39459597.png',\n",
       "       '/home/giles/Downloads/fastai_data/salt/train-128/331ec135dd.png',\n",
       "       '/home/giles/Downloads/fastai_data/salt/train-128/b0e479668d.png',\n",
       "       '/home/giles/Downloads/fastai_data/salt/train-128/93f8f9e663.png',\n",
       "       '/home/giles/Downloads/fastai_data/salt/train-128/91127f8cc2.png',\n",
       "       '/home/giles/Downloads/fastai_data/salt/train-128/8db0a68a4c.png',\n",
       "       '/home/giles/Downloads/fastai_data/salt/train-128/48bb098115.png',\n",
       "       '/home/giles/Downloads/fastai_data/salt/train-128/b5e1371b3b.png',\n",
       "       '/home/giles/Downloads/fastai_data/salt/train-128/e437c3912d.png',\n",
       "       '/home/giles/Downloads/fastai_data/salt/train-128/368767c9fd.png',\n",
       "       '/home/giles/Downloads/fastai_data/salt/train-128/ce9c3510a8.png',\n",
       "       '/home/giles/Downloads/fastai_data/salt/train-128/f44f67efae.png',\n",
       "       '/home/giles/Downloads/fastai_data/salt/train-128/62aad7556c.png',\n",
       "       '/home/giles/Downloads/fastai_data/salt/train-128/cb974e60ca.png',\n",
       "       '/home/giles/Downloads/fastai_data/salt/train-128/b8dea42e1a.png',\n",
       "       '/home/giles/Downloads/fastai_data/salt/train-128/cd249859fa.png',\n",
       "       '/home/giles/Downloads/fastai_data/salt/train-128/7796858a9b.png',\n",
       "       '/home/giles/Downloads/fastai_data/salt/train-128/3862950849.png',\n",
       "       '/home/giles/Downloads/fastai_data/salt/train-128/ae51614513.png',\n",
       "       '/home/giles/Downloads/fastai_data/salt/train-128/c1c6a1ebad.png',\n",
       "       '/home/giles/Downloads/fastai_data/salt/train-128/03be56aa9a.png',\n",
       "       '/home/giles/Downloads/fastai_data/salt/train-128/418a13df5c.png',\n",
       "       '/home/giles/Downloads/fastai_data/salt/train-128/22fdf96a54.png',\n",
       "       '/home/giles/Downloads/fastai_data/salt/train-128/ae6ea6e613.png',\n",
       "       '/home/giles/Downloads/fastai_data/salt/train-128/fa59461848.png',\n",
       "       '/home/giles/Downloads/fastai_data/salt/train-128/ee5c6d6639.png',\n",
       "       '/home/giles/Downloads/fastai_data/salt/train-128/8e13060816.png',\n",
       "       '/home/giles/Downloads/fastai_data/salt/train-128/e12cf83477.png',\n",
       "       '/home/giles/Downloads/fastai_data/salt/train-128/12a953a079.png',\n",
       "       '/home/giles/Downloads/fastai_data/salt/train-128/1ca865b041.png',\n",
       "       '/home/giles/Downloads/fastai_data/salt/train-128/1621c14879.png',\n",
       "       '/home/giles/Downloads/fastai_data/salt/train-128/21d01a8e82.png',\n",
       "       '/home/giles/Downloads/fastai_data/salt/train-128/ebe8198105.png',\n",
       "       '/home/giles/Downloads/fastai_data/salt/train-128/7f0ee9c30a.png',\n",
       "       '/home/giles/Downloads/fastai_data/salt/train-128/128f3b0e36.png',\n",
       "       '/home/giles/Downloads/fastai_data/salt/train-128/9466e21e0d.png',\n",
       "       '/home/giles/Downloads/fastai_data/salt/train-128/b8c3ca0fab.png',\n",
       "       '/home/giles/Downloads/fastai_data/salt/train-128/5cada3d3f1.png',\n",
       "       '/home/giles/Downloads/fastai_data/salt/train-128/6e3bb2a882.png',\n",
       "       '/home/giles/Downloads/fastai_data/salt/train-128/ec649a86b2.png',\n",
       "       '/home/giles/Downloads/fastai_data/salt/train-128/e34c1220b1.png',\n",
       "       '/home/giles/Downloads/fastai_data/salt/train-128/6092afaec7.png',\n",
       "       '/home/giles/Downloads/fastai_data/salt/train-128/40d01e18a0.png',\n",
       "       '/home/giles/Downloads/fastai_data/salt/train-128/e045664b46.png',\n",
       "       '/home/giles/Downloads/fastai_data/salt/train-128/6d17d3be2d.png',\n",
       "       '/home/giles/Downloads/fastai_data/salt/train-128/7e40cdf1f3.png',\n",
       "       '/home/giles/Downloads/fastai_data/salt/train-128/be1f425eac.png',\n",
       "       '/home/giles/Downloads/fastai_data/salt/train-128/bec8f132d0.png',\n",
       "       '/home/giles/Downloads/fastai_data/salt/train-128/a94450f57e.png',\n",
       "       '/home/giles/Downloads/fastai_data/salt/train-128/20658e781f.png',\n",
       "       '/home/giles/Downloads/fastai_data/salt/train-128/7791af3409.png',\n",
       "       '/home/giles/Downloads/fastai_data/salt/train-128/a783bd82c5.png',\n",
       "       '/home/giles/Downloads/fastai_data/salt/train-128/0d3b5ec2a8.png',\n",
       "       '/home/giles/Downloads/fastai_data/salt/train-128/ebdef67fa5.png',\n",
       "       '/home/giles/Downloads/fastai_data/salt/train-128/fe0ff502fb.png',\n",
       "       '/home/giles/Downloads/fastai_data/salt/train-128/f7380099f6.png',\n",
       "       '/home/giles/Downloads/fastai_data/salt/train-128/89dc091930.png',\n",
       "       '/home/giles/Downloads/fastai_data/salt/train-128/7ec64d2b8e.png',\n",
       "       '/home/giles/Downloads/fastai_data/salt/train-128/77608c7770.png',\n",
       "       '/home/giles/Downloads/fastai_data/salt/train-128/0f3118527c.png',\n",
       "       '/home/giles/Downloads/fastai_data/salt/train-128/b12a5a2b61.png',\n",
       "       '/home/giles/Downloads/fastai_data/salt/train-128/761eaf3fa4.png',\n",
       "       '/home/giles/Downloads/fastai_data/salt/train-128/d06f237a79.png',\n",
       "       '/home/giles/Downloads/fastai_data/salt/train-128/a898892737.png',\n",
       "       '/home/giles/Downloads/fastai_data/salt/train-128/98c6496076.png',\n",
       "       '/home/giles/Downloads/fastai_data/salt/train-128/6a1fd3c67e.png',\n",
       "       '/home/giles/Downloads/fastai_data/salt/train-128/03eed26d3e.png',\n",
       "       '/home/giles/Downloads/fastai_data/salt/train-128/4c7e3c71e6.png',\n",
       "       '/home/giles/Downloads/fastai_data/salt/train-128/e4159ed1de.png',\n",
       "       '/home/giles/Downloads/fastai_data/salt/train-128/5e3c2aa2bb.png',\n",
       "       '/home/giles/Downloads/fastai_data/salt/train-128/b966734278.png',\n",
       "       '/home/giles/Downloads/fastai_data/salt/train-128/ab82b9e44e.png',\n",
       "       '/home/giles/Downloads/fastai_data/salt/train-128/67a8e23baa.png',\n",
       "       '/home/giles/Downloads/fastai_data/salt/train-128/6cf284fb9e.png',\n",
       "       '/home/giles/Downloads/fastai_data/salt/train-128/68d00224e0.png',\n",
       "       '/home/giles/Downloads/fastai_data/salt/train-128/6d593a19d1.png',\n",
       "       '/home/giles/Downloads/fastai_data/salt/train-128/7e92ab6fe8.png',\n",
       "       '/home/giles/Downloads/fastai_data/salt/train-128/eead2fc101.png',\n",
       "       '/home/giles/Downloads/fastai_data/salt/train-128/d6437d0c25.png',\n",
       "       '/home/giles/Downloads/fastai_data/salt/train-128/ea2fe8434f.png',\n",
       "       '/home/giles/Downloads/fastai_data/salt/train-128/0b73b427d1.png',\n",
       "       '/home/giles/Downloads/fastai_data/salt/train-128/4be0764138.png',\n",
       "       '/home/giles/Downloads/fastai_data/salt/train-128/71ef380e21.png',\n",
       "       '/home/giles/Downloads/fastai_data/salt/train-128/c0aa0c7b66.png',\n",
       "       '/home/giles/Downloads/fastai_data/salt/train-128/578b502c6d.png',\n",
       "       '/home/giles/Downloads/fastai_data/salt/train-128/6ee755c67d.png',\n",
       "       '/home/giles/Downloads/fastai_data/salt/train-128/6698a570b8.png',\n",
       "       '/home/giles/Downloads/fastai_data/salt/train-128/96cc5caec0.png',\n",
       "       '/home/giles/Downloads/fastai_data/salt/train-128/196cffdb4b.png',\n",
       "       '/home/giles/Downloads/fastai_data/salt/train-128/90791c2417.png',\n",
       "       '/home/giles/Downloads/fastai_data/salt/train-128/b052410a6a.png',\n",
       "       '/home/giles/Downloads/fastai_data/salt/train-128/e340e7bfca.png',\n",
       "       '/home/giles/Downloads/fastai_data/salt/train-128/ec10996820.png',\n",
       "       '/home/giles/Downloads/fastai_data/salt/train-128/396ae389d8.png',\n",
       "       '/home/giles/Downloads/fastai_data/salt/train-128/4f62a5bb14.png',\n",
       "       '/home/giles/Downloads/fastai_data/salt/train-128/a5d2da8488.png',\n",
       "       '/home/giles/Downloads/fastai_data/salt/train-128/5468ed796d.png',\n",
       "       '/home/giles/Downloads/fastai_data/salt/train-128/131ca4b83d.png',\n",
       "       '/home/giles/Downloads/fastai_data/salt/train-128/2388b3eb40.png',\n",
       "       '/home/giles/Downloads/fastai_data/salt/train-128/7c0447f939.png',\n",
       "       '/home/giles/Downloads/fastai_data/salt/train-128/50d3073821.png',\n",
       "       '/home/giles/Downloads/fastai_data/salt/train-128/37c95ff7df.png',\n",
       "       '/home/giles/Downloads/fastai_data/salt/train-128/503aba826b.png',\n",
       "       '/home/giles/Downloads/fastai_data/salt/train-128/d96af7c9cc.png',\n",
       "       '/home/giles/Downloads/fastai_data/salt/train-128/e3349e2125.png',\n",
       "       '/home/giles/Downloads/fastai_data/salt/train-128/9b585a2ea0.png',\n",
       "       '/home/giles/Downloads/fastai_data/salt/train-128/1ee0d5b4d0.png',\n",
       "       '/home/giles/Downloads/fastai_data/salt/train-128/623565cb2c.png',\n",
       "       '/home/giles/Downloads/fastai_data/salt/train-128/b5448cb40a.png',\n",
       "       '/home/giles/Downloads/fastai_data/salt/train-128/d308ec69d3.png',\n",
       "       '/home/giles/Downloads/fastai_data/salt/train-128/5800248c17.png',\n",
       "       '/home/giles/Downloads/fastai_data/salt/train-128/8b4189c2a4.png',\n",
       "       '/home/giles/Downloads/fastai_data/salt/train-128/c59e5f46c0.png',\n",
       "       '/home/giles/Downloads/fastai_data/salt/train-128/26382e2d1f.png',\n",
       "       '/home/giles/Downloads/fastai_data/salt/train-128/4514d46495.png',\n",
       "       '/home/giles/Downloads/fastai_data/salt/train-128/e0751c41fd.png',\n",
       "       '/home/giles/Downloads/fastai_data/salt/train-128/d9cf4a6e42.png',\n",
       "       '/home/giles/Downloads/fastai_data/salt/train-128/9dde6475f9.png',\n",
       "       '/home/giles/Downloads/fastai_data/salt/train-128/857e511397.png',\n",
       "       '/home/giles/Downloads/fastai_data/salt/train-128/6b95bc6c5f.png',\n",
       "       '/home/giles/Downloads/fastai_data/salt/train-128/84b5568c2a.png',\n",
       "       '/home/giles/Downloads/fastai_data/salt/train-128/48db3b8c5f.png',\n",
       "       '/home/giles/Downloads/fastai_data/salt/train-128/eb38db5443.png',\n",
       "       '/home/giles/Downloads/fastai_data/salt/train-128/253eb71c3d.png',\n",
       "       '/home/giles/Downloads/fastai_data/salt/train-128/5c297b5dcd.png',\n",
       "       '/home/giles/Downloads/fastai_data/salt/train-128/3687839ecc.png',\n",
       "       '/home/giles/Downloads/fastai_data/salt/train-128/e7c54b5f4e.png',\n",
       "       '/home/giles/Downloads/fastai_data/salt/train-128/7ec58d0743.png',\n",
       "       '/home/giles/Downloads/fastai_data/salt/train-128/164873b51f.png',\n",
       "       '/home/giles/Downloads/fastai_data/salt/train-128/7361f4e5bc.png',\n",
       "       '/home/giles/Downloads/fastai_data/salt/train-128/4ee4b3485e.png',\n",
       "       '/home/giles/Downloads/fastai_data/salt/train-128/8270908d6a.png',\n",
       "       '/home/giles/Downloads/fastai_data/salt/train-128/37aa9fc79a.png',\n",
       "       '/home/giles/Downloads/fastai_data/salt/train-128/c756ff4e1f.png',\n",
       "       '/home/giles/Downloads/fastai_data/salt/train-128/973a4f6dad.png',\n",
       "       '/home/giles/Downloads/fastai_data/salt/train-128/25e519b494.png',\n",
       "       '/home/giles/Downloads/fastai_data/salt/train-128/8d9b8d724a.png',\n",
       "       '/home/giles/Downloads/fastai_data/salt/train-128/78c50b3977.png',\n",
       "       '/home/giles/Downloads/fastai_data/salt/train-128/3782748f51.png',\n",
       "       '/home/giles/Downloads/fastai_data/salt/train-128/d3f3db7bd1.png',\n",
       "       '/home/giles/Downloads/fastai_data/salt/train-128/114397189f.png',\n",
       "       '/home/giles/Downloads/fastai_data/salt/train-128/7c2609c66c.png',\n",
       "       '/home/giles/Downloads/fastai_data/salt/train-128/62d6a9b673.png',\n",
       "       '/home/giles/Downloads/fastai_data/salt/train-128/5677f991b7.png',\n",
       "       '/home/giles/Downloads/fastai_data/salt/train-128/1cb9549d2c.png',\n",
       "       '/home/giles/Downloads/fastai_data/salt/train-128/7709ec3c5d.png',\n",
       "       '/home/giles/Downloads/fastai_data/salt/train-128/38673ade97.png',\n",
       "       '/home/giles/Downloads/fastai_data/salt/train-128/c56524ded9.png',\n",
       "       '/home/giles/Downloads/fastai_data/salt/train-128/7d8b219e1c.png',\n",
       "       '/home/giles/Downloads/fastai_data/salt/train-128/7769e240f0.png',\n",
       "       '/home/giles/Downloads/fastai_data/salt/train-128/6d69267940.png',\n",
       "       '/home/giles/Downloads/fastai_data/salt/train-128/6558dcde17.png',\n",
       "       '/home/giles/Downloads/fastai_data/salt/train-128/f599fad413.png',\n",
       "       '/home/giles/Downloads/fastai_data/salt/train-128/6d9b6a2c4b.png',\n",
       "       '/home/giles/Downloads/fastai_data/salt/train-128/903206854b.png',\n",
       "       '/home/giles/Downloads/fastai_data/salt/train-128/b6520147bb.png',\n",
       "       '/home/giles/Downloads/fastai_data/salt/train-128/cdf9422054.png',\n",
       "       '/home/giles/Downloads/fastai_data/salt/train-128/8ebceef687.png',\n",
       "       '/home/giles/Downloads/fastai_data/salt/train-128/dc4a1c9a30.png',\n",
       "       '/home/giles/Downloads/fastai_data/salt/train-128/337b30caff.png',\n",
       "       '/home/giles/Downloads/fastai_data/salt/train-128/ff238df1c4.png',\n",
       "       '/home/giles/Downloads/fastai_data/salt/train-128/27de423ad3.png',\n",
       "       '/home/giles/Downloads/fastai_data/salt/train-128/a9e940dccd.png',\n",
       "       '/home/giles/Downloads/fastai_data/salt/train-128/94c2d96e56.png',\n",
       "       '/home/giles/Downloads/fastai_data/salt/train-128/25db231ea0.png',\n",
       "       '/home/giles/Downloads/fastai_data/salt/train-128/95a60e2f42.png',\n",
       "       '/home/giles/Downloads/fastai_data/salt/train-128/9f2e5a8c24.png',\n",
       "       '/home/giles/Downloads/fastai_data/salt/train-128/2d8a3a262b.png',\n",
       "       '/home/giles/Downloads/fastai_data/salt/train-128/58edb9b58c.png',\n",
       "       '/home/giles/Downloads/fastai_data/salt/train-128/bab30e51b8.png',\n",
       "       '/home/giles/Downloads/fastai_data/salt/train-128/9e7d89d4c0.png',\n",
       "       '/home/giles/Downloads/fastai_data/salt/train-128/8b0d0b0633.png',\n",
       "       '/home/giles/Downloads/fastai_data/salt/train-128/09e29fbb74.png',\n",
       "       '/home/giles/Downloads/fastai_data/salt/train-128/b749a000ea.png',\n",
       "       '/home/giles/Downloads/fastai_data/salt/train-128/ac1ea6faa4.png',\n",
       "       '/home/giles/Downloads/fastai_data/salt/train-128/8201005b79.png',\n",
       "       '/home/giles/Downloads/fastai_data/salt/train-128/b57e98a275.png',\n",
       "       '/home/giles/Downloads/fastai_data/salt/train-128/1ff0aa7f05.png',\n",
       "       '/home/giles/Downloads/fastai_data/salt/train-128/c33e3a20a4.png',\n",
       "       '/home/giles/Downloads/fastai_data/salt/train-128/c98504a8ab.png',\n",
       "       '/home/giles/Downloads/fastai_data/salt/train-128/48940ae0b0.png',\n",
       "       '/home/giles/Downloads/fastai_data/salt/train-128/b7c462dd1c.png',\n",
       "       '/home/giles/Downloads/fastai_data/salt/train-128/5b72ade49e.png',\n",
       "       '/home/giles/Downloads/fastai_data/salt/train-128/0f762f2746.png',\n",
       "       '/home/giles/Downloads/fastai_data/salt/train-128/ea1a6e1b33.png',\n",
       "       '/home/giles/Downloads/fastai_data/salt/train-128/fd998a993b.png',\n",
       "       '/home/giles/Downloads/fastai_data/salt/train-128/42a3baf571.png',\n",
       "       '/home/giles/Downloads/fastai_data/salt/train-128/5b86544456.png',\n",
       "       '/home/giles/Downloads/fastai_data/salt/train-128/964030c032.png',\n",
       "       '/home/giles/Downloads/fastai_data/salt/train-128/935cba59ad.png',\n",
       "       '/home/giles/Downloads/fastai_data/salt/train-128/4b72e35b8b.png',\n",
       "       '/home/giles/Downloads/fastai_data/salt/train-128/956c91fe94.png',\n",
       "       '/home/giles/Downloads/fastai_data/salt/train-128/e2421eee13.png',\n",
       "       '/home/giles/Downloads/fastai_data/salt/train-128/e2a70ffdf6.png',\n",
       "       '/home/giles/Downloads/fastai_data/salt/train-128/2d4e7a937b.png',\n",
       "       '/home/giles/Downloads/fastai_data/salt/train-128/17bb0d4b3e.png',\n",
       "       '/home/giles/Downloads/fastai_data/salt/train-128/e82421363e.png',\n",
       "       '/home/giles/Downloads/fastai_data/salt/train-128/09541ce79b.png',\n",
       "       '/home/giles/Downloads/fastai_data/salt/train-128/269b6cad0d.png',\n",
       "       '/home/giles/Downloads/fastai_data/salt/train-128/a962f4c9b6.png',\n",
       "       '/home/giles/Downloads/fastai_data/salt/train-128/ddd3099877.png',\n",
       "       '/home/giles/Downloads/fastai_data/salt/train-128/7812fc8116.png',\n",
       "       '/home/giles/Downloads/fastai_data/salt/train-128/b9ebcbc115.png',\n",
       "       '/home/giles/Downloads/fastai_data/salt/train-128/813d6ad4ba.png',\n",
       "       '/home/giles/Downloads/fastai_data/salt/train-128/939879034e.png',\n",
       "       '/home/giles/Downloads/fastai_data/salt/train-128/ad0e66eabf.png',\n",
       "       '/home/giles/Downloads/fastai_data/salt/train-128/ca58996278.png',\n",
       "       '/home/giles/Downloads/fastai_data/salt/train-128/30082e87d9.png',\n",
       "       '/home/giles/Downloads/fastai_data/salt/train-128/c7a92a6707.png',\n",
       "       '/home/giles/Downloads/fastai_data/salt/train-128/a98ab1c549.png',\n",
       "       '/home/giles/Downloads/fastai_data/salt/train-128/306e6e7743.png',\n",
       "       '/home/giles/Downloads/fastai_data/salt/train-128/911efbb175.png',\n",
       "       '/home/giles/Downloads/fastai_data/salt/train-128/6576184a08.png',\n",
       "       '/home/giles/Downloads/fastai_data/salt/train-128/8138c79081.png',\n",
       "       '/home/giles/Downloads/fastai_data/salt/train-128/49fe2ee7ba.png',\n",
       "       '/home/giles/Downloads/fastai_data/salt/train-128/d4d2ed6bd2.png',\n",
       "       '/home/giles/Downloads/fastai_data/salt/train-128/2a49169951.png',\n",
       "       '/home/giles/Downloads/fastai_data/salt/train-128/30d4fb116b.png',\n",
       "       '/home/giles/Downloads/fastai_data/salt/train-128/5c8ce5869b.png',\n",
       "       '/home/giles/Downloads/fastai_data/salt/train-128/135ae076e9.png',\n",
       "       '/home/giles/Downloads/fastai_data/salt/train-128/ab18a0a7fa.png',\n",
       "       '/home/giles/Downloads/fastai_data/salt/train-128/8431a87cff.png',\n",
       "       '/home/giles/Downloads/fastai_data/salt/train-128/6ec6e26ddd.png',\n",
       "       '/home/giles/Downloads/fastai_data/salt/train-128/adf2a57778.png',\n",
       "       '/home/giles/Downloads/fastai_data/salt/train-128/bbb762835a.png',\n",
       "       '/home/giles/Downloads/fastai_data/salt/train-128/2d20ee4eff.png',\n",
       "       '/home/giles/Downloads/fastai_data/salt/train-128/aa94cfb806.png',\n",
       "       '/home/giles/Downloads/fastai_data/salt/train-128/3f9df26c0c.png',\n",
       "       '/home/giles/Downloads/fastai_data/salt/train-128/3ced3ed63e.png',\n",
       "       '/home/giles/Downloads/fastai_data/salt/train-128/fdc06fea10.png',\n",
       "       '/home/giles/Downloads/fastai_data/salt/train-128/d58653f803.png',\n",
       "       '/home/giles/Downloads/fastai_data/salt/train-128/877f9dd0a7.png',\n",
       "       '/home/giles/Downloads/fastai_data/salt/train-128/9f0ebbd210.png',\n",
       "       '/home/giles/Downloads/fastai_data/salt/train-128/86c675c4fb.png',\n",
       "       '/home/giles/Downloads/fastai_data/salt/train-128/e10a1a3e81.png',\n",
       "       '/home/giles/Downloads/fastai_data/salt/train-128/4bd876a71c.png',\n",
       "       '/home/giles/Downloads/fastai_data/salt/train-128/5fe4e3f5e6.png',\n",
       "       '/home/giles/Downloads/fastai_data/salt/train-128/ec857f4518.png',\n",
       "       '/home/giles/Downloads/fastai_data/salt/train-128/346358e652.png',\n",
       "       '/home/giles/Downloads/fastai_data/salt/train-128/d62ad254c6.png',\n",
       "       '/home/giles/Downloads/fastai_data/salt/train-128/86f892ad2f.png',\n",
       "       '/home/giles/Downloads/fastai_data/salt/train-128/7b4ccb8113.png',\n",
       "       '/home/giles/Downloads/fastai_data/salt/train-128/c7408f1d38.png',\n",
       "       '/home/giles/Downloads/fastai_data/salt/train-128/ce14d335bf.png',\n",
       "       '/home/giles/Downloads/fastai_data/salt/train-128/774ee8afcf.png',\n",
       "       '/home/giles/Downloads/fastai_data/salt/train-128/726a0d854d.png',\n",
       "       '/home/giles/Downloads/fastai_data/salt/train-128/b42ffc97d4.png',\n",
       "       '/home/giles/Downloads/fastai_data/salt/train-128/df3a1c2d7b.png',\n",
       "       '/home/giles/Downloads/fastai_data/salt/train-128/569f85c4ce.png',\n",
       "       '/home/giles/Downloads/fastai_data/salt/train-128/9128b824e5.png',\n",
       "       '/home/giles/Downloads/fastai_data/salt/train-128/a5805697c1.png',\n",
       "       '/home/giles/Downloads/fastai_data/salt/train-128/54842b574a.png',\n",
       "       '/home/giles/Downloads/fastai_data/salt/train-128/628f1de539.png',\n",
       "       '/home/giles/Downloads/fastai_data/salt/train-128/48d34846d7.png',\n",
       "       '/home/giles/Downloads/fastai_data/salt/train-128/4630209118.png',\n",
       "       '/home/giles/Downloads/fastai_data/salt/train-128/d17eee846e.png',\n",
       "       '/home/giles/Downloads/fastai_data/salt/train-128/869f99406d.png',\n",
       "       '/home/giles/Downloads/fastai_data/salt/train-128/495a2d3c7c.png',\n",
       "       '/home/giles/Downloads/fastai_data/salt/train-128/ba836c5ae1.png',\n",
       "       '/home/giles/Downloads/fastai_data/salt/train-128/f0d15c63c5.png',\n",
       "       '/home/giles/Downloads/fastai_data/salt/train-128/843447abe4.png',\n",
       "       '/home/giles/Downloads/fastai_data/salt/train-128/44d745a704.png',\n",
       "       '/home/giles/Downloads/fastai_data/salt/train-128/f362d474b7.png',\n",
       "       '/home/giles/Downloads/fastai_data/salt/train-128/45a7562dbf.png',\n",
       "       '/home/giles/Downloads/fastai_data/salt/train-128/2b2fc71ee1.png',\n",
       "       '/home/giles/Downloads/fastai_data/salt/train-128/146ec37657.png',\n",
       "       '/home/giles/Downloads/fastai_data/salt/train-128/b77cc54800.png',\n",
       "       '/home/giles/Downloads/fastai_data/salt/train-128/5ebe9e404d.png',\n",
       "       '/home/giles/Downloads/fastai_data/salt/train-128/72e05a5a33.png',\n",
       "       '/home/giles/Downloads/fastai_data/salt/train-128/7cf386709a.png',\n",
       "       '/home/giles/Downloads/fastai_data/salt/train-128/702209f0b3.png',\n",
       "       '/home/giles/Downloads/fastai_data/salt/train-128/9e9f3940a9.png',\n",
       "       '/home/giles/Downloads/fastai_data/salt/train-128/3116a9d54c.png',\n",
       "       '/home/giles/Downloads/fastai_data/salt/train-128/54a3636ba6.png',\n",
       "       '/home/giles/Downloads/fastai_data/salt/train-128/ee0be71990.png',\n",
       "       '/home/giles/Downloads/fastai_data/salt/train-128/8d839a365b.png',\n",
       "       '/home/giles/Downloads/fastai_data/salt/train-128/340fe814a3.png',\n",
       "       '/home/giles/Downloads/fastai_data/salt/train-128/de08c5a3b7.png',\n",
       "       '/home/giles/Downloads/fastai_data/salt/train-128/f06ef6c8b7.png',\n",
       "       '/home/giles/Downloads/fastai_data/salt/train-128/64bfdd0b9a.png',\n",
       "       '/home/giles/Downloads/fastai_data/salt/train-128/dd6a04d456.png',\n",
       "       '/home/giles/Downloads/fastai_data/salt/train-128/9e8e175c01.png',\n",
       "       '/home/giles/Downloads/fastai_data/salt/train-128/4d1efb19d7.png',\n",
       "       '/home/giles/Downloads/fastai_data/salt/train-128/44f5dd71ab.png',\n",
       "       '/home/giles/Downloads/fastai_data/salt/train-128/41a4f7424e.png',\n",
       "       '/home/giles/Downloads/fastai_data/salt/train-128/881407fa84.png',\n",
       "       '/home/giles/Downloads/fastai_data/salt/train-128/8a58fe70f8.png',\n",
       "       '/home/giles/Downloads/fastai_data/salt/train-128/efec1f093e.png',\n",
       "       '/home/giles/Downloads/fastai_data/salt/train-128/c387a012fc.png',\n",
       "       '/home/giles/Downloads/fastai_data/salt/train-128/c4ed7cdb1c.png',\n",
       "       '/home/giles/Downloads/fastai_data/salt/train-128/8db5bf9be2.png',\n",
       "       '/home/giles/Downloads/fastai_data/salt/train-128/63e32c0cfb.png',\n",
       "       '/home/giles/Downloads/fastai_data/salt/train-128/e7f0e30585.png',\n",
       "       '/home/giles/Downloads/fastai_data/salt/train-128/f64190c47e.png',\n",
       "       '/home/giles/Downloads/fastai_data/salt/train-128/9385125b12.png',\n",
       "       '/home/giles/Downloads/fastai_data/salt/train-128/c073b8930c.png',\n",
       "       '/home/giles/Downloads/fastai_data/salt/train-128/8d9314a9f4.png',\n",
       "       '/home/giles/Downloads/fastai_data/salt/train-128/fa2ebd1083.png',\n",
       "       '/home/giles/Downloads/fastai_data/salt/train-128/81fa3d59b8.png',\n",
       "       '/home/giles/Downloads/fastai_data/salt/train-128/216aa6275d.png',\n",
       "       '/home/giles/Downloads/fastai_data/salt/train-128/6138f82415.png',\n",
       "       '/home/giles/Downloads/fastai_data/salt/train-128/155bcd4b4d.png',\n",
       "       '/home/giles/Downloads/fastai_data/salt/train-128/b07fc3b87c.png',\n",
       "       '/home/giles/Downloads/fastai_data/salt/train-128/130229ec15.png',\n",
       "       '/home/giles/Downloads/fastai_data/salt/train-128/05a61e5799.png',\n",
       "       '/home/giles/Downloads/fastai_data/salt/train-128/1d7a812c76.png',\n",
       "       '/home/giles/Downloads/fastai_data/salt/train-128/b6c52b4a53.png',\n",
       "       '/home/giles/Downloads/fastai_data/salt/train-128/57293a65d5.png',\n",
       "       '/home/giles/Downloads/fastai_data/salt/train-128/1aef65e24b.png',\n",
       "       '/home/giles/Downloads/fastai_data/salt/train-128/9e9ce2e1ce.png',\n",
       "       '/home/giles/Downloads/fastai_data/salt/train-128/62715133c5.png',\n",
       "       '/home/giles/Downloads/fastai_data/salt/train-128/2a484baa26.png',\n",
       "       '/home/giles/Downloads/fastai_data/salt/train-128/56d6d999b8.png',\n",
       "       '/home/giles/Downloads/fastai_data/salt/train-128/8164beeaf5.png',\n",
       "       '/home/giles/Downloads/fastai_data/salt/train-128/ff2c353279.png',\n",
       "       '/home/giles/Downloads/fastai_data/salt/train-128/4f5df40ab2.png',\n",
       "       '/home/giles/Downloads/fastai_data/salt/train-128/c66a9ea31d.png',\n",
       "       '/home/giles/Downloads/fastai_data/salt/train-128/7f3e8a8526.png',\n",
       "       '/home/giles/Downloads/fastai_data/salt/train-128/3fd0ef2d38.png',\n",
       "       '/home/giles/Downloads/fastai_data/salt/train-128/e060d5ca41.png',\n",
       "       '/home/giles/Downloads/fastai_data/salt/train-128/4210e9e5d3.png',\n",
       "       '/home/giles/Downloads/fastai_data/salt/train-128/8e48de3b3b.png',\n",
       "       '/home/giles/Downloads/fastai_data/salt/train-128/5ecf1f5cb4.png',\n",
       "       '/home/giles/Downloads/fastai_data/salt/train-128/74d7a9df8b.png',\n",
       "       '/home/giles/Downloads/fastai_data/salt/train-128/3276e900a7.png',\n",
       "       '/home/giles/Downloads/fastai_data/salt/train-128/a5005ea567.png',\n",
       "       '/home/giles/Downloads/fastai_data/salt/train-128/72c2499de9.png',\n",
       "       '/home/giles/Downloads/fastai_data/salt/train-128/cf11876547.png',\n",
       "       '/home/giles/Downloads/fastai_data/salt/train-128/3d6d400816.png',\n",
       "       '/home/giles/Downloads/fastai_data/salt/train-128/17dde2138e.png',\n",
       "       '/home/giles/Downloads/fastai_data/salt/train-128/bb697642ae.png',\n",
       "       '/home/giles/Downloads/fastai_data/salt/train-128/d606f4a578.png',\n",
       "       '/home/giles/Downloads/fastai_data/salt/train-128/96f26f6397.png',\n",
       "       '/home/giles/Downloads/fastai_data/salt/train-128/a93c251217.png',\n",
       "       '/home/giles/Downloads/fastai_data/salt/train-128/877d1a7ebe.png',\n",
       "       '/home/giles/Downloads/fastai_data/salt/train-128/25edb9edb3.png',\n",
       "       '/home/giles/Downloads/fastai_data/salt/train-128/08c2070b20.png',\n",
       "       '/home/giles/Downloads/fastai_data/salt/train-128/3f8634704b.png',\n",
       "       '/home/giles/Downloads/fastai_data/salt/train-128/13483cd62a.png',\n",
       "       '/home/giles/Downloads/fastai_data/salt/train-128/f87365827d.png',\n",
       "       '/home/giles/Downloads/fastai_data/salt/train-128/966fb0cdbb.png',\n",
       "       '/home/giles/Downloads/fastai_data/salt/train-128/5108785aaf.png',\n",
       "       '/home/giles/Downloads/fastai_data/salt/train-128/86bc03a8a6.png',\n",
       "       '/home/giles/Downloads/fastai_data/salt/train-128/d80ead8703.png',\n",
       "       '/home/giles/Downloads/fastai_data/salt/train-128/437fbb64d4.png',\n",
       "       '/home/giles/Downloads/fastai_data/salt/train-128/dd11ae96e3.png',\n",
       "       '/home/giles/Downloads/fastai_data/salt/train-128/2b55bdbda1.png',\n",
       "       '/home/giles/Downloads/fastai_data/salt/train-128/2bfa664017.png',\n",
       "       '/home/giles/Downloads/fastai_data/salt/train-128/bf00a0ab71.png',\n",
       "       '/home/giles/Downloads/fastai_data/salt/train-128/86fe531971.png',\n",
       "       '/home/giles/Downloads/fastai_data/salt/train-128/2af240d261.png',\n",
       "       '/home/giles/Downloads/fastai_data/salt/train-128/29162a3471.png',\n",
       "       '/home/giles/Downloads/fastai_data/salt/train-128/2eca5f70b1.png',\n",
       "       '/home/giles/Downloads/fastai_data/salt/train-128/5df9874c5b.png',\n",
       "       '/home/giles/Downloads/fastai_data/salt/train-128/3ad9500e43.png',\n",
       "       '/home/giles/Downloads/fastai_data/salt/train-128/c92c37ecd7.png',\n",
       "       '/home/giles/Downloads/fastai_data/salt/train-128/fdd73141d6.png',\n",
       "       '/home/giles/Downloads/fastai_data/salt/train-128/def16cd3d7.png',\n",
       "       '/home/giles/Downloads/fastai_data/salt/train-128/bea9b0571b.png',\n",
       "       '/home/giles/Downloads/fastai_data/salt/train-128/ef13247eed.png',\n",
       "       '/home/giles/Downloads/fastai_data/salt/train-128/3dc4b77bb5.png',\n",
       "       '/home/giles/Downloads/fastai_data/salt/train-128/da082ec985.png',\n",
       "       '/home/giles/Downloads/fastai_data/salt/train-128/47bd268dcd.png',\n",
       "       '/home/giles/Downloads/fastai_data/salt/train-128/b83bc9dfa7.png',\n",
       "       '/home/giles/Downloads/fastai_data/salt/train-128/a076699b79.png',\n",
       "       '/home/giles/Downloads/fastai_data/salt/train-128/13209940d7.png',\n",
       "       '/home/giles/Downloads/fastai_data/salt/train-128/6d03f91961.png',\n",
       "       '/home/giles/Downloads/fastai_data/salt/train-128/fff4eb4941.png',\n",
       "       '/home/giles/Downloads/fastai_data/salt/train-128/fbd61072f4.png',\n",
       "       '/home/giles/Downloads/fastai_data/salt/train-128/c37e74bffc.png',\n",
       "       '/home/giles/Downloads/fastai_data/salt/train-128/f724f78b1a.png',\n",
       "       '/home/giles/Downloads/fastai_data/salt/train-128/25a9f40814.png',\n",
       "       '/home/giles/Downloads/fastai_data/salt/train-128/60bbd166a4.png',\n",
       "       '/home/giles/Downloads/fastai_data/salt/train-128/7547289453.png',\n",
       "       '/home/giles/Downloads/fastai_data/salt/train-128/cadb46b378.png',\n",
       "       '/home/giles/Downloads/fastai_data/salt/train-128/8a1aed2c83.png',\n",
       "       '/home/giles/Downloads/fastai_data/salt/train-128/9bf8a38b92.png',\n",
       "       '/home/giles/Downloads/fastai_data/salt/train-128/2ce9c36a98.png',\n",
       "       '/home/giles/Downloads/fastai_data/salt/train-128/638d8572e9.png',\n",
       "       '/home/giles/Downloads/fastai_data/salt/train-128/7deaf30c4a.png',\n",
       "       '/home/giles/Downloads/fastai_data/salt/train-128/7e67ef84e1.png',\n",
       "       '/home/giles/Downloads/fastai_data/salt/train-128/75b4a808b3.png',\n",
       "       '/home/giles/Downloads/fastai_data/salt/train-128/9c4c524983.png',\n",
       "       '/home/giles/Downloads/fastai_data/salt/train-128/a8e5845bf9.png',\n",
       "       '/home/giles/Downloads/fastai_data/salt/train-128/a6ec5aa914.png',\n",
       "       '/home/giles/Downloads/fastai_data/salt/train-128/2444e83809.png',\n",
       "       '/home/giles/Downloads/fastai_data/salt/train-128/4a5595076f.png',\n",
       "       '/home/giles/Downloads/fastai_data/salt/train-128/b240778420.png',\n",
       "       '/home/giles/Downloads/fastai_data/salt/train-128/27f923aac9.png',\n",
       "       '/home/giles/Downloads/fastai_data/salt/train-128/fff2abcaf9.png',\n",
       "       '/home/giles/Downloads/fastai_data/salt/train-128/b521c9ddf3.png',\n",
       "       '/home/giles/Downloads/fastai_data/salt/train-128/2af3c055b2.png',\n",
       "       '/home/giles/Downloads/fastai_data/salt/train-128/12e94a5a08.png',\n",
       "       '/home/giles/Downloads/fastai_data/salt/train-128/790f497dc8.png',\n",
       "       '/home/giles/Downloads/fastai_data/salt/train-128/1414606ab4.png',\n",
       "       '/home/giles/Downloads/fastai_data/salt/train-128/81d37cb5fd.png',\n",
       "       '/home/giles/Downloads/fastai_data/salt/train-128/4702cdd4f0.png',\n",
       "       '/home/giles/Downloads/fastai_data/salt/train-128/a8aeef5395.png',\n",
       "       '/home/giles/Downloads/fastai_data/salt/train-128/fe9e558605.png',\n",
       "       '/home/giles/Downloads/fastai_data/salt/train-128/7f826d312e.png',\n",
       "       '/home/giles/Downloads/fastai_data/salt/train-128/61cfb43abf.png',\n",
       "       '/home/giles/Downloads/fastai_data/salt/train-128/d7cf3bf4e9.png',\n",
       "       '/home/giles/Downloads/fastai_data/salt/train-128/d7f48d294e.png',\n",
       "       '/home/giles/Downloads/fastai_data/salt/train-128/dd5a90cf89.png',\n",
       "       '/home/giles/Downloads/fastai_data/salt/train-128/740070f15a.png',\n",
       "       '/home/giles/Downloads/fastai_data/salt/train-128/9a9ff1beca.png',\n",
       "       '/home/giles/Downloads/fastai_data/salt/train-128/0eb52aa52a.png',\n",
       "       '/home/giles/Downloads/fastai_data/salt/train-128/aa21ba676c.png',\n",
       "       '/home/giles/Downloads/fastai_data/salt/train-128/04234be388.png',\n",
       "       '/home/giles/Downloads/fastai_data/salt/train-128/ec406285e8.png',\n",
       "       '/home/giles/Downloads/fastai_data/salt/train-128/7c6221dbb8.png',\n",
       "       '/home/giles/Downloads/fastai_data/salt/train-128/92d116836e.png',\n",
       "       '/home/giles/Downloads/fastai_data/salt/train-128/8c1d0929a2.png',\n",
       "       '/home/giles/Downloads/fastai_data/salt/train-128/e0d98e6fde.png',\n",
       "       '/home/giles/Downloads/fastai_data/salt/train-128/c100d07aa9.png',\n",
       "       '/home/giles/Downloads/fastai_data/salt/train-128/aedad85e8c.png',\n",
       "       '/home/giles/Downloads/fastai_data/salt/train-128/042c3d4e03.png',\n",
       "       '/home/giles/Downloads/fastai_data/salt/train-128/7ede03dede.png',\n",
       "       '/home/giles/Downloads/fastai_data/salt/train-128/df47f2e681.png',\n",
       "       '/home/giles/Downloads/fastai_data/salt/train-128/b70f0ab0c2.png',\n",
       "       '/home/giles/Downloads/fastai_data/salt/train-128/b1e590d1c9.png',\n",
       "       '/home/giles/Downloads/fastai_data/salt/train-128/980570ed7e.png',\n",
       "       '/home/giles/Downloads/fastai_data/salt/train-128/5d4dcb9d8b.png',\n",
       "       '/home/giles/Downloads/fastai_data/salt/train-128/26000ba320.png',\n",
       "       '/home/giles/Downloads/fastai_data/salt/train-128/af6fe9a9c8.png',\n",
       "       '/home/giles/Downloads/fastai_data/salt/train-128/981f73e811.png',\n",
       "       '/home/giles/Downloads/fastai_data/salt/train-128/b2f87059da.png',\n",
       "       '/home/giles/Downloads/fastai_data/salt/train-128/185172060e.png',\n",
       "       '/home/giles/Downloads/fastai_data/salt/train-128/b10fa280bf.png',\n",
       "       '/home/giles/Downloads/fastai_data/salt/train-128/ba67135a54.png',\n",
       "       '/home/giles/Downloads/fastai_data/salt/train-128/9b656c339a.png',\n",
       "       '/home/giles/Downloads/fastai_data/salt/train-128/5187e13789.png',\n",
       "       '/home/giles/Downloads/fastai_data/salt/train-128/96216dae3b.png',\n",
       "       '/home/giles/Downloads/fastai_data/salt/train-128/dfe111dace.png',\n",
       "       '/home/giles/Downloads/fastai_data/salt/train-128/691dc0bc42.png',\n",
       "       '/home/giles/Downloads/fastai_data/salt/train-128/93d21b7636.png',\n",
       "       '/home/giles/Downloads/fastai_data/salt/train-128/2ffe02e882.png',\n",
       "       '/home/giles/Downloads/fastai_data/salt/train-128/c137712b61.png',\n",
       "       '/home/giles/Downloads/fastai_data/salt/train-128/a6ba9b9f91.png',\n",
       "       '/home/giles/Downloads/fastai_data/salt/train-128/99ee31b5bc.png',\n",
       "       '/home/giles/Downloads/fastai_data/salt/train-128/782ae9b7e7.png',\n",
       "       '/home/giles/Downloads/fastai_data/salt/train-128/fc87224914.png',\n",
       "       '/home/giles/Downloads/fastai_data/salt/train-128/c4adb6e891.png',\n",
       "       '/home/giles/Downloads/fastai_data/salt/train-128/46386ca4a3.png',\n",
       "       '/home/giles/Downloads/fastai_data/salt/train-128/58777a8c79.png',\n",
       "       '/home/giles/Downloads/fastai_data/salt/train-128/2fbde8630d.png',\n",
       "       '/home/giles/Downloads/fastai_data/salt/train-128/387b6956c4.png',\n",
       "       '/home/giles/Downloads/fastai_data/salt/train-128/fcbc5cef9d.png',\n",
       "       '/home/giles/Downloads/fastai_data/salt/train-128/19d821e8e4.png',\n",
       "       '/home/giles/Downloads/fastai_data/salt/train-128/0fc5ad7e3b.png',\n",
       "       '/home/giles/Downloads/fastai_data/salt/train-128/61321814ce.png',\n",
       "       '/home/giles/Downloads/fastai_data/salt/train-128/fbfa863bd4.png',\n",
       "       '/home/giles/Downloads/fastai_data/salt/train-128/3320eb35e4.png',\n",
       "       '/home/giles/Downloads/fastai_data/salt/train-128/af171a3570.png',\n",
       "       '/home/giles/Downloads/fastai_data/salt/train-128/19902af6bd.png',\n",
       "       '/home/giles/Downloads/fastai_data/salt/train-128/851a37ac37.png',\n",
       "       '/home/giles/Downloads/fastai_data/salt/train-128/479cb24efb.png',\n",
       "       '/home/giles/Downloads/fastai_data/salt/train-128/44ccc2d846.png',\n",
       "       '/home/giles/Downloads/fastai_data/salt/train-128/aff8ae9d4d.png',\n",
       "       '/home/giles/Downloads/fastai_data/salt/train-128/9ba564058f.png',\n",
       "       '/home/giles/Downloads/fastai_data/salt/train-128/abb1521de8.png',\n",
       "       '/home/giles/Downloads/fastai_data/salt/train-128/aba57f0f2c.png',\n",
       "       '/home/giles/Downloads/fastai_data/salt/train-128/7845115d01.png',\n",
       "       '/home/giles/Downloads/fastai_data/salt/train-128/f5b2861c9b.png',\n",
       "       '/home/giles/Downloads/fastai_data/salt/train-128/fc250f574c.png',\n",
       "       '/home/giles/Downloads/fastai_data/salt/train-128/d47c78058a.png',\n",
       "       '/home/giles/Downloads/fastai_data/salt/train-128/96857148ca.png',\n",
       "       '/home/giles/Downloads/fastai_data/salt/train-128/dce4c70a99.png',\n",
       "       '/home/giles/Downloads/fastai_data/salt/train-128/7488e076ca.png',\n",
       "       '/home/giles/Downloads/fastai_data/salt/train-128/d4d964f62d.png',\n",
       "       '/home/giles/Downloads/fastai_data/salt/train-128/27ec51c877.png',\n",
       "       '/home/giles/Downloads/fastai_data/salt/train-128/eec3f628d6.png',\n",
       "       '/home/giles/Downloads/fastai_data/salt/train-128/432b8b6a71.png',\n",
       "       '/home/giles/Downloads/fastai_data/salt/train-128/168f625d62.png',\n",
       "       '/home/giles/Downloads/fastai_data/salt/train-128/fcce81906d.png',\n",
       "       '/home/giles/Downloads/fastai_data/salt/train-128/5bb976391e.png',\n",
       "       '/home/giles/Downloads/fastai_data/salt/train-128/6ecba60505.png',\n",
       "       '/home/giles/Downloads/fastai_data/salt/train-128/755c1e849f.png',\n",
       "       '/home/giles/Downloads/fastai_data/salt/train-128/4ebed82264.png',\n",
       "       '/home/giles/Downloads/fastai_data/salt/train-128/494daad56b.png',\n",
       "       '/home/giles/Downloads/fastai_data/salt/train-128/eec5e72dad.png',\n",
       "       '/home/giles/Downloads/fastai_data/salt/train-128/15d079a8e8.png',\n",
       "       '/home/giles/Downloads/fastai_data/salt/train-128/7d0b2f2046.png',\n",
       "       '/home/giles/Downloads/fastai_data/salt/train-128/a959b2372a.png',\n",
       "       '/home/giles/Downloads/fastai_data/salt/train-128/7af5b00299.png',\n",
       "       '/home/giles/Downloads/fastai_data/salt/train-128/a531b78648.png',\n",
       "       '/home/giles/Downloads/fastai_data/salt/train-128/1a7f8bd454.png',\n",
       "       '/home/giles/Downloads/fastai_data/salt/train-128/5e09ef27a6.png',\n",
       "       '/home/giles/Downloads/fastai_data/salt/train-128/9f3b8d0186.png',\n",
       "       '/home/giles/Downloads/fastai_data/salt/train-128/d204ea9f09.png',\n",
       "       '/home/giles/Downloads/fastai_data/salt/train-128/d967181724.png',\n",
       "       '/home/giles/Downloads/fastai_data/salt/train-128/6a3d92ce59.png',\n",
       "       '/home/giles/Downloads/fastai_data/salt/train-128/d14db20055.png',\n",
       "       '/home/giles/Downloads/fastai_data/salt/train-128/f2d668f7e7.png',\n",
       "       '/home/giles/Downloads/fastai_data/salt/train-128/ef03d3e2fa.png',\n",
       "       '/home/giles/Downloads/fastai_data/salt/train-128/0429d9759b.png',\n",
       "       '/home/giles/Downloads/fastai_data/salt/train-128/8db9dc4a62.png',\n",
       "       '/home/giles/Downloads/fastai_data/salt/train-128/83bb4578eb.png',\n",
       "       '/home/giles/Downloads/fastai_data/salt/train-128/b94a5b0bda.png',\n",
       "       '/home/giles/Downloads/fastai_data/salt/train-128/76ba896225.png',\n",
       "       '/home/giles/Downloads/fastai_data/salt/train-128/1c9fa3dff4.png',\n",
       "       '/home/giles/Downloads/fastai_data/salt/train-128/8d141a0b7a.png',\n",
       "       '/home/giles/Downloads/fastai_data/salt/train-128/db75c6831e.png',\n",
       "       '/home/giles/Downloads/fastai_data/salt/train-128/501c68e571.png',\n",
       "       '/home/giles/Downloads/fastai_data/salt/train-128/ce0e9def63.png',\n",
       "       '/home/giles/Downloads/fastai_data/salt/train-128/ea3cdbd7cd.png',\n",
       "       '/home/giles/Downloads/fastai_data/salt/train-128/a4ae0c0e35.png',\n",
       "       '/home/giles/Downloads/fastai_data/salt/train-128/3b9586e2ff.png',\n",
       "       '/home/giles/Downloads/fastai_data/salt/train-128/d6471dc0a3.png',\n",
       "       '/home/giles/Downloads/fastai_data/salt/train-128/8e7324c8ed.png',\n",
       "       '/home/giles/Downloads/fastai_data/salt/train-128/d2e14828d5.png',\n",
       "       '/home/giles/Downloads/fastai_data/salt/train-128/b9bb1b7b3f.png'], dtype='<U63')"
      ]
     },
     "execution_count": 191,
     "metadata": {},
     "output_type": "execute_result"
    }
   ],
   "source": [
    "val_x"
   ]
  },
  {
   "cell_type": "code",
   "execution_count": 192,
   "metadata": {},
   "outputs": [],
   "source": [
    "x_names_orig = np.array(glob(f'{PATH}/train/*'))\n",
    "y_names_orig = np.array(glob(f'{PATH}/train_masks/*'))"
   ]
  },
  {
   "cell_type": "code",
   "execution_count": 193,
   "metadata": {},
   "outputs": [],
   "source": [
    "val_idxs_orig = list(range(800))\n",
    "((val_x_orig,trn_x_orig),(val_y_orig,trn_y_orig)) = split_by_idx(val_idxs_orig, x_names_orig, y_names_orig)"
   ]
  },
  {
   "cell_type": "code",
   "execution_count": 194,
   "metadata": {},
   "outputs": [
    {
     "data": {
      "text/plain": [
       "array(['/home/giles/Downloads/fastai_data/salt/train/d2b40a2781.png',\n",
       "       '/home/giles/Downloads/fastai_data/salt/train/89dba191b1.png',\n",
       "       '/home/giles/Downloads/fastai_data/salt/train/e6ac2a35cd.png',\n",
       "       '/home/giles/Downloads/fastai_data/salt/train/236a5cc090.png',\n",
       "       '/home/giles/Downloads/fastai_data/salt/train/f30e47cb36.png',\n",
       "       '/home/giles/Downloads/fastai_data/salt/train/e0bde1cf11.png',\n",
       "       '/home/giles/Downloads/fastai_data/salt/train/ad16edc8be.png',\n",
       "       '/home/giles/Downloads/fastai_data/salt/train/fa92bed2b1.png',\n",
       "       '/home/giles/Downloads/fastai_data/salt/train/6d46f994ac.png',\n",
       "       '/home/giles/Downloads/fastai_data/salt/train/eabed5b2b4.png',\n",
       "       '/home/giles/Downloads/fastai_data/salt/train/1cad8c327b.png',\n",
       "       '/home/giles/Downloads/fastai_data/salt/train/2fe4adfd48.png',\n",
       "       '/home/giles/Downloads/fastai_data/salt/train/24d67576d0.png',\n",
       "       '/home/giles/Downloads/fastai_data/salt/train/60b3d0d613.png',\n",
       "       '/home/giles/Downloads/fastai_data/salt/train/c32752c00f.png',\n",
       "       '/home/giles/Downloads/fastai_data/salt/train/0ab5e14937.png',\n",
       "       '/home/giles/Downloads/fastai_data/salt/train/6738d474a3.png',\n",
       "       '/home/giles/Downloads/fastai_data/salt/train/9d98768f19.png',\n",
       "       '/home/giles/Downloads/fastai_data/salt/train/b5893fc541.png',\n",
       "       '/home/giles/Downloads/fastai_data/salt/train/e337021e6a.png',\n",
       "       '/home/giles/Downloads/fastai_data/salt/train/7f0bdb5e31.png',\n",
       "       '/home/giles/Downloads/fastai_data/salt/train/ff9b7d0d2e.png',\n",
       "       '/home/giles/Downloads/fastai_data/salt/train/25bd98aec3.png',\n",
       "       '/home/giles/Downloads/fastai_data/salt/train/24bf79cd1e.png',\n",
       "       '/home/giles/Downloads/fastai_data/salt/train/d66e51d456.png',\n",
       "       '/home/giles/Downloads/fastai_data/salt/train/dae1555fbf.png',\n",
       "       '/home/giles/Downloads/fastai_data/salt/train/9a71e8563b.png',\n",
       "       '/home/giles/Downloads/fastai_data/salt/train/eb4efc4c39.png',\n",
       "       '/home/giles/Downloads/fastai_data/salt/train/657f2c34f7.png',\n",
       "       '/home/giles/Downloads/fastai_data/salt/train/0ce8a6ae62.png',\n",
       "       '/home/giles/Downloads/fastai_data/salt/train/8d89d465fc.png',\n",
       "       '/home/giles/Downloads/fastai_data/salt/train/4bb8260218.png',\n",
       "       '/home/giles/Downloads/fastai_data/salt/train/921b60e76d.png',\n",
       "       '/home/giles/Downloads/fastai_data/salt/train/f5c2e66754.png',\n",
       "       '/home/giles/Downloads/fastai_data/salt/train/7eb42fe5ec.png',\n",
       "       '/home/giles/Downloads/fastai_data/salt/train/fea1ff8505.png',\n",
       "       '/home/giles/Downloads/fastai_data/salt/train/2fe0292eea.png',\n",
       "       '/home/giles/Downloads/fastai_data/salt/train/c5493cc7b0.png',\n",
       "       '/home/giles/Downloads/fastai_data/salt/train/8b44342fd9.png',\n",
       "       '/home/giles/Downloads/fastai_data/salt/train/badb3ea766.png',\n",
       "       '/home/giles/Downloads/fastai_data/salt/train/730eee262c.png',\n",
       "       '/home/giles/Downloads/fastai_data/salt/train/46673b0e2d.png',\n",
       "       '/home/giles/Downloads/fastai_data/salt/train/21df07989f.png',\n",
       "       '/home/giles/Downloads/fastai_data/salt/train/7fc1ce1cb4.png',\n",
       "       '/home/giles/Downloads/fastai_data/salt/train/a4e90eef39.png',\n",
       "       '/home/giles/Downloads/fastai_data/salt/train/312c4ce754.png',\n",
       "       '/home/giles/Downloads/fastai_data/salt/train/e8b730fe92.png',\n",
       "       '/home/giles/Downloads/fastai_data/salt/train/499560e566.png',\n",
       "       '/home/giles/Downloads/fastai_data/salt/train/f62410bce9.png',\n",
       "       '/home/giles/Downloads/fastai_data/salt/train/2b76b47947.png',\n",
       "       '/home/giles/Downloads/fastai_data/salt/train/39400e0443.png',\n",
       "       '/home/giles/Downloads/fastai_data/salt/train/f87154ea7b.png',\n",
       "       '/home/giles/Downloads/fastai_data/salt/train/40aaac97b1.png',\n",
       "       '/home/giles/Downloads/fastai_data/salt/train/0589f557d7.png',\n",
       "       '/home/giles/Downloads/fastai_data/salt/train/15d76f1672.png',\n",
       "       '/home/giles/Downloads/fastai_data/salt/train/7a0c8915be.png',\n",
       "       '/home/giles/Downloads/fastai_data/salt/train/de261976e6.png',\n",
       "       '/home/giles/Downloads/fastai_data/salt/train/e8d6412ed8.png',\n",
       "       '/home/giles/Downloads/fastai_data/salt/train/c82dabf9b1.png',\n",
       "       '/home/giles/Downloads/fastai_data/salt/train/a1e32a6815.png',\n",
       "       '/home/giles/Downloads/fastai_data/salt/train/4a12baccc4.png',\n",
       "       '/home/giles/Downloads/fastai_data/salt/train/59597a8431.png',\n",
       "       '/home/giles/Downloads/fastai_data/salt/train/54cfa66336.png',\n",
       "       '/home/giles/Downloads/fastai_data/salt/train/6edb010212.png',\n",
       "       '/home/giles/Downloads/fastai_data/salt/train/de7202d286.png',\n",
       "       '/home/giles/Downloads/fastai_data/salt/train/d567ba2b49.png',\n",
       "       '/home/giles/Downloads/fastai_data/salt/train/43a1dbb062.png',\n",
       "       '/home/giles/Downloads/fastai_data/salt/train/617c746fca.png',\n",
       "       '/home/giles/Downloads/fastai_data/salt/train/ce31ab9b97.png',\n",
       "       '/home/giles/Downloads/fastai_data/salt/train/4b2af55ae6.png',\n",
       "       '/home/giles/Downloads/fastai_data/salt/train/340c808130.png',\n",
       "       '/home/giles/Downloads/fastai_data/salt/train/c8404c2d4f.png',\n",
       "       '/home/giles/Downloads/fastai_data/salt/train/e4be64c1fb.png',\n",
       "       '/home/giles/Downloads/fastai_data/salt/train/e37b8208fa.png',\n",
       "       '/home/giles/Downloads/fastai_data/salt/train/5c33b65396.png',\n",
       "       '/home/giles/Downloads/fastai_data/salt/train/2fe186a2c6.png',\n",
       "       '/home/giles/Downloads/fastai_data/salt/train/d8b2dc2e8a.png',\n",
       "       '/home/giles/Downloads/fastai_data/salt/train/776bdf9043.png',\n",
       "       '/home/giles/Downloads/fastai_data/salt/train/590e6bdbef.png',\n",
       "       '/home/giles/Downloads/fastai_data/salt/train/217eeca27e.png',\n",
       "       '/home/giles/Downloads/fastai_data/salt/train/37251064bd.png',\n",
       "       '/home/giles/Downloads/fastai_data/salt/train/32599d97bb.png',\n",
       "       '/home/giles/Downloads/fastai_data/salt/train/7568a9474e.png',\n",
       "       '/home/giles/Downloads/fastai_data/salt/train/f9ef613aec.png',\n",
       "       '/home/giles/Downloads/fastai_data/salt/train/6460ce2df7.png',\n",
       "       '/home/giles/Downloads/fastai_data/salt/train/76b4df03dd.png',\n",
       "       '/home/giles/Downloads/fastai_data/salt/train/29beb70925.png',\n",
       "       '/home/giles/Downloads/fastai_data/salt/train/2615b5210d.png',\n",
       "       '/home/giles/Downloads/fastai_data/salt/train/66e922c8d6.png',\n",
       "       '/home/giles/Downloads/fastai_data/salt/train/9eb4a10b98.png',\n",
       "       '/home/giles/Downloads/fastai_data/salt/train/e86361f5d1.png',\n",
       "       '/home/giles/Downloads/fastai_data/salt/train/c023a62b96.png',\n",
       "       '/home/giles/Downloads/fastai_data/salt/train/dae96d99b2.png',\n",
       "       '/home/giles/Downloads/fastai_data/salt/train/f0ea2421f0.png',\n",
       "       '/home/giles/Downloads/fastai_data/salt/train/f85054273a.png',\n",
       "       '/home/giles/Downloads/fastai_data/salt/train/d2522cfc93.png',\n",
       "       '/home/giles/Downloads/fastai_data/salt/train/9ce55dc2c9.png',\n",
       "       '/home/giles/Downloads/fastai_data/salt/train/30307d5103.png',\n",
       "       '/home/giles/Downloads/fastai_data/salt/train/021494f3aa.png',\n",
       "       '/home/giles/Downloads/fastai_data/salt/train/de15d35ebc.png',\n",
       "       '/home/giles/Downloads/fastai_data/salt/train/d83a74a082.png',\n",
       "       '/home/giles/Downloads/fastai_data/salt/train/173dd2f369.png',\n",
       "       '/home/giles/Downloads/fastai_data/salt/train/28ad4e60c5.png',\n",
       "       '/home/giles/Downloads/fastai_data/salt/train/0461a2fb30.png',\n",
       "       '/home/giles/Downloads/fastai_data/salt/train/c112748161.png',\n",
       "       '/home/giles/Downloads/fastai_data/salt/train/1a288f27bf.png',\n",
       "       '/home/giles/Downloads/fastai_data/salt/train/2fb152d905.png',\n",
       "       '/home/giles/Downloads/fastai_data/salt/train/fd51e63c83.png',\n",
       "       '/home/giles/Downloads/fastai_data/salt/train/3ddb2ff7a4.png',\n",
       "       '/home/giles/Downloads/fastai_data/salt/train/ff1e8ed948.png',\n",
       "       '/home/giles/Downloads/fastai_data/salt/train/8b5757d8ee.png',\n",
       "       '/home/giles/Downloads/fastai_data/salt/train/e8cf12563d.png',\n",
       "       '/home/giles/Downloads/fastai_data/salt/train/c4b05c2eaa.png',\n",
       "       '/home/giles/Downloads/fastai_data/salt/train/057eae4f34.png',\n",
       "       '/home/giles/Downloads/fastai_data/salt/train/c9da9c3d42.png',\n",
       "       '/home/giles/Downloads/fastai_data/salt/train/d99612d949.png',\n",
       "       '/home/giles/Downloads/fastai_data/salt/train/bc3156b1e4.png',\n",
       "       '/home/giles/Downloads/fastai_data/salt/train/6994342067.png',\n",
       "       '/home/giles/Downloads/fastai_data/salt/train/7b078e7517.png',\n",
       "       '/home/giles/Downloads/fastai_data/salt/train/6ab003835b.png',\n",
       "       '/home/giles/Downloads/fastai_data/salt/train/5ffd928d1e.png',\n",
       "       '/home/giles/Downloads/fastai_data/salt/train/bb455284f1.png',\n",
       "       '/home/giles/Downloads/fastai_data/salt/train/12c92c9f70.png',\n",
       "       '/home/giles/Downloads/fastai_data/salt/train/e1984bebe3.png',\n",
       "       '/home/giles/Downloads/fastai_data/salt/train/16017c8e02.png',\n",
       "       '/home/giles/Downloads/fastai_data/salt/train/681ee85a7b.png',\n",
       "       '/home/giles/Downloads/fastai_data/salt/train/3cc59342bd.png',\n",
       "       '/home/giles/Downloads/fastai_data/salt/train/b60fbb288b.png',\n",
       "       '/home/giles/Downloads/fastai_data/salt/train/ba6970504c.png',\n",
       "       '/home/giles/Downloads/fastai_data/salt/train/cb7cd324a5.png',\n",
       "       '/home/giles/Downloads/fastai_data/salt/train/99f52af0ea.png',\n",
       "       '/home/giles/Downloads/fastai_data/salt/train/5991bd3f1b.png',\n",
       "       '/home/giles/Downloads/fastai_data/salt/train/cc15d94784.png',\n",
       "       '/home/giles/Downloads/fastai_data/salt/train/c27409a765.png',\n",
       "       '/home/giles/Downloads/fastai_data/salt/train/25845ace3d.png',\n",
       "       '/home/giles/Downloads/fastai_data/salt/train/b5bdff9392.png',\n",
       "       '/home/giles/Downloads/fastai_data/salt/train/65fe1a0efc.png',\n",
       "       '/home/giles/Downloads/fastai_data/salt/train/00950d1627.png',\n",
       "       '/home/giles/Downloads/fastai_data/salt/train/b8a9602e21.png',\n",
       "       '/home/giles/Downloads/fastai_data/salt/train/ebe64e1d15.png',\n",
       "       '/home/giles/Downloads/fastai_data/salt/train/0401ae15d3.png',\n",
       "       '/home/giles/Downloads/fastai_data/salt/train/edf1e6ac00.png',\n",
       "       '/home/giles/Downloads/fastai_data/salt/train/cd2046479c.png',\n",
       "       '/home/giles/Downloads/fastai_data/salt/train/a4442fef48.png',\n",
       "       '/home/giles/Downloads/fastai_data/salt/train/4ad8a63538.png',\n",
       "       '/home/giles/Downloads/fastai_data/salt/train/dc0119712d.png',\n",
       "       '/home/giles/Downloads/fastai_data/salt/train/2424f4afc7.png',\n",
       "       '/home/giles/Downloads/fastai_data/salt/train/0fd38464c3.png',\n",
       "       '/home/giles/Downloads/fastai_data/salt/train/5ec4b8eff9.png',\n",
       "       '/home/giles/Downloads/fastai_data/salt/train/d765e53b37.png',\n",
       "       '/home/giles/Downloads/fastai_data/salt/train/cffbfab33b.png',\n",
       "       '/home/giles/Downloads/fastai_data/salt/train/e927f91b12.png',\n",
       "       '/home/giles/Downloads/fastai_data/salt/train/72544ea5b6.png',\n",
       "       '/home/giles/Downloads/fastai_data/salt/train/84e540208f.png',\n",
       "       '/home/giles/Downloads/fastai_data/salt/train/f9b7196dfc.png',\n",
       "       '/home/giles/Downloads/fastai_data/salt/train/fba91bfec8.png',\n",
       "       '/home/giles/Downloads/fastai_data/salt/train/93f7759d52.png',\n",
       "       '/home/giles/Downloads/fastai_data/salt/train/0c6ec35477.png',\n",
       "       '/home/giles/Downloads/fastai_data/salt/train/a86acaf330.png',\n",
       "       '/home/giles/Downloads/fastai_data/salt/train/e360f895de.png',\n",
       "       '/home/giles/Downloads/fastai_data/salt/train/e27400528c.png',\n",
       "       '/home/giles/Downloads/fastai_data/salt/train/75fb579aa2.png',\n",
       "       '/home/giles/Downloads/fastai_data/salt/train/0115703825.png',\n",
       "       '/home/giles/Downloads/fastai_data/salt/train/de39c2b892.png',\n",
       "       '/home/giles/Downloads/fastai_data/salt/train/e05db130be.png',\n",
       "       '/home/giles/Downloads/fastai_data/salt/train/a2a012f128.png',\n",
       "       '/home/giles/Downloads/fastai_data/salt/train/581e7f38d7.png',\n",
       "       '/home/giles/Downloads/fastai_data/salt/train/07e08eee37.png',\n",
       "       '/home/giles/Downloads/fastai_data/salt/train/6abe55deaf.png',\n",
       "       '/home/giles/Downloads/fastai_data/salt/train/58de316918.png',\n",
       "       '/home/giles/Downloads/fastai_data/salt/train/992572448c.png',\n",
       "       '/home/giles/Downloads/fastai_data/salt/train/2a9190ed84.png',\n",
       "       '/home/giles/Downloads/fastai_data/salt/train/46bec86213.png',\n",
       "       '/home/giles/Downloads/fastai_data/salt/train/f78674d646.png',\n",
       "       '/home/giles/Downloads/fastai_data/salt/train/c2ca0ed857.png',\n",
       "       '/home/giles/Downloads/fastai_data/salt/train/7633c6bb70.png',\n",
       "       '/home/giles/Downloads/fastai_data/salt/train/174ebb49df.png',\n",
       "       '/home/giles/Downloads/fastai_data/salt/train/023d486fba.png',\n",
       "       '/home/giles/Downloads/fastai_data/salt/train/571e63d0bc.png',\n",
       "       '/home/giles/Downloads/fastai_data/salt/train/32f1039c61.png',\n",
       "       '/home/giles/Downloads/fastai_data/salt/train/3dc8ca137c.png',\n",
       "       '/home/giles/Downloads/fastai_data/salt/train/875dda3975.png',\n",
       "       '/home/giles/Downloads/fastai_data/salt/train/d583d291ea.png',\n",
       "       '/home/giles/Downloads/fastai_data/salt/train/83be4b6836.png',\n",
       "       '/home/giles/Downloads/fastai_data/salt/train/2f917b1124.png',\n",
       "       '/home/giles/Downloads/fastai_data/salt/train/c4a681819d.png',\n",
       "       '/home/giles/Downloads/fastai_data/salt/train/9492db510d.png',\n",
       "       '/home/giles/Downloads/fastai_data/salt/train/a8bfe7072c.png',\n",
       "       '/home/giles/Downloads/fastai_data/salt/train/393f2db0b0.png',\n",
       "       '/home/giles/Downloads/fastai_data/salt/train/10a1a5b78f.png',\n",
       "       '/home/giles/Downloads/fastai_data/salt/train/53c79255ba.png',\n",
       "       '/home/giles/Downloads/fastai_data/salt/train/7ab70da99b.png',\n",
       "       '/home/giles/Downloads/fastai_data/salt/train/0ec68b2e42.png',\n",
       "       '/home/giles/Downloads/fastai_data/salt/train/ce1f9711bc.png',\n",
       "       '/home/giles/Downloads/fastai_data/salt/train/4eccb0cb9d.png',\n",
       "       '/home/giles/Downloads/fastai_data/salt/train/d6b87a521f.png',\n",
       "       '/home/giles/Downloads/fastai_data/salt/train/d1f7d2876b.png',\n",
       "       '/home/giles/Downloads/fastai_data/salt/train/1b71d67404.png',\n",
       "       '/home/giles/Downloads/fastai_data/salt/train/190ea39ec4.png',\n",
       "       '/home/giles/Downloads/fastai_data/salt/train/e51bea30d0.png',\n",
       "       '/home/giles/Downloads/fastai_data/salt/train/aa791ce59a.png',\n",
       "       '/home/giles/Downloads/fastai_data/salt/train/116bd22fd0.png',\n",
       "       '/home/giles/Downloads/fastai_data/salt/train/02117a400e.png',\n",
       "       '/home/giles/Downloads/fastai_data/salt/train/044106f759.png',\n",
       "       '/home/giles/Downloads/fastai_data/salt/train/a9fd8e2a06.png',\n",
       "       '/home/giles/Downloads/fastai_data/salt/train/fbc9a1149e.png',\n",
       "       '/home/giles/Downloads/fastai_data/salt/train/24f27c4087.png',\n",
       "       '/home/giles/Downloads/fastai_data/salt/train/32f4fd66ae.png',\n",
       "       '/home/giles/Downloads/fastai_data/salt/train/5f48c8c123.png',\n",
       "       '/home/giles/Downloads/fastai_data/salt/train/a774562f5e.png',\n",
       "       '/home/giles/Downloads/fastai_data/salt/train/74f00bb214.png',\n",
       "       '/home/giles/Downloads/fastai_data/salt/train/eeecc7ab39.png',\n",
       "       '/home/giles/Downloads/fastai_data/salt/train/3072ae3119.png',\n",
       "       '/home/giles/Downloads/fastai_data/salt/train/78f17697f2.png',\n",
       "       '/home/giles/Downloads/fastai_data/salt/train/963189b39c.png',\n",
       "       '/home/giles/Downloads/fastai_data/salt/train/640ceb328a.png',\n",
       "       '/home/giles/Downloads/fastai_data/salt/train/6ebb6826bd.png',\n",
       "       '/home/giles/Downloads/fastai_data/salt/train/01c2045d03.png',\n",
       "       '/home/giles/Downloads/fastai_data/salt/train/5489a9e706.png',\n",
       "       '/home/giles/Downloads/fastai_data/salt/train/20b26a6ea7.png',\n",
       "       '/home/giles/Downloads/fastai_data/salt/train/3cf0203cfb.png',\n",
       "       '/home/giles/Downloads/fastai_data/salt/train/8620f40403.png',\n",
       "       '/home/giles/Downloads/fastai_data/salt/train/d390b1cbef.png',\n",
       "       '/home/giles/Downloads/fastai_data/salt/train/6c45d80d1e.png',\n",
       "       '/home/giles/Downloads/fastai_data/salt/train/7469baeb8d.png',\n",
       "       '/home/giles/Downloads/fastai_data/salt/train/5edb37f5a8.png',\n",
       "       '/home/giles/Downloads/fastai_data/salt/train/8ce1df1a6a.png',\n",
       "       '/home/giles/Downloads/fastai_data/salt/train/e3755d5769.png',\n",
       "       '/home/giles/Downloads/fastai_data/salt/train/f21593cfa8.png',\n",
       "       '/home/giles/Downloads/fastai_data/salt/train/6f79e6d54b.png',\n",
       "       '/home/giles/Downloads/fastai_data/salt/train/d31e3fbfdc.png',\n",
       "       '/home/giles/Downloads/fastai_data/salt/train/2b30313d2c.png',\n",
       "       '/home/giles/Downloads/fastai_data/salt/train/35ba6f2faf.png',\n",
       "       '/home/giles/Downloads/fastai_data/salt/train/a56ff4758a.png',\n",
       "       '/home/giles/Downloads/fastai_data/salt/train/a88dd59036.png',\n",
       "       '/home/giles/Downloads/fastai_data/salt/train/7c61d788af.png',\n",
       "       '/home/giles/Downloads/fastai_data/salt/train/20c99dee06.png',\n",
       "       '/home/giles/Downloads/fastai_data/salt/train/b2c6b8cf57.png',\n",
       "       '/home/giles/Downloads/fastai_data/salt/train/380ff30e30.png',\n",
       "       '/home/giles/Downloads/fastai_data/salt/train/fb81781b44.png',\n",
       "       '/home/giles/Downloads/fastai_data/salt/train/7ed79f8f56.png',\n",
       "       '/home/giles/Downloads/fastai_data/salt/train/575d24d81d.png',\n",
       "       '/home/giles/Downloads/fastai_data/salt/train/212ba67b51.png',\n",
       "       '/home/giles/Downloads/fastai_data/salt/train/49f22705ea.png',\n",
       "       '/home/giles/Downloads/fastai_data/salt/train/258a5db63e.png',\n",
       "       '/home/giles/Downloads/fastai_data/salt/train/6d55cabc8d.png',\n",
       "       '/home/giles/Downloads/fastai_data/salt/train/18fc51d517.png',\n",
       "       '/home/giles/Downloads/fastai_data/salt/train/553733b17b.png',\n",
       "       '/home/giles/Downloads/fastai_data/salt/train/923249032c.png',\n",
       "       '/home/giles/Downloads/fastai_data/salt/train/356fa48ac4.png',\n",
       "       '/home/giles/Downloads/fastai_data/salt/train/1efe1909ed.png',\n",
       "       '/home/giles/Downloads/fastai_data/salt/train/b76760a4a1.png',\n",
       "       '/home/giles/Downloads/fastai_data/salt/train/2eae73b03a.png',\n",
       "       '/home/giles/Downloads/fastai_data/salt/train/97adf32d4d.png',\n",
       "       '/home/giles/Downloads/fastai_data/salt/train/bbfb2201ce.png',\n",
       "       '/home/giles/Downloads/fastai_data/salt/train/b33b1f9db6.png',\n",
       "       '/home/giles/Downloads/fastai_data/salt/train/16e308dbc3.png',\n",
       "       '/home/giles/Downloads/fastai_data/salt/train/0f7aa746d6.png',\n",
       "       '/home/giles/Downloads/fastai_data/salt/train/1313dbf1d7.png',\n",
       "       '/home/giles/Downloads/fastai_data/salt/train/b8b3f26ad4.png',\n",
       "       '/home/giles/Downloads/fastai_data/salt/train/87c6bf0012.png',\n",
       "       '/home/giles/Downloads/fastai_data/salt/train/e5df7166bc.png',\n",
       "       '/home/giles/Downloads/fastai_data/salt/train/70db04a203.png',\n",
       "       '/home/giles/Downloads/fastai_data/salt/train/0f02cec809.png',\n",
       "       '/home/giles/Downloads/fastai_data/salt/train/fb5adc8df0.png',\n",
       "       '/home/giles/Downloads/fastai_data/salt/train/de95e861ac.png',\n",
       "       '/home/giles/Downloads/fastai_data/salt/train/abe74273c8.png',\n",
       "       '/home/giles/Downloads/fastai_data/salt/train/5a6fa22207.png',\n",
       "       '/home/giles/Downloads/fastai_data/salt/train/5fd2a3ef64.png',\n",
       "       '/home/giles/Downloads/fastai_data/salt/train/63532a858b.png',\n",
       "       '/home/giles/Downloads/fastai_data/salt/train/e799fcac15.png',\n",
       "       '/home/giles/Downloads/fastai_data/salt/train/13adf02399.png',\n",
       "       '/home/giles/Downloads/fastai_data/salt/train/802df9bb5e.png',\n",
       "       '/home/giles/Downloads/fastai_data/salt/train/6545c6235b.png',\n",
       "       '/home/giles/Downloads/fastai_data/salt/train/75e041fbd8.png',\n",
       "       '/home/giles/Downloads/fastai_data/salt/train/bfc47bbe13.png',\n",
       "       '/home/giles/Downloads/fastai_data/salt/train/6db821bf5f.png',\n",
       "       '/home/giles/Downloads/fastai_data/salt/train/2bc8a3db3c.png',\n",
       "       '/home/giles/Downloads/fastai_data/salt/train/1c02222ef8.png',\n",
       "       '/home/giles/Downloads/fastai_data/salt/train/f7e855fc40.png',\n",
       "       '/home/giles/Downloads/fastai_data/salt/train/53de66df2a.png',\n",
       "       '/home/giles/Downloads/fastai_data/salt/train/ebdbbb52b5.png',\n",
       "       '/home/giles/Downloads/fastai_data/salt/train/c02071548b.png',\n",
       "       '/home/giles/Downloads/fastai_data/salt/train/00a3af90ab.png',\n",
       "       '/home/giles/Downloads/fastai_data/salt/train/cb6c6c15ce.png',\n",
       "       '/home/giles/Downloads/fastai_data/salt/train/cc216a861c.png',\n",
       "       '/home/giles/Downloads/fastai_data/salt/train/3984ed8d4e.png',\n",
       "       '/home/giles/Downloads/fastai_data/salt/train/50b3aef4c4.png',\n",
       "       '/home/giles/Downloads/fastai_data/salt/train/4a39459597.png',\n",
       "       '/home/giles/Downloads/fastai_data/salt/train/331ec135dd.png',\n",
       "       '/home/giles/Downloads/fastai_data/salt/train/b0e479668d.png',\n",
       "       '/home/giles/Downloads/fastai_data/salt/train/93f8f9e663.png',\n",
       "       '/home/giles/Downloads/fastai_data/salt/train/91127f8cc2.png',\n",
       "       '/home/giles/Downloads/fastai_data/salt/train/8db0a68a4c.png',\n",
       "       '/home/giles/Downloads/fastai_data/salt/train/48bb098115.png',\n",
       "       '/home/giles/Downloads/fastai_data/salt/train/b5e1371b3b.png',\n",
       "       '/home/giles/Downloads/fastai_data/salt/train/e437c3912d.png',\n",
       "       '/home/giles/Downloads/fastai_data/salt/train/368767c9fd.png',\n",
       "       '/home/giles/Downloads/fastai_data/salt/train/ce9c3510a8.png',\n",
       "       '/home/giles/Downloads/fastai_data/salt/train/f44f67efae.png',\n",
       "       '/home/giles/Downloads/fastai_data/salt/train/62aad7556c.png',\n",
       "       '/home/giles/Downloads/fastai_data/salt/train/cb974e60ca.png',\n",
       "       '/home/giles/Downloads/fastai_data/salt/train/b8dea42e1a.png',\n",
       "       '/home/giles/Downloads/fastai_data/salt/train/cd249859fa.png',\n",
       "       '/home/giles/Downloads/fastai_data/salt/train/7796858a9b.png',\n",
       "       '/home/giles/Downloads/fastai_data/salt/train/3862950849.png',\n",
       "       '/home/giles/Downloads/fastai_data/salt/train/ae51614513.png',\n",
       "       '/home/giles/Downloads/fastai_data/salt/train/c1c6a1ebad.png',\n",
       "       '/home/giles/Downloads/fastai_data/salt/train/03be56aa9a.png',\n",
       "       '/home/giles/Downloads/fastai_data/salt/train/418a13df5c.png',\n",
       "       '/home/giles/Downloads/fastai_data/salt/train/22fdf96a54.png',\n",
       "       '/home/giles/Downloads/fastai_data/salt/train/ae6ea6e613.png',\n",
       "       '/home/giles/Downloads/fastai_data/salt/train/fa59461848.png',\n",
       "       '/home/giles/Downloads/fastai_data/salt/train/ee5c6d6639.png',\n",
       "       '/home/giles/Downloads/fastai_data/salt/train/8e13060816.png',\n",
       "       '/home/giles/Downloads/fastai_data/salt/train/e12cf83477.png',\n",
       "       '/home/giles/Downloads/fastai_data/salt/train/12a953a079.png',\n",
       "       '/home/giles/Downloads/fastai_data/salt/train/1ca865b041.png',\n",
       "       '/home/giles/Downloads/fastai_data/salt/train/1621c14879.png',\n",
       "       '/home/giles/Downloads/fastai_data/salt/train/21d01a8e82.png',\n",
       "       '/home/giles/Downloads/fastai_data/salt/train/ebe8198105.png',\n",
       "       '/home/giles/Downloads/fastai_data/salt/train/7f0ee9c30a.png',\n",
       "       '/home/giles/Downloads/fastai_data/salt/train/128f3b0e36.png',\n",
       "       '/home/giles/Downloads/fastai_data/salt/train/9466e21e0d.png',\n",
       "       '/home/giles/Downloads/fastai_data/salt/train/b8c3ca0fab.png',\n",
       "       '/home/giles/Downloads/fastai_data/salt/train/5cada3d3f1.png',\n",
       "       '/home/giles/Downloads/fastai_data/salt/train/6e3bb2a882.png',\n",
       "       '/home/giles/Downloads/fastai_data/salt/train/ec649a86b2.png',\n",
       "       '/home/giles/Downloads/fastai_data/salt/train/e34c1220b1.png',\n",
       "       '/home/giles/Downloads/fastai_data/salt/train/6092afaec7.png',\n",
       "       '/home/giles/Downloads/fastai_data/salt/train/40d01e18a0.png',\n",
       "       '/home/giles/Downloads/fastai_data/salt/train/e045664b46.png',\n",
       "       '/home/giles/Downloads/fastai_data/salt/train/6d17d3be2d.png',\n",
       "       '/home/giles/Downloads/fastai_data/salt/train/7e40cdf1f3.png',\n",
       "       '/home/giles/Downloads/fastai_data/salt/train/be1f425eac.png',\n",
       "       '/home/giles/Downloads/fastai_data/salt/train/bec8f132d0.png',\n",
       "       '/home/giles/Downloads/fastai_data/salt/train/a94450f57e.png',\n",
       "       '/home/giles/Downloads/fastai_data/salt/train/20658e781f.png',\n",
       "       '/home/giles/Downloads/fastai_data/salt/train/7791af3409.png',\n",
       "       '/home/giles/Downloads/fastai_data/salt/train/a783bd82c5.png',\n",
       "       '/home/giles/Downloads/fastai_data/salt/train/0d3b5ec2a8.png',\n",
       "       '/home/giles/Downloads/fastai_data/salt/train/ebdef67fa5.png',\n",
       "       '/home/giles/Downloads/fastai_data/salt/train/fe0ff502fb.png',\n",
       "       '/home/giles/Downloads/fastai_data/salt/train/f7380099f6.png',\n",
       "       '/home/giles/Downloads/fastai_data/salt/train/89dc091930.png',\n",
       "       '/home/giles/Downloads/fastai_data/salt/train/7ec64d2b8e.png',\n",
       "       '/home/giles/Downloads/fastai_data/salt/train/77608c7770.png',\n",
       "       '/home/giles/Downloads/fastai_data/salt/train/0f3118527c.png',\n",
       "       '/home/giles/Downloads/fastai_data/salt/train/b12a5a2b61.png',\n",
       "       '/home/giles/Downloads/fastai_data/salt/train/761eaf3fa4.png',\n",
       "       '/home/giles/Downloads/fastai_data/salt/train/d06f237a79.png',\n",
       "       '/home/giles/Downloads/fastai_data/salt/train/a898892737.png',\n",
       "       '/home/giles/Downloads/fastai_data/salt/train/98c6496076.png',\n",
       "       '/home/giles/Downloads/fastai_data/salt/train/6a1fd3c67e.png',\n",
       "       '/home/giles/Downloads/fastai_data/salt/train/03eed26d3e.png',\n",
       "       '/home/giles/Downloads/fastai_data/salt/train/4c7e3c71e6.png',\n",
       "       '/home/giles/Downloads/fastai_data/salt/train/e4159ed1de.png',\n",
       "       '/home/giles/Downloads/fastai_data/salt/train/5e3c2aa2bb.png',\n",
       "       '/home/giles/Downloads/fastai_data/salt/train/b966734278.png',\n",
       "       '/home/giles/Downloads/fastai_data/salt/train/ab82b9e44e.png',\n",
       "       '/home/giles/Downloads/fastai_data/salt/train/67a8e23baa.png',\n",
       "       '/home/giles/Downloads/fastai_data/salt/train/6cf284fb9e.png',\n",
       "       '/home/giles/Downloads/fastai_data/salt/train/68d00224e0.png',\n",
       "       '/home/giles/Downloads/fastai_data/salt/train/6d593a19d1.png',\n",
       "       '/home/giles/Downloads/fastai_data/salt/train/7e92ab6fe8.png',\n",
       "       '/home/giles/Downloads/fastai_data/salt/train/eead2fc101.png',\n",
       "       '/home/giles/Downloads/fastai_data/salt/train/d6437d0c25.png',\n",
       "       '/home/giles/Downloads/fastai_data/salt/train/ea2fe8434f.png',\n",
       "       '/home/giles/Downloads/fastai_data/salt/train/0b73b427d1.png',\n",
       "       '/home/giles/Downloads/fastai_data/salt/train/4be0764138.png',\n",
       "       '/home/giles/Downloads/fastai_data/salt/train/71ef380e21.png',\n",
       "       '/home/giles/Downloads/fastai_data/salt/train/c0aa0c7b66.png',\n",
       "       '/home/giles/Downloads/fastai_data/salt/train/578b502c6d.png',\n",
       "       '/home/giles/Downloads/fastai_data/salt/train/6ee755c67d.png',\n",
       "       '/home/giles/Downloads/fastai_data/salt/train/6698a570b8.png',\n",
       "       '/home/giles/Downloads/fastai_data/salt/train/96cc5caec0.png',\n",
       "       '/home/giles/Downloads/fastai_data/salt/train/196cffdb4b.png',\n",
       "       '/home/giles/Downloads/fastai_data/salt/train/90791c2417.png',\n",
       "       '/home/giles/Downloads/fastai_data/salt/train/b052410a6a.png',\n",
       "       '/home/giles/Downloads/fastai_data/salt/train/e340e7bfca.png',\n",
       "       '/home/giles/Downloads/fastai_data/salt/train/ec10996820.png',\n",
       "       '/home/giles/Downloads/fastai_data/salt/train/396ae389d8.png',\n",
       "       '/home/giles/Downloads/fastai_data/salt/train/4f62a5bb14.png',\n",
       "       '/home/giles/Downloads/fastai_data/salt/train/a5d2da8488.png',\n",
       "       '/home/giles/Downloads/fastai_data/salt/train/5468ed796d.png',\n",
       "       '/home/giles/Downloads/fastai_data/salt/train/131ca4b83d.png',\n",
       "       '/home/giles/Downloads/fastai_data/salt/train/2388b3eb40.png',\n",
       "       '/home/giles/Downloads/fastai_data/salt/train/7c0447f939.png',\n",
       "       '/home/giles/Downloads/fastai_data/salt/train/50d3073821.png',\n",
       "       '/home/giles/Downloads/fastai_data/salt/train/37c95ff7df.png',\n",
       "       '/home/giles/Downloads/fastai_data/salt/train/503aba826b.png',\n",
       "       '/home/giles/Downloads/fastai_data/salt/train/d96af7c9cc.png',\n",
       "       '/home/giles/Downloads/fastai_data/salt/train/e3349e2125.png',\n",
       "       '/home/giles/Downloads/fastai_data/salt/train/9b585a2ea0.png',\n",
       "       '/home/giles/Downloads/fastai_data/salt/train/1ee0d5b4d0.png',\n",
       "       '/home/giles/Downloads/fastai_data/salt/train/623565cb2c.png',\n",
       "       '/home/giles/Downloads/fastai_data/salt/train/b5448cb40a.png',\n",
       "       '/home/giles/Downloads/fastai_data/salt/train/d308ec69d3.png',\n",
       "       '/home/giles/Downloads/fastai_data/salt/train/5800248c17.png',\n",
       "       '/home/giles/Downloads/fastai_data/salt/train/8b4189c2a4.png',\n",
       "       '/home/giles/Downloads/fastai_data/salt/train/c59e5f46c0.png',\n",
       "       '/home/giles/Downloads/fastai_data/salt/train/26382e2d1f.png',\n",
       "       '/home/giles/Downloads/fastai_data/salt/train/4514d46495.png',\n",
       "       '/home/giles/Downloads/fastai_data/salt/train/e0751c41fd.png',\n",
       "       '/home/giles/Downloads/fastai_data/salt/train/d9cf4a6e42.png',\n",
       "       '/home/giles/Downloads/fastai_data/salt/train/9dde6475f9.png',\n",
       "       '/home/giles/Downloads/fastai_data/salt/train/857e511397.png',\n",
       "       '/home/giles/Downloads/fastai_data/salt/train/6b95bc6c5f.png',\n",
       "       '/home/giles/Downloads/fastai_data/salt/train/84b5568c2a.png',\n",
       "       '/home/giles/Downloads/fastai_data/salt/train/48db3b8c5f.png',\n",
       "       '/home/giles/Downloads/fastai_data/salt/train/eb38db5443.png',\n",
       "       '/home/giles/Downloads/fastai_data/salt/train/253eb71c3d.png',\n",
       "       '/home/giles/Downloads/fastai_data/salt/train/5c297b5dcd.png',\n",
       "       '/home/giles/Downloads/fastai_data/salt/train/3687839ecc.png',\n",
       "       '/home/giles/Downloads/fastai_data/salt/train/e7c54b5f4e.png',\n",
       "       '/home/giles/Downloads/fastai_data/salt/train/7ec58d0743.png',\n",
       "       '/home/giles/Downloads/fastai_data/salt/train/164873b51f.png',\n",
       "       '/home/giles/Downloads/fastai_data/salt/train/7361f4e5bc.png',\n",
       "       '/home/giles/Downloads/fastai_data/salt/train/4ee4b3485e.png',\n",
       "       '/home/giles/Downloads/fastai_data/salt/train/8270908d6a.png',\n",
       "       '/home/giles/Downloads/fastai_data/salt/train/37aa9fc79a.png',\n",
       "       '/home/giles/Downloads/fastai_data/salt/train/c756ff4e1f.png',\n",
       "       '/home/giles/Downloads/fastai_data/salt/train/973a4f6dad.png',\n",
       "       '/home/giles/Downloads/fastai_data/salt/train/25e519b494.png',\n",
       "       '/home/giles/Downloads/fastai_data/salt/train/8d9b8d724a.png',\n",
       "       '/home/giles/Downloads/fastai_data/salt/train/78c50b3977.png',\n",
       "       '/home/giles/Downloads/fastai_data/salt/train/3782748f51.png',\n",
       "       '/home/giles/Downloads/fastai_data/salt/train/d3f3db7bd1.png',\n",
       "       '/home/giles/Downloads/fastai_data/salt/train/114397189f.png',\n",
       "       '/home/giles/Downloads/fastai_data/salt/train/7c2609c66c.png',\n",
       "       '/home/giles/Downloads/fastai_data/salt/train/62d6a9b673.png',\n",
       "       '/home/giles/Downloads/fastai_data/salt/train/5677f991b7.png',\n",
       "       '/home/giles/Downloads/fastai_data/salt/train/1cb9549d2c.png',\n",
       "       '/home/giles/Downloads/fastai_data/salt/train/7709ec3c5d.png',\n",
       "       '/home/giles/Downloads/fastai_data/salt/train/38673ade97.png',\n",
       "       '/home/giles/Downloads/fastai_data/salt/train/c56524ded9.png',\n",
       "       '/home/giles/Downloads/fastai_data/salt/train/7d8b219e1c.png',\n",
       "       '/home/giles/Downloads/fastai_data/salt/train/7769e240f0.png',\n",
       "       '/home/giles/Downloads/fastai_data/salt/train/6d69267940.png',\n",
       "       '/home/giles/Downloads/fastai_data/salt/train/6558dcde17.png',\n",
       "       '/home/giles/Downloads/fastai_data/salt/train/f599fad413.png',\n",
       "       '/home/giles/Downloads/fastai_data/salt/train/6d9b6a2c4b.png',\n",
       "       '/home/giles/Downloads/fastai_data/salt/train/903206854b.png',\n",
       "       '/home/giles/Downloads/fastai_data/salt/train/b6520147bb.png',\n",
       "       '/home/giles/Downloads/fastai_data/salt/train/cdf9422054.png',\n",
       "       '/home/giles/Downloads/fastai_data/salt/train/8ebceef687.png',\n",
       "       '/home/giles/Downloads/fastai_data/salt/train/dc4a1c9a30.png',\n",
       "       '/home/giles/Downloads/fastai_data/salt/train/337b30caff.png',\n",
       "       '/home/giles/Downloads/fastai_data/salt/train/ff238df1c4.png',\n",
       "       '/home/giles/Downloads/fastai_data/salt/train/27de423ad3.png',\n",
       "       '/home/giles/Downloads/fastai_data/salt/train/a9e940dccd.png',\n",
       "       '/home/giles/Downloads/fastai_data/salt/train/94c2d96e56.png',\n",
       "       '/home/giles/Downloads/fastai_data/salt/train/25db231ea0.png',\n",
       "       '/home/giles/Downloads/fastai_data/salt/train/95a60e2f42.png',\n",
       "       '/home/giles/Downloads/fastai_data/salt/train/9f2e5a8c24.png',\n",
       "       '/home/giles/Downloads/fastai_data/salt/train/2d8a3a262b.png',\n",
       "       '/home/giles/Downloads/fastai_data/salt/train/58edb9b58c.png',\n",
       "       '/home/giles/Downloads/fastai_data/salt/train/bab30e51b8.png',\n",
       "       '/home/giles/Downloads/fastai_data/salt/train/9e7d89d4c0.png',\n",
       "       '/home/giles/Downloads/fastai_data/salt/train/8b0d0b0633.png',\n",
       "       '/home/giles/Downloads/fastai_data/salt/train/09e29fbb74.png',\n",
       "       '/home/giles/Downloads/fastai_data/salt/train/b749a000ea.png',\n",
       "       '/home/giles/Downloads/fastai_data/salt/train/ac1ea6faa4.png',\n",
       "       '/home/giles/Downloads/fastai_data/salt/train/8201005b79.png',\n",
       "       '/home/giles/Downloads/fastai_data/salt/train/b57e98a275.png',\n",
       "       '/home/giles/Downloads/fastai_data/salt/train/1ff0aa7f05.png',\n",
       "       '/home/giles/Downloads/fastai_data/salt/train/c33e3a20a4.png',\n",
       "       '/home/giles/Downloads/fastai_data/salt/train/c98504a8ab.png',\n",
       "       '/home/giles/Downloads/fastai_data/salt/train/48940ae0b0.png',\n",
       "       '/home/giles/Downloads/fastai_data/salt/train/b7c462dd1c.png',\n",
       "       '/home/giles/Downloads/fastai_data/salt/train/5b72ade49e.png',\n",
       "       '/home/giles/Downloads/fastai_data/salt/train/0f762f2746.png',\n",
       "       '/home/giles/Downloads/fastai_data/salt/train/ea1a6e1b33.png',\n",
       "       '/home/giles/Downloads/fastai_data/salt/train/fd998a993b.png',\n",
       "       '/home/giles/Downloads/fastai_data/salt/train/42a3baf571.png',\n",
       "       '/home/giles/Downloads/fastai_data/salt/train/5b86544456.png',\n",
       "       '/home/giles/Downloads/fastai_data/salt/train/964030c032.png',\n",
       "       '/home/giles/Downloads/fastai_data/salt/train/935cba59ad.png',\n",
       "       '/home/giles/Downloads/fastai_data/salt/train/4b72e35b8b.png',\n",
       "       '/home/giles/Downloads/fastai_data/salt/train/956c91fe94.png',\n",
       "       '/home/giles/Downloads/fastai_data/salt/train/e2421eee13.png',\n",
       "       '/home/giles/Downloads/fastai_data/salt/train/e2a70ffdf6.png',\n",
       "       '/home/giles/Downloads/fastai_data/salt/train/2d4e7a937b.png',\n",
       "       '/home/giles/Downloads/fastai_data/salt/train/17bb0d4b3e.png',\n",
       "       '/home/giles/Downloads/fastai_data/salt/train/e82421363e.png',\n",
       "       '/home/giles/Downloads/fastai_data/salt/train/09541ce79b.png',\n",
       "       '/home/giles/Downloads/fastai_data/salt/train/269b6cad0d.png',\n",
       "       '/home/giles/Downloads/fastai_data/salt/train/a962f4c9b6.png',\n",
       "       '/home/giles/Downloads/fastai_data/salt/train/ddd3099877.png',\n",
       "       '/home/giles/Downloads/fastai_data/salt/train/7812fc8116.png',\n",
       "       '/home/giles/Downloads/fastai_data/salt/train/b9ebcbc115.png',\n",
       "       '/home/giles/Downloads/fastai_data/salt/train/813d6ad4ba.png',\n",
       "       '/home/giles/Downloads/fastai_data/salt/train/939879034e.png',\n",
       "       '/home/giles/Downloads/fastai_data/salt/train/ad0e66eabf.png',\n",
       "       '/home/giles/Downloads/fastai_data/salt/train/ca58996278.png',\n",
       "       '/home/giles/Downloads/fastai_data/salt/train/30082e87d9.png',\n",
       "       '/home/giles/Downloads/fastai_data/salt/train/c7a92a6707.png',\n",
       "       '/home/giles/Downloads/fastai_data/salt/train/a98ab1c549.png',\n",
       "       '/home/giles/Downloads/fastai_data/salt/train/306e6e7743.png',\n",
       "       '/home/giles/Downloads/fastai_data/salt/train/911efbb175.png',\n",
       "       '/home/giles/Downloads/fastai_data/salt/train/6576184a08.png',\n",
       "       '/home/giles/Downloads/fastai_data/salt/train/8138c79081.png',\n",
       "       '/home/giles/Downloads/fastai_data/salt/train/49fe2ee7ba.png',\n",
       "       '/home/giles/Downloads/fastai_data/salt/train/d4d2ed6bd2.png',\n",
       "       '/home/giles/Downloads/fastai_data/salt/train/2a49169951.png',\n",
       "       '/home/giles/Downloads/fastai_data/salt/train/30d4fb116b.png',\n",
       "       '/home/giles/Downloads/fastai_data/salt/train/5c8ce5869b.png',\n",
       "       '/home/giles/Downloads/fastai_data/salt/train/135ae076e9.png',\n",
       "       '/home/giles/Downloads/fastai_data/salt/train/ab18a0a7fa.png',\n",
       "       '/home/giles/Downloads/fastai_data/salt/train/8431a87cff.png',\n",
       "       '/home/giles/Downloads/fastai_data/salt/train/6ec6e26ddd.png',\n",
       "       '/home/giles/Downloads/fastai_data/salt/train/adf2a57778.png',\n",
       "       '/home/giles/Downloads/fastai_data/salt/train/bbb762835a.png',\n",
       "       '/home/giles/Downloads/fastai_data/salt/train/2d20ee4eff.png',\n",
       "       '/home/giles/Downloads/fastai_data/salt/train/aa94cfb806.png',\n",
       "       '/home/giles/Downloads/fastai_data/salt/train/3f9df26c0c.png',\n",
       "       '/home/giles/Downloads/fastai_data/salt/train/3ced3ed63e.png',\n",
       "       '/home/giles/Downloads/fastai_data/salt/train/fdc06fea10.png',\n",
       "       '/home/giles/Downloads/fastai_data/salt/train/d58653f803.png',\n",
       "       '/home/giles/Downloads/fastai_data/salt/train/877f9dd0a7.png',\n",
       "       '/home/giles/Downloads/fastai_data/salt/train/9f0ebbd210.png',\n",
       "       '/home/giles/Downloads/fastai_data/salt/train/86c675c4fb.png',\n",
       "       '/home/giles/Downloads/fastai_data/salt/train/e10a1a3e81.png',\n",
       "       '/home/giles/Downloads/fastai_data/salt/train/4bd876a71c.png',\n",
       "       '/home/giles/Downloads/fastai_data/salt/train/5fe4e3f5e6.png',\n",
       "       '/home/giles/Downloads/fastai_data/salt/train/ec857f4518.png',\n",
       "       '/home/giles/Downloads/fastai_data/salt/train/346358e652.png',\n",
       "       '/home/giles/Downloads/fastai_data/salt/train/d62ad254c6.png',\n",
       "       '/home/giles/Downloads/fastai_data/salt/train/86f892ad2f.png',\n",
       "       '/home/giles/Downloads/fastai_data/salt/train/7b4ccb8113.png',\n",
       "       '/home/giles/Downloads/fastai_data/salt/train/c7408f1d38.png',\n",
       "       '/home/giles/Downloads/fastai_data/salt/train/ce14d335bf.png',\n",
       "       '/home/giles/Downloads/fastai_data/salt/train/774ee8afcf.png',\n",
       "       '/home/giles/Downloads/fastai_data/salt/train/726a0d854d.png',\n",
       "       '/home/giles/Downloads/fastai_data/salt/train/b42ffc97d4.png',\n",
       "       '/home/giles/Downloads/fastai_data/salt/train/df3a1c2d7b.png',\n",
       "       '/home/giles/Downloads/fastai_data/salt/train/569f85c4ce.png',\n",
       "       '/home/giles/Downloads/fastai_data/salt/train/9128b824e5.png',\n",
       "       '/home/giles/Downloads/fastai_data/salt/train/a5805697c1.png',\n",
       "       '/home/giles/Downloads/fastai_data/salt/train/54842b574a.png',\n",
       "       '/home/giles/Downloads/fastai_data/salt/train/628f1de539.png',\n",
       "       '/home/giles/Downloads/fastai_data/salt/train/48d34846d7.png',\n",
       "       '/home/giles/Downloads/fastai_data/salt/train/4630209118.png',\n",
       "       '/home/giles/Downloads/fastai_data/salt/train/d17eee846e.png',\n",
       "       '/home/giles/Downloads/fastai_data/salt/train/869f99406d.png',\n",
       "       '/home/giles/Downloads/fastai_data/salt/train/495a2d3c7c.png',\n",
       "       '/home/giles/Downloads/fastai_data/salt/train/ba836c5ae1.png',\n",
       "       '/home/giles/Downloads/fastai_data/salt/train/f0d15c63c5.png',\n",
       "       '/home/giles/Downloads/fastai_data/salt/train/843447abe4.png',\n",
       "       '/home/giles/Downloads/fastai_data/salt/train/44d745a704.png',\n",
       "       '/home/giles/Downloads/fastai_data/salt/train/f362d474b7.png',\n",
       "       '/home/giles/Downloads/fastai_data/salt/train/45a7562dbf.png',\n",
       "       '/home/giles/Downloads/fastai_data/salt/train/2b2fc71ee1.png',\n",
       "       '/home/giles/Downloads/fastai_data/salt/train/146ec37657.png',\n",
       "       '/home/giles/Downloads/fastai_data/salt/train/b77cc54800.png',\n",
       "       '/home/giles/Downloads/fastai_data/salt/train/5ebe9e404d.png',\n",
       "       '/home/giles/Downloads/fastai_data/salt/train/72e05a5a33.png',\n",
       "       '/home/giles/Downloads/fastai_data/salt/train/7cf386709a.png',\n",
       "       '/home/giles/Downloads/fastai_data/salt/train/702209f0b3.png',\n",
       "       '/home/giles/Downloads/fastai_data/salt/train/9e9f3940a9.png',\n",
       "       '/home/giles/Downloads/fastai_data/salt/train/3116a9d54c.png',\n",
       "       '/home/giles/Downloads/fastai_data/salt/train/54a3636ba6.png',\n",
       "       '/home/giles/Downloads/fastai_data/salt/train/ee0be71990.png',\n",
       "       '/home/giles/Downloads/fastai_data/salt/train/8d839a365b.png',\n",
       "       '/home/giles/Downloads/fastai_data/salt/train/340fe814a3.png',\n",
       "       '/home/giles/Downloads/fastai_data/salt/train/de08c5a3b7.png',\n",
       "       '/home/giles/Downloads/fastai_data/salt/train/f06ef6c8b7.png',\n",
       "       '/home/giles/Downloads/fastai_data/salt/train/64bfdd0b9a.png',\n",
       "       '/home/giles/Downloads/fastai_data/salt/train/dd6a04d456.png',\n",
       "       '/home/giles/Downloads/fastai_data/salt/train/9e8e175c01.png',\n",
       "       '/home/giles/Downloads/fastai_data/salt/train/4d1efb19d7.png',\n",
       "       '/home/giles/Downloads/fastai_data/salt/train/44f5dd71ab.png',\n",
       "       '/home/giles/Downloads/fastai_data/salt/train/41a4f7424e.png',\n",
       "       '/home/giles/Downloads/fastai_data/salt/train/881407fa84.png',\n",
       "       '/home/giles/Downloads/fastai_data/salt/train/8a58fe70f8.png',\n",
       "       '/home/giles/Downloads/fastai_data/salt/train/efec1f093e.png',\n",
       "       '/home/giles/Downloads/fastai_data/salt/train/c387a012fc.png',\n",
       "       '/home/giles/Downloads/fastai_data/salt/train/c4ed7cdb1c.png',\n",
       "       '/home/giles/Downloads/fastai_data/salt/train/8db5bf9be2.png',\n",
       "       '/home/giles/Downloads/fastai_data/salt/train/63e32c0cfb.png',\n",
       "       '/home/giles/Downloads/fastai_data/salt/train/e7f0e30585.png',\n",
       "       '/home/giles/Downloads/fastai_data/salt/train/f64190c47e.png',\n",
       "       '/home/giles/Downloads/fastai_data/salt/train/9385125b12.png',\n",
       "       '/home/giles/Downloads/fastai_data/salt/train/c073b8930c.png',\n",
       "       '/home/giles/Downloads/fastai_data/salt/train/8d9314a9f4.png',\n",
       "       '/home/giles/Downloads/fastai_data/salt/train/fa2ebd1083.png',\n",
       "       '/home/giles/Downloads/fastai_data/salt/train/81fa3d59b8.png',\n",
       "       '/home/giles/Downloads/fastai_data/salt/train/216aa6275d.png',\n",
       "       '/home/giles/Downloads/fastai_data/salt/train/6138f82415.png',\n",
       "       '/home/giles/Downloads/fastai_data/salt/train/155bcd4b4d.png',\n",
       "       '/home/giles/Downloads/fastai_data/salt/train/b07fc3b87c.png',\n",
       "       '/home/giles/Downloads/fastai_data/salt/train/130229ec15.png',\n",
       "       '/home/giles/Downloads/fastai_data/salt/train/05a61e5799.png',\n",
       "       '/home/giles/Downloads/fastai_data/salt/train/1d7a812c76.png',\n",
       "       '/home/giles/Downloads/fastai_data/salt/train/b6c52b4a53.png',\n",
       "       '/home/giles/Downloads/fastai_data/salt/train/57293a65d5.png',\n",
       "       '/home/giles/Downloads/fastai_data/salt/train/1aef65e24b.png',\n",
       "       '/home/giles/Downloads/fastai_data/salt/train/9e9ce2e1ce.png',\n",
       "       '/home/giles/Downloads/fastai_data/salt/train/62715133c5.png',\n",
       "       '/home/giles/Downloads/fastai_data/salt/train/2a484baa26.png',\n",
       "       '/home/giles/Downloads/fastai_data/salt/train/56d6d999b8.png',\n",
       "       '/home/giles/Downloads/fastai_data/salt/train/8164beeaf5.png',\n",
       "       '/home/giles/Downloads/fastai_data/salt/train/ff2c353279.png',\n",
       "       '/home/giles/Downloads/fastai_data/salt/train/4f5df40ab2.png',\n",
       "       '/home/giles/Downloads/fastai_data/salt/train/c66a9ea31d.png',\n",
       "       '/home/giles/Downloads/fastai_data/salt/train/7f3e8a8526.png',\n",
       "       '/home/giles/Downloads/fastai_data/salt/train/3fd0ef2d38.png',\n",
       "       '/home/giles/Downloads/fastai_data/salt/train/e060d5ca41.png',\n",
       "       '/home/giles/Downloads/fastai_data/salt/train/4210e9e5d3.png',\n",
       "       '/home/giles/Downloads/fastai_data/salt/train/8e48de3b3b.png',\n",
       "       '/home/giles/Downloads/fastai_data/salt/train/5ecf1f5cb4.png',\n",
       "       '/home/giles/Downloads/fastai_data/salt/train/74d7a9df8b.png',\n",
       "       '/home/giles/Downloads/fastai_data/salt/train/3276e900a7.png',\n",
       "       '/home/giles/Downloads/fastai_data/salt/train/a5005ea567.png',\n",
       "       '/home/giles/Downloads/fastai_data/salt/train/72c2499de9.png',\n",
       "       '/home/giles/Downloads/fastai_data/salt/train/cf11876547.png',\n",
       "       '/home/giles/Downloads/fastai_data/salt/train/3d6d400816.png',\n",
       "       '/home/giles/Downloads/fastai_data/salt/train/17dde2138e.png',\n",
       "       '/home/giles/Downloads/fastai_data/salt/train/bb697642ae.png',\n",
       "       '/home/giles/Downloads/fastai_data/salt/train/d606f4a578.png',\n",
       "       '/home/giles/Downloads/fastai_data/salt/train/96f26f6397.png',\n",
       "       '/home/giles/Downloads/fastai_data/salt/train/a93c251217.png',\n",
       "       '/home/giles/Downloads/fastai_data/salt/train/877d1a7ebe.png',\n",
       "       '/home/giles/Downloads/fastai_data/salt/train/25edb9edb3.png',\n",
       "       '/home/giles/Downloads/fastai_data/salt/train/08c2070b20.png',\n",
       "       '/home/giles/Downloads/fastai_data/salt/train/3f8634704b.png',\n",
       "       '/home/giles/Downloads/fastai_data/salt/train/13483cd62a.png',\n",
       "       '/home/giles/Downloads/fastai_data/salt/train/f87365827d.png',\n",
       "       '/home/giles/Downloads/fastai_data/salt/train/966fb0cdbb.png',\n",
       "       '/home/giles/Downloads/fastai_data/salt/train/5108785aaf.png',\n",
       "       '/home/giles/Downloads/fastai_data/salt/train/86bc03a8a6.png',\n",
       "       '/home/giles/Downloads/fastai_data/salt/train/d80ead8703.png',\n",
       "       '/home/giles/Downloads/fastai_data/salt/train/437fbb64d4.png',\n",
       "       '/home/giles/Downloads/fastai_data/salt/train/dd11ae96e3.png',\n",
       "       '/home/giles/Downloads/fastai_data/salt/train/2b55bdbda1.png',\n",
       "       '/home/giles/Downloads/fastai_data/salt/train/2bfa664017.png',\n",
       "       '/home/giles/Downloads/fastai_data/salt/train/bf00a0ab71.png',\n",
       "       '/home/giles/Downloads/fastai_data/salt/train/86fe531971.png',\n",
       "       '/home/giles/Downloads/fastai_data/salt/train/2af240d261.png',\n",
       "       '/home/giles/Downloads/fastai_data/salt/train/29162a3471.png',\n",
       "       '/home/giles/Downloads/fastai_data/salt/train/2eca5f70b1.png',\n",
       "       '/home/giles/Downloads/fastai_data/salt/train/5df9874c5b.png',\n",
       "       '/home/giles/Downloads/fastai_data/salt/train/3ad9500e43.png',\n",
       "       '/home/giles/Downloads/fastai_data/salt/train/c92c37ecd7.png',\n",
       "       '/home/giles/Downloads/fastai_data/salt/train/fdd73141d6.png',\n",
       "       '/home/giles/Downloads/fastai_data/salt/train/def16cd3d7.png',\n",
       "       '/home/giles/Downloads/fastai_data/salt/train/bea9b0571b.png',\n",
       "       '/home/giles/Downloads/fastai_data/salt/train/ef13247eed.png',\n",
       "       '/home/giles/Downloads/fastai_data/salt/train/3dc4b77bb5.png',\n",
       "       '/home/giles/Downloads/fastai_data/salt/train/da082ec985.png',\n",
       "       '/home/giles/Downloads/fastai_data/salt/train/47bd268dcd.png',\n",
       "       '/home/giles/Downloads/fastai_data/salt/train/b83bc9dfa7.png',\n",
       "       '/home/giles/Downloads/fastai_data/salt/train/a076699b79.png',\n",
       "       '/home/giles/Downloads/fastai_data/salt/train/13209940d7.png',\n",
       "       '/home/giles/Downloads/fastai_data/salt/train/6d03f91961.png',\n",
       "       '/home/giles/Downloads/fastai_data/salt/train/fff4eb4941.png',\n",
       "       '/home/giles/Downloads/fastai_data/salt/train/fbd61072f4.png',\n",
       "       '/home/giles/Downloads/fastai_data/salt/train/c37e74bffc.png',\n",
       "       '/home/giles/Downloads/fastai_data/salt/train/f724f78b1a.png',\n",
       "       '/home/giles/Downloads/fastai_data/salt/train/25a9f40814.png',\n",
       "       '/home/giles/Downloads/fastai_data/salt/train/60bbd166a4.png',\n",
       "       '/home/giles/Downloads/fastai_data/salt/train/7547289453.png',\n",
       "       '/home/giles/Downloads/fastai_data/salt/train/cadb46b378.png',\n",
       "       '/home/giles/Downloads/fastai_data/salt/train/8a1aed2c83.png',\n",
       "       '/home/giles/Downloads/fastai_data/salt/train/9bf8a38b92.png',\n",
       "       '/home/giles/Downloads/fastai_data/salt/train/2ce9c36a98.png',\n",
       "       '/home/giles/Downloads/fastai_data/salt/train/638d8572e9.png',\n",
       "       '/home/giles/Downloads/fastai_data/salt/train/7deaf30c4a.png',\n",
       "       '/home/giles/Downloads/fastai_data/salt/train/7e67ef84e1.png',\n",
       "       '/home/giles/Downloads/fastai_data/salt/train/75b4a808b3.png',\n",
       "       '/home/giles/Downloads/fastai_data/salt/train/9c4c524983.png',\n",
       "       '/home/giles/Downloads/fastai_data/salt/train/a8e5845bf9.png',\n",
       "       '/home/giles/Downloads/fastai_data/salt/train/a6ec5aa914.png',\n",
       "       '/home/giles/Downloads/fastai_data/salt/train/2444e83809.png',\n",
       "       '/home/giles/Downloads/fastai_data/salt/train/4a5595076f.png',\n",
       "       '/home/giles/Downloads/fastai_data/salt/train/b240778420.png',\n",
       "       '/home/giles/Downloads/fastai_data/salt/train/27f923aac9.png',\n",
       "       '/home/giles/Downloads/fastai_data/salt/train/fff2abcaf9.png',\n",
       "       '/home/giles/Downloads/fastai_data/salt/train/b521c9ddf3.png',\n",
       "       '/home/giles/Downloads/fastai_data/salt/train/2af3c055b2.png',\n",
       "       '/home/giles/Downloads/fastai_data/salt/train/12e94a5a08.png',\n",
       "       '/home/giles/Downloads/fastai_data/salt/train/790f497dc8.png',\n",
       "       '/home/giles/Downloads/fastai_data/salt/train/1414606ab4.png',\n",
       "       '/home/giles/Downloads/fastai_data/salt/train/81d37cb5fd.png',\n",
       "       '/home/giles/Downloads/fastai_data/salt/train/4702cdd4f0.png',\n",
       "       '/home/giles/Downloads/fastai_data/salt/train/a8aeef5395.png',\n",
       "       '/home/giles/Downloads/fastai_data/salt/train/fe9e558605.png',\n",
       "       '/home/giles/Downloads/fastai_data/salt/train/7f826d312e.png',\n",
       "       '/home/giles/Downloads/fastai_data/salt/train/61cfb43abf.png',\n",
       "       '/home/giles/Downloads/fastai_data/salt/train/d7cf3bf4e9.png',\n",
       "       '/home/giles/Downloads/fastai_data/salt/train/d7f48d294e.png',\n",
       "       '/home/giles/Downloads/fastai_data/salt/train/dd5a90cf89.png',\n",
       "       '/home/giles/Downloads/fastai_data/salt/train/740070f15a.png',\n",
       "       '/home/giles/Downloads/fastai_data/salt/train/9a9ff1beca.png',\n",
       "       '/home/giles/Downloads/fastai_data/salt/train/0eb52aa52a.png',\n",
       "       '/home/giles/Downloads/fastai_data/salt/train/aa21ba676c.png',\n",
       "       '/home/giles/Downloads/fastai_data/salt/train/04234be388.png',\n",
       "       '/home/giles/Downloads/fastai_data/salt/train/ec406285e8.png',\n",
       "       '/home/giles/Downloads/fastai_data/salt/train/7c6221dbb8.png',\n",
       "       '/home/giles/Downloads/fastai_data/salt/train/92d116836e.png',\n",
       "       '/home/giles/Downloads/fastai_data/salt/train/8c1d0929a2.png',\n",
       "       '/home/giles/Downloads/fastai_data/salt/train/e0d98e6fde.png',\n",
       "       '/home/giles/Downloads/fastai_data/salt/train/c100d07aa9.png',\n",
       "       '/home/giles/Downloads/fastai_data/salt/train/aedad85e8c.png',\n",
       "       '/home/giles/Downloads/fastai_data/salt/train/042c3d4e03.png',\n",
       "       '/home/giles/Downloads/fastai_data/salt/train/7ede03dede.png',\n",
       "       '/home/giles/Downloads/fastai_data/salt/train/df47f2e681.png',\n",
       "       '/home/giles/Downloads/fastai_data/salt/train/b70f0ab0c2.png',\n",
       "       '/home/giles/Downloads/fastai_data/salt/train/b1e590d1c9.png',\n",
       "       '/home/giles/Downloads/fastai_data/salt/train/980570ed7e.png',\n",
       "       '/home/giles/Downloads/fastai_data/salt/train/5d4dcb9d8b.png',\n",
       "       '/home/giles/Downloads/fastai_data/salt/train/26000ba320.png',\n",
       "       '/home/giles/Downloads/fastai_data/salt/train/af6fe9a9c8.png',\n",
       "       '/home/giles/Downloads/fastai_data/salt/train/981f73e811.png',\n",
       "       '/home/giles/Downloads/fastai_data/salt/train/b2f87059da.png',\n",
       "       '/home/giles/Downloads/fastai_data/salt/train/185172060e.png',\n",
       "       '/home/giles/Downloads/fastai_data/salt/train/b10fa280bf.png',\n",
       "       '/home/giles/Downloads/fastai_data/salt/train/ba67135a54.png',\n",
       "       '/home/giles/Downloads/fastai_data/salt/train/9b656c339a.png',\n",
       "       '/home/giles/Downloads/fastai_data/salt/train/5187e13789.png',\n",
       "       '/home/giles/Downloads/fastai_data/salt/train/96216dae3b.png',\n",
       "       '/home/giles/Downloads/fastai_data/salt/train/dfe111dace.png',\n",
       "       '/home/giles/Downloads/fastai_data/salt/train/691dc0bc42.png',\n",
       "       '/home/giles/Downloads/fastai_data/salt/train/93d21b7636.png',\n",
       "       '/home/giles/Downloads/fastai_data/salt/train/2ffe02e882.png',\n",
       "       '/home/giles/Downloads/fastai_data/salt/train/c137712b61.png',\n",
       "       '/home/giles/Downloads/fastai_data/salt/train/a6ba9b9f91.png',\n",
       "       '/home/giles/Downloads/fastai_data/salt/train/99ee31b5bc.png',\n",
       "       '/home/giles/Downloads/fastai_data/salt/train/782ae9b7e7.png',\n",
       "       '/home/giles/Downloads/fastai_data/salt/train/fc87224914.png',\n",
       "       '/home/giles/Downloads/fastai_data/salt/train/c4adb6e891.png',\n",
       "       '/home/giles/Downloads/fastai_data/salt/train/46386ca4a3.png',\n",
       "       '/home/giles/Downloads/fastai_data/salt/train/58777a8c79.png',\n",
       "       '/home/giles/Downloads/fastai_data/salt/train/2fbde8630d.png',\n",
       "       '/home/giles/Downloads/fastai_data/salt/train/387b6956c4.png',\n",
       "       '/home/giles/Downloads/fastai_data/salt/train/fcbc5cef9d.png',\n",
       "       '/home/giles/Downloads/fastai_data/salt/train/19d821e8e4.png',\n",
       "       '/home/giles/Downloads/fastai_data/salt/train/0fc5ad7e3b.png',\n",
       "       '/home/giles/Downloads/fastai_data/salt/train/61321814ce.png',\n",
       "       '/home/giles/Downloads/fastai_data/salt/train/fbfa863bd4.png',\n",
       "       '/home/giles/Downloads/fastai_data/salt/train/3320eb35e4.png',\n",
       "       '/home/giles/Downloads/fastai_data/salt/train/af171a3570.png',\n",
       "       '/home/giles/Downloads/fastai_data/salt/train/19902af6bd.png',\n",
       "       '/home/giles/Downloads/fastai_data/salt/train/851a37ac37.png',\n",
       "       '/home/giles/Downloads/fastai_data/salt/train/479cb24efb.png',\n",
       "       '/home/giles/Downloads/fastai_data/salt/train/44ccc2d846.png',\n",
       "       '/home/giles/Downloads/fastai_data/salt/train/aff8ae9d4d.png',\n",
       "       '/home/giles/Downloads/fastai_data/salt/train/9ba564058f.png',\n",
       "       '/home/giles/Downloads/fastai_data/salt/train/abb1521de8.png',\n",
       "       '/home/giles/Downloads/fastai_data/salt/train/aba57f0f2c.png',\n",
       "       '/home/giles/Downloads/fastai_data/salt/train/7845115d01.png',\n",
       "       '/home/giles/Downloads/fastai_data/salt/train/f5b2861c9b.png',\n",
       "       '/home/giles/Downloads/fastai_data/salt/train/fc250f574c.png',\n",
       "       '/home/giles/Downloads/fastai_data/salt/train/d47c78058a.png',\n",
       "       '/home/giles/Downloads/fastai_data/salt/train/96857148ca.png',\n",
       "       '/home/giles/Downloads/fastai_data/salt/train/dce4c70a99.png',\n",
       "       '/home/giles/Downloads/fastai_data/salt/train/7488e076ca.png',\n",
       "       '/home/giles/Downloads/fastai_data/salt/train/d4d964f62d.png',\n",
       "       '/home/giles/Downloads/fastai_data/salt/train/27ec51c877.png',\n",
       "       '/home/giles/Downloads/fastai_data/salt/train/eec3f628d6.png',\n",
       "       '/home/giles/Downloads/fastai_data/salt/train/432b8b6a71.png',\n",
       "       '/home/giles/Downloads/fastai_data/salt/train/168f625d62.png',\n",
       "       '/home/giles/Downloads/fastai_data/salt/train/fcce81906d.png',\n",
       "       '/home/giles/Downloads/fastai_data/salt/train/5bb976391e.png',\n",
       "       '/home/giles/Downloads/fastai_data/salt/train/6ecba60505.png',\n",
       "       '/home/giles/Downloads/fastai_data/salt/train/755c1e849f.png',\n",
       "       '/home/giles/Downloads/fastai_data/salt/train/4ebed82264.png',\n",
       "       '/home/giles/Downloads/fastai_data/salt/train/494daad56b.png',\n",
       "       '/home/giles/Downloads/fastai_data/salt/train/eec5e72dad.png',\n",
       "       '/home/giles/Downloads/fastai_data/salt/train/15d079a8e8.png',\n",
       "       '/home/giles/Downloads/fastai_data/salt/train/7d0b2f2046.png',\n",
       "       '/home/giles/Downloads/fastai_data/salt/train/a959b2372a.png',\n",
       "       '/home/giles/Downloads/fastai_data/salt/train/7af5b00299.png',\n",
       "       '/home/giles/Downloads/fastai_data/salt/train/a531b78648.png',\n",
       "       '/home/giles/Downloads/fastai_data/salt/train/1a7f8bd454.png',\n",
       "       '/home/giles/Downloads/fastai_data/salt/train/5e09ef27a6.png',\n",
       "       '/home/giles/Downloads/fastai_data/salt/train/9f3b8d0186.png',\n",
       "       '/home/giles/Downloads/fastai_data/salt/train/d204ea9f09.png',\n",
       "       '/home/giles/Downloads/fastai_data/salt/train/d967181724.png',\n",
       "       '/home/giles/Downloads/fastai_data/salt/train/6a3d92ce59.png',\n",
       "       '/home/giles/Downloads/fastai_data/salt/train/d14db20055.png',\n",
       "       '/home/giles/Downloads/fastai_data/salt/train/f2d668f7e7.png',\n",
       "       '/home/giles/Downloads/fastai_data/salt/train/ef03d3e2fa.png',\n",
       "       '/home/giles/Downloads/fastai_data/salt/train/0429d9759b.png',\n",
       "       '/home/giles/Downloads/fastai_data/salt/train/8db9dc4a62.png',\n",
       "       '/home/giles/Downloads/fastai_data/salt/train/83bb4578eb.png',\n",
       "       '/home/giles/Downloads/fastai_data/salt/train/b94a5b0bda.png',\n",
       "       '/home/giles/Downloads/fastai_data/salt/train/76ba896225.png',\n",
       "       '/home/giles/Downloads/fastai_data/salt/train/1c9fa3dff4.png',\n",
       "       '/home/giles/Downloads/fastai_data/salt/train/8d141a0b7a.png',\n",
       "       '/home/giles/Downloads/fastai_data/salt/train/db75c6831e.png',\n",
       "       '/home/giles/Downloads/fastai_data/salt/train/501c68e571.png',\n",
       "       '/home/giles/Downloads/fastai_data/salt/train/ce0e9def63.png',\n",
       "       '/home/giles/Downloads/fastai_data/salt/train/ea3cdbd7cd.png',\n",
       "       '/home/giles/Downloads/fastai_data/salt/train/a4ae0c0e35.png',\n",
       "       '/home/giles/Downloads/fastai_data/salt/train/3b9586e2ff.png',\n",
       "       '/home/giles/Downloads/fastai_data/salt/train/d6471dc0a3.png',\n",
       "       '/home/giles/Downloads/fastai_data/salt/train/8e7324c8ed.png',\n",
       "       '/home/giles/Downloads/fastai_data/salt/train/d2e14828d5.png',\n",
       "       '/home/giles/Downloads/fastai_data/salt/train/b9bb1b7b3f.png'], dtype='<U59')"
      ]
     },
     "execution_count": 194,
     "metadata": {},
     "output_type": "execute_result"
    }
   ],
   "source": [
    "val_x_orig"
   ]
  },
  {
   "cell_type": "code",
   "execution_count": 195,
   "metadata": {},
   "outputs": [],
   "source": [
    "sz=128\n",
    "bs=64"
   ]
  },
  {
   "cell_type": "code",
   "execution_count": 196,
   "metadata": {},
   "outputs": [],
   "source": [
    "tfms_from_model(resnet34, sz, crop_type=CropType.NO, tfm_y=TfmType.CLASS, aug_tfms=aug_tfms)\n",
    "datasets = ImageData.get_ds(MatchedFilesDataset, (trn_x_orig,trn_y_orig), (val_x_orig,val_y_orig), tfms, path=PATH)\n",
    "md = ImageData(PATH, datasets, bs, num_workers=16, classes=None)\n",
    "denorm = md.trn_ds.denorm"
   ]
  },
  {
   "cell_type": "code",
   "execution_count": 197,
   "metadata": {},
   "outputs": [],
   "source": [
    "m_base = get_base()\n",
    "m = to_gpu(Unet34(m_base))\n",
    "models = UnetModel(m)"
   ]
  },
  {
   "cell_type": "code",
   "execution_count": 198,
   "metadata": {},
   "outputs": [],
   "source": [
    "learn = ConvLearner(md, models)\n",
    "learn.opt_fn=optim.Adam\n",
    "learn.crit=nn.BCEWithLogitsLoss()\n",
    "learn.metrics=[accuracy_thresh(0.5),dice]"
   ]
  },
  {
   "cell_type": "code",
   "execution_count": 199,
   "metadata": {},
   "outputs": [],
   "source": [
    "learn.load('128urn')"
   ]
  },
  {
   "cell_type": "code",
   "execution_count": 200,
   "metadata": {},
   "outputs": [
    {
     "name": "stdout",
     "output_type": "stream",
     "text": [
      "                                             \r"
     ]
    }
   ],
   "source": [
    "log_preds, y = learn.TTA()"
   ]
  },
  {
   "cell_type": "code",
   "execution_count": 201,
   "metadata": {},
   "outputs": [],
   "source": [
    "probs = np.mean(log_preds,0)"
   ]
  },
  {
   "cell_type": "code",
   "execution_count": 202,
   "metadata": {},
   "outputs": [
    {
     "data": {
      "text/plain": [
       "(5, 800, 128, 128)"
      ]
     },
     "execution_count": 202,
     "metadata": {},
     "output_type": "execute_result"
    }
   ],
   "source": [
    "log_preds.shape"
   ]
  },
  {
   "cell_type": "code",
   "execution_count": 203,
   "metadata": {},
   "outputs": [
    {
     "data": {
      "image/png": "[encoded data removed]",
      "text/plain": [
       "<Figure size 432x288 with 1 Axes>"
      ]
     },
     "metadata": {},
     "output_type": "display_data"
    }
   ],
   "source": [
    "show_img(probs[0]>0);"
   ]
  },
  {
   "cell_type": "code",
   "execution_count": 204,
   "metadata": {},
   "outputs": [
    {
     "data": {
      "image/png": "[encoded data removed]",
      "text/plain": [
       "<Figure size 432x288 with 1 Axes>"
      ]
     },
     "metadata": {},
     "output_type": "display_data"
    }
   ],
   "source": [
    "show_img(probs[0]);"
   ]
  },
  {
   "cell_type": "code",
   "execution_count": 205,
   "metadata": {},
   "outputs": [
    {
     "data": {
      "image/png": "[encoded data removed]",
      "text/plain": [
       "<Figure size 432x288 with 1 Axes>"
      ]
     },
     "metadata": {},
     "output_type": "display_data"
    }
   ],
   "source": [
    "show_img(y[0]);"
   ]
  },
  {
   "cell_type": "code",
   "execution_count": 206,
   "metadata": {
    "scrolled": true
   },
   "outputs": [
    {
     "data": {
      "image/png": "[encoded data removed]",
      "text/plain": [
       "<Figure size 432x288 with 1 Axes>"
      ]
     },
     "metadata": {},
     "output_type": "display_data"
    }
   ],
   "source": [
    "show_img(x[0][0]);"
   ]
  },
  {
   "cell_type": "markdown",
   "metadata": {},
   "source": [
    "# Optimise threshold"
   ]
  },
  {
   "cell_type": "code",
   "execution_count": 207,
   "metadata": {},
   "outputs": [],
   "source": [
    "# src: https://www.kaggle.com/aglotero/another-iou-metric\n",
    "def iou_metric(y_true_in, y_pred_in, print_table=False):\n",
    "    labels = y_true_in\n",
    "    y_pred = y_pred_in\n",
    "    \n",
    "    true_objects = 2\n",
    "    pred_objects = 2\n",
    "\n",
    "    intersection = np.histogram2d(labels.flatten(), y_pred.flatten(), bins=(true_objects, pred_objects))[0]\n",
    "\n",
    "    # Compute areas (needed for finding the union between all objects)\n",
    "    area_true = np.histogram(labels, bins = true_objects)[0]\n",
    "    area_pred = np.histogram(y_pred, bins = pred_objects)[0]\n",
    "    area_true = np.expand_dims(area_true, -1)\n",
    "    area_pred = np.expand_dims(area_pred, 0)\n",
    "\n",
    "    # Compute union\n",
    "    union = area_true + area_pred - intersection\n",
    "\n",
    "    # Exclude background from the analysis\n",
    "    intersection = intersection[1:,1:]\n",
    "    union = union[1:,1:]\n",
    "    union[union == 0] = 1e-9\n",
    "\n",
    "    # Compute the intersection over union\n",
    "    iou = intersection / union\n",
    "\n",
    "    # Precision helper function\n",
    "    def precision_at(threshold, iou):\n",
    "        matches = iou > threshold\n",
    "        true_positives = np.sum(matches, axis=1) == 1   # Correct objects\n",
    "        false_positives = np.sum(matches, axis=0) == 0  # Missed objects\n",
    "        false_negatives = np.sum(matches, axis=1) == 0  # Extra objects\n",
    "        tp, fp, fn = np.sum(true_positives), np.sum(false_positives), np.sum(false_negatives)\n",
    "        return tp, fp, fn\n",
    "\n",
    "    # Loop over IoU thresholds\n",
    "    prec = []\n",
    "    if print_table:\n",
    "        print(\"Thresh\\tTP\\tFP\\tFN\\tPrec.\")\n",
    "    for t in np.arange(0.5, 1.0, 0.05):\n",
    "        tp, fp, fn = precision_at(t, iou)\n",
    "        if (tp + fp + fn) > 0:\n",
    "            p = tp / (tp + fp + fn)\n",
    "        else:\n",
    "            p = 0\n",
    "        if print_table:\n",
    "            print(\"{:1.3f}\\t{}\\t{}\\t{}\\t{:1.3f}\".format(t, tp, fp, fn, p))\n",
    "        prec.append(p)\n",
    "    \n",
    "    if print_table:\n",
    "        print(\"AP\\t-\\t-\\t-\\t{:1.3f}\".format(np.mean(prec)))\n",
    "    return np.mean(prec)\n",
    "\n",
    "def iou_metric_batch(y_true_in, y_pred_in):\n",
    "    batch_size = y_true_in.shape[0]\n",
    "    metric = []\n",
    "    for batch in range(batch_size):\n",
    "        value = iou_metric(y_true_in[batch], y_pred_in[batch])\n",
    "        metric.append(value)\n",
    "    return np.mean(metric)"
   ]
  },
  {
   "cell_type": "code",
   "execution_count": 208,
   "metadata": {},
   "outputs": [
    {
     "data": {
      "application/vnd.jupyter.widget-view+json": {
       "model_id": "411cc8b7e5654e0489b66013bd103858",
       "version_major": 2,
       "version_minor": 0
      },
      "text/plain": [
       "HBox(children=(IntProgress(value=0, max=50), HTML(value='')))"
      ]
     },
     "metadata": {},
     "output_type": "display_data"
    },
    {
     "name": "stdout",
     "output_type": "stream",
     "text": [
      "\n"
     ]
    }
   ],
   "source": [
    "thres = np.linspace(-5, 5, 50)\n",
    "thres_ioc = [iou_metric_batch(y, np.int32(probs > t)) for t in tqdm_notebook(thres)]"
   ]
  },
  {
   "cell_type": "code",
   "execution_count": 209,
   "metadata": {},
   "outputs": [
    {
     "data": {
      "image/png": "[encoded data removed]",
      "text/plain": [
       "<Figure size 432x288 with 1 Axes>"
      ]
     },
     "metadata": {},
     "output_type": "display_data"
    }
   ],
   "source": [
    "plt.plot(thres, thres_ioc);"
   ]
  },
  {
   "cell_type": "code",
   "execution_count": 210,
   "metadata": {},
   "outputs": [
    {
     "data": {
      "text/plain": [
       "(0.5102040816326534, 0.7290000000000001)"
      ]
     },
     "execution_count": 210,
     "metadata": {},
     "output_type": "execute_result"
    }
   ],
   "source": [
    "best_thres = thres[np.argmax(thres_ioc)]\n",
    "best_thres, max(thres_ioc)"
   ]
  },
  {
   "cell_type": "code",
   "execution_count": 211,
   "metadata": {},
   "outputs": [
    {
     "data": {
      "application/vnd.jupyter.widget-view+json": {
       "model_id": "ffe3b912eb784eb9b47af9da89fd1109",
       "version_major": 2,
       "version_minor": 0
      },
      "text/plain": [
       "HBox(children=(IntProgress(value=0, max=200), HTML(value='')))"
      ]
     },
     "metadata": {},
     "output_type": "display_data"
    },
    {
     "name": "stdout",
     "output_type": "stream",
     "text": [
      "\n"
     ]
    }
   ],
   "source": [
    "thres = np.linspace(0, 1, 200)\n",
    "thres_ioc = [iou_metric_batch(y, np.int32(probs > t)) for t in tqdm_notebook(thres)]"
   ]
  },
  {
   "cell_type": "code",
   "execution_count": 212,
   "metadata": {},
   "outputs": [
    {
     "data": {
      "image/png": "[encoded data removed]",
      "text/plain": [
       "<Figure size 432x288 with 1 Axes>"
      ]
     },
     "metadata": {},
     "output_type": "display_data"
    }
   ],
   "source": [
    "plt.plot(thres, thres_ioc);"
   ]
  },
  {
   "cell_type": "code",
   "execution_count": 213,
   "metadata": {
    "scrolled": true
   },
   "outputs": [
    {
     "data": {
      "text/plain": [
       "(0.457286432160804, 0.7295)"
      ]
     },
     "execution_count": 213,
     "metadata": {},
     "output_type": "execute_result"
    }
   ],
   "source": [
    "best_thres = thres[np.argmax(thres_ioc)]\n",
    "best_thres, max(thres_ioc)"
   ]
  },
  {
   "cell_type": "code",
   "execution_count": 214,
   "metadata": {},
   "outputs": [
    {
     "data": {
      "image/png": "[encoded data removed]",
      "text/plain": [
       "<Figure size 432x288 with 1 Axes>"
      ]
     },
     "metadata": {},
     "output_type": "display_data"
    }
   ],
   "source": [
    "show_img(probs[0]>best_thres);"
   ]
  },
  {
   "cell_type": "markdown",
   "metadata": {},
   "source": [
    "# Run on test"
   ]
  },
  {
   "cell_type": "code",
   "execution_count": 215,
   "metadata": {},
   "outputs": [],
   "source": [
    "(PATH/'test-128').mkdir(exist_ok=True)"
   ]
  },
  {
   "cell_type": "code",
   "execution_count": 216,
   "metadata": {},
   "outputs": [],
   "source": [
    "def resize_img(fn):\n",
    "    Image.open(fn).resize((128,128)).save((fn.parent.parent)/'test-128'/fn.name)\n",
    "\n",
    "files = list((PATH/'test').iterdir())\n",
    "with ThreadPoolExecutor(8) as e: e.map(resize_img, files)"
   ]
  },
  {
   "cell_type": "code",
   "execution_count": 217,
   "metadata": {},
   "outputs": [],
   "source": [
    "testData = np.array(glob(f'{PATH}/test-128/*'))"
   ]
  },
  {
   "cell_type": "code",
   "execution_count": 218,
   "metadata": {},
   "outputs": [],
   "source": [
    "class TestFilesDataset(FilesDataset):\n",
    "    def __init__(self, fnames, y, transform, path):\n",
    "        self.y=y\n",
    "        assert(len(fnames)==len(y))\n",
    "        super().__init__(fnames, transform, path)\n",
    "    def get_y(self, i): return open_image(os.path.join(self.path, self.fnames[i]))\n",
    "    def get_c(self): return 0"
   ]
  },
  {
   "cell_type": "code",
   "execution_count": 219,
   "metadata": {},
   "outputs": [],
   "source": [
    "tfms_from_model(resnet34, sz, crop_type=CropType.NO, tfm_y=TfmType.CLASS, aug_tfms=aug_tfms)\n",
    "datasets = ImageData.get_ds(TestFilesDataset, (trn_x,trn_y), (val_x,val_y), tfms, test=testData, path=PATH)\n",
    "md = ImageData(PATH, datasets, bs, num_workers=16, classes=None)\n",
    "denorm = md.trn_ds.denorm"
   ]
  },
  {
   "cell_type": "code",
   "execution_count": 220,
   "metadata": {},
   "outputs": [],
   "source": [
    "m_base = get_base()\n",
    "m = to_gpu(Unet34(m_base))\n",
    "models = UnetModel(m)"
   ]
  },
  {
   "cell_type": "code",
   "execution_count": 221,
   "metadata": {},
   "outputs": [],
   "source": [
    "learn = ConvLearner(md, models)\n",
    "learn.opt_fn=optim.Adam\n",
    "learn.crit=nn.BCEWithLogitsLoss()\n",
    "learn.metrics=[accuracy_thresh(0.5),dice]"
   ]
  },
  {
   "cell_type": "code",
   "execution_count": 222,
   "metadata": {},
   "outputs": [],
   "source": [
    "learn.load('128urn')"
   ]
  },
  {
   "cell_type": "code",
   "execution_count": 223,
   "metadata": {},
   "outputs": [],
   "source": [
    "x,y = next(iter(md.test_dl))\n",
    "py = to_np(learn.model(V(x)))"
   ]
  },
  {
   "cell_type": "code",
   "execution_count": 224,
   "metadata": {},
   "outputs": [
    {
     "data": {
      "image/png": "[encoded data removed]",
      "text/plain": [
       "<Figure size 432x288 with 1 Axes>"
      ]
     },
     "metadata": {},
     "output_type": "display_data"
    }
   ],
   "source": [
    "show_img(py[6]>0);"
   ]
  },
  {
   "cell_type": "code",
   "execution_count": 225,
   "metadata": {},
   "outputs": [
    {
     "data": {
      "image/png": "[encoded data removed]",
      "text/plain": [
       "<Figure size 432x288 with 1 Axes>"
      ]
     },
     "metadata": {},
     "output_type": "display_data"
    }
   ],
   "source": [
    "show_img(py[6]);"
   ]
  },
  {
   "cell_type": "code",
   "execution_count": 226,
   "metadata": {},
   "outputs": [
    {
     "data": {
      "image/png": "[encoded data removed]",
      "text/plain": [
       "<Figure size 432x288 with 1 Axes>"
      ]
     },
     "metadata": {},
     "output_type": "display_data"
    }
   ],
   "source": [
    "show_img(y[6]);"
   ]
  },
  {
   "cell_type": "code",
   "execution_count": 227,
   "metadata": {},
   "outputs": [
    {
     "name": "stdout",
     "output_type": "stream",
     "text": [
      "                                             \r"
     ]
    }
   ],
   "source": [
    "log_preds, y = learn.TTA(is_test=True)"
   ]
  },
  {
   "cell_type": "code",
   "execution_count": 228,
   "metadata": {},
   "outputs": [],
   "source": [
    "probs = np.mean(log_preds,0)"
   ]
  },
  {
   "cell_type": "code",
   "execution_count": 229,
   "metadata": {},
   "outputs": [
    {
     "data": {
      "text/plain": [
       "(5, 18000, 128, 128)"
      ]
     },
     "execution_count": 229,
     "metadata": {},
     "output_type": "execute_result"
    }
   ],
   "source": [
    "log_preds.shape"
   ]
  },
  {
   "cell_type": "code",
   "execution_count": 230,
   "metadata": {},
   "outputs": [
    {
     "data": {
      "image/png": "[encoded data removed]",
      "text/plain": [
       "<Figure size 432x288 with 1 Axes>"
      ]
     },
     "metadata": {},
     "output_type": "display_data"
    }
   ],
   "source": [
    "show_img(probs[6]>best_thres);"
   ]
  },
  {
   "cell_type": "code",
   "execution_count": 231,
   "metadata": {},
   "outputs": [
    {
     "data": {
      "image/png": "[encoded data removed]",
      "text/plain": [
       "<Figure size 432x288 with 1 Axes>"
      ]
     },
     "metadata": {},
     "output_type": "display_data"
    }
   ],
   "source": [
    "show_img(probs[6]);"
   ]
  },
  {
   "cell_type": "code",
   "execution_count": 232,
   "metadata": {},
   "outputs": [
    {
     "data": {
      "image/png": "[encoded data removed]",
      "text/plain": [
       "<Figure size 432x288 with 1 Axes>"
      ]
     },
     "metadata": {},
     "output_type": "display_data"
    }
   ],
   "source": [
    "show_img(y[6]);"
   ]
  },
  {
   "cell_type": "code",
   "execution_count": 233,
   "metadata": {},
   "outputs": [
    {
     "data": {
      "image/png": "[encoded data removed]",
      "text/plain": [
       "<Figure size 432x288 with 1 Axes>"
      ]
     },
     "metadata": {},
     "output_type": "display_data"
    }
   ],
   "source": [
    "show_img(x[6][0]);"
   ]
  },
  {
   "cell_type": "code",
   "execution_count": 234,
   "metadata": {},
   "outputs": [],
   "source": [
    "with open(f'{PATH}/probs.pkl', 'wb') as fout: #Save results\n",
    "    pickle.dump(probs, fout)"
   ]
  },
  {
   "cell_type": "code",
   "execution_count": 235,
   "metadata": {},
   "outputs": [
    {
     "data": {
      "text/plain": [
       "(18000, 128, 128)"
      ]
     },
     "execution_count": 235,
     "metadata": {},
     "output_type": "execute_result"
    }
   ],
   "source": [
    "probs.shape"
   ]
  },
  {
   "cell_type": "code",
   "execution_count": 236,
   "metadata": {},
   "outputs": [],
   "source": [
    "def resize_img(fn):\n",
    "    return np.array(Image.fromarray(fn).resize((101,101)))\n",
    "\n",
    "resizePreds = np.array([resize_img(x) for x in probs])"
   ]
  },
  {
   "cell_type": "code",
   "execution_count": 237,
   "metadata": {},
   "outputs": [
    {
     "data": {
      "text/plain": [
       "(18000, 101, 101)"
      ]
     },
     "execution_count": 237,
     "metadata": {},
     "output_type": "execute_result"
    }
   ],
   "source": [
    "resizePreds.shape"
   ]
  },
  {
   "cell_type": "code",
   "execution_count": 238,
   "metadata": {},
   "outputs": [
    {
     "data": {
      "image/png": "[encoded data removed]",
      "text/plain": [
       "<Figure size 432x288 with 1 Axes>"
      ]
     },
     "metadata": {},
     "output_type": "display_data"
    }
   ],
   "source": [
    "show_img(resizePreds[6]);"
   ]
  },
  {
   "cell_type": "code",
   "execution_count": 239,
   "metadata": {},
   "outputs": [
    {
     "data": {
      "text/plain": [
       "array(['/home/giles/Downloads/fastai_data/salt/test-128/ac26efe98e.png',\n",
       "       '/home/giles/Downloads/fastai_data/salt/test-128/0a5eac8775.png',\n",
       "       '/home/giles/Downloads/fastai_data/salt/test-128/bdb1c1fcbf.png', ...,\n",
       "       '/home/giles/Downloads/fastai_data/salt/test-128/3bceaa0303.png',\n",
       "       '/home/giles/Downloads/fastai_data/salt/test-128/96867a3897.png',\n",
       "       '/home/giles/Downloads/fastai_data/salt/test-128/52f6267e3f.png'], dtype='<U62')"
      ]
     },
     "execution_count": 239,
     "metadata": {},
     "output_type": "execute_result"
    }
   ],
   "source": [
    "testData"
   ]
  },
  {
   "cell_type": "code",
   "execution_count": 240,
   "metadata": {},
   "outputs": [
    {
     "data": {
      "text/plain": [
       "'/home/giles/Downloads/fastai_data/salt/test'"
      ]
     },
     "execution_count": 240,
     "metadata": {},
     "output_type": "execute_result"
    }
   ],
   "source": [
    "f'{PATH}/test'"
   ]
  },
  {
   "cell_type": "code",
   "execution_count": 241,
   "metadata": {},
   "outputs": [],
   "source": [
    "test_ids = next(os.walk(f'{PATH}/test'))[2]"
   ]
  },
  {
   "cell_type": "code",
   "execution_count": 242,
   "metadata": {},
   "outputs": [],
   "source": [
    "def RLenc(img, order='F', format=True):\n",
    "    \"\"\"\n",
    "    img is binary mask image, shape (r,c)\n",
    "    order is down-then-right, i.e. Fortran\n",
    "    format determines if the order needs to be preformatted (according to submission rules) or not\n",
    "\n",
    "    returns run length as an array or string (if format is True)\n",
    "    \"\"\"\n",
    "    bytes = img.reshape(img.shape[0] * img.shape[1], order=order)\n",
    "    runs = []  ## list of run lengths\n",
    "    r = 0  ## the current run length\n",
    "    pos = 1  ## count starts from 1 per WK\n",
    "    for c in bytes:\n",
    "        if (c == 0):\n",
    "            if r != 0:\n",
    "                runs.append((pos, r))\n",
    "                pos += r\n",
    "                r = 0\n",
    "            pos += 1\n",
    "        else:\n",
    "            r += 1\n",
    "\n",
    "    # if last run is unsaved (i.e. data ends with 1)\n",
    "    if r != 0:\n",
    "        runs.append((pos, r))\n",
    "        pos += r\n",
    "        r = 0\n",
    "\n",
    "    if format:\n",
    "        z = ''\n",
    "\n",
    "        for rr in runs:\n",
    "            z += '{} {} '.format(rr[0], rr[1])\n",
    "        return z[:-1]\n",
    "    else:\n",
    "        return runs"
   ]
  },
  {
   "cell_type": "code",
   "execution_count": 243,
   "metadata": {},
   "outputs": [
    {
     "data": {
      "application/vnd.jupyter.widget-view+json": {
       "model_id": "31c9058d75604fa181633182a65877dc",
       "version_major": 2,
       "version_minor": 0
      },
      "text/plain": [
       "HBox(children=(IntProgress(value=1, bar_style='info', max=1), HTML(value='')))"
      ]
     },
     "metadata": {},
     "output_type": "display_data"
    },
    {
     "name": "stdout",
     "output_type": "stream",
     "text": [
      "\n"
     ]
    }
   ],
   "source": [
    "pred_dict = {id_[:-4]:RLenc(np.round(resizePreds[i] > best_thres)) for i,id_ in tqdm_notebook(enumerate(test_ids))}"
   ]
  },
  {
   "cell_type": "code",
   "execution_count": 244,
   "metadata": {},
   "outputs": [],
   "source": [
    "sub = pd.DataFrame.from_dict(pred_dict,orient='index')\n",
    "sub.index.names = ['id']\n",
    "sub.columns = ['rle_mask']\n",
    "sub.to_csv('submission.csv')"
   ]
  },
  {
   "cell_type": "code",
   "execution_count": 245,
   "metadata": {},
   "outputs": [
    {
     "data": {
      "text/html": [
       "<div>\n",
       "<style scoped>\n",
       "    .dataframe tbody tr th:only-of-type {\n",
       "        vertical-align: middle;\n",
       "    }\n",
       "\n",
       "    .dataframe tbody tr th {\n",
       "        vertical-align: top;\n",
       "    }\n",
       "\n",
       "    .dataframe thead th {\n",
       "        text-align: right;\n",
       "    }\n",
       "</style>\n",
       "<table border=\"1\" class=\"dataframe\">\n",
       "  <thead>\n",
       "    <tr style=\"text-align: right;\">\n",
       "      <th></th>\n",
       "      <th>rle_mask</th>\n",
       "    </tr>\n",
       "    <tr>\n",
       "      <th>id</th>\n",
       "      <th></th>\n",
       "    </tr>\n",
       "  </thead>\n",
       "  <tbody>\n",
       "    <tr>\n",
       "      <th>ac26efe98e</th>\n",
       "      <td>1 42 102 42 203 41 304 41 405 40 506 40 607 39...</td>\n",
       "    </tr>\n",
       "    <tr>\n",
       "      <th>0a5eac8775</th>\n",
       "      <td></td>\n",
       "    </tr>\n",
       "    <tr>\n",
       "      <th>bdb1c1fcbf</th>\n",
       "      <td></td>\n",
       "    </tr>\n",
       "    <tr>\n",
       "      <th>5358961921</th>\n",
       "      <td></td>\n",
       "    </tr>\n",
       "    <tr>\n",
       "      <th>b7b72a69d1</th>\n",
       "      <td></td>\n",
       "    </tr>\n",
       "    <tr>\n",
       "      <th>c1169d47ce</th>\n",
       "      <td></td>\n",
       "    </tr>\n",
       "    <tr>\n",
       "      <th>89eb8ef89f</th>\n",
       "      <td>7069 2 7170 2 7270 3 7370 4 7468 7 7568 8 7668...</td>\n",
       "    </tr>\n",
       "    <tr>\n",
       "      <th>696d91b37e</th>\n",
       "      <td></td>\n",
       "    </tr>\n",
       "    <tr>\n",
       "      <th>73053e4d03</th>\n",
       "      <td>1 13 102 13 203 13 304 13 405 13 506 15 607 15...</td>\n",
       "    </tr>\n",
       "    <tr>\n",
       "      <th>68dd1c44ae</th>\n",
       "      <td></td>\n",
       "    </tr>\n",
       "    <tr>\n",
       "      <th>6ba0ff2b77</th>\n",
       "      <td>70 7 89 2 170 8 190 2 272 7 291 2 373 7 392 2 ...</td>\n",
       "    </tr>\n",
       "    <tr>\n",
       "      <th>b2d2951f0e</th>\n",
       "      <td>4757 12 4855 19 4956 19 5051 17 5152 16 5253 1...</td>\n",
       "    </tr>\n",
       "    <tr>\n",
       "      <th>0642eb11c7</th>\n",
       "      <td>3431 4 3530 6 3631 6 3727 11 3825 1 3827 12 39...</td>\n",
       "    </tr>\n",
       "    <tr>\n",
       "      <th>285c426094</th>\n",
       "      <td>3731 1 3734 4 3825 14 3914 1 3916 24 4010 31 4...</td>\n",
       "    </tr>\n",
       "    <tr>\n",
       "      <th>750bd2308b</th>\n",
       "      <td>7 32 108 32 209 44 310 44 359 1 411 57 469 12 ...</td>\n",
       "    </tr>\n",
       "    <tr>\n",
       "      <th>b8f80587f1</th>\n",
       "      <td>3031 2 3132 2 3233 5 3334 6 3435 7 3536 8 3637...</td>\n",
       "    </tr>\n",
       "    <tr>\n",
       "      <th>b23429fadf</th>\n",
       "      <td></td>\n",
       "    </tr>\n",
       "    <tr>\n",
       "      <th>adecc7ecaa</th>\n",
       "      <td>2 42 45 1 104 1 106 39 205 1 208 34 310 33 411...</td>\n",
       "    </tr>\n",
       "    <tr>\n",
       "      <th>e1cbce6620</th>\n",
       "      <td>1 69 77 1 102 69 178 1 203 69 279 1 304 73 380...</td>\n",
       "    </tr>\n",
       "    <tr>\n",
       "      <th>74a3b69852</th>\n",
       "      <td>65 37 165 38 265 39 365 40 465 41 564 43 662 2...</td>\n",
       "    </tr>\n",
       "    <tr>\n",
       "      <th>b0c2b9a9f2</th>\n",
       "      <td></td>\n",
       "    </tr>\n",
       "    <tr>\n",
       "      <th>4e89a48b43</th>\n",
       "      <td>94 8 197 6 299 5 401 4 503 3 605 2 707 1</td>\n",
       "    </tr>\n",
       "    <tr>\n",
       "      <th>85813f234e</th>\n",
       "      <td>22 80 122 81 222 82 320 85 421 85 522 85 622 8...</td>\n",
       "    </tr>\n",
       "    <tr>\n",
       "      <th>28708ca79f</th>\n",
       "      <td></td>\n",
       "    </tr>\n",
       "    <tr>\n",
       "      <th>593e0e741f</th>\n",
       "      <td></td>\n",
       "    </tr>\n",
       "    <tr>\n",
       "      <th>10af7026ff</th>\n",
       "      <td>1 7064 7071 86 7172 84 7273 78 7352 1 7374 70 ...</td>\n",
       "    </tr>\n",
       "    <tr>\n",
       "      <th>18606906bc</th>\n",
       "      <td></td>\n",
       "    </tr>\n",
       "    <tr>\n",
       "      <th>17a5a58850</th>\n",
       "      <td></td>\n",
       "    </tr>\n",
       "    <tr>\n",
       "      <th>529cd39ad9</th>\n",
       "      <td>14 8 23 3 39 20 115 12 140 20 216 15 235 26 30...</td>\n",
       "    </tr>\n",
       "    <tr>\n",
       "      <th>1356069815</th>\n",
       "      <td>1 1413 1415 100 1516 99 1617 99 1718 99 1819 9...</td>\n",
       "    </tr>\n",
       "    <tr>\n",
       "      <th>...</th>\n",
       "      <td>...</td>\n",
       "    </tr>\n",
       "    <tr>\n",
       "      <th>ba588ce106</th>\n",
       "      <td>1314 13 1415 16 1516 25 1617 25 1718 31 1819 3...</td>\n",
       "    </tr>\n",
       "    <tr>\n",
       "      <th>1b2fa5d4f5</th>\n",
       "      <td>7310 1 7406 6 7505 8 7601 13</td>\n",
       "    </tr>\n",
       "    <tr>\n",
       "      <th>38599bb2b5</th>\n",
       "      <td></td>\n",
       "    </tr>\n",
       "    <tr>\n",
       "      <th>78fb3ab862</th>\n",
       "      <td></td>\n",
       "    </tr>\n",
       "    <tr>\n",
       "      <th>eb0707f881</th>\n",
       "      <td>8989 1 9090 1 9191 1 9291 2 9392 2 9493 2 9595...</td>\n",
       "    </tr>\n",
       "    <tr>\n",
       "      <th>ff2ebb3e79</th>\n",
       "      <td>4911 1 5703 4 6157 2 6208 4 6258 1 6306 7 6869...</td>\n",
       "    </tr>\n",
       "    <tr>\n",
       "      <th>0f23861d30</th>\n",
       "      <td></td>\n",
       "    </tr>\n",
       "    <tr>\n",
       "      <th>04fe99f3e4</th>\n",
       "      <td></td>\n",
       "    </tr>\n",
       "    <tr>\n",
       "      <th>d832b3d757</th>\n",
       "      <td></td>\n",
       "    </tr>\n",
       "    <tr>\n",
       "      <th>646dc6b247</th>\n",
       "      <td></td>\n",
       "    </tr>\n",
       "    <tr>\n",
       "      <th>3efd2d1d03</th>\n",
       "      <td></td>\n",
       "    </tr>\n",
       "    <tr>\n",
       "      <th>6c16057cd7</th>\n",
       "      <td>6867 2 6944 1 6964 6 7036 10 7136 11 7154 2 71...</td>\n",
       "    </tr>\n",
       "    <tr>\n",
       "      <th>48e7a5676b</th>\n",
       "      <td>9651 2 9751 3 9796 1 9854 1 9949 2 9952 10 100...</td>\n",
       "    </tr>\n",
       "    <tr>\n",
       "      <th>ce53de2451</th>\n",
       "      <td>1 4 102 5 203 6 304 8 405 8 506 9 607 8 708 8 ...</td>\n",
       "    </tr>\n",
       "    <tr>\n",
       "      <th>de6bc4b60f</th>\n",
       "      <td>907 2 1402 7 1503 7 1511 2 1604 7 1612 2 1705 ...</td>\n",
       "    </tr>\n",
       "    <tr>\n",
       "      <th>53c5b16111</th>\n",
       "      <td>1 2165 2172 2 2185 78 2264 1 2299 63 2404 56 2...</td>\n",
       "    </tr>\n",
       "    <tr>\n",
       "      <th>007176e42a</th>\n",
       "      <td>1 3324 3328 590 3919 236 4156 52 4209 3 4213 2...</td>\n",
       "    </tr>\n",
       "    <tr>\n",
       "      <th>55df1f35af</th>\n",
       "      <td>4 98 107 96 209 95 313 92 420 86 524 1 526 81 ...</td>\n",
       "    </tr>\n",
       "    <tr>\n",
       "      <th>354d881033</th>\n",
       "      <td>1 5454 5456 56 5516 15 5533 1 5536 1 5539 17 5...</td>\n",
       "    </tr>\n",
       "    <tr>\n",
       "      <th>752368df10</th>\n",
       "      <td></td>\n",
       "    </tr>\n",
       "    <tr>\n",
       "      <th>bb6a397bf9</th>\n",
       "      <td>1 39 102 41 203 44 304 44 405 44 506 47 556 3 ...</td>\n",
       "    </tr>\n",
       "    <tr>\n",
       "      <th>b74fcab200</th>\n",
       "      <td>86 16 186 17 286 18 386 19 486 20 586 21 688 2...</td>\n",
       "    </tr>\n",
       "    <tr>\n",
       "      <th>92ad1bf3e3</th>\n",
       "      <td>1 3131 3134 200 3335 100 3448 88 3553 84 3656 ...</td>\n",
       "    </tr>\n",
       "    <tr>\n",
       "      <th>4d6522470e</th>\n",
       "      <td></td>\n",
       "    </tr>\n",
       "    <tr>\n",
       "      <th>eb8d9a0d4a</th>\n",
       "      <td>39 63 143 60 247 57 349 56 452 54 557 50 667 4...</td>\n",
       "    </tr>\n",
       "    <tr>\n",
       "      <th>a7e060fec7</th>\n",
       "      <td>10003 1</td>\n",
       "    </tr>\n",
       "    <tr>\n",
       "      <th>76ff83530d</th>\n",
       "      <td>17 70 89 8 118 70 190 8 219 82 319 81 420 81 5...</td>\n",
       "    </tr>\n",
       "    <tr>\n",
       "      <th>3bceaa0303</th>\n",
       "      <td></td>\n",
       "    </tr>\n",
       "    <tr>\n",
       "      <th>96867a3897</th>\n",
       "      <td>7677 2</td>\n",
       "    </tr>\n",
       "    <tr>\n",
       "      <th>52f6267e3f</th>\n",
       "      <td></td>\n",
       "    </tr>\n",
       "  </tbody>\n",
       "</table>\n",
       "<p>18000 rows × 1 columns</p>\n",
       "</div>"
      ],
      "text/plain": [
       "                                                     rle_mask\n",
       "id                                                           \n",
       "ac26efe98e  1 42 102 42 203 41 304 41 405 40 506 40 607 39...\n",
       "0a5eac8775                                                   \n",
       "bdb1c1fcbf                                                   \n",
       "5358961921                                                   \n",
       "b7b72a69d1                                                   \n",
       "c1169d47ce                                                   \n",
       "89eb8ef89f  7069 2 7170 2 7270 3 7370 4 7468 7 7568 8 7668...\n",
       "696d91b37e                                                   \n",
       "73053e4d03  1 13 102 13 203 13 304 13 405 13 506 15 607 15...\n",
       "68dd1c44ae                                                   \n",
       "6ba0ff2b77  70 7 89 2 170 8 190 2 272 7 291 2 373 7 392 2 ...\n",
       "b2d2951f0e  4757 12 4855 19 4956 19 5051 17 5152 16 5253 1...\n",
       "0642eb11c7  3431 4 3530 6 3631 6 3727 11 3825 1 3827 12 39...\n",
       "285c426094  3731 1 3734 4 3825 14 3914 1 3916 24 4010 31 4...\n",
       "750bd2308b  7 32 108 32 209 44 310 44 359 1 411 57 469 12 ...\n",
       "b8f80587f1  3031 2 3132 2 3233 5 3334 6 3435 7 3536 8 3637...\n",
       "b23429fadf                                                   \n",
       "adecc7ecaa  2 42 45 1 104 1 106 39 205 1 208 34 310 33 411...\n",
       "e1cbce6620  1 69 77 1 102 69 178 1 203 69 279 1 304 73 380...\n",
       "74a3b69852  65 37 165 38 265 39 365 40 465 41 564 43 662 2...\n",
       "b0c2b9a9f2                                                   \n",
       "4e89a48b43           94 8 197 6 299 5 401 4 503 3 605 2 707 1\n",
       "85813f234e  22 80 122 81 222 82 320 85 421 85 522 85 622 8...\n",
       "28708ca79f                                                   \n",
       "593e0e741f                                                   \n",
       "10af7026ff  1 7064 7071 86 7172 84 7273 78 7352 1 7374 70 ...\n",
       "18606906bc                                                   \n",
       "17a5a58850                                                   \n",
       "529cd39ad9  14 8 23 3 39 20 115 12 140 20 216 15 235 26 30...\n",
       "1356069815  1 1413 1415 100 1516 99 1617 99 1718 99 1819 9...\n",
       "...                                                       ...\n",
       "ba588ce106  1314 13 1415 16 1516 25 1617 25 1718 31 1819 3...\n",
       "1b2fa5d4f5                       7310 1 7406 6 7505 8 7601 13\n",
       "38599bb2b5                                                   \n",
       "78fb3ab862                                                   \n",
       "eb0707f881  8989 1 9090 1 9191 1 9291 2 9392 2 9493 2 9595...\n",
       "ff2ebb3e79  4911 1 5703 4 6157 2 6208 4 6258 1 6306 7 6869...\n",
       "0f23861d30                                                   \n",
       "04fe99f3e4                                                   \n",
       "d832b3d757                                                   \n",
       "646dc6b247                                                   \n",
       "3efd2d1d03                                                   \n",
       "6c16057cd7  6867 2 6944 1 6964 6 7036 10 7136 11 7154 2 71...\n",
       "48e7a5676b  9651 2 9751 3 9796 1 9854 1 9949 2 9952 10 100...\n",
       "ce53de2451  1 4 102 5 203 6 304 8 405 8 506 9 607 8 708 8 ...\n",
       "de6bc4b60f  907 2 1402 7 1503 7 1511 2 1604 7 1612 2 1705 ...\n",
       "53c5b16111  1 2165 2172 2 2185 78 2264 1 2299 63 2404 56 2...\n",
       "007176e42a  1 3324 3328 590 3919 236 4156 52 4209 3 4213 2...\n",
       "55df1f35af  4 98 107 96 209 95 313 92 420 86 524 1 526 81 ...\n",
       "354d881033  1 5454 5456 56 5516 15 5533 1 5536 1 5539 17 5...\n",
       "752368df10                                                   \n",
       "bb6a397bf9  1 39 102 41 203 44 304 44 405 44 506 47 556 3 ...\n",
       "b74fcab200  86 16 186 17 286 18 386 19 486 20 586 21 688 2...\n",
       "92ad1bf3e3  1 3131 3134 200 3335 100 3448 88 3553 84 3656 ...\n",
       "4d6522470e                                                   \n",
       "eb8d9a0d4a  39 63 143 60 247 57 349 56 452 54 557 50 667 4...\n",
       "a7e060fec7                                            10003 1\n",
       "76ff83530d  17 70 89 8 118 70 190 8 219 82 319 81 420 81 5...\n",
       "3bceaa0303                                                   \n",
       "96867a3897                                             7677 2\n",
       "52f6267e3f                                                   \n",
       "\n",
       "[18000 rows x 1 columns]"
      ]
     },
     "execution_count": 245,
     "metadata": {},
     "output_type": "execute_result"
    }
   ],
   "source": [
    "sub"
   ]
  },
  {
   "cell_type": "code",
   "execution_count": null,
   "metadata": {},
   "outputs": [],
   "source": []
  }
 ],
 "metadata": {
  "kernelspec": {
   "display_name": "Python 3",
   "language": "python",
   "name": "python3"
  },
  "language_info": {
   "codemirror_mode": {
    "name": "ipython",
    "version": 3
   },
   "file_extension": ".py",
   "mimetype": "text/x-python",
   "name": "python",
   "nbconvert_exporter": "python",
   "pygments_lexer": "ipython3",
   "version": "3.6.5"
  },
  "toc": {
   "colors": {
    "hover_highlight": "#DAA520",
    "navigate_num": "#000000",
    "navigate_text": "#333333",
    "running_highlight": "#FF0000",
    "selected_highlight": "#FFD700",
    "sidebar_border": "#EEEEEE",
    "wrapper_background": "#FFFFFF"
   },
   "moveMenuLeft": true,
   "nav_menu": {
    "height": "86px",
    "width": "252px"
   },
   "navigate_menu": true,
   "number_sections": true,
   "sideBar": true,
   "threshold": 4,
   "toc_cell": false,
   "toc_section_display": "block",
   "toc_window_display": false,
   "widenNotebook": false
  }
 },
 "nbformat": 4,
 "nbformat_minor": 2
}
