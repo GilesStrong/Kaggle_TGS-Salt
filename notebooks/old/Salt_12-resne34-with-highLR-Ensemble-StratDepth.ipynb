{
 "cells": [
  {
   "cell_type": "code",
   "execution_count": 1,
   "metadata": {},
   "outputs": [],
   "source": [
    "%matplotlib inline\n",
    "%reload_ext autoreload\n",
    "%autoreload 2"
   ]
  },
  {
   "cell_type": "code",
   "execution_count": 2,
   "metadata": {},
   "outputs": [],
   "source": [
    "from fastai.conv_learner import *\n",
    "from fastai.dataset import *\n",
    "from fastai.models.resnet import vgg_resnet50\n",
    "from sklearn.model_selection import train_test_split\n",
    "import json"
   ]
  },
  {
   "cell_type": "code",
   "execution_count": 3,
   "metadata": {},
   "outputs": [],
   "source": [
    "#torch.cuda.set_device(2)"
   ]
  },
  {
   "cell_type": "code",
   "execution_count": 4,
   "metadata": {},
   "outputs": [],
   "source": [
    "torch.backends.cudnn.benchmark=True"
   ]
  },
  {
   "cell_type": "markdown",
   "metadata": {},
   "source": [
    "## Data"
   ]
  },
  {
   "cell_type": "code",
   "execution_count": 5,
   "metadata": {},
   "outputs": [],
   "source": [
    "PATH = Path('/home/giles/Downloads/fastai_data/salt/')\n",
    "MASKS_FN = 'train_masks.csv'\n",
    "META_FN = 'metadata.csv'\n",
    "masks_csv = pd.read_csv(PATH/MASKS_FN)\n",
    "meta_csv = pd.read_csv(PATH/META_FN, index_col='id')"
   ]
  },
  {
   "cell_type": "code",
   "execution_count": 6,
   "metadata": {},
   "outputs": [],
   "source": [
    "def show_img(im, figsize=None, ax=None, alpha=None):\n",
    "    if not ax: fig,ax = plt.subplots(figsize=figsize)\n",
    "    ax.imshow(im, alpha=alpha)\n",
    "    ax.set_axis_off()\n",
    "    return ax"
   ]
  },
  {
   "cell_type": "code",
   "execution_count": 7,
   "metadata": {},
   "outputs": [],
   "source": [
    "(PATH/'train_masks-128').mkdir(exist_ok=True)"
   ]
  },
  {
   "cell_type": "code",
   "execution_count": 8,
   "metadata": {},
   "outputs": [],
   "source": [
    "def resize_img(fn):\n",
    "    Image.open(fn).resize((128,128)).save((fn.parent.parent)/'train_masks-128'/fn.name)\n",
    "\n",
    "files = list((PATH/'train_masks').iterdir())\n",
    "with ThreadPoolExecutor(8) as e: e.map(resize_img, files)"
   ]
  },
  {
   "cell_type": "code",
   "execution_count": 9,
   "metadata": {},
   "outputs": [],
   "source": [
    "(PATH/'train-128').mkdir(exist_ok=True)"
   ]
  },
  {
   "cell_type": "code",
   "execution_count": 10,
   "metadata": {},
   "outputs": [],
   "source": [
    "def resize_img(fn):\n",
    "    Image.open(fn).resize((128,128)).save((fn.parent.parent)/'train-128'/fn.name)\n",
    "\n",
    "files = list((PATH/'train').iterdir())\n",
    "with ThreadPoolExecutor(8) as e: e.map(resize_img, files)"
   ]
  },
  {
   "cell_type": "code",
   "execution_count": 11,
   "metadata": {},
   "outputs": [],
   "source": [
    "TRAIN_DN = 'train-128'\n",
    "MASKS_DN = 'train_masks-128'\n",
    "sz = 32\n",
    "bs = 64\n",
    "nw = 16"
   ]
  },
  {
   "cell_type": "markdown",
   "metadata": {},
   "source": [
    "TRAIN_DN = 'train'\n",
    "MASKS_DN = 'train_masks_png'\n",
    "sz = 128\n",
    "bs = 64\n",
    "nw = 16"
   ]
  },
  {
   "cell_type": "code",
   "execution_count": 12,
   "metadata": {},
   "outputs": [],
   "source": [
    "class MatchedFilesDataset(FilesDataset):\n",
    "    def __init__(self, fnames, y, transform, path):\n",
    "        self.y=y\n",
    "        assert(len(fnames)==len(y))\n",
    "        super().__init__(fnames, transform, path)\n",
    "    def get_y(self, i): return open_image(os.path.join(self.path, self.y[i]))\n",
    "    def get_c(self): return 0"
   ]
  },
  {
   "cell_type": "code",
   "execution_count": 13,
   "metadata": {},
   "outputs": [],
   "source": [
    "x_names = np.array(glob(f'{PATH}/{TRAIN_DN}/*'))\n",
    "y_names = np.array(glob(f'{PATH}/{MASKS_DN}/*'))"
   ]
  },
  {
   "cell_type": "markdown",
   "metadata": {},
   "source": [
    "## Validation split"
   ]
  },
  {
   "cell_type": "code",
   "execution_count": 14,
   "metadata": {},
   "outputs": [
    {
     "data": {
      "text/plain": [
       "<matplotlib.axes._subplots.AxesSubplot at 0x7f76070b1c50>"
      ]
     },
     "execution_count": 14,
     "metadata": {},
     "output_type": "execute_result"
    },
    {
     "data": {
      "image/png": "[encoded data removed]",
      "text/plain": [
       "<Figure size 432x288 with 1 Axes>"
      ]
     },
     "metadata": {},
     "output_type": "display_data"
    }
   ],
   "source": [
    "meta_csv['z'].hist()"
   ]
  },
  {
   "cell_type": "code",
   "execution_count": 15,
   "metadata": {
    "scrolled": true
   },
   "outputs": [],
   "source": [
    "meta_csv['depth_bin'] = 0\n",
    "for d in range(1,5):\n",
    "    meta_csv.loc[meta_csv.z >= 200*d, 'depth_bin'] = d"
   ]
  },
  {
   "cell_type": "code",
   "execution_count": 16,
   "metadata": {},
   "outputs": [
    {
     "data": {
      "text/plain": [
       "<matplotlib.axes._subplots.AxesSubplot at 0x7f75aa9c5d68>"
      ]
     },
     "execution_count": 16,
     "metadata": {},
     "output_type": "execute_result"
    },
    {
     "data": {
      "image/png": "[encoded data removed]",
      "text/plain": [
       "<Figure size 432x288 with 1 Axes>"
      ]
     },
     "metadata": {},
     "output_type": "display_data"
    }
   ],
   "source": [
    "meta_csv['depth_bin'].hist()"
   ]
  },
  {
   "cell_type": "code",
   "execution_count": 17,
   "metadata": {},
   "outputs": [],
   "source": [
    "trainIds = [x[x.rfind('/')+1:x.rfind('.')] for x in x_names]"
   ]
  },
  {
   "cell_type": "code",
   "execution_count": 18,
   "metadata": {},
   "outputs": [
    {
     "data": {
      "text/plain": [
       "['d2b40a2781',\n",
       " '89dba191b1',\n",
       " 'e6ac2a35cd',\n",
       " '236a5cc090',\n",
       " 'f30e47cb36',\n",
       " 'e0bde1cf11',\n",
       " 'ad16edc8be',\n",
       " 'fa92bed2b1',\n",
       " '6d46f994ac',\n",
       " 'eabed5b2b4',\n",
       " '1cad8c327b',\n",
       " '2fe4adfd48',\n",
       " '24d67576d0',\n",
       " '60b3d0d613',\n",
       " 'c32752c00f',\n",
       " '0ab5e14937',\n",
       " '6738d474a3',\n",
       " '9d98768f19',\n",
       " 'b5893fc541',\n",
       " 'e337021e6a',\n",
       " '7f0bdb5e31',\n",
       " 'ff9b7d0d2e',\n",
       " '25bd98aec3',\n",
       " '24bf79cd1e',\n",
       " 'd66e51d456',\n",
       " 'dae1555fbf',\n",
       " '9a71e8563b',\n",
       " 'eb4efc4c39',\n",
       " '657f2c34f7',\n",
       " '0ce8a6ae62',\n",
       " '8d89d465fc',\n",
       " '4bb8260218',\n",
       " '921b60e76d',\n",
       " 'f5c2e66754',\n",
       " '7eb42fe5ec',\n",
       " 'fea1ff8505',\n",
       " '2fe0292eea',\n",
       " 'c5493cc7b0',\n",
       " '8b44342fd9',\n",
       " 'badb3ea766',\n",
       " '730eee262c',\n",
       " '46673b0e2d',\n",
       " '21df07989f',\n",
       " '7fc1ce1cb4',\n",
       " 'a4e90eef39',\n",
       " '312c4ce754',\n",
       " 'e8b730fe92',\n",
       " '499560e566',\n",
       " 'f62410bce9',\n",
       " '2b76b47947',\n",
       " '39400e0443',\n",
       " 'f87154ea7b',\n",
       " '40aaac97b1',\n",
       " '0589f557d7',\n",
       " '15d76f1672',\n",
       " '7a0c8915be',\n",
       " 'de261976e6',\n",
       " 'e8d6412ed8',\n",
       " 'c82dabf9b1',\n",
       " 'a1e32a6815',\n",
       " '4a12baccc4',\n",
       " '59597a8431',\n",
       " '54cfa66336',\n",
       " '6edb010212',\n",
       " 'de7202d286',\n",
       " 'd567ba2b49',\n",
       " '43a1dbb062',\n",
       " '617c746fca',\n",
       " 'ce31ab9b97',\n",
       " '4b2af55ae6',\n",
       " '340c808130',\n",
       " 'c8404c2d4f',\n",
       " 'e4be64c1fb',\n",
       " 'e37b8208fa',\n",
       " '5c33b65396',\n",
       " '2fe186a2c6',\n",
       " 'd8b2dc2e8a',\n",
       " '776bdf9043',\n",
       " '590e6bdbef',\n",
       " '217eeca27e',\n",
       " '37251064bd',\n",
       " '32599d97bb',\n",
       " '7568a9474e',\n",
       " 'f9ef613aec',\n",
       " '6460ce2df7',\n",
       " '76b4df03dd',\n",
       " '29beb70925',\n",
       " '2615b5210d',\n",
       " '66e922c8d6',\n",
       " '9eb4a10b98',\n",
       " 'e86361f5d1',\n",
       " 'c023a62b96',\n",
       " 'dae96d99b2',\n",
       " 'f0ea2421f0',\n",
       " 'f85054273a',\n",
       " 'd2522cfc93',\n",
       " '9ce55dc2c9',\n",
       " '30307d5103',\n",
       " '021494f3aa',\n",
       " 'de15d35ebc',\n",
       " 'd83a74a082',\n",
       " '173dd2f369',\n",
       " '28ad4e60c5',\n",
       " '0461a2fb30',\n",
       " 'c112748161',\n",
       " '1a288f27bf',\n",
       " '2fb152d905',\n",
       " 'fd51e63c83',\n",
       " '3ddb2ff7a4',\n",
       " 'ff1e8ed948',\n",
       " '8b5757d8ee',\n",
       " 'e8cf12563d',\n",
       " 'c4b05c2eaa',\n",
       " '057eae4f34',\n",
       " 'c9da9c3d42',\n",
       " 'd99612d949',\n",
       " 'bc3156b1e4',\n",
       " '6994342067',\n",
       " '7b078e7517',\n",
       " '6ab003835b',\n",
       " '5ffd928d1e',\n",
       " 'bb455284f1',\n",
       " '12c92c9f70',\n",
       " 'e1984bebe3',\n",
       " '16017c8e02',\n",
       " '681ee85a7b',\n",
       " '3cc59342bd',\n",
       " 'b60fbb288b',\n",
       " 'ba6970504c',\n",
       " 'cb7cd324a5',\n",
       " '99f52af0ea',\n",
       " '5991bd3f1b',\n",
       " 'cc15d94784',\n",
       " 'c27409a765',\n",
       " '25845ace3d',\n",
       " 'b5bdff9392',\n",
       " '65fe1a0efc',\n",
       " '00950d1627',\n",
       " 'b8a9602e21',\n",
       " 'ebe64e1d15',\n",
       " '0401ae15d3',\n",
       " 'edf1e6ac00',\n",
       " 'cd2046479c',\n",
       " 'a4442fef48',\n",
       " '4ad8a63538',\n",
       " 'dc0119712d',\n",
       " '2424f4afc7',\n",
       " '0fd38464c3',\n",
       " '5ec4b8eff9',\n",
       " 'd765e53b37',\n",
       " 'cffbfab33b',\n",
       " 'e927f91b12',\n",
       " '72544ea5b6',\n",
       " '84e540208f',\n",
       " 'f9b7196dfc',\n",
       " 'fba91bfec8',\n",
       " '93f7759d52',\n",
       " '0c6ec35477',\n",
       " 'a86acaf330',\n",
       " 'e360f895de',\n",
       " 'e27400528c',\n",
       " '75fb579aa2',\n",
       " '0115703825',\n",
       " 'de39c2b892',\n",
       " 'e05db130be',\n",
       " 'a2a012f128',\n",
       " '581e7f38d7',\n",
       " '07e08eee37',\n",
       " '6abe55deaf',\n",
       " '58de316918',\n",
       " '992572448c',\n",
       " '2a9190ed84',\n",
       " '46bec86213',\n",
       " 'f78674d646',\n",
       " 'c2ca0ed857',\n",
       " '7633c6bb70',\n",
       " '174ebb49df',\n",
       " '023d486fba',\n",
       " '571e63d0bc',\n",
       " '32f1039c61',\n",
       " '3dc8ca137c',\n",
       " '875dda3975',\n",
       " 'd583d291ea',\n",
       " '83be4b6836',\n",
       " '2f917b1124',\n",
       " 'c4a681819d',\n",
       " '9492db510d',\n",
       " 'a8bfe7072c',\n",
       " '393f2db0b0',\n",
       " '10a1a5b78f',\n",
       " '53c79255ba',\n",
       " '7ab70da99b',\n",
       " '0ec68b2e42',\n",
       " 'ce1f9711bc',\n",
       " '4eccb0cb9d',\n",
       " 'd6b87a521f',\n",
       " 'd1f7d2876b',\n",
       " '1b71d67404',\n",
       " '190ea39ec4',\n",
       " 'e51bea30d0',\n",
       " 'aa791ce59a',\n",
       " '116bd22fd0',\n",
       " '02117a400e',\n",
       " '044106f759',\n",
       " 'a9fd8e2a06',\n",
       " 'fbc9a1149e',\n",
       " '24f27c4087',\n",
       " '32f4fd66ae',\n",
       " '5f48c8c123',\n",
       " 'a774562f5e',\n",
       " '74f00bb214',\n",
       " 'eeecc7ab39',\n",
       " '3072ae3119',\n",
       " '78f17697f2',\n",
       " '963189b39c',\n",
       " '640ceb328a',\n",
       " '6ebb6826bd',\n",
       " '01c2045d03',\n",
       " '5489a9e706',\n",
       " '20b26a6ea7',\n",
       " '3cf0203cfb',\n",
       " '8620f40403',\n",
       " 'd390b1cbef',\n",
       " '6c45d80d1e',\n",
       " '7469baeb8d',\n",
       " '5edb37f5a8',\n",
       " '8ce1df1a6a',\n",
       " 'e3755d5769',\n",
       " 'f21593cfa8',\n",
       " '6f79e6d54b',\n",
       " 'd31e3fbfdc',\n",
       " '2b30313d2c',\n",
       " '35ba6f2faf',\n",
       " 'a56ff4758a',\n",
       " 'a88dd59036',\n",
       " '7c61d788af',\n",
       " '20c99dee06',\n",
       " 'b2c6b8cf57',\n",
       " '380ff30e30',\n",
       " 'fb81781b44',\n",
       " '7ed79f8f56',\n",
       " '575d24d81d',\n",
       " '212ba67b51',\n",
       " '49f22705ea',\n",
       " '258a5db63e',\n",
       " '6d55cabc8d',\n",
       " '18fc51d517',\n",
       " '553733b17b',\n",
       " '923249032c',\n",
       " '356fa48ac4',\n",
       " '1efe1909ed',\n",
       " 'b76760a4a1',\n",
       " '2eae73b03a',\n",
       " '97adf32d4d',\n",
       " 'bbfb2201ce',\n",
       " 'b33b1f9db6',\n",
       " '16e308dbc3',\n",
       " '0f7aa746d6',\n",
       " '1313dbf1d7',\n",
       " 'b8b3f26ad4',\n",
       " '87c6bf0012',\n",
       " 'e5df7166bc',\n",
       " '70db04a203',\n",
       " '0f02cec809',\n",
       " 'fb5adc8df0',\n",
       " 'de95e861ac',\n",
       " 'abe74273c8',\n",
       " '5a6fa22207',\n",
       " '5fd2a3ef64',\n",
       " '63532a858b',\n",
       " 'e799fcac15',\n",
       " '13adf02399',\n",
       " '802df9bb5e',\n",
       " '6545c6235b',\n",
       " '75e041fbd8',\n",
       " 'bfc47bbe13',\n",
       " '6db821bf5f',\n",
       " '2bc8a3db3c',\n",
       " '1c02222ef8',\n",
       " 'f7e855fc40',\n",
       " '53de66df2a',\n",
       " 'ebdbbb52b5',\n",
       " 'c02071548b',\n",
       " '00a3af90ab',\n",
       " 'cb6c6c15ce',\n",
       " 'cc216a861c',\n",
       " '3984ed8d4e',\n",
       " '50b3aef4c4',\n",
       " '4a39459597',\n",
       " '331ec135dd',\n",
       " 'b0e479668d',\n",
       " '93f8f9e663',\n",
       " '91127f8cc2',\n",
       " '8db0a68a4c',\n",
       " '48bb098115',\n",
       " 'b5e1371b3b',\n",
       " 'e437c3912d',\n",
       " '368767c9fd',\n",
       " 'ce9c3510a8',\n",
       " 'f44f67efae',\n",
       " '62aad7556c',\n",
       " 'cb974e60ca',\n",
       " 'b8dea42e1a',\n",
       " 'cd249859fa',\n",
       " '7796858a9b',\n",
       " '3862950849',\n",
       " 'ae51614513',\n",
       " 'c1c6a1ebad',\n",
       " '03be56aa9a',\n",
       " '418a13df5c',\n",
       " '22fdf96a54',\n",
       " 'ae6ea6e613',\n",
       " 'fa59461848',\n",
       " 'ee5c6d6639',\n",
       " '8e13060816',\n",
       " 'e12cf83477',\n",
       " '12a953a079',\n",
       " '1ca865b041',\n",
       " '1621c14879',\n",
       " '21d01a8e82',\n",
       " 'ebe8198105',\n",
       " '7f0ee9c30a',\n",
       " '128f3b0e36',\n",
       " '9466e21e0d',\n",
       " 'b8c3ca0fab',\n",
       " '5cada3d3f1',\n",
       " '6e3bb2a882',\n",
       " 'ec649a86b2',\n",
       " 'e34c1220b1',\n",
       " '6092afaec7',\n",
       " '40d01e18a0',\n",
       " 'e045664b46',\n",
       " '6d17d3be2d',\n",
       " '7e40cdf1f3',\n",
       " 'be1f425eac',\n",
       " 'bec8f132d0',\n",
       " 'a94450f57e',\n",
       " '20658e781f',\n",
       " '7791af3409',\n",
       " 'a783bd82c5',\n",
       " '0d3b5ec2a8',\n",
       " 'ebdef67fa5',\n",
       " 'fe0ff502fb',\n",
       " 'f7380099f6',\n",
       " '89dc091930',\n",
       " '7ec64d2b8e',\n",
       " '77608c7770',\n",
       " '0f3118527c',\n",
       " 'b12a5a2b61',\n",
       " '761eaf3fa4',\n",
       " 'd06f237a79',\n",
       " 'a898892737',\n",
       " '98c6496076',\n",
       " '6a1fd3c67e',\n",
       " '03eed26d3e',\n",
       " '4c7e3c71e6',\n",
       " 'e4159ed1de',\n",
       " '5e3c2aa2bb',\n",
       " 'b966734278',\n",
       " 'ab82b9e44e',\n",
       " '67a8e23baa',\n",
       " '6cf284fb9e',\n",
       " '68d00224e0',\n",
       " '6d593a19d1',\n",
       " '7e92ab6fe8',\n",
       " 'eead2fc101',\n",
       " 'd6437d0c25',\n",
       " 'ea2fe8434f',\n",
       " '0b73b427d1',\n",
       " '4be0764138',\n",
       " '71ef380e21',\n",
       " 'c0aa0c7b66',\n",
       " '578b502c6d',\n",
       " '6ee755c67d',\n",
       " '6698a570b8',\n",
       " '96cc5caec0',\n",
       " '196cffdb4b',\n",
       " '90791c2417',\n",
       " 'b052410a6a',\n",
       " 'e340e7bfca',\n",
       " 'ec10996820',\n",
       " '396ae389d8',\n",
       " '4f62a5bb14',\n",
       " 'a5d2da8488',\n",
       " '5468ed796d',\n",
       " '131ca4b83d',\n",
       " '2388b3eb40',\n",
       " '7c0447f939',\n",
       " '50d3073821',\n",
       " '37c95ff7df',\n",
       " '503aba826b',\n",
       " 'd96af7c9cc',\n",
       " 'e3349e2125',\n",
       " '9b585a2ea0',\n",
       " '1ee0d5b4d0',\n",
       " '623565cb2c',\n",
       " 'b5448cb40a',\n",
       " 'd308ec69d3',\n",
       " '5800248c17',\n",
       " '8b4189c2a4',\n",
       " 'c59e5f46c0',\n",
       " '26382e2d1f',\n",
       " '4514d46495',\n",
       " 'e0751c41fd',\n",
       " 'd9cf4a6e42',\n",
       " '9dde6475f9',\n",
       " '857e511397',\n",
       " '6b95bc6c5f',\n",
       " '84b5568c2a',\n",
       " '48db3b8c5f',\n",
       " 'eb38db5443',\n",
       " '253eb71c3d',\n",
       " '5c297b5dcd',\n",
       " '3687839ecc',\n",
       " 'e7c54b5f4e',\n",
       " '7ec58d0743',\n",
       " '164873b51f',\n",
       " '7361f4e5bc',\n",
       " '4ee4b3485e',\n",
       " '8270908d6a',\n",
       " '37aa9fc79a',\n",
       " 'c756ff4e1f',\n",
       " '973a4f6dad',\n",
       " '25e519b494',\n",
       " '8d9b8d724a',\n",
       " '78c50b3977',\n",
       " '3782748f51',\n",
       " 'd3f3db7bd1',\n",
       " '114397189f',\n",
       " '7c2609c66c',\n",
       " '62d6a9b673',\n",
       " '5677f991b7',\n",
       " '1cb9549d2c',\n",
       " '7709ec3c5d',\n",
       " '38673ade97',\n",
       " 'c56524ded9',\n",
       " '7d8b219e1c',\n",
       " '7769e240f0',\n",
       " '6d69267940',\n",
       " '6558dcde17',\n",
       " 'f599fad413',\n",
       " '6d9b6a2c4b',\n",
       " '903206854b',\n",
       " 'b6520147bb',\n",
       " 'cdf9422054',\n",
       " '8ebceef687',\n",
       " 'dc4a1c9a30',\n",
       " '337b30caff',\n",
       " 'ff238df1c4',\n",
       " '27de423ad3',\n",
       " 'a9e940dccd',\n",
       " '94c2d96e56',\n",
       " '25db231ea0',\n",
       " '95a60e2f42',\n",
       " '9f2e5a8c24',\n",
       " '2d8a3a262b',\n",
       " '58edb9b58c',\n",
       " 'bab30e51b8',\n",
       " '9e7d89d4c0',\n",
       " '8b0d0b0633',\n",
       " '09e29fbb74',\n",
       " 'b749a000ea',\n",
       " 'ac1ea6faa4',\n",
       " '8201005b79',\n",
       " 'b57e98a275',\n",
       " '1ff0aa7f05',\n",
       " 'c33e3a20a4',\n",
       " 'c98504a8ab',\n",
       " '48940ae0b0',\n",
       " 'b7c462dd1c',\n",
       " '5b72ade49e',\n",
       " '0f762f2746',\n",
       " 'ea1a6e1b33',\n",
       " 'fd998a993b',\n",
       " '42a3baf571',\n",
       " '5b86544456',\n",
       " '964030c032',\n",
       " '935cba59ad',\n",
       " '4b72e35b8b',\n",
       " '956c91fe94',\n",
       " 'e2421eee13',\n",
       " 'e2a70ffdf6',\n",
       " '2d4e7a937b',\n",
       " '17bb0d4b3e',\n",
       " 'e82421363e',\n",
       " '09541ce79b',\n",
       " '269b6cad0d',\n",
       " 'a962f4c9b6',\n",
       " 'ddd3099877',\n",
       " '7812fc8116',\n",
       " 'b9ebcbc115',\n",
       " '813d6ad4ba',\n",
       " '939879034e',\n",
       " 'ad0e66eabf',\n",
       " 'ca58996278',\n",
       " '30082e87d9',\n",
       " 'c7a92a6707',\n",
       " 'a98ab1c549',\n",
       " '306e6e7743',\n",
       " '911efbb175',\n",
       " '6576184a08',\n",
       " '8138c79081',\n",
       " '49fe2ee7ba',\n",
       " 'd4d2ed6bd2',\n",
       " '2a49169951',\n",
       " '30d4fb116b',\n",
       " '5c8ce5869b',\n",
       " '135ae076e9',\n",
       " 'ab18a0a7fa',\n",
       " '8431a87cff',\n",
       " '6ec6e26ddd',\n",
       " 'adf2a57778',\n",
       " 'bbb762835a',\n",
       " '2d20ee4eff',\n",
       " 'aa94cfb806',\n",
       " '3f9df26c0c',\n",
       " '3ced3ed63e',\n",
       " 'fdc06fea10',\n",
       " 'd58653f803',\n",
       " '877f9dd0a7',\n",
       " '9f0ebbd210',\n",
       " '86c675c4fb',\n",
       " 'e10a1a3e81',\n",
       " '4bd876a71c',\n",
       " '5fe4e3f5e6',\n",
       " 'ec857f4518',\n",
       " '346358e652',\n",
       " 'd62ad254c6',\n",
       " '86f892ad2f',\n",
       " '7b4ccb8113',\n",
       " 'c7408f1d38',\n",
       " 'ce14d335bf',\n",
       " '774ee8afcf',\n",
       " '726a0d854d',\n",
       " 'b42ffc97d4',\n",
       " 'df3a1c2d7b',\n",
       " '569f85c4ce',\n",
       " '9128b824e5',\n",
       " 'a5805697c1',\n",
       " '54842b574a',\n",
       " '628f1de539',\n",
       " '48d34846d7',\n",
       " '4630209118',\n",
       " 'd17eee846e',\n",
       " '869f99406d',\n",
       " '495a2d3c7c',\n",
       " 'ba836c5ae1',\n",
       " 'f0d15c63c5',\n",
       " '843447abe4',\n",
       " '44d745a704',\n",
       " 'f362d474b7',\n",
       " '45a7562dbf',\n",
       " '2b2fc71ee1',\n",
       " '146ec37657',\n",
       " 'b77cc54800',\n",
       " '5ebe9e404d',\n",
       " '72e05a5a33',\n",
       " '7cf386709a',\n",
       " '702209f0b3',\n",
       " '9e9f3940a9',\n",
       " '3116a9d54c',\n",
       " '54a3636ba6',\n",
       " 'ee0be71990',\n",
       " '8d839a365b',\n",
       " '340fe814a3',\n",
       " 'de08c5a3b7',\n",
       " 'f06ef6c8b7',\n",
       " '64bfdd0b9a',\n",
       " 'dd6a04d456',\n",
       " '9e8e175c01',\n",
       " '4d1efb19d7',\n",
       " '44f5dd71ab',\n",
       " '41a4f7424e',\n",
       " '881407fa84',\n",
       " '8a58fe70f8',\n",
       " 'efec1f093e',\n",
       " 'c387a012fc',\n",
       " 'c4ed7cdb1c',\n",
       " '8db5bf9be2',\n",
       " '63e32c0cfb',\n",
       " 'e7f0e30585',\n",
       " 'f64190c47e',\n",
       " '9385125b12',\n",
       " 'c073b8930c',\n",
       " '8d9314a9f4',\n",
       " 'fa2ebd1083',\n",
       " '81fa3d59b8',\n",
       " '216aa6275d',\n",
       " '6138f82415',\n",
       " '155bcd4b4d',\n",
       " 'b07fc3b87c',\n",
       " '130229ec15',\n",
       " '05a61e5799',\n",
       " '1d7a812c76',\n",
       " 'b6c52b4a53',\n",
       " '57293a65d5',\n",
       " '1aef65e24b',\n",
       " '9e9ce2e1ce',\n",
       " '62715133c5',\n",
       " '2a484baa26',\n",
       " '56d6d999b8',\n",
       " '8164beeaf5',\n",
       " 'ff2c353279',\n",
       " '4f5df40ab2',\n",
       " 'c66a9ea31d',\n",
       " '7f3e8a8526',\n",
       " '3fd0ef2d38',\n",
       " 'e060d5ca41',\n",
       " '4210e9e5d3',\n",
       " '8e48de3b3b',\n",
       " '5ecf1f5cb4',\n",
       " '74d7a9df8b',\n",
       " '3276e900a7',\n",
       " 'a5005ea567',\n",
       " '72c2499de9',\n",
       " 'cf11876547',\n",
       " '3d6d400816',\n",
       " '17dde2138e',\n",
       " 'bb697642ae',\n",
       " 'd606f4a578',\n",
       " '96f26f6397',\n",
       " 'a93c251217',\n",
       " '877d1a7ebe',\n",
       " '25edb9edb3',\n",
       " '08c2070b20',\n",
       " '3f8634704b',\n",
       " '13483cd62a',\n",
       " 'f87365827d',\n",
       " '966fb0cdbb',\n",
       " '5108785aaf',\n",
       " '86bc03a8a6',\n",
       " 'd80ead8703',\n",
       " '437fbb64d4',\n",
       " 'dd11ae96e3',\n",
       " '2b55bdbda1',\n",
       " '2bfa664017',\n",
       " 'bf00a0ab71',\n",
       " '86fe531971',\n",
       " '2af240d261',\n",
       " '29162a3471',\n",
       " '2eca5f70b1',\n",
       " '5df9874c5b',\n",
       " '3ad9500e43',\n",
       " 'c92c37ecd7',\n",
       " 'fdd73141d6',\n",
       " 'def16cd3d7',\n",
       " 'bea9b0571b',\n",
       " 'ef13247eed',\n",
       " '3dc4b77bb5',\n",
       " 'da082ec985',\n",
       " '47bd268dcd',\n",
       " 'b83bc9dfa7',\n",
       " 'a076699b79',\n",
       " '13209940d7',\n",
       " '6d03f91961',\n",
       " 'fff4eb4941',\n",
       " 'fbd61072f4',\n",
       " 'c37e74bffc',\n",
       " 'f724f78b1a',\n",
       " '25a9f40814',\n",
       " '60bbd166a4',\n",
       " '7547289453',\n",
       " 'cadb46b378',\n",
       " '8a1aed2c83',\n",
       " '9bf8a38b92',\n",
       " '2ce9c36a98',\n",
       " '638d8572e9',\n",
       " '7deaf30c4a',\n",
       " '7e67ef84e1',\n",
       " '75b4a808b3',\n",
       " '9c4c524983',\n",
       " 'a8e5845bf9',\n",
       " 'a6ec5aa914',\n",
       " '2444e83809',\n",
       " '4a5595076f',\n",
       " 'b240778420',\n",
       " '27f923aac9',\n",
       " 'fff2abcaf9',\n",
       " 'b521c9ddf3',\n",
       " '2af3c055b2',\n",
       " '12e94a5a08',\n",
       " '790f497dc8',\n",
       " '1414606ab4',\n",
       " '81d37cb5fd',\n",
       " '4702cdd4f0',\n",
       " 'a8aeef5395',\n",
       " 'fe9e558605',\n",
       " '7f826d312e',\n",
       " '61cfb43abf',\n",
       " 'd7cf3bf4e9',\n",
       " 'd7f48d294e',\n",
       " 'dd5a90cf89',\n",
       " '740070f15a',\n",
       " '9a9ff1beca',\n",
       " '0eb52aa52a',\n",
       " 'aa21ba676c',\n",
       " '04234be388',\n",
       " 'ec406285e8',\n",
       " '7c6221dbb8',\n",
       " '92d116836e',\n",
       " '8c1d0929a2',\n",
       " 'e0d98e6fde',\n",
       " 'c100d07aa9',\n",
       " 'aedad85e8c',\n",
       " '042c3d4e03',\n",
       " '7ede03dede',\n",
       " 'df47f2e681',\n",
       " 'b70f0ab0c2',\n",
       " 'b1e590d1c9',\n",
       " '980570ed7e',\n",
       " '5d4dcb9d8b',\n",
       " '26000ba320',\n",
       " 'af6fe9a9c8',\n",
       " '981f73e811',\n",
       " 'b2f87059da',\n",
       " '185172060e',\n",
       " 'b10fa280bf',\n",
       " 'ba67135a54',\n",
       " '9b656c339a',\n",
       " '5187e13789',\n",
       " '96216dae3b',\n",
       " 'dfe111dace',\n",
       " '691dc0bc42',\n",
       " '93d21b7636',\n",
       " '2ffe02e882',\n",
       " 'c137712b61',\n",
       " 'a6ba9b9f91',\n",
       " '99ee31b5bc',\n",
       " '782ae9b7e7',\n",
       " 'fc87224914',\n",
       " 'c4adb6e891',\n",
       " '46386ca4a3',\n",
       " '58777a8c79',\n",
       " '2fbde8630d',\n",
       " '387b6956c4',\n",
       " 'fcbc5cef9d',\n",
       " '19d821e8e4',\n",
       " '0fc5ad7e3b',\n",
       " '61321814ce',\n",
       " 'fbfa863bd4',\n",
       " '3320eb35e4',\n",
       " 'af171a3570',\n",
       " '19902af6bd',\n",
       " '851a37ac37',\n",
       " '479cb24efb',\n",
       " '44ccc2d846',\n",
       " 'aff8ae9d4d',\n",
       " '9ba564058f',\n",
       " 'abb1521de8',\n",
       " 'aba57f0f2c',\n",
       " '7845115d01',\n",
       " 'f5b2861c9b',\n",
       " 'fc250f574c',\n",
       " 'd47c78058a',\n",
       " '96857148ca',\n",
       " 'dce4c70a99',\n",
       " '7488e076ca',\n",
       " 'd4d964f62d',\n",
       " '27ec51c877',\n",
       " 'eec3f628d6',\n",
       " '432b8b6a71',\n",
       " '168f625d62',\n",
       " 'fcce81906d',\n",
       " '5bb976391e',\n",
       " '6ecba60505',\n",
       " '755c1e849f',\n",
       " '4ebed82264',\n",
       " '494daad56b',\n",
       " 'eec5e72dad',\n",
       " '15d079a8e8',\n",
       " '7d0b2f2046',\n",
       " 'a959b2372a',\n",
       " '7af5b00299',\n",
       " 'a531b78648',\n",
       " '1a7f8bd454',\n",
       " '5e09ef27a6',\n",
       " '9f3b8d0186',\n",
       " 'd204ea9f09',\n",
       " 'd967181724',\n",
       " '6a3d92ce59',\n",
       " 'd14db20055',\n",
       " 'f2d668f7e7',\n",
       " 'ef03d3e2fa',\n",
       " '0429d9759b',\n",
       " '8db9dc4a62',\n",
       " '83bb4578eb',\n",
       " 'b94a5b0bda',\n",
       " '76ba896225',\n",
       " '1c9fa3dff4',\n",
       " '8d141a0b7a',\n",
       " 'db75c6831e',\n",
       " '501c68e571',\n",
       " 'ce0e9def63',\n",
       " 'ea3cdbd7cd',\n",
       " 'a4ae0c0e35',\n",
       " '3b9586e2ff',\n",
       " 'd6471dc0a3',\n",
       " '8e7324c8ed',\n",
       " 'd2e14828d5',\n",
       " 'b9bb1b7b3f',\n",
       " 'ee7ff3b2fe',\n",
       " 'd65973824b',\n",
       " 'ad1e8ef844',\n",
       " '17be1887b9',\n",
       " '053a6f6704',\n",
       " 'ad6e3961d4',\n",
       " 'edc9fb3512',\n",
       " 'fd63516ff4',\n",
       " '56d025f76c',\n",
       " '0a19821a16',\n",
       " '631dacfc0f',\n",
       " '66eeb09788',\n",
       " '24a38972a3',\n",
       " '51e8e6bfc4',\n",
       " 'fcdf2756aa',\n",
       " 'b540435ae7',\n",
       " '055ec918b9',\n",
       " 'bd20d18369',\n",
       " '5bffe3b52f',\n",
       " 'e3e92cc747',\n",
       " 'b552fb0d9d',\n",
       " '6c5b8b3950',\n",
       " '4696bb53e6',\n",
       " 'aeb36c1964',\n",
       " 'd0cd29a61b',\n",
       " 'd21e3d7843',\n",
       " '31b003483c',\n",
       " '89ad7a93d6',\n",
       " 'a8247ac73a',\n",
       " '1f3299c2ba',\n",
       " '423800be38',\n",
       " 'fa01eb7fdf',\n",
       " 'de5a329823',\n",
       " '03511989ac',\n",
       " '7bfd026d91',\n",
       " 'd800abe6a4',\n",
       " '96f8fd0d4b',\n",
       " '154948ae6d',\n",
       " 'c5327d784b',\n",
       " '2fa889172a',\n",
       " 'b4f6d6f1aa',\n",
       " 'abcc448c24',\n",
       " '7beceb5850',\n",
       " '572f0b1ad8',\n",
       " 'a5299290bb',\n",
       " '27c4850501',\n",
       " '602dc99f10',\n",
       " 'e0fb508d51',\n",
       " '39a05bf91f',\n",
       " 'b964244dfd',\n",
       " '9fbd3ca3b5',\n",
       " 'b9afd7b728',\n",
       " 'a1585a58b8',\n",
       " '0bed5f2ace',\n",
       " '7b596fc561',\n",
       " '17dd87aefa',\n",
       " '72e1a1b225',\n",
       " '85670a7093',\n",
       " 'fe801cdc47',\n",
       " '12e859e91d',\n",
       " 'd3c8980685',\n",
       " 'd8aebd0f86',\n",
       " '80694aa70f',\n",
       " '4c7f2b2c18',\n",
       " 'f7e8060b57',\n",
       " 'aa97ecda8e',\n",
       " 'd00d1ea52b',\n",
       " 'a35ba23a41',\n",
       " 'efc705478f',\n",
       " '7d5c34a95a',\n",
       " '1664b6a6d5',\n",
       " '5c51c23a7b',\n",
       " '7f30236ca4',\n",
       " '0898e36ee6',\n",
       " '7aa7e1b355',\n",
       " 'f57cb32d6d',\n",
       " '325cde4fa9',\n",
       " '3662fffe30',\n",
       " '466548defe',\n",
       " 'cba568b15f',\n",
       " '26ae98fddb',\n",
       " 'd9d06aa699',\n",
       " '96998d1ad9',\n",
       " '90b14e3f04',\n",
       " '7616ee06bd',\n",
       " '9fe707f837',\n",
       " '9cbd5ddba4',\n",
       " 'e6674212ce',\n",
       " '351ea99ec3',\n",
       " '95af8ca744',\n",
       " '8f2087a1f5',\n",
       " '40e8e14e60',\n",
       " 'f429b8e6f8',\n",
       " '36ad52a2e8',\n",
       " 'ab7d09443f',\n",
       " 'd97f94a2dd',\n",
       " '0e16439e05',\n",
       " 'e1bd09e50b',\n",
       " '43ec939286',\n",
       " '849881c690',\n",
       " 'dbcfdf17a3',\n",
       " '999ae650f6',\n",
       " '1d80de2ec9',\n",
       " 'a7cfa30d35',\n",
       " 'e2d3957c95',\n",
       " '6636021b35',\n",
       " 'a266a2a9df',\n",
       " '4e51caa68e',\n",
       " '8f407b64ae',\n",
       " 'eaefc56247',\n",
       " 'a35792b156',\n",
       " '62966dffd3',\n",
       " '34f61e9a54',\n",
       " '69cddf572c',\n",
       " '1379940546',\n",
       " '76761b2a41',\n",
       " 'e26c381bd4',\n",
       " '452b06b003',\n",
       " 'e446b0b4b6',\n",
       " '31b1314c62',\n",
       " 'ca511bc319',\n",
       " '38a15dee44',\n",
       " 'c23d957c59',\n",
       " 'eb3a40225e',\n",
       " '6dba47cc58',\n",
       " '71f6fcb48a',\n",
       " '5ee2d40bbb',\n",
       " '3fc4d6b6ed',\n",
       " 'aeebdd4350',\n",
       " 'b51c130238',\n",
       " '40fbc03558',\n",
       " '9522339a9a',\n",
       " 'b942b38a45',\n",
       " 'e9ce8188b9',\n",
       " '21ec084221',\n",
       " 'eed6c66da4',\n",
       " 'dc4bf302e8',\n",
       " '42b9ff31aa',\n",
       " '31683f8a18',\n",
       " '6074c5b0bf',\n",
       " 'e865014246',\n",
       " '687dd94fee',\n",
       " 'b393a57640',\n",
       " 'f2259e86f4',\n",
       " '1e5e713964',\n",
       " '77abc5ed21',\n",
       " '75eaea4cdb',\n",
       " 'aa1c0ba47b',\n",
       " 'e63196d890',\n",
       " '5a02df7676',\n",
       " 'd12d5894b8',\n",
       " '96aeb8d018',\n",
       " 'e2e4fcf83e',\n",
       " '3b5e9c6e05',\n",
       " '86365721e2',\n",
       " '1bf062bda2',\n",
       " '6f5c2712b1',\n",
       " '299ef808f6',\n",
       " 'd752eaa82a',\n",
       " '2821f70a5a',\n",
       " '76e1428103',\n",
       " '6e1bb2e64a',\n",
       " 'f5a0acc480',\n",
       " '651b2c01bc',\n",
       " 'c2395da60e',\n",
       " '04f7a73f2b',\n",
       " '7738fbabca',\n",
       " '95bdc8b506',\n",
       " '1439570aec',\n",
       " 'ef6229f0db',\n",
       " '376e55e566',\n",
       " 'f7b1bd7c8a',\n",
       " '5b3b86341f',\n",
       " '8116fa64d4',\n",
       " 'e24e9afdd1',\n",
       " 'b2b0cd95a4',\n",
       " '180f0a1854',\n",
       " 'ffe228a7e3',\n",
       " '72ef4718f3',\n",
       " 'edd5fc6648',\n",
       " '7277ef5fef',\n",
       " '3525fcea1e',\n",
       " 'db0238e5c7',\n",
       " '85c191c52c',\n",
       " 'f0190fc4b4',\n",
       " '9f4471dcd6',\n",
       " 'bcbe3c0ee2',\n",
       " '1c0b2ceb2f',\n",
       " 'd69c382be5',\n",
       " '2b723b8474',\n",
       " '92a6b22052',\n",
       " '276807c93b',\n",
       " '57904adf94',\n",
       " '792929a4c8',\n",
       " '962348be7a',\n",
       " '495e5d8dc0',\n",
       " 'c824b8afaa',\n",
       " 'bce4cdea7f',\n",
       " '0fb7b2772a',\n",
       " 'd4d34af4f7',\n",
       " ...]"
      ]
     },
     "execution_count": 18,
     "metadata": {},
     "output_type": "execute_result"
    }
   ],
   "source": [
    "trainIds"
   ]
  },
  {
   "cell_type": "code",
   "execution_count": 19,
   "metadata": {},
   "outputs": [],
   "source": [
    "train_csv = meta_csv[meta_csv.index.isin(trainIds)]"
   ]
  },
  {
   "cell_type": "code",
   "execution_count": 20,
   "metadata": {},
   "outputs": [
    {
     "data": {
      "text/html": [
       "<div>\n",
       "<style scoped>\n",
       "    .dataframe tbody tr th:only-of-type {\n",
       "        vertical-align: middle;\n",
       "    }\n",
       "\n",
       "    .dataframe tbody tr th {\n",
       "        vertical-align: top;\n",
       "    }\n",
       "\n",
       "    .dataframe thead th {\n",
       "        text-align: right;\n",
       "    }\n",
       "</style>\n",
       "<table border=\"1\" class=\"dataframe\">\n",
       "  <thead>\n",
       "    <tr style=\"text-align: right;\">\n",
       "      <th></th>\n",
       "      <th>z</th>\n",
       "      <th>depth_bin</th>\n",
       "    </tr>\n",
       "    <tr>\n",
       "      <th>id</th>\n",
       "      <th></th>\n",
       "      <th></th>\n",
       "    </tr>\n",
       "  </thead>\n",
       "  <tbody>\n",
       "    <tr>\n",
       "      <th>4ac19fb269</th>\n",
       "      <td>306</td>\n",
       "      <td>1</td>\n",
       "    </tr>\n",
       "    <tr>\n",
       "      <th>1825fadf99</th>\n",
       "      <td>157</td>\n",
       "      <td>0</td>\n",
       "    </tr>\n",
       "    <tr>\n",
       "      <th>f59821d067</th>\n",
       "      <td>305</td>\n",
       "      <td>1</td>\n",
       "    </tr>\n",
       "    <tr>\n",
       "      <th>5b435fad9d</th>\n",
       "      <td>503</td>\n",
       "      <td>2</td>\n",
       "    </tr>\n",
       "    <tr>\n",
       "      <th>e340e7bfca</th>\n",
       "      <td>783</td>\n",
       "      <td>3</td>\n",
       "    </tr>\n",
       "  </tbody>\n",
       "</table>\n",
       "</div>"
      ],
      "text/plain": [
       "              z  depth_bin\n",
       "id                        \n",
       "4ac19fb269  306          1\n",
       "1825fadf99  157          0\n",
       "f59821d067  305          1\n",
       "5b435fad9d  503          2\n",
       "e340e7bfca  783          3"
      ]
     },
     "execution_count": 20,
     "metadata": {},
     "output_type": "execute_result"
    }
   ],
   "source": [
    "train_csv.head()"
   ]
  },
  {
   "cell_type": "code",
   "execution_count": 21,
   "metadata": {},
   "outputs": [
    {
     "data": {
      "text/plain": [
       "(4000, 4000)"
      ]
     },
     "execution_count": 21,
     "metadata": {},
     "output_type": "execute_result"
    }
   ],
   "source": [
    "len(x_names), len(train_csv)"
   ]
  },
  {
   "cell_type": "code",
   "execution_count": 22,
   "metadata": {},
   "outputs": [
    {
     "name": "stdout",
     "output_type": "stream",
     "text": [
      "['d2b40a2781', '89dba191b1', 'e6ac2a35cd', '236a5cc090', 'f30e47cb36', 'e0bde1cf11', 'ad16edc8be', 'fa92bed2b1', '6d46f994ac', 'eabed5b2b4']\n"
     ]
    },
    {
     "data": {
      "text/html": [
       "<div>\n",
       "<style scoped>\n",
       "    .dataframe tbody tr th:only-of-type {\n",
       "        vertical-align: middle;\n",
       "    }\n",
       "\n",
       "    .dataframe tbody tr th {\n",
       "        vertical-align: top;\n",
       "    }\n",
       "\n",
       "    .dataframe thead th {\n",
       "        text-align: right;\n",
       "    }\n",
       "</style>\n",
       "<table border=\"1\" class=\"dataframe\">\n",
       "  <thead>\n",
       "    <tr style=\"text-align: right;\">\n",
       "      <th></th>\n",
       "      <th>z</th>\n",
       "      <th>depth_bin</th>\n",
       "    </tr>\n",
       "    <tr>\n",
       "      <th>id</th>\n",
       "      <th></th>\n",
       "      <th></th>\n",
       "    </tr>\n",
       "  </thead>\n",
       "  <tbody>\n",
       "    <tr>\n",
       "      <th>d2b40a2781</th>\n",
       "      <td>587</td>\n",
       "      <td>2</td>\n",
       "    </tr>\n",
       "    <tr>\n",
       "      <th>89dba191b1</th>\n",
       "      <td>567</td>\n",
       "      <td>2</td>\n",
       "    </tr>\n",
       "    <tr>\n",
       "      <th>e6ac2a35cd</th>\n",
       "      <td>506</td>\n",
       "      <td>2</td>\n",
       "    </tr>\n",
       "    <tr>\n",
       "      <th>236a5cc090</th>\n",
       "      <td>676</td>\n",
       "      <td>3</td>\n",
       "    </tr>\n",
       "    <tr>\n",
       "      <th>f30e47cb36</th>\n",
       "      <td>368</td>\n",
       "      <td>1</td>\n",
       "    </tr>\n",
       "    <tr>\n",
       "      <th>e0bde1cf11</th>\n",
       "      <td>184</td>\n",
       "      <td>0</td>\n",
       "    </tr>\n",
       "    <tr>\n",
       "      <th>ad16edc8be</th>\n",
       "      <td>509</td>\n",
       "      <td>2</td>\n",
       "    </tr>\n",
       "    <tr>\n",
       "      <th>fa92bed2b1</th>\n",
       "      <td>810</td>\n",
       "      <td>4</td>\n",
       "    </tr>\n",
       "    <tr>\n",
       "      <th>6d46f994ac</th>\n",
       "      <td>676</td>\n",
       "      <td>3</td>\n",
       "    </tr>\n",
       "    <tr>\n",
       "      <th>eabed5b2b4</th>\n",
       "      <td>207</td>\n",
       "      <td>1</td>\n",
       "    </tr>\n",
       "    <tr>\n",
       "      <th>1cad8c327b</th>\n",
       "      <td>613</td>\n",
       "      <td>3</td>\n",
       "    </tr>\n",
       "    <tr>\n",
       "      <th>2fe4adfd48</th>\n",
       "      <td>813</td>\n",
       "      <td>4</td>\n",
       "    </tr>\n",
       "    <tr>\n",
       "      <th>24d67576d0</th>\n",
       "      <td>557</td>\n",
       "      <td>2</td>\n",
       "    </tr>\n",
       "    <tr>\n",
       "      <th>60b3d0d613</th>\n",
       "      <td>203</td>\n",
       "      <td>1</td>\n",
       "    </tr>\n",
       "    <tr>\n",
       "      <th>c32752c00f</th>\n",
       "      <td>378</td>\n",
       "      <td>1</td>\n",
       "    </tr>\n",
       "    <tr>\n",
       "      <th>0ab5e14937</th>\n",
       "      <td>830</td>\n",
       "      <td>4</td>\n",
       "    </tr>\n",
       "    <tr>\n",
       "      <th>6738d474a3</th>\n",
       "      <td>84</td>\n",
       "      <td>0</td>\n",
       "    </tr>\n",
       "    <tr>\n",
       "      <th>9d98768f19</th>\n",
       "      <td>791</td>\n",
       "      <td>3</td>\n",
       "    </tr>\n",
       "    <tr>\n",
       "      <th>b5893fc541</th>\n",
       "      <td>578</td>\n",
       "      <td>2</td>\n",
       "    </tr>\n",
       "    <tr>\n",
       "      <th>e337021e6a</th>\n",
       "      <td>701</td>\n",
       "      <td>3</td>\n",
       "    </tr>\n",
       "    <tr>\n",
       "      <th>7f0bdb5e31</th>\n",
       "      <td>451</td>\n",
       "      <td>2</td>\n",
       "    </tr>\n",
       "    <tr>\n",
       "      <th>ff9b7d0d2e</th>\n",
       "      <td>332</td>\n",
       "      <td>1</td>\n",
       "    </tr>\n",
       "    <tr>\n",
       "      <th>25bd98aec3</th>\n",
       "      <td>447</td>\n",
       "      <td>2</td>\n",
       "    </tr>\n",
       "    <tr>\n",
       "      <th>24bf79cd1e</th>\n",
       "      <td>453</td>\n",
       "      <td>2</td>\n",
       "    </tr>\n",
       "    <tr>\n",
       "      <th>d66e51d456</th>\n",
       "      <td>816</td>\n",
       "      <td>4</td>\n",
       "    </tr>\n",
       "    <tr>\n",
       "      <th>dae1555fbf</th>\n",
       "      <td>707</td>\n",
       "      <td>3</td>\n",
       "    </tr>\n",
       "    <tr>\n",
       "      <th>9a71e8563b</th>\n",
       "      <td>184</td>\n",
       "      <td>0</td>\n",
       "    </tr>\n",
       "    <tr>\n",
       "      <th>eb4efc4c39</th>\n",
       "      <td>531</td>\n",
       "      <td>2</td>\n",
       "    </tr>\n",
       "    <tr>\n",
       "      <th>657f2c34f7</th>\n",
       "      <td>465</td>\n",
       "      <td>2</td>\n",
       "    </tr>\n",
       "    <tr>\n",
       "      <th>0ce8a6ae62</th>\n",
       "      <td>308</td>\n",
       "      <td>1</td>\n",
       "    </tr>\n",
       "    <tr>\n",
       "      <th>...</th>\n",
       "      <td>...</td>\n",
       "      <td>...</td>\n",
       "    </tr>\n",
       "    <tr>\n",
       "      <th>670d9655d5</th>\n",
       "      <td>464</td>\n",
       "      <td>2</td>\n",
       "    </tr>\n",
       "    <tr>\n",
       "      <th>9a3abd0ba6</th>\n",
       "      <td>743</td>\n",
       "      <td>3</td>\n",
       "    </tr>\n",
       "    <tr>\n",
       "      <th>ec5afeae66</th>\n",
       "      <td>588</td>\n",
       "      <td>2</td>\n",
       "    </tr>\n",
       "    <tr>\n",
       "      <th>b9614348f4</th>\n",
       "      <td>429</td>\n",
       "      <td>2</td>\n",
       "    </tr>\n",
       "    <tr>\n",
       "      <th>0bca43f7ff</th>\n",
       "      <td>747</td>\n",
       "      <td>3</td>\n",
       "    </tr>\n",
       "    <tr>\n",
       "      <th>d71e91efc0</th>\n",
       "      <td>453</td>\n",
       "      <td>2</td>\n",
       "    </tr>\n",
       "    <tr>\n",
       "      <th>33820f50d8</th>\n",
       "      <td>401</td>\n",
       "      <td>2</td>\n",
       "    </tr>\n",
       "    <tr>\n",
       "      <th>84e305da04</th>\n",
       "      <td>502</td>\n",
       "      <td>2</td>\n",
       "    </tr>\n",
       "    <tr>\n",
       "      <th>be4db8ff8a</th>\n",
       "      <td>807</td>\n",
       "      <td>4</td>\n",
       "    </tr>\n",
       "    <tr>\n",
       "      <th>fa56377e58</th>\n",
       "      <td>350</td>\n",
       "      <td>1</td>\n",
       "    </tr>\n",
       "    <tr>\n",
       "      <th>4520536c03</th>\n",
       "      <td>402</td>\n",
       "      <td>2</td>\n",
       "    </tr>\n",
       "    <tr>\n",
       "      <th>af84304233</th>\n",
       "      <td>261</td>\n",
       "      <td>1</td>\n",
       "    </tr>\n",
       "    <tr>\n",
       "      <th>0ad0876244</th>\n",
       "      <td>468</td>\n",
       "      <td>2</td>\n",
       "    </tr>\n",
       "    <tr>\n",
       "      <th>60a0ca8d0e</th>\n",
       "      <td>581</td>\n",
       "      <td>2</td>\n",
       "    </tr>\n",
       "    <tr>\n",
       "      <th>5d0a9c5b0e</th>\n",
       "      <td>482</td>\n",
       "      <td>2</td>\n",
       "    </tr>\n",
       "    <tr>\n",
       "      <th>9f07d6a050</th>\n",
       "      <td>340</td>\n",
       "      <td>1</td>\n",
       "    </tr>\n",
       "    <tr>\n",
       "      <th>cb9d520cf9</th>\n",
       "      <td>589</td>\n",
       "      <td>2</td>\n",
       "    </tr>\n",
       "    <tr>\n",
       "      <th>99d3fbf9f1</th>\n",
       "      <td>204</td>\n",
       "      <td>1</td>\n",
       "    </tr>\n",
       "    <tr>\n",
       "      <th>ad49962b22</th>\n",
       "      <td>215</td>\n",
       "      <td>1</td>\n",
       "    </tr>\n",
       "    <tr>\n",
       "      <th>da5ab3d506</th>\n",
       "      <td>83</td>\n",
       "      <td>0</td>\n",
       "    </tr>\n",
       "    <tr>\n",
       "      <th>4b873df7a2</th>\n",
       "      <td>603</td>\n",
       "      <td>3</td>\n",
       "    </tr>\n",
       "    <tr>\n",
       "      <th>cfe4dd9f7e</th>\n",
       "      <td>804</td>\n",
       "      <td>4</td>\n",
       "    </tr>\n",
       "    <tr>\n",
       "      <th>500683ce7e</th>\n",
       "      <td>830</td>\n",
       "      <td>4</td>\n",
       "    </tr>\n",
       "    <tr>\n",
       "      <th>3f76f25042</th>\n",
       "      <td>707</td>\n",
       "      <td>3</td>\n",
       "    </tr>\n",
       "    <tr>\n",
       "      <th>a00d2b180c</th>\n",
       "      <td>584</td>\n",
       "      <td>2</td>\n",
       "    </tr>\n",
       "    <tr>\n",
       "      <th>c47c5ea1c3</th>\n",
       "      <td>709</td>\n",
       "      <td>3</td>\n",
       "    </tr>\n",
       "    <tr>\n",
       "      <th>b9c2f9550a</th>\n",
       "      <td>664</td>\n",
       "      <td>3</td>\n",
       "    </tr>\n",
       "    <tr>\n",
       "      <th>728890d8f8</th>\n",
       "      <td>548</td>\n",
       "      <td>2</td>\n",
       "    </tr>\n",
       "    <tr>\n",
       "      <th>c38e2a42e3</th>\n",
       "      <td>618</td>\n",
       "      <td>3</td>\n",
       "    </tr>\n",
       "    <tr>\n",
       "      <th>942d3bfbf3</th>\n",
       "      <td>736</td>\n",
       "      <td>3</td>\n",
       "    </tr>\n",
       "  </tbody>\n",
       "</table>\n",
       "<p>4000 rows × 2 columns</p>\n",
       "</div>"
      ],
      "text/plain": [
       "              z  depth_bin\n",
       "id                        \n",
       "d2b40a2781  587          2\n",
       "89dba191b1  567          2\n",
       "e6ac2a35cd  506          2\n",
       "236a5cc090  676          3\n",
       "f30e47cb36  368          1\n",
       "e0bde1cf11  184          0\n",
       "ad16edc8be  509          2\n",
       "fa92bed2b1  810          4\n",
       "6d46f994ac  676          3\n",
       "eabed5b2b4  207          1\n",
       "1cad8c327b  613          3\n",
       "2fe4adfd48  813          4\n",
       "24d67576d0  557          2\n",
       "60b3d0d613  203          1\n",
       "c32752c00f  378          1\n",
       "0ab5e14937  830          4\n",
       "6738d474a3   84          0\n",
       "9d98768f19  791          3\n",
       "b5893fc541  578          2\n",
       "e337021e6a  701          3\n",
       "7f0bdb5e31  451          2\n",
       "ff9b7d0d2e  332          1\n",
       "25bd98aec3  447          2\n",
       "24bf79cd1e  453          2\n",
       "d66e51d456  816          4\n",
       "dae1555fbf  707          3\n",
       "9a71e8563b  184          0\n",
       "eb4efc4c39  531          2\n",
       "657f2c34f7  465          2\n",
       "0ce8a6ae62  308          1\n",
       "...         ...        ...\n",
       "670d9655d5  464          2\n",
       "9a3abd0ba6  743          3\n",
       "ec5afeae66  588          2\n",
       "b9614348f4  429          2\n",
       "0bca43f7ff  747          3\n",
       "d71e91efc0  453          2\n",
       "33820f50d8  401          2\n",
       "84e305da04  502          2\n",
       "be4db8ff8a  807          4\n",
       "fa56377e58  350          1\n",
       "4520536c03  402          2\n",
       "af84304233  261          1\n",
       "0ad0876244  468          2\n",
       "60a0ca8d0e  581          2\n",
       "5d0a9c5b0e  482          2\n",
       "9f07d6a050  340          1\n",
       "cb9d520cf9  589          2\n",
       "99d3fbf9f1  204          1\n",
       "ad49962b22  215          1\n",
       "da5ab3d506   83          0\n",
       "4b873df7a2  603          3\n",
       "cfe4dd9f7e  804          4\n",
       "500683ce7e  830          4\n",
       "3f76f25042  707          3\n",
       "a00d2b180c  584          2\n",
       "c47c5ea1c3  709          3\n",
       "b9c2f9550a  664          3\n",
       "728890d8f8  548          2\n",
       "c38e2a42e3  618          3\n",
       "942d3bfbf3  736          3\n",
       "\n",
       "[4000 rows x 2 columns]"
      ]
     },
     "execution_count": 22,
     "metadata": {},
     "output_type": "execute_result"
    }
   ],
   "source": [
    "print(trainIds[0:10])\n",
    "train_csv.reindex(trainIds)"
   ]
  },
  {
   "cell_type": "code",
   "execution_count": 23,
   "metadata": {},
   "outputs": [],
   "source": [
    "idxs = train_test_split(range(len(x_names)), test_size=0.2, stratify=train_csv['depth_bin'])\n",
    "((val_x,trn_x),(val_y,trn_y)) = split_by_idx(idxs[1], x_names, y_names)"
   ]
  },
  {
   "cell_type": "code",
   "execution_count": 24,
   "metadata": {},
   "outputs": [
    {
     "data": {
      "text/plain": [
       "<matplotlib.axes._subplots.AxesSubplot at 0x7f75a8108b00>"
      ]
     },
     "execution_count": 24,
     "metadata": {},
     "output_type": "execute_result"
    },
    {
     "data": {
      "image/png": "[encoded data removed]",
      "text/plain": [
       "<Figure size 432x288 with 1 Axes>"
      ]
     },
     "metadata": {},
     "output_type": "display_data"
    }
   ],
   "source": [
    "train_csv['depth_bin'].iloc[idxs[0]].hist()"
   ]
  },
  {
   "cell_type": "code",
   "execution_count": 25,
   "metadata": {},
   "outputs": [
    {
     "data": {
      "text/plain": [
       "<matplotlib.axes._subplots.AxesSubplot at 0x7f75a814af60>"
      ]
     },
     "execution_count": 25,
     "metadata": {},
     "output_type": "execute_result"
    },
    {
     "data": {
      "image/png": "[encoded data removed]",
      "text/plain": [
       "<Figure size 432x288 with 1 Axes>"
      ]
     },
     "metadata": {},
     "output_type": "display_data"
    }
   ],
   "source": [
    "train_csv['depth_bin'].iloc[idxs[1]].hist()"
   ]
  },
  {
   "cell_type": "code",
   "execution_count": 26,
   "metadata": {},
   "outputs": [],
   "source": [
    "aug_tfms = [RandomFlip(tfm_y=TfmType.CLASS)]"
   ]
  },
  {
   "cell_type": "code",
   "execution_count": 27,
   "metadata": {},
   "outputs": [],
   "source": [
    "tfms = tfms_from_model(resnet34, sz, crop_type=CropType.NO, tfm_y=TfmType.CLASS, aug_tfms=aug_tfms)\n",
    "datasets = ImageData.get_ds(MatchedFilesDataset, (trn_x,trn_y), (val_x,val_y), tfms, path=PATH)\n",
    "md = ImageData(PATH, datasets, bs, num_workers=16, classes=None)\n",
    "denorm = md.trn_ds.denorm"
   ]
  },
  {
   "cell_type": "code",
   "execution_count": 28,
   "metadata": {},
   "outputs": [],
   "source": [
    "x,y = next(iter(md.trn_dl))"
   ]
  },
  {
   "cell_type": "code",
   "execution_count": 29,
   "metadata": {},
   "outputs": [
    {
     "data": {
      "text/plain": [
       "(torch.Size([64, 3, 32, 32]), torch.Size([64, 32, 32]))"
      ]
     },
     "execution_count": 29,
     "metadata": {},
     "output_type": "execute_result"
    }
   ],
   "source": [
    "x.shape,y.shape"
   ]
  },
  {
   "cell_type": "code",
   "execution_count": 30,
   "metadata": {},
   "outputs": [],
   "source": [
    "denorm = md.val_ds.denorm"
   ]
  },
  {
   "cell_type": "code",
   "execution_count": 31,
   "metadata": {},
   "outputs": [],
   "source": [
    "def show_aug_img(ims, idx, figsize=(5,5), normed=True, ax=None, nchannels=3):\n",
    "    if ax is None: fig,ax = plt.subplots(figsize=figsize)\n",
    "    if normed: ims = denorm(ims)\n",
    "    else:      ims = np.rollaxis(to_np(ims),1,nchannels+1)\n",
    "    ax.imshow(np.clip(ims,0,1)[idx])\n",
    "    ax.axis('off')"
   ]
  },
  {
   "cell_type": "code",
   "execution_count": 32,
   "metadata": {},
   "outputs": [],
   "source": [
    "batches = [next(iter(md.aug_dl)) for i in range(9)]"
   ]
  },
  {
   "cell_type": "code",
   "execution_count": 33,
   "metadata": {},
   "outputs": [
    {
     "data": {
      "image/png": "[encoded data removed]",
      "text/plain": [
       "<Figure size 1296x648 with 18 Axes>"
      ]
     },
     "metadata": {},
     "output_type": "display_data"
    }
   ],
   "source": [
    "fig, axes = plt.subplots(3, 6, figsize=(18, 9))\n",
    "for i,(x,y) in enumerate(batches):\n",
    "    show_aug_img(x,1, ax=axes.flat[i*2])\n",
    "    show_aug_img(y,1, ax=axes.flat[i*2+1], nchannels=1, normed=False)"
   ]
  },
  {
   "cell_type": "markdown",
   "metadata": {
    "heading_collapsed": true
   },
   "source": [
    "## Simple upsample"
   ]
  },
  {
   "cell_type": "code",
   "execution_count": 34,
   "metadata": {
    "hidden": true
   },
   "outputs": [],
   "source": [
    "f = resnet34\n",
    "cut,lr_cut = model_meta[f]"
   ]
  },
  {
   "cell_type": "code",
   "execution_count": 35,
   "metadata": {
    "hidden": true
   },
   "outputs": [],
   "source": [
    "def get_base():\n",
    "    layers = cut_model(f(True), cut)\n",
    "    return nn.Sequential(*layers)"
   ]
  },
  {
   "cell_type": "code",
   "execution_count": 36,
   "metadata": {
    "hidden": true
   },
   "outputs": [],
   "source": [
    "def dice(pred, targs):\n",
    "    pred = (pred>0.5).float()\n",
    "    return 2. * (pred*targs).sum() / (pred+targs).sum()"
   ]
  },
  {
   "cell_type": "markdown",
   "metadata": {},
   "source": [
    "## U-net (ish)"
   ]
  },
  {
   "cell_type": "code",
   "execution_count": 37,
   "metadata": {},
   "outputs": [],
   "source": [
    "class SaveFeatures():\n",
    "    features=None\n",
    "    def __init__(self, m): self.hook = m.register_forward_hook(self.hook_fn)\n",
    "    def hook_fn(self, module, input, output): self.features = output\n",
    "    def remove(self): self.hook.remove()"
   ]
  },
  {
   "cell_type": "code",
   "execution_count": 38,
   "metadata": {},
   "outputs": [],
   "source": [
    "class UnetBlock(nn.Module):\n",
    "    def __init__(self, up_in, x_in, n_out):\n",
    "        super().__init__()\n",
    "        up_out = x_out = n_out//2\n",
    "        self.x_conv  = nn.Conv2d(x_in,  x_out,  1)\n",
    "        self.tr_conv = nn.ConvTranspose2d(up_in, up_out, 2, stride=2)\n",
    "        self.bn = nn.BatchNorm2d(n_out)\n",
    "        \n",
    "    def forward(self, up_p, x_p):\n",
    "        up_p = self.tr_conv(up_p)\n",
    "        x_p = self.x_conv(x_p)\n",
    "        cat_p = torch.cat([up_p,x_p], dim=1)\n",
    "        return self.bn(F.relu(cat_p))"
   ]
  },
  {
   "cell_type": "code",
   "execution_count": 39,
   "metadata": {},
   "outputs": [],
   "source": [
    "class Unet34(nn.Module):\n",
    "    def __init__(self, rn):\n",
    "        super().__init__()\n",
    "        self.rn = rn\n",
    "        self.sfs = [SaveFeatures(rn[i]) for i in [2,4,5,6]]\n",
    "        self.up1 = UnetBlock(512,256,256)\n",
    "        self.up2 = UnetBlock(256,128,256)\n",
    "        self.up3 = UnetBlock(256,64,256)\n",
    "        self.up4 = UnetBlock(256,64,256)\n",
    "        self.up5 = nn.ConvTranspose2d(256, 1, 2, stride=2)\n",
    "        \n",
    "    def forward(self,x):\n",
    "        x = F.relu(self.rn(x))\n",
    "        x = self.up1(x, self.sfs[3].features)\n",
    "        x = self.up2(x, self.sfs[2].features)\n",
    "        x = self.up3(x, self.sfs[1].features)\n",
    "        x = self.up4(x, self.sfs[0].features)\n",
    "        x = self.up5(x)\n",
    "        return x[:,0]\n",
    "    \n",
    "    def close(self):\n",
    "        for sf in self.sfs: sf.remove()"
   ]
  },
  {
   "cell_type": "code",
   "execution_count": 40,
   "metadata": {},
   "outputs": [],
   "source": [
    "class UnetModel():\n",
    "    def __init__(self,model,name='unet'):\n",
    "        self.model,self.name = model,name\n",
    "\n",
    "    def get_layer_groups(self, precompute):\n",
    "        lgs = list(split_by_idxs(children(self.model.rn), [lr_cut]))\n",
    "        return lgs + [children(self.model)[1:]]"
   ]
  },
  {
   "cell_type": "markdown",
   "metadata": {},
   "source": [
    "## Training loop"
   ]
  },
  {
   "cell_type": "code",
   "execution_count": 41,
   "metadata": {},
   "outputs": [],
   "source": [
    "def trainModel(uid, models, trn_x, trn_y, val_x,val_y, aug_tfms, lr=2e-2, wd=1e-7, bs=64):\n",
    "    ##32\n",
    "    print('Running on 32x32')\n",
    "    sz = 32\n",
    "    tfms = tfms_from_model(resnet34, sz, crop_type=CropType.NO, tfm_y=TfmType.CLASS, aug_tfms=aug_tfms)\n",
    "    datasets = ImageData.get_ds(MatchedFilesDataset, (trn_x,trn_y), (val_x,val_y), tfms, path=PATH)\n",
    "    md = ImageData(PATH, datasets, bs, num_workers=16, classes=None)\n",
    "    denorm = md.trn_ds.denorm\n",
    "    \n",
    "    learn = ConvLearner(md, models)\n",
    "    learn.opt_fn=optim.Adam\n",
    "    learn.crit=nn.BCEWithLogitsLoss()\n",
    "    learn.metrics=[dice, accuracy_thresh(0.5)]\n",
    "    \n",
    "    learn.freeze_to(1)\n",
    "    lrs = np.array([lr/9,lr/3,lr])\n",
    "    learn.fit(lr,1,wds=wd,cycle_len=8,use_clr=(5,8), best_save_name='tmp')\n",
    "    learn.load('tmp')\n",
    "    learn.unfreeze()\n",
    "    learn.bn_freeze(True)\n",
    "    learn.fit(lrs/2, 1, wds=wd, cycle_len=20,use_clr=(20,10), best_save_name='tmp')\n",
    "    \n",
    "    ##64\n",
    "    print('Running on 64x64')\n",
    "    sz = 64\n",
    "    tfms = tfms_from_model(resnet34, sz, crop_type=CropType.NO, tfm_y=TfmType.CLASS, aug_tfms=aug_tfms)\n",
    "    datasets = ImageData.get_ds(MatchedFilesDataset, (trn_x,trn_y), (val_x,val_y), tfms, path=PATH)\n",
    "    md = ImageData(PATH, datasets, bs, num_workers=16, classes=None)\n",
    "    \n",
    "    learn = ConvLearner(md, models)\n",
    "    learn.opt_fn=optim.Adam\n",
    "    learn.crit=nn.BCEWithLogitsLoss()\n",
    "    learn.metrics=[dice, accuracy_thresh(0.5)]\n",
    "    learn.load('tmp')\n",
    "    \n",
    "    learn.freeze_to(1)\n",
    "    learn.fit(lr/2,1,wds=wd, cycle_len=10,use_clr=(10,10), best_save_name='tmp')\n",
    "    learn.load('tmp')\n",
    "    learn.unfreeze()\n",
    "    learn.bn_freeze(True)\n",
    "    learn.fit(lrs/4,1,wds=wd, cycle_len=8,use_clr=(20,8), best_save_name='tmp')\n",
    "    \n",
    "    ##128\n",
    "    print('Running on 128x128')\n",
    "    sz = 128\n",
    "    tfms = tfms_from_model(resnet34, sz, crop_type=CropType.NO, tfm_y=TfmType.CLASS, aug_tfms=aug_tfms)\n",
    "    datasets = ImageData.get_ds(MatchedFilesDataset, (trn_x,trn_y), (val_x,val_y), tfms, path=PATH)\n",
    "    md = ImageData(PATH, datasets, bs, num_workers=16, classes=None)\n",
    "    \n",
    "    learn = ConvLearner(md, models)\n",
    "    learn.opt_fn=optim.Adam\n",
    "    learn.crit=nn.BCEWithLogitsLoss()\n",
    "    learn.metrics=[dice, accuracy_thresh(0.5)]\n",
    "    learn.load('tmp')\n",
    "    \n",
    "    learn.freeze_to(1)\n",
    "    learn.fit(lr/2,1, wds=wd, cycle_len=6,use_clr=(6,4), best_save_name='tmp')\n",
    "    learn.load('tmp')\n",
    "    learn.unfreeze()\n",
    "    learn.bn_freeze(True)\n",
    "    learn.fit(lrs/5,1, wds=wd,cycle_len=8,use_clr=(20,8), best_save_name='tmp')\n",
    "    learn.load('tmp')\n",
    "    learn.fit(lrs/5,5, wds=wd,cycle_len=1,cycle_mult=2, best_save_name='model_'+str(uid))"
   ]
  },
  {
   "cell_type": "code",
   "execution_count": 42,
   "metadata": {},
   "outputs": [],
   "source": [
    "from sklearn.model_selection import KFold"
   ]
  },
  {
   "cell_type": "code",
   "execution_count": 43,
   "metadata": {},
   "outputs": [],
   "source": [
    "nSplits = 10"
   ]
  },
  {
   "cell_type": "code",
   "execution_count": 44,
   "metadata": {
    "scrolled": false
   },
   "outputs": [
    {
     "name": "stdout",
     "output_type": "stream",
     "text": [
      "_____________________________\n",
      "Running fold 1 / 10\n",
      "Running on 32x32\n"
     ]
    },
    {
     "data": {
      "application/vnd.jupyter.widget-view+json": {
       "model_id": "c34c0e8f3c2f4775a6e631c4d27d90b3",
       "version_major": 2,
       "version_minor": 0
      },
      "text/plain": [
       "HBox(children=(IntProgress(value=0, description='Epoch', max=8), HTML(value='')))"
      ]
     },
     "metadata": {},
     "output_type": "display_data"
    },
    {
     "name": "stdout",
     "output_type": "stream",
     "text": [
      "epoch      trn_loss   val_loss   dice       <lambda>       \n",
      "    0      0.342682   0.522793   0.70673    0.832678  \n",
      "    1      0.285225   0.439797   0.560695   0.8388         \n",
      "    2      0.261766   0.301855   0.783771   0.891464       \n",
      "    3      0.233635   0.265678   0.798772   0.898776       \n",
      "    4      0.214338   0.273391   0.754585   0.891037       \n",
      "    5      0.204627   0.271959   0.802188   0.897266       \n",
      "    6      0.179484   0.244787   0.789066   0.903287       \n",
      "    7      0.163029   0.227368   0.807664   0.909665       \n",
      "\n"
     ]
    },
    {
     "data": {
      "application/vnd.jupyter.widget-view+json": {
       "model_id": "36ff702f167340c3ba9cc93e25578a1f",
       "version_major": 2,
       "version_minor": 0
      },
      "text/plain": [
       "HBox(children=(IntProgress(value=0, description='Epoch', max=20), HTML(value='')))"
      ]
     },
     "metadata": {},
     "output_type": "display_data"
    },
    {
     "name": "stdout",
     "output_type": "stream",
     "text": [
      "epoch      trn_loss   val_loss   dice       <lambda>       \n",
      "    0      0.19295    0.300937   0.730628   0.882037  \n",
      "    1      0.213846   0.342378   0.751747   0.878354       \n",
      "    2      0.211239   0.273253   0.709825   0.879852       \n",
      "    3      0.194061   0.225072   0.770623   0.897809       \n",
      "    4      0.183018   0.236074   0.810761   0.91301        \n",
      "    5      0.167342   0.255074   0.798202   0.903851       \n",
      "    6      0.184694   0.2954     0.752665   0.889392       \n",
      "    7      0.192397   0.255371   0.824407   0.914493       \n",
      "    8      0.170512   0.215926   0.818222   0.913162       \n",
      "    9      0.152599   0.248259   0.818621   0.908423       \n",
      "    10     0.13841    0.239526   0.822066   0.91163        \n",
      "    11     0.11949    0.235546   0.828133   0.916495       \n",
      "    12     0.113638   0.224795   0.840535   0.920026       \n",
      "    13     0.096972   0.258245   0.821187   0.913275        \n",
      "    14     0.088079   0.234881   0.839943   0.922229        \n",
      "    15     0.081553   0.248073   0.837724   0.923074        \n",
      "    16     0.076086   0.241084   0.836195   0.919962        \n",
      "    17     0.071426   0.250321   0.841117   0.92186         \n",
      "    18     0.066099   0.249984   0.846689   0.92428         \n",
      "    19     0.062213   0.255416   0.843748   0.923743        \n",
      "\n",
      "Running on 64x64\n"
     ]
    },
    {
     "data": {
      "application/vnd.jupyter.widget-view+json": {
       "model_id": "075e611e36404e50a975e186bc743fd8",
       "version_major": 2,
       "version_minor": 0
      },
      "text/plain": [
       "HBox(children=(IntProgress(value=0, description='Epoch', max=10), HTML(value='')))"
      ]
     },
     "metadata": {},
     "output_type": "display_data"
    },
    {
     "name": "stdout",
     "output_type": "stream",
     "text": [
      "epoch      trn_loss   val_loss   dice       <lambda>       \n",
      "    0      0.270593   0.279183   0.733538   0.884477  \n",
      "    1      0.226425   0.276916   0.712294   0.881184       \n",
      "    2      0.201242   0.219772   0.811611   0.910929       \n",
      "    3      0.178191   0.214775   0.821657   0.915481       \n",
      "    4      0.162483   0.209665   0.822349   0.914526       \n",
      "    5      0.155535   0.212262   0.837793   0.915504       \n",
      "    6      0.145267   0.205289   0.827533   0.916982       \n",
      "    7      0.134254   0.214655   0.855      0.925739       \n",
      "    8      0.12326    0.20917    0.854482   0.924348       \n",
      "    9      0.110698   0.208262   0.852103   0.925402       \n",
      "\n"
     ]
    },
    {
     "data": {
      "application/vnd.jupyter.widget-view+json": {
       "model_id": "b973283a985b466cb6f4353250841c5a",
       "version_major": 2,
       "version_minor": 0
      },
      "text/plain": [
       "HBox(children=(IntProgress(value=0, description='Epoch', max=8), HTML(value='')))"
      ]
     },
     "metadata": {},
     "output_type": "display_data"
    },
    {
     "name": "stdout",
     "output_type": "stream",
     "text": [
      "epoch      trn_loss   val_loss   dice       <lambda>       \n",
      "    0      0.125937   0.188135   0.844899   0.926052  \n",
      "    1      0.152147   0.220533   0.83031    0.918748       \n",
      "    2      0.137087   0.213783   0.854571   0.922747       \n",
      "    3      0.117017   0.196254   0.859168   0.931345       \n",
      "    4      0.100658   0.195517   0.872673   0.931255       \n",
      "    5      0.090289   0.189579   0.858043   0.92978         \n",
      "    6      0.077639   0.17835    0.873296   0.935493        \n",
      "    7      0.069503   0.172397   0.882147   0.93917         \n",
      "\n",
      "Running on 128x128\n"
     ]
    },
    {
     "data": {
      "application/vnd.jupyter.widget-view+json": {
       "model_id": "67d4c17d79ce4d68a5b5c0db50065000",
       "version_major": 2,
       "version_minor": 0
      },
      "text/plain": [
       "HBox(children=(IntProgress(value=0, description='Epoch', max=6), HTML(value='')))"
      ]
     },
     "metadata": {},
     "output_type": "display_data"
    },
    {
     "name": "stdout",
     "output_type": "stream",
     "text": [
      "epoch      trn_loss   val_loss   dice       <lambda>       \n",
      "    0      0.254444   0.214552   0.830911   0.918416  \n",
      "    1      0.214391   0.20716    0.83799    0.922848       \n",
      "    2      0.191494   0.197918   0.833787   0.922285       \n",
      "    3      0.181404   0.19825    0.854729   0.928493       \n",
      "    4      0.161397   0.180836   0.868301   0.933612       \n",
      "    5      0.148111   0.161047   0.862293   0.933183       \n",
      "\n"
     ]
    },
    {
     "data": {
      "application/vnd.jupyter.widget-view+json": {
       "model_id": "ddd1019b522f4cf9abd93cbd9a56e394",
       "version_major": 2,
       "version_minor": 0
      },
      "text/plain": [
       "HBox(children=(IntProgress(value=0, description='Epoch', max=8), HTML(value='')))"
      ]
     },
     "metadata": {},
     "output_type": "display_data"
    },
    {
     "name": "stdout",
     "output_type": "stream",
     "text": [
      "epoch      trn_loss   val_loss   dice       <lambda>       \n",
      "    0      0.150928   0.17319    0.849829   0.93056   \n",
      "    1      0.154437   0.148703   0.878575   0.939204       \n",
      "    2      0.145878   0.168455   0.818789   0.915126       \n",
      "    3      0.148693   0.162427   0.873599   0.936867       \n",
      "    4      0.129477   0.135915   0.879449   0.941272       \n",
      "    5      0.113303   0.153225   0.88545    0.941046       \n",
      "    6      0.098234   0.133662   0.897376   0.949181        \n",
      "    7      0.087105   0.137075   0.899194   0.948756        \n",
      "\n"
     ]
    },
    {
     "data": {
      "application/vnd.jupyter.widget-view+json": {
       "model_id": "e66c2dc52b2d4abe892015beb1a97457",
       "version_major": 2,
       "version_minor": 0
      },
      "text/plain": [
       "HBox(children=(IntProgress(value=0, description='Epoch', max=31), HTML(value='')))"
      ]
     },
     "metadata": {},
     "output_type": "display_data"
    },
    {
     "name": "stdout",
     "output_type": "stream",
     "text": [
      "epoch      trn_loss   val_loss   dice       <lambda>        \n",
      "    0      0.112892   0.138646   0.885514   0.941683  \n",
      "    1      0.124943   0.199132   0.861584   0.926115       \n",
      "    2      0.10529    0.131534   0.891859   0.946256       \n",
      "    3      0.098411   0.137809   0.882886   0.942083        \n",
      "    4      0.092561   0.143953   0.884142   0.941202        \n",
      "    5      0.083012   0.131927   0.898356   0.949274        \n",
      "    6      0.071973   0.138955   0.901369   0.948126        \n",
      "    7      0.083966   0.158912   0.872033   0.939218        \n",
      "    8      0.098903   0.157908   0.887538   0.940882        \n",
      "    9      0.09007    0.138069   0.891529   0.945869        \n",
      "    10     0.084033   0.14329    0.899882   0.949227        \n",
      "    11     0.073388   0.169377   0.892943   0.941566        \n",
      "    12     0.071602   0.139603   0.904823   0.949652        \n",
      "    13     0.064651   0.136437   0.90871    0.952235        \n",
      "    14     0.060564   0.135764   0.910535   0.953504        \n",
      "    15     0.062458   0.125921   0.909169   0.953681        \n",
      "    16     0.080755   0.169526   0.873759   0.937097        \n",
      "    17     0.093518   0.186023   0.862335   0.928021        \n",
      "    18     0.093563   0.152966   0.886408   0.943242        \n",
      "    19     0.082212   0.136629   0.908955   0.954166        \n",
      "    20     0.074312   0.152851   0.891406   0.942973        \n",
      "    21     0.062501   0.132954   0.911859   0.954792        \n",
      "    22     0.055862   0.144624   0.907702   0.952053        \n",
      "    23     0.050556   0.15448    0.901755   0.94804         \n",
      "    24     0.04807    0.150225   0.90568    0.950235        \n",
      "    25     0.045282   0.152807   0.911288   0.953197        \n",
      "    26     0.044385   0.148363   0.913499   0.955191        \n",
      "    27     0.04277    0.151562   0.911885   0.954669        \n",
      "    28     0.042249   0.148449   0.911121   0.954335        \n",
      "    29     0.041507   0.149428   0.911829   0.954592        \n",
      "    30     0.041395   0.149799   0.911632   0.954533        \n",
      "\n",
      "_____________________________\n",
      "_____________________________\n",
      "Running fold 2 / 10\n",
      "Running on 32x32\n"
     ]
    },
    {
     "data": {
      "application/vnd.jupyter.widget-view+json": {
       "model_id": "5feb289e722746a3b7c1810709141a93",
       "version_major": 2,
       "version_minor": 0
      },
      "text/plain": [
       "HBox(children=(IntProgress(value=0, description='Epoch', max=8), HTML(value='')))"
      ]
     },
     "metadata": {},
     "output_type": "display_data"
    },
    {
     "name": "stdout",
     "output_type": "stream",
     "text": [
      "epoch      trn_loss   val_loss   dice       <lambda>       \n",
      "    0      0.330151   0.358482   0.765722   0.884787  \n",
      "    1      0.278867   0.337174   0.653094   0.860397       \n",
      "    2      0.249463   0.244227   0.782682   0.899744       \n",
      "    3      0.229817   0.257549   0.816214   0.910617       \n",
      "    4      0.211106   0.229978   0.801538   0.906003       \n",
      "    5      0.194874   0.258534   0.786726   0.904111       \n",
      "    6      0.173814   0.254303   0.775466   0.899728       \n",
      "    7      0.155271   0.22729    0.823718   0.914981       \n",
      "\n"
     ]
    },
    {
     "data": {
      "application/vnd.jupyter.widget-view+json": {
       "model_id": "5c44b6be90024c4cb6cb37a6d3673cf0",
       "version_major": 2,
       "version_minor": 0
      },
      "text/plain": [
       "HBox(children=(IntProgress(value=0, description='Epoch', max=20), HTML(value='')))"
      ]
     },
     "metadata": {},
     "output_type": "display_data"
    },
    {
     "name": "stdout",
     "output_type": "stream",
     "text": [
      "epoch      trn_loss   val_loss   dice       <lambda>       \n",
      "    0      0.198299   0.378163   0.430638   0.809171  \n",
      "    1      0.216071   0.297043   0.78988    0.895508       \n",
      "    2      0.209182   0.207861   0.823853   0.913336       \n",
      "    3      0.196882   0.254493   0.754615   0.894498       \n",
      "    4      0.190103   0.243307   0.785097   0.904517       \n",
      "    5      0.180285   0.228785   0.822484   0.913266       \n",
      "    6      0.16917    0.240615   0.792682   0.907211       \n",
      "    7      0.151641   0.190008   0.845114   0.925452       \n",
      "    8      0.135909   0.21989    0.816441   0.913107       \n",
      "    9      0.125515   0.217585   0.83174    0.916714       \n",
      "    10     0.110075   0.270403   0.835584   0.922009       \n",
      "    11     0.095028   0.247059   0.848695   0.92634         \n",
      "    12     0.093209   0.207888   0.857063   0.92937         \n",
      "    13     0.08276    0.286742   0.84465    0.925677        \n",
      "    14     0.078912   0.232682   0.848503   0.928754        \n",
      "    15     0.072724   0.24081    0.8549     0.928915        \n",
      "    16     0.066341   0.259994   0.861067   0.933154        \n",
      "    17     0.061213   0.275139   0.860691   0.933057        \n",
      "    18     0.057953   0.275199   0.860425   0.933084        \n",
      "    19     0.054919   0.266392   0.86157    0.933063        \n",
      "\n",
      "Running on 64x64\n"
     ]
    },
    {
     "data": {
      "application/vnd.jupyter.widget-view+json": {
       "model_id": "b59e7d822240455bb2dadb56bc8771d0",
       "version_major": 2,
       "version_minor": 0
      },
      "text/plain": [
       "HBox(children=(IntProgress(value=0, description='Epoch', max=10), HTML(value='')))"
      ]
     },
     "metadata": {},
     "output_type": "display_data"
    },
    {
     "name": "stdout",
     "output_type": "stream",
     "text": [
      "epoch      trn_loss   val_loss   dice       <lambda>       \n",
      "    0      0.298899   0.255429   0.699343   0.878309  \n",
      "    1      0.227618   0.185354   0.8403     0.9229         \n",
      "    2      0.198566   0.234806   0.788349   0.907111       \n",
      "    3      0.181744   0.172499   0.856426   0.931071       \n",
      "    4      0.158859   0.179816   0.850039   0.929019       \n",
      "    5      0.143679   0.152649   0.864491   0.935018       \n",
      "    6      0.133988   0.186075   0.85583    0.932169       \n",
      "    7      0.12416    0.151839   0.865127   0.935225       \n",
      "    8      0.11168    0.143183   0.869106   0.93599        \n",
      "    9      0.100723   0.148746   0.866397   0.934885       \n",
      "\n"
     ]
    },
    {
     "data": {
      "application/vnd.jupyter.widget-view+json": {
       "model_id": "242b8a33b32b42b59a3aaef9f8a6050c",
       "version_major": 2,
       "version_minor": 0
      },
      "text/plain": [
       "HBox(children=(IntProgress(value=0, description='Epoch', max=8), HTML(value='')))"
      ]
     },
     "metadata": {},
     "output_type": "display_data"
    },
    {
     "name": "stdout",
     "output_type": "stream",
     "text": [
      "epoch      trn_loss   val_loss   dice       <lambda>        \n",
      "    0      0.127542   0.206525   0.792612   0.907758  \n",
      "    1      0.153329   0.168367   0.850121   0.929513       \n",
      "    2      0.130951   0.17054    0.867523   0.934198       \n",
      "    3      0.117922   0.167207   0.849774   0.930083       \n",
      "    4      0.101152   0.164049   0.871214   0.938873       \n",
      "    5      0.087484   0.180113   0.862421   0.934749        \n",
      "    6      0.073985   0.195518   0.868042   0.936944        \n",
      "    7      0.066772   0.189693   0.872807   0.939371        \n",
      "\n",
      "Running on 128x128\n"
     ]
    },
    {
     "data": {
      "application/vnd.jupyter.widget-view+json": {
       "model_id": "8a68430887e94760ad581a5490a8ac20",
       "version_major": 2,
       "version_minor": 0
      },
      "text/plain": [
       "HBox(children=(IntProgress(value=0, description='Epoch', max=6), HTML(value='')))"
      ]
     },
     "metadata": {},
     "output_type": "display_data"
    },
    {
     "name": "stdout",
     "output_type": "stream",
     "text": [
      "epoch      trn_loss   val_loss   dice       <lambda>       \n",
      "    0      0.209837   0.213407   0.787183   0.905781  \n",
      "    1      0.187297   0.206501   0.813372   0.915375       \n",
      "    2      0.181172   0.185683   0.842865   0.925236       \n",
      "    3      0.162145   0.170232   0.844416   0.927116       \n",
      "    4      0.146048   0.163167   0.865552   0.934678       \n",
      "    5      0.132049   0.198565   0.856538   0.932069       \n",
      "\n"
     ]
    },
    {
     "data": {
      "application/vnd.jupyter.widget-view+json": {
       "model_id": "9628d376a36a49908c2fd10d8f13a413",
       "version_major": 2,
       "version_minor": 0
      },
      "text/plain": [
       "HBox(children=(IntProgress(value=0, description='Epoch', max=8), HTML(value='')))"
      ]
     },
     "metadata": {},
     "output_type": "display_data"
    },
    {
     "name": "stdout",
     "output_type": "stream",
     "text": [
      "epoch      trn_loss   val_loss   dice       <lambda>       \n",
      "    0      0.138513   0.170642   0.861835   0.932323  \n",
      "    1      0.135821   0.189411   0.830129   0.921542       \n",
      "    2      0.127203   0.162651   0.866262   0.935832       \n",
      "    3      0.112857   0.175036   0.866554   0.936024       \n",
      "    4      0.099581   0.178679   0.872619   0.939172        \n",
      "    5      0.089104   0.159677   0.875892   0.939256        \n",
      "    6      0.079178   0.212487   0.871311   0.939008        \n",
      "    7      0.070605   0.192027   0.884753   0.944195        \n",
      "\n"
     ]
    },
    {
     "data": {
      "application/vnd.jupyter.widget-view+json": {
       "model_id": "ff7822961d804ee69045f5d8db9828d6",
       "version_major": 2,
       "version_minor": 0
      },
      "text/plain": [
       "HBox(children=(IntProgress(value=0, description='Epoch', max=31), HTML(value='')))"
      ]
     },
     "metadata": {},
     "output_type": "display_data"
    },
    {
     "name": "stdout",
     "output_type": "stream",
     "text": [
      "epoch      trn_loss   val_loss   dice       <lambda>        \n",
      "    0      0.100981   0.195734   0.861573   0.935334  \n",
      "    1      0.108314   0.216139   0.853063   0.930041       \n",
      "    2      0.088032   0.185782   0.87306    0.938969        \n",
      "    3      0.097002   0.163188   0.875503   0.938694        \n",
      "    4      0.09026    0.207583   0.870651   0.938292        \n",
      "    5      0.076135   0.187202   0.87616    0.940461        \n",
      "    6      0.067423   0.200422   0.875942   0.940419        \n",
      "    7      0.070835   0.166268   0.880944   0.941055        \n",
      "    8      0.090598   0.188032   0.85897    0.930717        \n",
      "    9      0.089283   0.198883   0.87288    0.936969        \n",
      "    10     0.076484   0.205289   0.880647   0.942417        \n",
      "    11     0.065042   0.21677    0.872021   0.938259        \n",
      "    12     0.057136   0.216214   0.878567   0.94154         \n",
      "    13     0.052364   0.230207   0.878967   0.941768        \n",
      "    14     0.050191   0.227427   0.879839   0.942066        \n",
      "    15     0.059623   0.236563   0.849966   0.928764        \n",
      "    16     0.104587   0.18111    0.852179   0.929559        \n",
      "    17     0.105204   0.169202   0.887255   0.943488       \n",
      "    18     0.092515   0.235471   0.856376   0.931224        \n",
      "    19     0.077606   0.210941   0.875426   0.939052        \n",
      "    20     0.063135   0.226952   0.873298   0.939051        \n",
      "    21     0.057008   0.188565   0.890579   0.944566        \n",
      "    22     0.052688   0.230749   0.875371   0.939777        \n",
      "    23     0.049198   0.219404   0.875871   0.939924        \n",
      "    24     0.045781   0.243958   0.878805   0.941008        \n",
      "    25     0.043964   0.243569   0.878395   0.940938        \n",
      "    26     0.042114   0.243504   0.877996   0.940776        \n",
      "    27     0.040469   0.253138   0.877236   0.940636        \n",
      "    28     0.040076   0.242379   0.881507   0.942283        \n",
      "    29     0.038829   0.246909   0.879947   0.941731        \n",
      "    30     0.03817    0.24758    0.879839   0.94169         \n",
      "\n",
      "_____________________________\n",
      "_____________________________\n",
      "Running fold 3 / 10\n",
      "Running on 32x32\n"
     ]
    },
    {
     "data": {
      "application/vnd.jupyter.widget-view+json": {
       "model_id": "03ed6433c9fd45beaece8be2c64aa4b1",
       "version_major": 2,
       "version_minor": 0
      },
      "text/plain": [
       "HBox(children=(IntProgress(value=0, description='Epoch', max=8), HTML(value='')))"
      ]
     },
     "metadata": {},
     "output_type": "display_data"
    },
    {
     "name": "stdout",
     "output_type": "stream",
     "text": [
      "epoch      trn_loss   val_loss   dice       <lambda>       \n",
      "    0      0.336982   0.51287    0.603358   0.855923  \n",
      "    1      0.283499   0.278477   0.714707   0.886807       \n",
      "    2      0.253435   0.273653   0.765411   0.895108       \n",
      "    3      0.228477   0.252107   0.729916   0.892249       \n",
      "    4      0.212156   0.246512   0.785283   0.906137       \n",
      "    5      0.191043   0.268552   0.795866   0.900946       \n",
      "    6      0.1739     0.237616   0.791016   0.909998       \n",
      "    7      0.156629   0.246755   0.803799   0.906906       \n",
      "\n"
     ]
    },
    {
     "data": {
      "application/vnd.jupyter.widget-view+json": {
       "model_id": "c5497c697a654c20b060a06982bbdf7d",
       "version_major": 2,
       "version_minor": 0
      },
      "text/plain": [
       "HBox(children=(IntProgress(value=0, description='Epoch', max=20), HTML(value='')))"
      ]
     },
     "metadata": {},
     "output_type": "display_data"
    },
    {
     "name": "stdout",
     "output_type": "stream",
     "text": [
      "epoch      trn_loss   val_loss   dice       <lambda>       \n",
      "    0      0.190574   0.236605   0.768558   0.902454  \n",
      "    1      0.230711   0.250701   0.77699    0.901642       \n",
      "    2      0.219671   0.228466   0.800863   0.912082       \n",
      "    3      0.196543   0.278259   0.777569   0.901584       \n",
      "    4      0.184734   0.260278   0.700869   0.882675       \n",
      "    5      0.172477   0.227618   0.811275   0.912549       \n",
      " 58%|█████▊    | 26/45 [00:01<00:01, 16.21it/s, loss=0.163]"
     ]
    },
    {
     "ename": "OSError",
     "evalue": "Error handling image at: /home/giles/Downloads/fastai_data/salt/train-128/89dba191b1.png",
     "output_type": "error",
     "traceback": [
      "\u001b[0;31m---------------------------------------------------------------------------\u001b[0m",
      "\u001b[0;31mAttributeError\u001b[0m                            Traceback (most recent call last)",
      "\u001b[0;32m~/cernbox/fastai/courses/dl2/fastai/dataset.py\u001b[0m in \u001b[0;36mopen_image\u001b[0;34m(fn)\u001b[0m\n\u001b[1;32m    233\u001b[0m             \u001b[0;32melse\u001b[0m\u001b[0;34m:\u001b[0m\u001b[0;34m\u001b[0m\u001b[0m\n\u001b[0;32m--> 234\u001b[0;31m                 \u001b[0mim\u001b[0m \u001b[0;34m=\u001b[0m \u001b[0mcv2\u001b[0m\u001b[0;34m.\u001b[0m\u001b[0mimread\u001b[0m\u001b[0;34m(\u001b[0m\u001b[0mstr\u001b[0m\u001b[0;34m(\u001b[0m\u001b[0mfn\u001b[0m\u001b[0;34m)\u001b[0m\u001b[0;34m,\u001b[0m \u001b[0mflags\u001b[0m\u001b[0;34m)\u001b[0m\u001b[0;34m.\u001b[0m\u001b[0mastype\u001b[0m\u001b[0;34m(\u001b[0m\u001b[0mnp\u001b[0m\u001b[0;34m.\u001b[0m\u001b[0mfloat32\u001b[0m\u001b[0;34m)\u001b[0m\u001b[0;34m/\u001b[0m\u001b[0;36m255\u001b[0m\u001b[0;34m\u001b[0m\u001b[0m\n\u001b[0m\u001b[1;32m    235\u001b[0m             \u001b[0;32mif\u001b[0m \u001b[0mim\u001b[0m \u001b[0;32mis\u001b[0m \u001b[0;32mNone\u001b[0m\u001b[0;34m:\u001b[0m \u001b[0;32mraise\u001b[0m \u001b[0mOSError\u001b[0m\u001b[0;34m(\u001b[0m\u001b[0;34mf'File not recognized by opencv: {fn}'\u001b[0m\u001b[0;34m)\u001b[0m\u001b[0;34m\u001b[0m\u001b[0m\n",
      "\u001b[0;31mAttributeError\u001b[0m: 'NoneType' object has no attribute 'astype'",
      "\nThe above exception was the direct cause of the following exception:\n",
      "\u001b[0;31mOSError\u001b[0m                                   Traceback (most recent call last)",
      "\u001b[0;32m<ipython-input-44-838163a043fa>\u001b[0m in \u001b[0;36m<module>\u001b[0;34m()\u001b[0m\n\u001b[1;32m      7\u001b[0m     \u001b[0mm\u001b[0m \u001b[0;34m=\u001b[0m \u001b[0mto_gpu\u001b[0m\u001b[0;34m(\u001b[0m\u001b[0mUnet34\u001b[0m\u001b[0;34m(\u001b[0m\u001b[0mm_base\u001b[0m\u001b[0;34m)\u001b[0m\u001b[0;34m)\u001b[0m\u001b[0;34m\u001b[0m\u001b[0m\n\u001b[1;32m      8\u001b[0m     \u001b[0mmodels\u001b[0m \u001b[0;34m=\u001b[0m \u001b[0mUnetModel\u001b[0m\u001b[0;34m(\u001b[0m\u001b[0mm\u001b[0m\u001b[0;34m)\u001b[0m\u001b[0;34m\u001b[0m\u001b[0m\n\u001b[0;32m----> 9\u001b[0;31m     \u001b[0mtrainModel\u001b[0m\u001b[0;34m(\u001b[0m\u001b[0mi\u001b[0m\u001b[0;34m,\u001b[0m \u001b[0mmodels\u001b[0m\u001b[0;34m,\u001b[0m \u001b[0mtrn_x\u001b[0m\u001b[0;34m[\u001b[0m\u001b[0mtrain\u001b[0m\u001b[0;34m]\u001b[0m\u001b[0;34m,\u001b[0m \u001b[0mtrn_y\u001b[0m\u001b[0;34m[\u001b[0m\u001b[0mtrain\u001b[0m\u001b[0;34m]\u001b[0m\u001b[0;34m,\u001b[0m \u001b[0mtrn_x\u001b[0m\u001b[0;34m[\u001b[0m\u001b[0mtest\u001b[0m\u001b[0;34m]\u001b[0m\u001b[0;34m,\u001b[0m \u001b[0mtrn_y\u001b[0m\u001b[0;34m[\u001b[0m\u001b[0mtest\u001b[0m\u001b[0;34m]\u001b[0m\u001b[0;34m,\u001b[0m \u001b[0maug_tfms\u001b[0m\u001b[0;34m)\u001b[0m\u001b[0;34m\u001b[0m\u001b[0m\n\u001b[0m\u001b[1;32m     10\u001b[0m     \u001b[0mprint\u001b[0m\u001b[0;34m(\u001b[0m\u001b[0;34m'_____________________________'\u001b[0m\u001b[0;34m)\u001b[0m\u001b[0;34m\u001b[0m\u001b[0m\n",
      "\u001b[0;32m<ipython-input-41-455727db0a39>\u001b[0m in \u001b[0;36mtrainModel\u001b[0;34m(uid, models, trn_x, trn_y, val_x, val_y, aug_tfms, lr, wd, bs)\u001b[0m\n\u001b[1;32m     19\u001b[0m     \u001b[0mlearn\u001b[0m\u001b[0;34m.\u001b[0m\u001b[0munfreeze\u001b[0m\u001b[0;34m(\u001b[0m\u001b[0;34m)\u001b[0m\u001b[0;34m\u001b[0m\u001b[0m\n\u001b[1;32m     20\u001b[0m     \u001b[0mlearn\u001b[0m\u001b[0;34m.\u001b[0m\u001b[0mbn_freeze\u001b[0m\u001b[0;34m(\u001b[0m\u001b[0;32mTrue\u001b[0m\u001b[0;34m)\u001b[0m\u001b[0;34m\u001b[0m\u001b[0m\n\u001b[0;32m---> 21\u001b[0;31m     \u001b[0mlearn\u001b[0m\u001b[0;34m.\u001b[0m\u001b[0mfit\u001b[0m\u001b[0;34m(\u001b[0m\u001b[0mlrs\u001b[0m\u001b[0;34m/\u001b[0m\u001b[0;36m2\u001b[0m\u001b[0;34m,\u001b[0m \u001b[0;36m1\u001b[0m\u001b[0;34m,\u001b[0m \u001b[0mwds\u001b[0m\u001b[0;34m=\u001b[0m\u001b[0mwd\u001b[0m\u001b[0;34m,\u001b[0m \u001b[0mcycle_len\u001b[0m\u001b[0;34m=\u001b[0m\u001b[0;36m20\u001b[0m\u001b[0;34m,\u001b[0m\u001b[0muse_clr\u001b[0m\u001b[0;34m=\u001b[0m\u001b[0;34m(\u001b[0m\u001b[0;36m20\u001b[0m\u001b[0;34m,\u001b[0m\u001b[0;36m10\u001b[0m\u001b[0;34m)\u001b[0m\u001b[0;34m,\u001b[0m \u001b[0mbest_save_name\u001b[0m\u001b[0;34m=\u001b[0m\u001b[0;34m'tmp'\u001b[0m\u001b[0;34m)\u001b[0m\u001b[0;34m\u001b[0m\u001b[0m\n\u001b[0m\u001b[1;32m     22\u001b[0m \u001b[0;34m\u001b[0m\u001b[0m\n\u001b[1;32m     23\u001b[0m     \u001b[0;31m##64\u001b[0m\u001b[0;34m\u001b[0m\u001b[0;34m\u001b[0m\u001b[0m\n",
      "\u001b[0;32m~/cernbox/fastai/courses/dl2/fastai/learner.py\u001b[0m in \u001b[0;36mfit\u001b[0;34m(self, lrs, n_cycle, wds, **kwargs)\u001b[0m\n\u001b[1;32m    302\u001b[0m         \u001b[0mself\u001b[0m\u001b[0;34m.\u001b[0m\u001b[0msched\u001b[0m \u001b[0;34m=\u001b[0m \u001b[0;32mNone\u001b[0m\u001b[0;34m\u001b[0m\u001b[0m\n\u001b[1;32m    303\u001b[0m         \u001b[0mlayer_opt\u001b[0m \u001b[0;34m=\u001b[0m \u001b[0mself\u001b[0m\u001b[0;34m.\u001b[0m\u001b[0mget_layer_opt\u001b[0m\u001b[0;34m(\u001b[0m\u001b[0mlrs\u001b[0m\u001b[0;34m,\u001b[0m \u001b[0mwds\u001b[0m\u001b[0;34m)\u001b[0m\u001b[0;34m\u001b[0m\u001b[0m\n\u001b[0;32m--> 304\u001b[0;31m         \u001b[0;32mreturn\u001b[0m \u001b[0mself\u001b[0m\u001b[0;34m.\u001b[0m\u001b[0mfit_gen\u001b[0m\u001b[0;34m(\u001b[0m\u001b[0mself\u001b[0m\u001b[0;34m.\u001b[0m\u001b[0mmodel\u001b[0m\u001b[0;34m,\u001b[0m \u001b[0mself\u001b[0m\u001b[0;34m.\u001b[0m\u001b[0mdata\u001b[0m\u001b[0;34m,\u001b[0m \u001b[0mlayer_opt\u001b[0m\u001b[0;34m,\u001b[0m \u001b[0mn_cycle\u001b[0m\u001b[0;34m,\u001b[0m \u001b[0;34m**\u001b[0m\u001b[0mkwargs\u001b[0m\u001b[0;34m)\u001b[0m\u001b[0;34m\u001b[0m\u001b[0m\n\u001b[0m\u001b[1;32m    305\u001b[0m \u001b[0;34m\u001b[0m\u001b[0m\n\u001b[1;32m    306\u001b[0m     \u001b[0;32mdef\u001b[0m \u001b[0mwarm_up\u001b[0m\u001b[0;34m(\u001b[0m\u001b[0mself\u001b[0m\u001b[0;34m,\u001b[0m \u001b[0mlr\u001b[0m\u001b[0;34m,\u001b[0m \u001b[0mwds\u001b[0m\u001b[0;34m=\u001b[0m\u001b[0;32mNone\u001b[0m\u001b[0;34m)\u001b[0m\u001b[0;34m:\u001b[0m\u001b[0;34m\u001b[0m\u001b[0m\n",
      "\u001b[0;32m~/cernbox/fastai/courses/dl2/fastai/learner.py\u001b[0m in \u001b[0;36mfit_gen\u001b[0;34m(self, model, data, layer_opt, n_cycle, cycle_len, cycle_mult, cycle_save_name, best_save_name, use_clr, use_clr_beta, metrics, callbacks, use_wd_sched, norm_wds, wds_sched_mult, use_swa, swa_start, swa_eval_freq, **kwargs)\u001b[0m\n\u001b[1;32m    249\u001b[0m             \u001b[0mmetrics\u001b[0m\u001b[0;34m=\u001b[0m\u001b[0mmetrics\u001b[0m\u001b[0;34m,\u001b[0m \u001b[0mcallbacks\u001b[0m\u001b[0;34m=\u001b[0m\u001b[0mcallbacks\u001b[0m\u001b[0;34m,\u001b[0m \u001b[0mreg_fn\u001b[0m\u001b[0;34m=\u001b[0m\u001b[0mself\u001b[0m\u001b[0;34m.\u001b[0m\u001b[0mreg_fn\u001b[0m\u001b[0;34m,\u001b[0m \u001b[0mclip\u001b[0m\u001b[0;34m=\u001b[0m\u001b[0mself\u001b[0m\u001b[0;34m.\u001b[0m\u001b[0mclip\u001b[0m\u001b[0;34m,\u001b[0m \u001b[0mfp16\u001b[0m\u001b[0;34m=\u001b[0m\u001b[0mself\u001b[0m\u001b[0;34m.\u001b[0m\u001b[0mfp16\u001b[0m\u001b[0;34m,\u001b[0m\u001b[0;34m\u001b[0m\u001b[0m\n\u001b[1;32m    250\u001b[0m             \u001b[0mswa_model\u001b[0m\u001b[0;34m=\u001b[0m\u001b[0mself\u001b[0m\u001b[0;34m.\u001b[0m\u001b[0mswa_model\u001b[0m \u001b[0;32mif\u001b[0m \u001b[0muse_swa\u001b[0m \u001b[0;32melse\u001b[0m \u001b[0;32mNone\u001b[0m\u001b[0;34m,\u001b[0m \u001b[0mswa_start\u001b[0m\u001b[0;34m=\u001b[0m\u001b[0mswa_start\u001b[0m\u001b[0;34m,\u001b[0m\u001b[0;34m\u001b[0m\u001b[0m\n\u001b[0;32m--> 251\u001b[0;31m             swa_eval_freq=swa_eval_freq, **kwargs)\n\u001b[0m\u001b[1;32m    252\u001b[0m \u001b[0;34m\u001b[0m\u001b[0m\n\u001b[1;32m    253\u001b[0m     \u001b[0;32mdef\u001b[0m \u001b[0mget_layer_groups\u001b[0m\u001b[0;34m(\u001b[0m\u001b[0mself\u001b[0m\u001b[0;34m)\u001b[0m\u001b[0;34m:\u001b[0m \u001b[0;32mreturn\u001b[0m \u001b[0mself\u001b[0m\u001b[0;34m.\u001b[0m\u001b[0mmodels\u001b[0m\u001b[0;34m.\u001b[0m\u001b[0mget_layer_groups\u001b[0m\u001b[0;34m(\u001b[0m\u001b[0;34m)\u001b[0m\u001b[0;34m\u001b[0m\u001b[0m\n",
      "\u001b[0;32m~/cernbox/fastai/courses/dl2/fastai/model.py\u001b[0m in \u001b[0;36mfit\u001b[0;34m(model, data, n_epochs, opt, crit, metrics, callbacks, stepper, swa_model, swa_start, swa_eval_freq, visualize, **kwargs)\u001b[0m\n\u001b[1;32m    136\u001b[0m         \u001b[0;32mif\u001b[0m \u001b[0mall_val\u001b[0m\u001b[0;34m:\u001b[0m \u001b[0mval_iter\u001b[0m \u001b[0;34m=\u001b[0m \u001b[0mIterBatch\u001b[0m\u001b[0;34m(\u001b[0m\u001b[0mcur_data\u001b[0m\u001b[0;34m.\u001b[0m\u001b[0mval_dl\u001b[0m\u001b[0;34m)\u001b[0m\u001b[0;34m\u001b[0m\u001b[0m\n\u001b[1;32m    137\u001b[0m \u001b[0;34m\u001b[0m\u001b[0m\n\u001b[0;32m--> 138\u001b[0;31m         \u001b[0;32mfor\u001b[0m \u001b[0;34m(\u001b[0m\u001b[0;34m*\u001b[0m\u001b[0mx\u001b[0m\u001b[0;34m,\u001b[0m\u001b[0my\u001b[0m\u001b[0;34m)\u001b[0m \u001b[0;32min\u001b[0m \u001b[0mt\u001b[0m\u001b[0;34m:\u001b[0m\u001b[0;34m\u001b[0m\u001b[0m\n\u001b[0m\u001b[1;32m    139\u001b[0m             \u001b[0mbatch_num\u001b[0m \u001b[0;34m+=\u001b[0m \u001b[0;36m1\u001b[0m\u001b[0;34m\u001b[0m\u001b[0m\n\u001b[1;32m    140\u001b[0m             \u001b[0;32mfor\u001b[0m \u001b[0mcb\u001b[0m \u001b[0;32min\u001b[0m \u001b[0mcallbacks\u001b[0m\u001b[0;34m:\u001b[0m \u001b[0mcb\u001b[0m\u001b[0;34m.\u001b[0m\u001b[0mon_batch_begin\u001b[0m\u001b[0;34m(\u001b[0m\u001b[0;34m)\u001b[0m\u001b[0;34m\u001b[0m\u001b[0m\n",
      "\u001b[0;32m~/anaconda3/envs/fastai/lib/python3.6/site-packages/tqdm/_tqdm.py\u001b[0m in \u001b[0;36m__iter__\u001b[0;34m(self)\u001b[0m\n\u001b[1;32m    928\u001b[0m \"\"\", fp_write=getattr(self.fp, 'write', sys.stderr.write))\n\u001b[1;32m    929\u001b[0m \u001b[0;34m\u001b[0m\u001b[0m\n\u001b[0;32m--> 930\u001b[0;31m             \u001b[0;32mfor\u001b[0m \u001b[0mobj\u001b[0m \u001b[0;32min\u001b[0m \u001b[0miterable\u001b[0m\u001b[0;34m:\u001b[0m\u001b[0;34m\u001b[0m\u001b[0m\n\u001b[0m\u001b[1;32m    931\u001b[0m                 \u001b[0;32myield\u001b[0m \u001b[0mobj\u001b[0m\u001b[0;34m\u001b[0m\u001b[0m\n\u001b[1;32m    932\u001b[0m                 \u001b[0;31m# Update and possibly print the progressbar.\u001b[0m\u001b[0;34m\u001b[0m\u001b[0;34m\u001b[0m\u001b[0m\n",
      "\u001b[0;32m~/cernbox/fastai/courses/dl2/fastai/dataloader.py\u001b[0m in \u001b[0;36m__iter__\u001b[0;34m(self)\u001b[0m\n\u001b[1;32m     86\u001b[0m                 \u001b[0;31m# avoid py3.6 issue where queue is infinite and can result in memory exhaustion\u001b[0m\u001b[0;34m\u001b[0m\u001b[0;34m\u001b[0m\u001b[0m\n\u001b[1;32m     87\u001b[0m                 \u001b[0;32mfor\u001b[0m \u001b[0mc\u001b[0m \u001b[0;32min\u001b[0m \u001b[0mchunk_iter\u001b[0m\u001b[0;34m(\u001b[0m\u001b[0miter\u001b[0m\u001b[0;34m(\u001b[0m\u001b[0mself\u001b[0m\u001b[0;34m.\u001b[0m\u001b[0mbatch_sampler\u001b[0m\u001b[0;34m)\u001b[0m\u001b[0;34m,\u001b[0m \u001b[0mself\u001b[0m\u001b[0;34m.\u001b[0m\u001b[0mnum_workers\u001b[0m\u001b[0;34m*\u001b[0m\u001b[0;36m10\u001b[0m\u001b[0;34m)\u001b[0m\u001b[0;34m:\u001b[0m\u001b[0;34m\u001b[0m\u001b[0m\n\u001b[0;32m---> 88\u001b[0;31m                     \u001b[0;32mfor\u001b[0m \u001b[0mbatch\u001b[0m \u001b[0;32min\u001b[0m \u001b[0me\u001b[0m\u001b[0;34m.\u001b[0m\u001b[0mmap\u001b[0m\u001b[0;34m(\u001b[0m\u001b[0mself\u001b[0m\u001b[0;34m.\u001b[0m\u001b[0mget_batch\u001b[0m\u001b[0;34m,\u001b[0m \u001b[0mc\u001b[0m\u001b[0;34m)\u001b[0m\u001b[0;34m:\u001b[0m\u001b[0;34m\u001b[0m\u001b[0m\n\u001b[0m\u001b[1;32m     89\u001b[0m                         \u001b[0;32myield\u001b[0m \u001b[0mget_tensor\u001b[0m\u001b[0;34m(\u001b[0m\u001b[0mbatch\u001b[0m\u001b[0;34m,\u001b[0m \u001b[0mself\u001b[0m\u001b[0;34m.\u001b[0m\u001b[0mpin_memory\u001b[0m\u001b[0;34m,\u001b[0m \u001b[0mself\u001b[0m\u001b[0;34m.\u001b[0m\u001b[0mhalf\u001b[0m\u001b[0;34m)\u001b[0m\u001b[0;34m\u001b[0m\u001b[0m\n\u001b[1;32m     90\u001b[0m \u001b[0;34m\u001b[0m\u001b[0m\n",
      "\u001b[0;32m~/anaconda3/envs/fastai/lib/python3.6/concurrent/futures/_base.py\u001b[0m in \u001b[0;36mresult_iterator\u001b[0;34m()\u001b[0m\n\u001b[1;32m    584\u001b[0m                     \u001b[0;31m# Careful not to keep a reference to the popped future\u001b[0m\u001b[0;34m\u001b[0m\u001b[0;34m\u001b[0m\u001b[0m\n\u001b[1;32m    585\u001b[0m                     \u001b[0;32mif\u001b[0m \u001b[0mtimeout\u001b[0m \u001b[0;32mis\u001b[0m \u001b[0;32mNone\u001b[0m\u001b[0;34m:\u001b[0m\u001b[0;34m\u001b[0m\u001b[0m\n\u001b[0;32m--> 586\u001b[0;31m                         \u001b[0;32myield\u001b[0m \u001b[0mfs\u001b[0m\u001b[0;34m.\u001b[0m\u001b[0mpop\u001b[0m\u001b[0;34m(\u001b[0m\u001b[0;34m)\u001b[0m\u001b[0;34m.\u001b[0m\u001b[0mresult\u001b[0m\u001b[0;34m(\u001b[0m\u001b[0;34m)\u001b[0m\u001b[0;34m\u001b[0m\u001b[0m\n\u001b[0m\u001b[1;32m    587\u001b[0m                     \u001b[0;32melse\u001b[0m\u001b[0;34m:\u001b[0m\u001b[0;34m\u001b[0m\u001b[0m\n\u001b[1;32m    588\u001b[0m                         \u001b[0;32myield\u001b[0m \u001b[0mfs\u001b[0m\u001b[0;34m.\u001b[0m\u001b[0mpop\u001b[0m\u001b[0;34m(\u001b[0m\u001b[0;34m)\u001b[0m\u001b[0;34m.\u001b[0m\u001b[0mresult\u001b[0m\u001b[0;34m(\u001b[0m\u001b[0mend_time\u001b[0m \u001b[0;34m-\u001b[0m \u001b[0mtime\u001b[0m\u001b[0;34m.\u001b[0m\u001b[0mtime\u001b[0m\u001b[0;34m(\u001b[0m\u001b[0;34m)\u001b[0m\u001b[0;34m)\u001b[0m\u001b[0;34m\u001b[0m\u001b[0m\n",
      "\u001b[0;32m~/anaconda3/envs/fastai/lib/python3.6/concurrent/futures/_base.py\u001b[0m in \u001b[0;36mresult\u001b[0;34m(self, timeout)\u001b[0m\n\u001b[1;32m    423\u001b[0m                 \u001b[0;32mraise\u001b[0m \u001b[0mCancelledError\u001b[0m\u001b[0;34m(\u001b[0m\u001b[0;34m)\u001b[0m\u001b[0;34m\u001b[0m\u001b[0m\n\u001b[1;32m    424\u001b[0m             \u001b[0;32melif\u001b[0m \u001b[0mself\u001b[0m\u001b[0;34m.\u001b[0m\u001b[0m_state\u001b[0m \u001b[0;34m==\u001b[0m \u001b[0mFINISHED\u001b[0m\u001b[0;34m:\u001b[0m\u001b[0;34m\u001b[0m\u001b[0m\n\u001b[0;32m--> 425\u001b[0;31m                 \u001b[0;32mreturn\u001b[0m \u001b[0mself\u001b[0m\u001b[0;34m.\u001b[0m\u001b[0m__get_result\u001b[0m\u001b[0;34m(\u001b[0m\u001b[0;34m)\u001b[0m\u001b[0;34m\u001b[0m\u001b[0m\n\u001b[0m\u001b[1;32m    426\u001b[0m \u001b[0;34m\u001b[0m\u001b[0m\n\u001b[1;32m    427\u001b[0m             \u001b[0mself\u001b[0m\u001b[0;34m.\u001b[0m\u001b[0m_condition\u001b[0m\u001b[0;34m.\u001b[0m\u001b[0mwait\u001b[0m\u001b[0;34m(\u001b[0m\u001b[0mtimeout\u001b[0m\u001b[0;34m)\u001b[0m\u001b[0;34m\u001b[0m\u001b[0m\n",
      "\u001b[0;32m~/anaconda3/envs/fastai/lib/python3.6/concurrent/futures/_base.py\u001b[0m in \u001b[0;36m__get_result\u001b[0;34m(self)\u001b[0m\n\u001b[1;32m    382\u001b[0m     \u001b[0;32mdef\u001b[0m \u001b[0m__get_result\u001b[0m\u001b[0;34m(\u001b[0m\u001b[0mself\u001b[0m\u001b[0;34m)\u001b[0m\u001b[0;34m:\u001b[0m\u001b[0;34m\u001b[0m\u001b[0m\n\u001b[1;32m    383\u001b[0m         \u001b[0;32mif\u001b[0m \u001b[0mself\u001b[0m\u001b[0;34m.\u001b[0m\u001b[0m_exception\u001b[0m\u001b[0;34m:\u001b[0m\u001b[0;34m\u001b[0m\u001b[0m\n\u001b[0;32m--> 384\u001b[0;31m             \u001b[0;32mraise\u001b[0m \u001b[0mself\u001b[0m\u001b[0;34m.\u001b[0m\u001b[0m_exception\u001b[0m\u001b[0;34m\u001b[0m\u001b[0m\n\u001b[0m\u001b[1;32m    385\u001b[0m         \u001b[0;32melse\u001b[0m\u001b[0;34m:\u001b[0m\u001b[0;34m\u001b[0m\u001b[0m\n\u001b[1;32m    386\u001b[0m             \u001b[0;32mreturn\u001b[0m \u001b[0mself\u001b[0m\u001b[0;34m.\u001b[0m\u001b[0m_result\u001b[0m\u001b[0;34m\u001b[0m\u001b[0m\n",
      "\u001b[0;32m~/anaconda3/envs/fastai/lib/python3.6/concurrent/futures/thread.py\u001b[0m in \u001b[0;36mrun\u001b[0;34m(self)\u001b[0m\n\u001b[1;32m     54\u001b[0m \u001b[0;34m\u001b[0m\u001b[0m\n\u001b[1;32m     55\u001b[0m         \u001b[0;32mtry\u001b[0m\u001b[0;34m:\u001b[0m\u001b[0;34m\u001b[0m\u001b[0m\n\u001b[0;32m---> 56\u001b[0;31m             \u001b[0mresult\u001b[0m \u001b[0;34m=\u001b[0m \u001b[0mself\u001b[0m\u001b[0;34m.\u001b[0m\u001b[0mfn\u001b[0m\u001b[0;34m(\u001b[0m\u001b[0;34m*\u001b[0m\u001b[0mself\u001b[0m\u001b[0;34m.\u001b[0m\u001b[0margs\u001b[0m\u001b[0;34m,\u001b[0m \u001b[0;34m**\u001b[0m\u001b[0mself\u001b[0m\u001b[0;34m.\u001b[0m\u001b[0mkwargs\u001b[0m\u001b[0;34m)\u001b[0m\u001b[0;34m\u001b[0m\u001b[0m\n\u001b[0m\u001b[1;32m     57\u001b[0m         \u001b[0;32mexcept\u001b[0m \u001b[0mBaseException\u001b[0m \u001b[0;32mas\u001b[0m \u001b[0mexc\u001b[0m\u001b[0;34m:\u001b[0m\u001b[0;34m\u001b[0m\u001b[0m\n\u001b[1;32m     58\u001b[0m             \u001b[0mself\u001b[0m\u001b[0;34m.\u001b[0m\u001b[0mfuture\u001b[0m\u001b[0;34m.\u001b[0m\u001b[0mset_exception\u001b[0m\u001b[0;34m(\u001b[0m\u001b[0mexc\u001b[0m\u001b[0;34m)\u001b[0m\u001b[0;34m\u001b[0m\u001b[0m\n",
      "\u001b[0;32m~/cernbox/fastai/courses/dl2/fastai/dataloader.py\u001b[0m in \u001b[0;36mget_batch\u001b[0;34m(self, indices)\u001b[0m\n\u001b[1;32m     73\u001b[0m \u001b[0;34m\u001b[0m\u001b[0m\n\u001b[1;32m     74\u001b[0m     \u001b[0;32mdef\u001b[0m \u001b[0mget_batch\u001b[0m\u001b[0;34m(\u001b[0m\u001b[0mself\u001b[0m\u001b[0;34m,\u001b[0m \u001b[0mindices\u001b[0m\u001b[0;34m)\u001b[0m\u001b[0;34m:\u001b[0m\u001b[0;34m\u001b[0m\u001b[0m\n\u001b[0;32m---> 75\u001b[0;31m         \u001b[0mres\u001b[0m \u001b[0;34m=\u001b[0m \u001b[0mself\u001b[0m\u001b[0;34m.\u001b[0m\u001b[0mnp_collate\u001b[0m\u001b[0;34m(\u001b[0m\u001b[0;34m[\u001b[0m\u001b[0mself\u001b[0m\u001b[0;34m.\u001b[0m\u001b[0mdataset\u001b[0m\u001b[0;34m[\u001b[0m\u001b[0mi\u001b[0m\u001b[0;34m]\u001b[0m \u001b[0;32mfor\u001b[0m \u001b[0mi\u001b[0m \u001b[0;32min\u001b[0m \u001b[0mindices\u001b[0m\u001b[0;34m]\u001b[0m\u001b[0;34m)\u001b[0m\u001b[0;34m\u001b[0m\u001b[0m\n\u001b[0m\u001b[1;32m     76\u001b[0m         \u001b[0;32mif\u001b[0m \u001b[0mself\u001b[0m\u001b[0;34m.\u001b[0m\u001b[0mtranspose\u001b[0m\u001b[0;34m:\u001b[0m   \u001b[0mres\u001b[0m\u001b[0;34m[\u001b[0m\u001b[0;36m0\u001b[0m\u001b[0;34m]\u001b[0m \u001b[0;34m=\u001b[0m \u001b[0mres\u001b[0m\u001b[0;34m[\u001b[0m\u001b[0;36m0\u001b[0m\u001b[0;34m]\u001b[0m\u001b[0;34m.\u001b[0m\u001b[0mT\u001b[0m\u001b[0;34m\u001b[0m\u001b[0m\n\u001b[1;32m     77\u001b[0m         \u001b[0;32mif\u001b[0m \u001b[0mself\u001b[0m\u001b[0;34m.\u001b[0m\u001b[0mtranspose_y\u001b[0m\u001b[0;34m:\u001b[0m \u001b[0mres\u001b[0m\u001b[0;34m[\u001b[0m\u001b[0;36m1\u001b[0m\u001b[0;34m]\u001b[0m \u001b[0;34m=\u001b[0m \u001b[0mres\u001b[0m\u001b[0;34m[\u001b[0m\u001b[0;36m1\u001b[0m\u001b[0;34m]\u001b[0m\u001b[0;34m.\u001b[0m\u001b[0mT\u001b[0m\u001b[0;34m\u001b[0m\u001b[0m\n",
      "\u001b[0;32m~/cernbox/fastai/courses/dl2/fastai/dataloader.py\u001b[0m in \u001b[0;36m<listcomp>\u001b[0;34m(.0)\u001b[0m\n\u001b[1;32m     73\u001b[0m \u001b[0;34m\u001b[0m\u001b[0m\n\u001b[1;32m     74\u001b[0m     \u001b[0;32mdef\u001b[0m \u001b[0mget_batch\u001b[0m\u001b[0;34m(\u001b[0m\u001b[0mself\u001b[0m\u001b[0;34m,\u001b[0m \u001b[0mindices\u001b[0m\u001b[0;34m)\u001b[0m\u001b[0;34m:\u001b[0m\u001b[0;34m\u001b[0m\u001b[0m\n\u001b[0;32m---> 75\u001b[0;31m         \u001b[0mres\u001b[0m \u001b[0;34m=\u001b[0m \u001b[0mself\u001b[0m\u001b[0;34m.\u001b[0m\u001b[0mnp_collate\u001b[0m\u001b[0;34m(\u001b[0m\u001b[0;34m[\u001b[0m\u001b[0mself\u001b[0m\u001b[0;34m.\u001b[0m\u001b[0mdataset\u001b[0m\u001b[0;34m[\u001b[0m\u001b[0mi\u001b[0m\u001b[0;34m]\u001b[0m \u001b[0;32mfor\u001b[0m \u001b[0mi\u001b[0m \u001b[0;32min\u001b[0m \u001b[0mindices\u001b[0m\u001b[0;34m]\u001b[0m\u001b[0;34m)\u001b[0m\u001b[0;34m\u001b[0m\u001b[0m\n\u001b[0m\u001b[1;32m     76\u001b[0m         \u001b[0;32mif\u001b[0m \u001b[0mself\u001b[0m\u001b[0;34m.\u001b[0m\u001b[0mtranspose\u001b[0m\u001b[0;34m:\u001b[0m   \u001b[0mres\u001b[0m\u001b[0;34m[\u001b[0m\u001b[0;36m0\u001b[0m\u001b[0;34m]\u001b[0m \u001b[0;34m=\u001b[0m \u001b[0mres\u001b[0m\u001b[0;34m[\u001b[0m\u001b[0;36m0\u001b[0m\u001b[0;34m]\u001b[0m\u001b[0;34m.\u001b[0m\u001b[0mT\u001b[0m\u001b[0;34m\u001b[0m\u001b[0m\n\u001b[1;32m     77\u001b[0m         \u001b[0;32mif\u001b[0m \u001b[0mself\u001b[0m\u001b[0;34m.\u001b[0m\u001b[0mtranspose_y\u001b[0m\u001b[0;34m:\u001b[0m \u001b[0mres\u001b[0m\u001b[0;34m[\u001b[0m\u001b[0;36m1\u001b[0m\u001b[0;34m]\u001b[0m \u001b[0;34m=\u001b[0m \u001b[0mres\u001b[0m\u001b[0;34m[\u001b[0m\u001b[0;36m1\u001b[0m\u001b[0;34m]\u001b[0m\u001b[0;34m.\u001b[0m\u001b[0mT\u001b[0m\u001b[0;34m\u001b[0m\u001b[0m\n",
      "\u001b[0;32m~/cernbox/fastai/courses/dl2/fastai/dataset.py\u001b[0m in \u001b[0;36m__getitem__\u001b[0;34m(self, idx)\u001b[0m\n\u001b[1;32m    166\u001b[0m             \u001b[0mxs\u001b[0m\u001b[0;34m,\u001b[0m\u001b[0mys\u001b[0m \u001b[0;34m=\u001b[0m \u001b[0mzip\u001b[0m\u001b[0;34m(\u001b[0m\u001b[0;34m*\u001b[0m\u001b[0;34m[\u001b[0m\u001b[0mself\u001b[0m\u001b[0;34m.\u001b[0m\u001b[0mget1item\u001b[0m\u001b[0;34m(\u001b[0m\u001b[0mi\u001b[0m\u001b[0;34m)\u001b[0m \u001b[0;32mfor\u001b[0m \u001b[0mi\u001b[0m \u001b[0;32min\u001b[0m \u001b[0mrange\u001b[0m\u001b[0;34m(\u001b[0m\u001b[0;34m*\u001b[0m\u001b[0midx\u001b[0m\u001b[0;34m.\u001b[0m\u001b[0mindices\u001b[0m\u001b[0;34m(\u001b[0m\u001b[0mself\u001b[0m\u001b[0;34m.\u001b[0m\u001b[0mn\u001b[0m\u001b[0;34m)\u001b[0m\u001b[0;34m)\u001b[0m\u001b[0;34m]\u001b[0m\u001b[0;34m)\u001b[0m\u001b[0;34m\u001b[0m\u001b[0m\n\u001b[1;32m    167\u001b[0m             \u001b[0;32mreturn\u001b[0m \u001b[0mnp\u001b[0m\u001b[0;34m.\u001b[0m\u001b[0mstack\u001b[0m\u001b[0;34m(\u001b[0m\u001b[0mxs\u001b[0m\u001b[0;34m)\u001b[0m\u001b[0;34m,\u001b[0m\u001b[0mys\u001b[0m\u001b[0;34m\u001b[0m\u001b[0m\n\u001b[0;32m--> 168\u001b[0;31m         \u001b[0;32mreturn\u001b[0m \u001b[0mself\u001b[0m\u001b[0;34m.\u001b[0m\u001b[0mget1item\u001b[0m\u001b[0;34m(\u001b[0m\u001b[0midx\u001b[0m\u001b[0;34m)\u001b[0m\u001b[0;34m\u001b[0m\u001b[0m\n\u001b[0m\u001b[1;32m    169\u001b[0m \u001b[0;34m\u001b[0m\u001b[0m\n\u001b[1;32m    170\u001b[0m     \u001b[0;32mdef\u001b[0m \u001b[0m__len__\u001b[0m\u001b[0;34m(\u001b[0m\u001b[0mself\u001b[0m\u001b[0;34m)\u001b[0m\u001b[0;34m:\u001b[0m \u001b[0;32mreturn\u001b[0m \u001b[0mself\u001b[0m\u001b[0;34m.\u001b[0m\u001b[0mn\u001b[0m\u001b[0;34m\u001b[0m\u001b[0m\n",
      "\u001b[0;32m~/cernbox/fastai/courses/dl2/fastai/dataset.py\u001b[0m in \u001b[0;36mget1item\u001b[0;34m(self, idx)\u001b[0m\n\u001b[1;32m    159\u001b[0m \u001b[0;34m\u001b[0m\u001b[0m\n\u001b[1;32m    160\u001b[0m     \u001b[0;32mdef\u001b[0m \u001b[0mget1item\u001b[0m\u001b[0;34m(\u001b[0m\u001b[0mself\u001b[0m\u001b[0;34m,\u001b[0m \u001b[0midx\u001b[0m\u001b[0;34m)\u001b[0m\u001b[0;34m:\u001b[0m\u001b[0;34m\u001b[0m\u001b[0m\n\u001b[0;32m--> 161\u001b[0;31m         \u001b[0mx\u001b[0m\u001b[0;34m,\u001b[0m\u001b[0my\u001b[0m \u001b[0;34m=\u001b[0m \u001b[0mself\u001b[0m\u001b[0;34m.\u001b[0m\u001b[0mget_x\u001b[0m\u001b[0;34m(\u001b[0m\u001b[0midx\u001b[0m\u001b[0;34m)\u001b[0m\u001b[0;34m,\u001b[0m\u001b[0mself\u001b[0m\u001b[0;34m.\u001b[0m\u001b[0mget_y\u001b[0m\u001b[0;34m(\u001b[0m\u001b[0midx\u001b[0m\u001b[0;34m)\u001b[0m\u001b[0;34m\u001b[0m\u001b[0m\n\u001b[0m\u001b[1;32m    162\u001b[0m         \u001b[0;32mreturn\u001b[0m \u001b[0mself\u001b[0m\u001b[0;34m.\u001b[0m\u001b[0mget\u001b[0m\u001b[0;34m(\u001b[0m\u001b[0mself\u001b[0m\u001b[0;34m.\u001b[0m\u001b[0mtransform\u001b[0m\u001b[0;34m,\u001b[0m \u001b[0mx\u001b[0m\u001b[0;34m,\u001b[0m \u001b[0my\u001b[0m\u001b[0;34m)\u001b[0m\u001b[0;34m\u001b[0m\u001b[0m\n\u001b[1;32m    163\u001b[0m \u001b[0;34m\u001b[0m\u001b[0m\n",
      "\u001b[0;32m~/cernbox/fastai/courses/dl2/fastai/dataset.py\u001b[0m in \u001b[0;36mget_x\u001b[0;34m(self, i)\u001b[0m\n\u001b[1;32m    243\u001b[0m         \u001b[0msuper\u001b[0m\u001b[0;34m(\u001b[0m\u001b[0;34m)\u001b[0m\u001b[0;34m.\u001b[0m\u001b[0m__init__\u001b[0m\u001b[0;34m(\u001b[0m\u001b[0mtransform\u001b[0m\u001b[0;34m)\u001b[0m\u001b[0;34m\u001b[0m\u001b[0m\n\u001b[1;32m    244\u001b[0m     \u001b[0;32mdef\u001b[0m \u001b[0mget_sz\u001b[0m\u001b[0;34m(\u001b[0m\u001b[0mself\u001b[0m\u001b[0;34m)\u001b[0m\u001b[0;34m:\u001b[0m \u001b[0;32mreturn\u001b[0m \u001b[0mself\u001b[0m\u001b[0;34m.\u001b[0m\u001b[0mtransform\u001b[0m\u001b[0;34m.\u001b[0m\u001b[0msz\u001b[0m\u001b[0;34m\u001b[0m\u001b[0m\n\u001b[0;32m--> 245\u001b[0;31m     \u001b[0;32mdef\u001b[0m \u001b[0mget_x\u001b[0m\u001b[0;34m(\u001b[0m\u001b[0mself\u001b[0m\u001b[0;34m,\u001b[0m \u001b[0mi\u001b[0m\u001b[0;34m)\u001b[0m\u001b[0;34m:\u001b[0m \u001b[0;32mreturn\u001b[0m \u001b[0mopen_image\u001b[0m\u001b[0;34m(\u001b[0m\u001b[0mos\u001b[0m\u001b[0;34m.\u001b[0m\u001b[0mpath\u001b[0m\u001b[0;34m.\u001b[0m\u001b[0mjoin\u001b[0m\u001b[0;34m(\u001b[0m\u001b[0mself\u001b[0m\u001b[0;34m.\u001b[0m\u001b[0mpath\u001b[0m\u001b[0;34m,\u001b[0m \u001b[0mself\u001b[0m\u001b[0;34m.\u001b[0m\u001b[0mfnames\u001b[0m\u001b[0;34m[\u001b[0m\u001b[0mi\u001b[0m\u001b[0;34m]\u001b[0m\u001b[0;34m)\u001b[0m\u001b[0;34m)\u001b[0m\u001b[0;34m\u001b[0m\u001b[0m\n\u001b[0m\u001b[1;32m    246\u001b[0m     \u001b[0;32mdef\u001b[0m \u001b[0mget_n\u001b[0m\u001b[0;34m(\u001b[0m\u001b[0mself\u001b[0m\u001b[0;34m)\u001b[0m\u001b[0;34m:\u001b[0m \u001b[0;32mreturn\u001b[0m \u001b[0mlen\u001b[0m\u001b[0;34m(\u001b[0m\u001b[0mself\u001b[0m\u001b[0;34m.\u001b[0m\u001b[0mfnames\u001b[0m\u001b[0;34m)\u001b[0m\u001b[0;34m\u001b[0m\u001b[0m\n\u001b[1;32m    247\u001b[0m \u001b[0;34m\u001b[0m\u001b[0m\n",
      "\u001b[0;32m~/cernbox/fastai/courses/dl2/fastai/dataset.py\u001b[0m in \u001b[0;36mopen_image\u001b[0;34m(fn)\u001b[0m\n\u001b[1;32m    236\u001b[0m             \u001b[0;32mreturn\u001b[0m \u001b[0mcv2\u001b[0m\u001b[0;34m.\u001b[0m\u001b[0mcvtColor\u001b[0m\u001b[0;34m(\u001b[0m\u001b[0mim\u001b[0m\u001b[0;34m,\u001b[0m \u001b[0mcv2\u001b[0m\u001b[0;34m.\u001b[0m\u001b[0mCOLOR_BGR2RGB\u001b[0m\u001b[0;34m)\u001b[0m\u001b[0;34m\u001b[0m\u001b[0m\n\u001b[1;32m    237\u001b[0m         \u001b[0;32mexcept\u001b[0m \u001b[0mException\u001b[0m \u001b[0;32mas\u001b[0m \u001b[0me\u001b[0m\u001b[0;34m:\u001b[0m\u001b[0;34m\u001b[0m\u001b[0m\n\u001b[0;32m--> 238\u001b[0;31m             \u001b[0;32mraise\u001b[0m \u001b[0mOSError\u001b[0m\u001b[0;34m(\u001b[0m\u001b[0;34m'Error handling image at: {}'\u001b[0m\u001b[0;34m.\u001b[0m\u001b[0mformat\u001b[0m\u001b[0;34m(\u001b[0m\u001b[0mfn\u001b[0m\u001b[0;34m)\u001b[0m\u001b[0;34m)\u001b[0m \u001b[0;32mfrom\u001b[0m \u001b[0me\u001b[0m\u001b[0;34m\u001b[0m\u001b[0m\n\u001b[0m\u001b[1;32m    239\u001b[0m \u001b[0;34m\u001b[0m\u001b[0m\n\u001b[1;32m    240\u001b[0m \u001b[0;32mclass\u001b[0m \u001b[0mFilesDataset\u001b[0m\u001b[0;34m(\u001b[0m\u001b[0mBaseDataset\u001b[0m\u001b[0;34m)\u001b[0m\u001b[0;34m:\u001b[0m\u001b[0;34m\u001b[0m\u001b[0m\n",
      "\u001b[0;31mOSError\u001b[0m: Error handling image at: /home/giles/Downloads/fastai_data/salt/train-128/89dba191b1.png"
     ]
    }
   ],
   "source": [
    "kf = KFold(n_splits=nSplits, shuffle=True)\n",
    "folds = kf.split(trn_x)\n",
    "for i, (train, test) in enumerate(folds):\n",
    "    print('_____________________________')\n",
    "    print('Running fold', i+1,'/', nSplits)\n",
    "    m_base = get_base()\n",
    "    m = to_gpu(Unet34(m_base))\n",
    "    models = UnetModel(m)\n",
    "    trainModel(i, models, trn_x[train], trn_y[train], trn_x[test], trn_y[test], aug_tfms)\n",
    "    print('_____________________________')"
   ]
  },
  {
   "cell_type": "code",
   "execution_count": null,
   "metadata": {},
   "outputs": [],
   "source": [
    "def predict(md, nSplits, models, shape, test=False):\n",
    "    probs = np.zeros(shape)\n",
    "    for i in range(nSplits):\n",
    "        learn = ConvLearner(md, models)\n",
    "        learn.load('model_'+str(i))\n",
    "        probs += learn.predict(is_test=test)\n",
    "    _, y = learn.TTA(n_aug=1, is_test=test)\n",
    "    return probs/nSplits, y "
   ]
  },
  {
   "cell_type": "markdown",
   "metadata": {},
   "source": [
    "# Test on original validation"
   ]
  },
  {
   "cell_type": "code",
   "execution_count": null,
   "metadata": {},
   "outputs": [],
   "source": [
    "sz=128\n",
    "bs=64"
   ]
  },
  {
   "cell_type": "code",
   "execution_count": null,
   "metadata": {},
   "outputs": [],
   "source": [
    "m_base = get_base()\n",
    "m = to_gpu(Unet34(m_base))\n",
    "models = UnetModel(m)"
   ]
  },
  {
   "cell_type": "code",
   "execution_count": null,
   "metadata": {},
   "outputs": [],
   "source": [
    "tfms = tfms_from_model(resnet34, sz, crop_type=CropType.NO, tfm_y=TfmType.CLASS, aug_tfms=aug_tfms)\n",
    "datasets = ImageData.get_ds(MatchedFilesDataset, (trn_x,trn_y), (val_x,val_y), tfms, path=PATH)\n",
    "md = ImageData(PATH, datasets, bs, num_workers=16, classes=None)\n",
    "denorm = md.trn_ds.denorm"
   ]
  },
  {
   "cell_type": "code",
   "execution_count": null,
   "metadata": {},
   "outputs": [],
   "source": [
    "probs, y = predict(md, nSplits, models, (len(val_y), sz, sz))"
   ]
  },
  {
   "cell_type": "code",
   "execution_count": null,
   "metadata": {},
   "outputs": [],
   "source": [
    "md.TTA"
   ]
  },
  {
   "cell_type": "code",
   "execution_count": null,
   "metadata": {},
   "outputs": [],
   "source": [
    "y.shape, probs.shape"
   ]
  },
  {
   "cell_type": "code",
   "execution_count": null,
   "metadata": {},
   "outputs": [],
   "source": [
    "idx=56"
   ]
  },
  {
   "cell_type": "code",
   "execution_count": null,
   "metadata": {},
   "outputs": [],
   "source": [
    "show_img(probs[idx]>0.5);"
   ]
  },
  {
   "cell_type": "code",
   "execution_count": null,
   "metadata": {},
   "outputs": [],
   "source": [
    "show_img(probs[idx]);"
   ]
  },
  {
   "cell_type": "code",
   "execution_count": null,
   "metadata": {},
   "outputs": [],
   "source": [
    "show_img(y[idx]);"
   ]
  },
  {
   "cell_type": "markdown",
   "metadata": {},
   "source": [
    "# Optimise threshold"
   ]
  },
  {
   "cell_type": "code",
   "execution_count": null,
   "metadata": {},
   "outputs": [],
   "source": [
    "def resize_img(fn):\n",
    "    return np.array(Image.fromarray(fn).resize((101,101)))\n",
    "\n",
    "resizePreds = np.array([resize_img(x) for x in probs])\n",
    "resizeY = np.array([resize_img(x) for x in y])"
   ]
  },
  {
   "cell_type": "code",
   "execution_count": null,
   "metadata": {},
   "outputs": [],
   "source": [
    "show_img(resizePreds[idx]);"
   ]
  },
  {
   "cell_type": "code",
   "execution_count": null,
   "metadata": {},
   "outputs": [],
   "source": [
    "show_img(resizeY[idx]);"
   ]
  },
  {
   "cell_type": "code",
   "execution_count": null,
   "metadata": {},
   "outputs": [],
   "source": [
    "# src: https://www.kaggle.com/aglotero/another-iou-metric\n",
    "def iou_metric(y_true_in, y_pred_in, print_table=False):\n",
    "    labels = y_true_in\n",
    "    y_pred = y_pred_in\n",
    "    \n",
    "    true_objects = 2\n",
    "    pred_objects = 2\n",
    "\n",
    "    intersection = np.histogram2d(labels.flatten(), y_pred.flatten(), bins=(true_objects, pred_objects))[0]\n",
    "\n",
    "    # Compute areas (needed for finding the union between all objects)\n",
    "    area_true = np.histogram(labels, bins = true_objects)[0]\n",
    "    area_pred = np.histogram(y_pred, bins = pred_objects)[0]\n",
    "    area_true = np.expand_dims(area_true, -1)\n",
    "    area_pred = np.expand_dims(area_pred, 0)\n",
    "\n",
    "    # Compute union\n",
    "    union = area_true + area_pred - intersection\n",
    "\n",
    "    # Exclude background from the analysis\n",
    "    intersection = intersection[1:,1:]\n",
    "    union = union[1:,1:]\n",
    "    union[union == 0] = 1e-9\n",
    "\n",
    "    # Compute the intersection over union\n",
    "    iou = intersection / union\n",
    "\n",
    "    # Precision helper function\n",
    "    def precision_at(threshold, iou):\n",
    "        matches = iou > threshold\n",
    "        true_positives = np.sum(matches, axis=1) == 1   # Correct objects\n",
    "        false_positives = np.sum(matches, axis=0) == 0  # Missed objects\n",
    "        false_negatives = np.sum(matches, axis=1) == 0  # Extra objects\n",
    "        tp, fp, fn = np.sum(true_positives), np.sum(false_positives), np.sum(false_negatives)\n",
    "        return tp, fp, fn\n",
    "\n",
    "    # Loop over IoU thresholds\n",
    "    prec = []\n",
    "    if print_table:\n",
    "        print(\"Thresh\\tTP\\tFP\\tFN\\tPrec.\")\n",
    "    for t in np.arange(0.5, 1.0, 0.05):\n",
    "        tp, fp, fn = precision_at(t, iou)\n",
    "        if (tp + fp + fn) > 0:\n",
    "            p = tp / (tp + fp + fn)\n",
    "        else:\n",
    "            p = 0\n",
    "        if print_table:\n",
    "            print(\"{:1.3f}\\t{}\\t{}\\t{}\\t{:1.3f}\".format(t, tp, fp, fn, p))\n",
    "        prec.append(p)\n",
    "    \n",
    "    if print_table:\n",
    "        print(\"AP\\t-\\t-\\t-\\t{:1.3f}\".format(np.mean(prec)))\n",
    "    return np.mean(prec)\n",
    "\n",
    "def iou_metric_batch(y_true_in, y_pred_in):\n",
    "    batch_size = y_true_in.shape[0]\n",
    "    metric = []\n",
    "    for batch in range(batch_size):\n",
    "        value = iou_metric(y_true_in[batch], y_pred_in[batch])\n",
    "        metric.append(value)\n",
    "    return np.mean(metric)"
   ]
  },
  {
   "cell_type": "code",
   "execution_count": null,
   "metadata": {},
   "outputs": [],
   "source": [
    "thres = np.linspace(-1, 1, 10)\n",
    "thres_ioc = [iou_metric_batch(resizeY, np.int32(resizePreds > t)) for t in tqdm_notebook(thres)]"
   ]
  },
  {
   "cell_type": "code",
   "execution_count": null,
   "metadata": {},
   "outputs": [],
   "source": [
    "plt.plot(thres, thres_ioc);"
   ]
  },
  {
   "cell_type": "code",
   "execution_count": null,
   "metadata": {},
   "outputs": [],
   "source": [
    "best_thres = thres[np.argmax(thres_ioc)]\n",
    "best_thres, max(thres_ioc)"
   ]
  },
  {
   "cell_type": "code",
   "execution_count": null,
   "metadata": {},
   "outputs": [],
   "source": [
    "thres = np.linspace(-0.75, 0.25, 50)\n",
    "thres_ioc = [iou_metric_batch(resizeY, np.int32(resizePreds > t)) for t in tqdm_notebook(thres)]"
   ]
  },
  {
   "cell_type": "code",
   "execution_count": null,
   "metadata": {},
   "outputs": [],
   "source": [
    "plt.plot(thres, thres_ioc);"
   ]
  },
  {
   "cell_type": "code",
   "execution_count": null,
   "metadata": {
    "scrolled": true
   },
   "outputs": [],
   "source": [
    "best_thres = thres[np.argmax(thres_ioc)]\n",
    "best_thres, max(thres_ioc)"
   ]
  },
  {
   "cell_type": "code",
   "execution_count": null,
   "metadata": {},
   "outputs": [],
   "source": [
    "best_thres=-0.2193877551020409"
   ]
  },
  {
   "cell_type": "code",
   "execution_count": null,
   "metadata": {},
   "outputs": [],
   "source": [
    "show_img(resizePreds[0]>best_thres);"
   ]
  },
  {
   "cell_type": "markdown",
   "metadata": {},
   "source": [
    "# Run on test"
   ]
  },
  {
   "cell_type": "code",
   "execution_count": null,
   "metadata": {},
   "outputs": [],
   "source": [
    "sz=128\n",
    "bs=64"
   ]
  },
  {
   "cell_type": "code",
   "execution_count": null,
   "metadata": {},
   "outputs": [],
   "source": [
    "(PATH/'test-128').mkdir(exist_ok=True)"
   ]
  },
  {
   "cell_type": "code",
   "execution_count": null,
   "metadata": {},
   "outputs": [],
   "source": [
    "def resize_img(fn):\n",
    "    Image.open(fn).resize((128,128)).save((fn.parent.parent)/'test-128'/fn.name)\n",
    "\n",
    "files = list((PATH/'test').iterdir())\n",
    "with ThreadPoolExecutor(8) as e: e.map(resize_img, files)"
   ]
  },
  {
   "cell_type": "code",
   "execution_count": null,
   "metadata": {},
   "outputs": [],
   "source": [
    "testData = np.array(glob(f'{PATH}/test-128/*'))"
   ]
  },
  {
   "cell_type": "code",
   "execution_count": null,
   "metadata": {},
   "outputs": [],
   "source": [
    "class TestFilesDataset(FilesDataset):\n",
    "    def __init__(self, fnames, y, transform, path):\n",
    "        self.y=y\n",
    "        assert(len(fnames)==len(y))\n",
    "        super().__init__(fnames, transform, path)\n",
    "    def get_y(self, i): return open_image(os.path.join(self.path, self.fnames[i]))\n",
    "    def get_c(self): return 0"
   ]
  },
  {
   "cell_type": "code",
   "execution_count": null,
   "metadata": {},
   "outputs": [],
   "source": [
    "tfms=tfms_from_model(resnet34, sz, crop_type=CropType.NO, tfm_y=TfmType.CLASS, aug_tfms=aug_tfms)\n",
    "datasets = ImageData.get_ds(TestFilesDataset, (trn_x,trn_y), (val_x,val_y), tfms, test=testData, path=PATH)\n",
    "md = ImageData(PATH, datasets, bs, num_workers=16, classes=None)\n",
    "denorm = md.trn_ds.denorm"
   ]
  },
  {
   "cell_type": "code",
   "execution_count": null,
   "metadata": {},
   "outputs": [],
   "source": [
    "m_base = get_base()\n",
    "m = to_gpu(Unet34(m_base))\n",
    "models = UnetModel(m)"
   ]
  },
  {
   "cell_type": "code",
   "execution_count": null,
   "metadata": {},
   "outputs": [],
   "source": [
    "learn = ConvLearner(md, models)"
   ]
  },
  {
   "cell_type": "code",
   "execution_count": null,
   "metadata": {},
   "outputs": [],
   "source": [
    "learn.load('model_4')"
   ]
  },
  {
   "cell_type": "code",
   "execution_count": null,
   "metadata": {},
   "outputs": [],
   "source": [
    "x,y = next(iter(md.test_dl))\n",
    "py = to_np(learn.model(V(x)))"
   ]
  },
  {
   "cell_type": "code",
   "execution_count": null,
   "metadata": {},
   "outputs": [],
   "source": [
    "x.shape"
   ]
  },
  {
   "cell_type": "code",
   "execution_count": null,
   "metadata": {},
   "outputs": [],
   "source": [
    "show_img(py[6]>best_thres);"
   ]
  },
  {
   "cell_type": "code",
   "execution_count": null,
   "metadata": {},
   "outputs": [],
   "source": [
    "show_img(py[6]);"
   ]
  },
  {
   "cell_type": "code",
   "execution_count": null,
   "metadata": {},
   "outputs": [],
   "source": [
    "show_img(y[6]);"
   ]
  },
  {
   "cell_type": "code",
   "execution_count": null,
   "metadata": {},
   "outputs": [],
   "source": [
    "py.shape"
   ]
  },
  {
   "cell_type": "code",
   "execution_count": null,
   "metadata": {},
   "outputs": [],
   "source": [
    "probs, y = predict(md, nSplits, models, (len(testData), sz, sz), test=True)"
   ]
  },
  {
   "cell_type": "code",
   "execution_count": null,
   "metadata": {},
   "outputs": [],
   "source": [
    "show_img(probs[6]>best_thres);"
   ]
  },
  {
   "cell_type": "code",
   "execution_count": null,
   "metadata": {},
   "outputs": [],
   "source": [
    "show_img(probs[6]);"
   ]
  },
  {
   "cell_type": "code",
   "execution_count": null,
   "metadata": {},
   "outputs": [],
   "source": [
    "show_img(y[6]);"
   ]
  },
  {
   "cell_type": "code",
   "execution_count": null,
   "metadata": {},
   "outputs": [],
   "source": [
    "def resize_img(fn):\n",
    "    return np.array(Image.fromarray(fn).resize((101,101)))\n",
    "\n",
    "resizePreds = np.array([resize_img(x) for x in probs])"
   ]
  },
  {
   "cell_type": "code",
   "execution_count": null,
   "metadata": {},
   "outputs": [],
   "source": [
    "resizePreds.shape"
   ]
  },
  {
   "cell_type": "code",
   "execution_count": null,
   "metadata": {},
   "outputs": [],
   "source": [
    "show_img(resizePreds[6]);"
   ]
  },
  {
   "cell_type": "code",
   "execution_count": null,
   "metadata": {},
   "outputs": [],
   "source": [
    "testData"
   ]
  },
  {
   "cell_type": "code",
   "execution_count": null,
   "metadata": {},
   "outputs": [],
   "source": [
    "f'{PATH}/test'"
   ]
  },
  {
   "cell_type": "code",
   "execution_count": null,
   "metadata": {},
   "outputs": [],
   "source": [
    "test_ids = next(os.walk(f'{PATH}/test'))[2]"
   ]
  },
  {
   "cell_type": "code",
   "execution_count": null,
   "metadata": {},
   "outputs": [],
   "source": [
    "def RLenc(img, order='F', format=True):\n",
    "    \"\"\"\n",
    "    img is binary mask image, shape (r,c)\n",
    "    order is down-then-right, i.e. Fortran\n",
    "    format determines if the order needs to be preformatted (according to submission rules) or not\n",
    "\n",
    "    returns run length as an array or string (if format is True)\n",
    "    \"\"\"\n",
    "    bytes = img.reshape(img.shape[0] * img.shape[1], order=order)\n",
    "    runs = []  ## list of run lengths\n",
    "    r = 0  ## the current run length\n",
    "    pos = 1  ## count starts from 1 per WK\n",
    "    for c in bytes:\n",
    "        if (c == 0):\n",
    "            if r != 0:\n",
    "                runs.append((pos, r))\n",
    "                pos += r\n",
    "                r = 0\n",
    "            pos += 1\n",
    "        else:\n",
    "            r += 1\n",
    "\n",
    "    # if last run is unsaved (i.e. data ends with 1)\n",
    "    if r != 0:\n",
    "        runs.append((pos, r))\n",
    "        pos += r\n",
    "        r = 0\n",
    "\n",
    "    if format:\n",
    "        z = ''\n",
    "\n",
    "        for rr in runs:\n",
    "            z += '{} {} '.format(rr[0], rr[1])\n",
    "        return z[:-1]\n",
    "    else:\n",
    "        return runs"
   ]
  },
  {
   "cell_type": "code",
   "execution_count": null,
   "metadata": {},
   "outputs": [],
   "source": [
    "pred_dict = {id_[:-4]:RLenc(np.round(resizePreds[i] > best_thres)) for i,id_ in tqdm_notebook(enumerate(test_ids))}"
   ]
  },
  {
   "cell_type": "code",
   "execution_count": null,
   "metadata": {},
   "outputs": [],
   "source": [
    "sub = pd.DataFrame.from_dict(pred_dict,orient='index')\n",
    "sub.index.names = ['id']\n",
    "sub.columns = ['rle_mask']\n",
    "sub.to_csv('submission.csv')"
   ]
  },
  {
   "cell_type": "code",
   "execution_count": null,
   "metadata": {},
   "outputs": [],
   "source": [
    "sub"
   ]
  },
  {
   "cell_type": "code",
   "execution_count": null,
   "metadata": {},
   "outputs": [],
   "source": []
  }
 ],
 "metadata": {
  "kernelspec": {
   "display_name": "Python 3",
   "language": "python",
   "name": "python3"
  },
  "language_info": {
   "codemirror_mode": {
    "name": "ipython",
    "version": 3
   },
   "file_extension": ".py",
   "mimetype": "text/x-python",
   "name": "python",
   "nbconvert_exporter": "python",
   "pygments_lexer": "ipython3",
   "version": "3.6.6"
  },
  "toc": {
   "colors": {
    "hover_highlight": "#DAA520",
    "navigate_num": "#000000",
    "navigate_text": "#333333",
    "running_highlight": "#FF0000",
    "selected_highlight": "#FFD700",
    "sidebar_border": "#EEEEEE",
    "wrapper_background": "#FFFFFF"
   },
   "moveMenuLeft": true,
   "nav_menu": {
    "height": "86px",
    "width": "252px"
   },
   "navigate_menu": true,
   "number_sections": true,
   "sideBar": true,
   "threshold": 4,
   "toc_cell": false,
   "toc_section_display": "block",
   "toc_window_display": false,
   "widenNotebook": false
  }
 },
 "nbformat": 4,
 "nbformat_minor": 2
}
